{
 "cells": [
  {
   "cell_type": "code",
   "execution_count": 1,
   "metadata": {},
   "outputs": [],
   "source": [
    "%load_ext autoreload\n",
    "%autoreload 2"
   ]
  },
  {
   "cell_type": "code",
   "execution_count": 2,
   "metadata": {},
   "outputs": [],
   "source": [
    "import pandas as pd\n",
    "import math\n",
    "import json\n",
    "from IPython.display import display, HTML\n",
    "pd.set_option('display.max_rows', None)\n",
    "\n",
    "from recommend import Recommend"
   ]
  },
  {
   "cell_type": "code",
   "execution_count": 3,
   "metadata": {},
   "outputs": [],
   "source": [
    "def display_recs(favorites, artists_per_cluster):\n",
    "    r = Recommend(artists_per_cluster)\n",
    "    recs = r.get_recs(favorites)\n",
    "    print('{} clusters'.format(math.floor(3691/artists_per_cluster))) # number of popular artists\n",
    "    print('')\n",
    "    for artist in recs:\n",
    "        print(recs[artist]['name'])\n",
    "        display(HTML(recs[artist]['recs'].head().to_html())) # TODO: TYLER PROPOSED CHANGE\n",
    "        "
   ]
  },
  {
   "cell_type": "markdown",
   "metadata": {},
   "source": [
    "- (1) 2109 clusters\n",
    "- (2) 1054 clusters\n",
    "- (4) 527 clusters\n",
    "- (8) 263 clusters\n",
    "- (16) 131 clusters"
   ]
  },
  {
   "cell_type": "markdown",
   "metadata": {},
   "source": [
    "# Justin Bieber, Taylor Swift, Ariana Grande"
   ]
  },
  {
   "cell_type": "code",
   "execution_count": 4,
   "metadata": {},
   "outputs": [
    {
     "name": "stdout",
     "output_type": "stream",
     "text": [
      "3691 clusters\n",
      "\n",
      "Justin Bieber\n"
     ]
    },
    {
     "data": {
      "text/html": [
       "<table border=\"1\" class=\"dataframe\">\n",
       "  <thead>\n",
       "    <tr style=\"text-align: right;\">\n",
       "      <th></th>\n",
       "      <th>name</th>\n",
       "      <th>score</th>\n",
       "      <th>link</th>\n",
       "    </tr>\n",
       "  </thead>\n",
       "  <tbody>\n",
       "    <tr>\n",
       "      <th>0</th>\n",
       "      <td>Shadow Child</td>\n",
       "      <td>0.147</td>\n",
       "      <td>https://open.spotify.com/artist/0tMr0e1EQZ0Vci7EHz2bM9</td>\n",
       "    </tr>\n",
       "    <tr>\n",
       "      <th>1</th>\n",
       "      <td>Kim Jong Wan</td>\n",
       "      <td>0.124</td>\n",
       "      <td>https://open.spotify.com/artist/7ksQJtsXSRSrI5306UwIgH</td>\n",
       "    </tr>\n",
       "    <tr>\n",
       "      <th>2</th>\n",
       "      <td>TRFN</td>\n",
       "      <td>0.086</td>\n",
       "      <td>https://open.spotify.com/artist/5Wj4v7ri4aDONkGEIuo0zp</td>\n",
       "    </tr>\n",
       "    <tr>\n",
       "      <th>3</th>\n",
       "      <td>Alex Metric</td>\n",
       "      <td>0.079</td>\n",
       "      <td>https://open.spotify.com/artist/6RDNTAgm2s6ae71nXWGnJD</td>\n",
       "    </tr>\n",
       "    <tr>\n",
       "      <th>4</th>\n",
       "      <td>Joshi Mizu</td>\n",
       "      <td>0.076</td>\n",
       "      <td>https://open.spotify.com/artist/03bmDyr8klGV17DKQnPZVA</td>\n",
       "    </tr>\n",
       "  </tbody>\n",
       "</table>"
      ],
      "text/plain": [
       "<IPython.core.display.HTML object>"
      ]
     },
     "metadata": {},
     "output_type": "display_data"
    },
    {
     "name": "stdout",
     "output_type": "stream",
     "text": [
      "Taylor Swift\n"
     ]
    },
    {
     "data": {
      "text/html": [
       "<table border=\"1\" class=\"dataframe\">\n",
       "  <thead>\n",
       "    <tr style=\"text-align: right;\">\n",
       "      <th></th>\n",
       "      <th>name</th>\n",
       "      <th>score</th>\n",
       "      <th>link</th>\n",
       "    </tr>\n",
       "  </thead>\n",
       "  <tbody>\n",
       "    <tr>\n",
       "      <th>0</th>\n",
       "      <td>SVEA</td>\n",
       "      <td>0.700</td>\n",
       "      <td>https://open.spotify.com/artist/4XtfY4CBieEfqF3CSiPrRx</td>\n",
       "    </tr>\n",
       "    <tr>\n",
       "      <th>1</th>\n",
       "      <td>Arizona Zervas</td>\n",
       "      <td>0.457</td>\n",
       "      <td>https://open.spotify.com/artist/0vRvGUQVUjytro0xpb26bs</td>\n",
       "    </tr>\n",
       "    <tr>\n",
       "      <th>2</th>\n",
       "      <td>Mohito</td>\n",
       "      <td>0.372</td>\n",
       "      <td>https://open.spotify.com/artist/52cgUUfIwnktO3v7BhuzCb</td>\n",
       "    </tr>\n",
       "    <tr>\n",
       "      <th>3</th>\n",
       "      <td>Brandy</td>\n",
       "      <td>0.292</td>\n",
       "      <td>https://open.spotify.com/artist/1PHVlnm4arjWM49XaXDja9</td>\n",
       "    </tr>\n",
       "    <tr>\n",
       "      <th>4</th>\n",
       "      <td>No Angels</td>\n",
       "      <td>0.289</td>\n",
       "      <td>https://open.spotify.com/artist/3MzJcP62FVm6yKcprsiT7r</td>\n",
       "    </tr>\n",
       "  </tbody>\n",
       "</table>"
      ],
      "text/plain": [
       "<IPython.core.display.HTML object>"
      ]
     },
     "metadata": {},
     "output_type": "display_data"
    },
    {
     "name": "stdout",
     "output_type": "stream",
     "text": [
      "Ariana Grande\n"
     ]
    },
    {
     "data": {
      "text/html": [
       "<table border=\"1\" class=\"dataframe\">\n",
       "  <thead>\n",
       "    <tr style=\"text-align: right;\">\n",
       "      <th></th>\n",
       "      <th>name</th>\n",
       "      <th>score</th>\n",
       "      <th>link</th>\n",
       "    </tr>\n",
       "  </thead>\n",
       "  <tbody>\n",
       "    <tr>\n",
       "      <th>0</th>\n",
       "      <td>Gerardo Coronel</td>\n",
       "      <td>0.360</td>\n",
       "      <td>https://open.spotify.com/artist/6JoYL9QYbdgPb6EuE5J2pC</td>\n",
       "    </tr>\n",
       "    <tr>\n",
       "      <th>1</th>\n",
       "      <td>Dennis DeYoung</td>\n",
       "      <td>0.308</td>\n",
       "      <td>https://open.spotify.com/artist/4TM0rDUbvVvrHioKsmzr68</td>\n",
       "    </tr>\n",
       "    <tr>\n",
       "      <th>2</th>\n",
       "      <td>Bryce Janey</td>\n",
       "      <td>0.229</td>\n",
       "      <td>https://open.spotify.com/artist/09ZFZmc7XNCwnDYB3R48qr</td>\n",
       "    </tr>\n",
       "    <tr>\n",
       "      <th>3</th>\n",
       "      <td>UrboyTJ</td>\n",
       "      <td>0.171</td>\n",
       "      <td>https://open.spotify.com/artist/1WLKjYJX9YHSlwufclauhg</td>\n",
       "    </tr>\n",
       "    <tr>\n",
       "      <th>4</th>\n",
       "      <td>Lucky Kilimanjaro</td>\n",
       "      <td>0.166</td>\n",
       "      <td>https://open.spotify.com/artist/2V8UZPMR1EbkXhzvEGBTrV</td>\n",
       "    </tr>\n",
       "  </tbody>\n",
       "</table>"
      ],
      "text/plain": [
       "<IPython.core.display.HTML object>"
      ]
     },
     "metadata": {},
     "output_type": "display_data"
    }
   ],
   "source": [
    "# 1 artist per cluster\n",
    "display_recs(['1uNFoZAHBGtllmzznpCI3s', '06HL4z0CvFAxyc27GXpf02', '66CXWjxzNUsdJxJ2JdwvnR'], 1)\n",
    "             "
   ]
  },
  {
   "cell_type": "code",
   "execution_count": 5,
   "metadata": {},
   "outputs": [
    {
     "name": "stdout",
     "output_type": "stream",
     "text": [
      "1845 clusters\n",
      "\n",
      "Justin Bieber\n"
     ]
    },
    {
     "data": {
      "text/html": [
       "<table border=\"1\" class=\"dataframe\">\n",
       "  <thead>\n",
       "    <tr style=\"text-align: right;\">\n",
       "      <th></th>\n",
       "      <th>name</th>\n",
       "      <th>score</th>\n",
       "      <th>link</th>\n",
       "    </tr>\n",
       "  </thead>\n",
       "  <tbody>\n",
       "    <tr>\n",
       "      <th>0</th>\n",
       "      <td>Yasunori Mitsuda</td>\n",
       "      <td>0.679</td>\n",
       "      <td>https://open.spotify.com/artist/7cGkvEcOOYVtNdfkf3s1tK</td>\n",
       "    </tr>\n",
       "    <tr>\n",
       "      <th>1</th>\n",
       "      <td>Beast In Black</td>\n",
       "      <td>0.503</td>\n",
       "      <td>https://open.spotify.com/artist/0rEuaTPLMhlViNCJrg3NEH</td>\n",
       "    </tr>\n",
       "    <tr>\n",
       "      <th>2</th>\n",
       "      <td>Katalina</td>\n",
       "      <td>0.422</td>\n",
       "      <td>https://open.spotify.com/artist/5hqDbwb0MVaFExE6mhTfek</td>\n",
       "    </tr>\n",
       "    <tr>\n",
       "      <th>3</th>\n",
       "      <td>Chaya</td>\n",
       "      <td>0.333</td>\n",
       "      <td>https://open.spotify.com/artist/5t7FfMHr6IwUH5k2sLZ4n1</td>\n",
       "    </tr>\n",
       "    <tr>\n",
       "      <th>4</th>\n",
       "      <td>French Horn Rebellion</td>\n",
       "      <td>0.332</td>\n",
       "      <td>https://open.spotify.com/artist/6G5wDM1Vmsscql7qRtcLH0</td>\n",
       "    </tr>\n",
       "  </tbody>\n",
       "</table>"
      ],
      "text/plain": [
       "<IPython.core.display.HTML object>"
      ]
     },
     "metadata": {},
     "output_type": "display_data"
    },
    {
     "name": "stdout",
     "output_type": "stream",
     "text": [
      "Taylor Swift\n"
     ]
    },
    {
     "data": {
      "text/html": [
       "<table border=\"1\" class=\"dataframe\">\n",
       "  <thead>\n",
       "    <tr style=\"text-align: right;\">\n",
       "      <th></th>\n",
       "      <th>name</th>\n",
       "      <th>score</th>\n",
       "      <th>link</th>\n",
       "    </tr>\n",
       "  </thead>\n",
       "  <tbody>\n",
       "    <tr>\n",
       "      <th>0</th>\n",
       "      <td>Curiosity Killed The Cat</td>\n",
       "      <td>0.910</td>\n",
       "      <td>https://open.spotify.com/artist/0ZGAYur5k4gJprOffC6LkP</td>\n",
       "    </tr>\n",
       "    <tr>\n",
       "      <th>1</th>\n",
       "      <td>SVEA</td>\n",
       "      <td>0.700</td>\n",
       "      <td>https://open.spotify.com/artist/4XtfY4CBieEfqF3CSiPrRx</td>\n",
       "    </tr>\n",
       "    <tr>\n",
       "      <th>2</th>\n",
       "      <td>Alexander Oscar</td>\n",
       "      <td>0.651</td>\n",
       "      <td>https://open.spotify.com/artist/7ypOZKaKGrCf3V6pOuaXiM</td>\n",
       "    </tr>\n",
       "    <tr>\n",
       "      <th>3</th>\n",
       "      <td>Arizona Zervas</td>\n",
       "      <td>0.457</td>\n",
       "      <td>https://open.spotify.com/artist/0vRvGUQVUjytro0xpb26bs</td>\n",
       "    </tr>\n",
       "    <tr>\n",
       "      <th>4</th>\n",
       "      <td>Prabh Gill</td>\n",
       "      <td>0.439</td>\n",
       "      <td>https://open.spotify.com/artist/4F5ZNBJDep3GTrMip2tpI4</td>\n",
       "    </tr>\n",
       "  </tbody>\n",
       "</table>"
      ],
      "text/plain": [
       "<IPython.core.display.HTML object>"
      ]
     },
     "metadata": {},
     "output_type": "display_data"
    },
    {
     "name": "stdout",
     "output_type": "stream",
     "text": [
      "Ariana Grande\n"
     ]
    },
    {
     "data": {
      "text/html": [
       "<table border=\"1\" class=\"dataframe\">\n",
       "  <thead>\n",
       "    <tr style=\"text-align: right;\">\n",
       "      <th></th>\n",
       "      <th>name</th>\n",
       "      <th>score</th>\n",
       "      <th>link</th>\n",
       "    </tr>\n",
       "  </thead>\n",
       "  <tbody>\n",
       "    <tr>\n",
       "      <th>0</th>\n",
       "      <td>Adam Ant</td>\n",
       "      <td>0.320</td>\n",
       "      <td>https://open.spotify.com/artist/3QP0XPDwbvGivqDAaJ5f5G</td>\n",
       "    </tr>\n",
       "    <tr>\n",
       "      <th>1</th>\n",
       "      <td>Benab</td>\n",
       "      <td>0.315</td>\n",
       "      <td>https://open.spotify.com/artist/0qO3t2MHM5NIEJ5fw9VndY</td>\n",
       "    </tr>\n",
       "    <tr>\n",
       "      <th>2</th>\n",
       "      <td>Jennifer Paige</td>\n",
       "      <td>0.282</td>\n",
       "      <td>https://open.spotify.com/artist/26PDtWYDJ1KD0brukKsJH1</td>\n",
       "    </tr>\n",
       "    <tr>\n",
       "      <th>3</th>\n",
       "      <td>Aydilge</td>\n",
       "      <td>0.254</td>\n",
       "      <td>https://open.spotify.com/artist/0cjA9XY1jx3RlniZbMkCWy</td>\n",
       "    </tr>\n",
       "    <tr>\n",
       "      <th>4</th>\n",
       "      <td>Sami</td>\n",
       "      <td>0.245</td>\n",
       "      <td>https://open.spotify.com/artist/0qD3G5J88kgYXjZSxJBgwi</td>\n",
       "    </tr>\n",
       "  </tbody>\n",
       "</table>"
      ],
      "text/plain": [
       "<IPython.core.display.HTML object>"
      ]
     },
     "metadata": {},
     "output_type": "display_data"
    }
   ],
   "source": [
    "# 2 artists per cluster\n",
    "display_recs(['1uNFoZAHBGtllmzznpCI3s', '06HL4z0CvFAxyc27GXpf02', '66CXWjxzNUsdJxJ2JdwvnR'], 2)\n"
   ]
  },
  {
   "cell_type": "code",
   "execution_count": 6,
   "metadata": {},
   "outputs": [
    {
     "name": "stdout",
     "output_type": "stream",
     "text": [
      "922 clusters\n",
      "\n",
      "Justin Bieber\n"
     ]
    },
    {
     "data": {
      "text/html": [
       "<table border=\"1\" class=\"dataframe\">\n",
       "  <thead>\n",
       "    <tr style=\"text-align: right;\">\n",
       "      <th></th>\n",
       "      <th>name</th>\n",
       "      <th>score</th>\n",
       "      <th>link</th>\n",
       "    </tr>\n",
       "  </thead>\n",
       "  <tbody>\n",
       "    <tr>\n",
       "      <th>0</th>\n",
       "      <td>Beast In Black</td>\n",
       "      <td>0.503</td>\n",
       "      <td>https://open.spotify.com/artist/0rEuaTPLMhlViNCJrg3NEH</td>\n",
       "    </tr>\n",
       "    <tr>\n",
       "      <th>1</th>\n",
       "      <td>Katalina</td>\n",
       "      <td>0.422</td>\n",
       "      <td>https://open.spotify.com/artist/5hqDbwb0MVaFExE6mhTfek</td>\n",
       "    </tr>\n",
       "    <tr>\n",
       "      <th>2</th>\n",
       "      <td>Beach Goons</td>\n",
       "      <td>0.388</td>\n",
       "      <td>https://open.spotify.com/artist/7Aw7RMHmISxyQBftcksDZ3</td>\n",
       "    </tr>\n",
       "    <tr>\n",
       "      <th>3</th>\n",
       "      <td>Grum</td>\n",
       "      <td>0.377</td>\n",
       "      <td>https://open.spotify.com/artist/3VEqFWRt47xQAZJMBF3duQ</td>\n",
       "    </tr>\n",
       "    <tr>\n",
       "      <th>4</th>\n",
       "      <td>Chaya</td>\n",
       "      <td>0.333</td>\n",
       "      <td>https://open.spotify.com/artist/5t7FfMHr6IwUH5k2sLZ4n1</td>\n",
       "    </tr>\n",
       "  </tbody>\n",
       "</table>"
      ],
      "text/plain": [
       "<IPython.core.display.HTML object>"
      ]
     },
     "metadata": {},
     "output_type": "display_data"
    },
    {
     "name": "stdout",
     "output_type": "stream",
     "text": [
      "Taylor Swift\n"
     ]
    },
    {
     "data": {
      "text/html": [
       "<table border=\"1\" class=\"dataframe\">\n",
       "  <thead>\n",
       "    <tr style=\"text-align: right;\">\n",
       "      <th></th>\n",
       "      <th>name</th>\n",
       "      <th>score</th>\n",
       "      <th>link</th>\n",
       "    </tr>\n",
       "  </thead>\n",
       "  <tbody>\n",
       "    <tr>\n",
       "      <th>0</th>\n",
       "      <td>Newcleus</td>\n",
       "      <td>0.884</td>\n",
       "      <td>https://open.spotify.com/artist/5X8Tt3rIpdy8VR78KEhZ6C</td>\n",
       "    </tr>\n",
       "    <tr>\n",
       "      <th>1</th>\n",
       "      <td>SVEA</td>\n",
       "      <td>0.700</td>\n",
       "      <td>https://open.spotify.com/artist/4XtfY4CBieEfqF3CSiPrRx</td>\n",
       "    </tr>\n",
       "    <tr>\n",
       "      <th>2</th>\n",
       "      <td>Clau</td>\n",
       "      <td>0.500</td>\n",
       "      <td>https://open.spotify.com/artist/13A9x5VINTOaVnYxK4rbNQ</td>\n",
       "    </tr>\n",
       "    <tr>\n",
       "      <th>3</th>\n",
       "      <td>Le Luci Della Centrale Elettrica</td>\n",
       "      <td>0.493</td>\n",
       "      <td>https://open.spotify.com/artist/6lnSL91XbQXZJZw60GyyAi</td>\n",
       "    </tr>\n",
       "    <tr>\n",
       "      <th>4</th>\n",
       "      <td>Arizona Zervas</td>\n",
       "      <td>0.457</td>\n",
       "      <td>https://open.spotify.com/artist/0vRvGUQVUjytro0xpb26bs</td>\n",
       "    </tr>\n",
       "  </tbody>\n",
       "</table>"
      ],
      "text/plain": [
       "<IPython.core.display.HTML object>"
      ]
     },
     "metadata": {},
     "output_type": "display_data"
    },
    {
     "name": "stdout",
     "output_type": "stream",
     "text": [
      "Ariana Grande\n"
     ]
    },
    {
     "data": {
      "text/html": [
       "<table border=\"1\" class=\"dataframe\">\n",
       "  <thead>\n",
       "    <tr style=\"text-align: right;\">\n",
       "      <th></th>\n",
       "      <th>name</th>\n",
       "      <th>score</th>\n",
       "      <th>link</th>\n",
       "    </tr>\n",
       "  </thead>\n",
       "  <tbody>\n",
       "    <tr>\n",
       "      <th>0</th>\n",
       "      <td>DJ Neeh</td>\n",
       "      <td>1.453</td>\n",
       "      <td>https://open.spotify.com/artist/2SDYnXWEAiTFyyKyRDy79I</td>\n",
       "    </tr>\n",
       "    <tr>\n",
       "      <th>1</th>\n",
       "      <td>DJ Goja</td>\n",
       "      <td>1.119</td>\n",
       "      <td>https://open.spotify.com/artist/2bHWbDN72wdIF0Y48669zg</td>\n",
       "    </tr>\n",
       "    <tr>\n",
       "      <th>2</th>\n",
       "      <td>Grupo TMB</td>\n",
       "      <td>1.054</td>\n",
       "      <td>https://open.spotify.com/artist/3QknSu5Hr8QrEGl3rzQOPT</td>\n",
       "    </tr>\n",
       "    <tr>\n",
       "      <th>3</th>\n",
       "      <td>El Greco</td>\n",
       "      <td>0.968</td>\n",
       "      <td>https://open.spotify.com/artist/2fe5YD0v1HzDeACkHSPAXG</td>\n",
       "    </tr>\n",
       "    <tr>\n",
       "      <th>4</th>\n",
       "      <td>Blut Aus Nord</td>\n",
       "      <td>0.887</td>\n",
       "      <td>https://open.spotify.com/artist/0c0xIXQhCbmtvzM93liaSf</td>\n",
       "    </tr>\n",
       "  </tbody>\n",
       "</table>"
      ],
      "text/plain": [
       "<IPython.core.display.HTML object>"
      ]
     },
     "metadata": {},
     "output_type": "display_data"
    }
   ],
   "source": [
    "# 4 artists per cluster\n",
    "display_recs(['1uNFoZAHBGtllmzznpCI3s', '06HL4z0CvFAxyc27GXpf02', '66CXWjxzNUsdJxJ2JdwvnR'], 4)\n"
   ]
  },
  {
   "cell_type": "code",
   "execution_count": 7,
   "metadata": {},
   "outputs": [
    {
     "name": "stdout",
     "output_type": "stream",
     "text": [
      "461 clusters\n",
      "\n",
      "Justin Bieber\n"
     ]
    },
    {
     "data": {
      "text/html": [
       "<table border=\"1\" class=\"dataframe\">\n",
       "  <thead>\n",
       "    <tr style=\"text-align: right;\">\n",
       "      <th></th>\n",
       "      <th>name</th>\n",
       "      <th>score</th>\n",
       "      <th>link</th>\n",
       "    </tr>\n",
       "  </thead>\n",
       "  <tbody>\n",
       "    <tr>\n",
       "      <th>0</th>\n",
       "      <td>Digitalism</td>\n",
       "      <td>0.752</td>\n",
       "      <td>https://open.spotify.com/artist/2fBURuq7FrlH6z5F92mpOl</td>\n",
       "    </tr>\n",
       "    <tr>\n",
       "      <th>1</th>\n",
       "      <td>Ilan Bluestone</td>\n",
       "      <td>0.732</td>\n",
       "      <td>https://open.spotify.com/artist/1yoZuH2j43vVSWsOwYuQyn</td>\n",
       "    </tr>\n",
       "    <tr>\n",
       "      <th>2</th>\n",
       "      <td>Yasunori Mitsuda</td>\n",
       "      <td>0.679</td>\n",
       "      <td>https://open.spotify.com/artist/7cGkvEcOOYVtNdfkf3s1tK</td>\n",
       "    </tr>\n",
       "    <tr>\n",
       "      <th>3</th>\n",
       "      <td>Kristine W</td>\n",
       "      <td>0.654</td>\n",
       "      <td>https://open.spotify.com/artist/3tY3dHLP0MmkYwPhNVOU0x</td>\n",
       "    </tr>\n",
       "    <tr>\n",
       "      <th>4</th>\n",
       "      <td>Bellaire</td>\n",
       "      <td>0.577</td>\n",
       "      <td>https://open.spotify.com/artist/6yeeXqk3RxV7l5DxmlXMnw</td>\n",
       "    </tr>\n",
       "  </tbody>\n",
       "</table>"
      ],
      "text/plain": [
       "<IPython.core.display.HTML object>"
      ]
     },
     "metadata": {},
     "output_type": "display_data"
    },
    {
     "name": "stdout",
     "output_type": "stream",
     "text": [
      "Taylor Swift\n"
     ]
    },
    {
     "data": {
      "text/html": [
       "<table border=\"1\" class=\"dataframe\">\n",
       "  <thead>\n",
       "    <tr style=\"text-align: right;\">\n",
       "      <th></th>\n",
       "      <th>name</th>\n",
       "      <th>score</th>\n",
       "      <th>link</th>\n",
       "    </tr>\n",
       "  </thead>\n",
       "  <tbody>\n",
       "    <tr>\n",
       "      <th>0</th>\n",
       "      <td>Brothers of Metal</td>\n",
       "      <td>2.569</td>\n",
       "      <td>https://open.spotify.com/artist/0WPCPYm5IDNtQjuJOGNPcy</td>\n",
       "    </tr>\n",
       "    <tr>\n",
       "      <th>1</th>\n",
       "      <td>LOBODA</td>\n",
       "      <td>2.194</td>\n",
       "      <td>https://open.spotify.com/artist/59oe7CAquFZ5mNjQ1efKPN</td>\n",
       "    </tr>\n",
       "    <tr>\n",
       "      <th>2</th>\n",
       "      <td>Janax</td>\n",
       "      <td>1.669</td>\n",
       "      <td>https://open.spotify.com/artist/3liWfHRnSkAv6oHHuF1i74</td>\n",
       "    </tr>\n",
       "    <tr>\n",
       "      <th>3</th>\n",
       "      <td>Biometrix</td>\n",
       "      <td>1.326</td>\n",
       "      <td>https://open.spotify.com/artist/2qZwOcOK5pr8WaNJWvuZd2</td>\n",
       "    </tr>\n",
       "    <tr>\n",
       "      <th>4</th>\n",
       "      <td>ISK</td>\n",
       "      <td>1.251</td>\n",
       "      <td>https://open.spotify.com/artist/1HH5TlkjRt2FG8dpkWNm5j</td>\n",
       "    </tr>\n",
       "  </tbody>\n",
       "</table>"
      ],
      "text/plain": [
       "<IPython.core.display.HTML object>"
      ]
     },
     "metadata": {},
     "output_type": "display_data"
    },
    {
     "name": "stdout",
     "output_type": "stream",
     "text": [
      "Ariana Grande\n"
     ]
    },
    {
     "data": {
      "text/html": [
       "<table border=\"1\" class=\"dataframe\">\n",
       "  <thead>\n",
       "    <tr style=\"text-align: right;\">\n",
       "      <th></th>\n",
       "      <th>name</th>\n",
       "      <th>score</th>\n",
       "      <th>link</th>\n",
       "    </tr>\n",
       "  </thead>\n",
       "  <tbody>\n",
       "    <tr>\n",
       "      <th>0</th>\n",
       "      <td>Afsana Khan</td>\n",
       "      <td>3.744</td>\n",
       "      <td>https://open.spotify.com/artist/4z0z82pXirH1TrygipQlOo</td>\n",
       "    </tr>\n",
       "    <tr>\n",
       "      <th>1</th>\n",
       "      <td>Max Peraza</td>\n",
       "      <td>2.659</td>\n",
       "      <td>https://open.spotify.com/artist/40XLXsvXDPJuQ6adeK9zh7</td>\n",
       "    </tr>\n",
       "    <tr>\n",
       "      <th>2</th>\n",
       "      <td>Maria Becerra</td>\n",
       "      <td>2.382</td>\n",
       "      <td>https://open.spotify.com/artist/1DxLCyH42yaHKGK3cl5bvG</td>\n",
       "    </tr>\n",
       "    <tr>\n",
       "      <th>3</th>\n",
       "      <td>MC Mirella</td>\n",
       "      <td>1.934</td>\n",
       "      <td>https://open.spotify.com/artist/57FU7zh1oXdQMT4XhjSsHL</td>\n",
       "    </tr>\n",
       "    <tr>\n",
       "      <th>4</th>\n",
       "      <td>Mnemic</td>\n",
       "      <td>1.872</td>\n",
       "      <td>https://open.spotify.com/artist/3OAc90xwVPVTPAbJcMVxxV</td>\n",
       "    </tr>\n",
       "  </tbody>\n",
       "</table>"
      ],
      "text/plain": [
       "<IPython.core.display.HTML object>"
      ]
     },
     "metadata": {},
     "output_type": "display_data"
    }
   ],
   "source": [
    "# 8 artists per cluster\n",
    "display_recs(['1uNFoZAHBGtllmzznpCI3s', '06HL4z0CvFAxyc27GXpf02', '66CXWjxzNUsdJxJ2JdwvnR'], 8)\n"
   ]
  },
  {
   "cell_type": "code",
   "execution_count": 8,
   "metadata": {
    "scrolled": true
   },
   "outputs": [
    {
     "name": "stdout",
     "output_type": "stream",
     "text": [
      "230 clusters\n",
      "\n",
      "Justin Bieber\n"
     ]
    },
    {
     "data": {
      "text/html": [
       "<table border=\"1\" class=\"dataframe\">\n",
       "  <thead>\n",
       "    <tr style=\"text-align: right;\">\n",
       "      <th></th>\n",
       "      <th>name</th>\n",
       "      <th>score</th>\n",
       "      <th>link</th>\n",
       "    </tr>\n",
       "  </thead>\n",
       "  <tbody>\n",
       "    <tr>\n",
       "      <th>0</th>\n",
       "      <td>Hazzie</td>\n",
       "      <td>3.651</td>\n",
       "      <td>https://open.spotify.com/artist/087QaLOI8MKeT9yHgjPu7P</td>\n",
       "    </tr>\n",
       "    <tr>\n",
       "      <th>1</th>\n",
       "      <td>Babyshambles</td>\n",
       "      <td>3.271</td>\n",
       "      <td>https://open.spotify.com/artist/0IBAqjHG8DSaD7PPCGnGiZ</td>\n",
       "    </tr>\n",
       "    <tr>\n",
       "      <th>2</th>\n",
       "      <td>BODYWORX</td>\n",
       "      <td>3.237</td>\n",
       "      <td>https://open.spotify.com/artist/6GIwyYD9kOim8j3M6jt4AM</td>\n",
       "    </tr>\n",
       "    <tr>\n",
       "      <th>3</th>\n",
       "      <td>Toby Green</td>\n",
       "      <td>3.196</td>\n",
       "      <td>https://open.spotify.com/artist/7IVgVM49Z4ztdmOqOIxhvP</td>\n",
       "    </tr>\n",
       "    <tr>\n",
       "      <th>4</th>\n",
       "      <td>VINNE</td>\n",
       "      <td>2.837</td>\n",
       "      <td>https://open.spotify.com/artist/1FGLT6mEhIrPhgqYiU57ro</td>\n",
       "    </tr>\n",
       "  </tbody>\n",
       "</table>"
      ],
      "text/plain": [
       "<IPython.core.display.HTML object>"
      ]
     },
     "metadata": {},
     "output_type": "display_data"
    },
    {
     "name": "stdout",
     "output_type": "stream",
     "text": [
      "Taylor Swift\n"
     ]
    },
    {
     "data": {
      "text/html": [
       "<table border=\"1\" class=\"dataframe\">\n",
       "  <thead>\n",
       "    <tr style=\"text-align: right;\">\n",
       "      <th></th>\n",
       "      <th>name</th>\n",
       "      <th>score</th>\n",
       "      <th>link</th>\n",
       "    </tr>\n",
       "  </thead>\n",
       "  <tbody>\n",
       "    <tr>\n",
       "      <th>0</th>\n",
       "      <td>Otnicka</td>\n",
       "      <td>12.455</td>\n",
       "      <td>https://open.spotify.com/artist/3tSmEw5WMGAZ6sxt9Dt3Nt</td>\n",
       "    </tr>\n",
       "    <tr>\n",
       "      <th>1</th>\n",
       "      <td>Sathyaprakash</td>\n",
       "      <td>8.931</td>\n",
       "      <td>https://open.spotify.com/artist/4sdcjfLzvLC1IUYFwCAWHn</td>\n",
       "    </tr>\n",
       "    <tr>\n",
       "      <th>2</th>\n",
       "      <td>Estikay</td>\n",
       "      <td>8.490</td>\n",
       "      <td>https://open.spotify.com/artist/4DMzvwya65eu1LsYZ3BLV6</td>\n",
       "    </tr>\n",
       "    <tr>\n",
       "      <th>3</th>\n",
       "      <td>Baviera</td>\n",
       "      <td>8.226</td>\n",
       "      <td>https://open.spotify.com/artist/6cUTkFvlPW27lYc3qcoOgy</td>\n",
       "    </tr>\n",
       "    <tr>\n",
       "      <th>4</th>\n",
       "      <td>Khotin</td>\n",
       "      <td>8.098</td>\n",
       "      <td>https://open.spotify.com/artist/0q2WkTHTEczNf8wNq6MBRk</td>\n",
       "    </tr>\n",
       "  </tbody>\n",
       "</table>"
      ],
      "text/plain": [
       "<IPython.core.display.HTML object>"
      ]
     },
     "metadata": {},
     "output_type": "display_data"
    },
    {
     "name": "stdout",
     "output_type": "stream",
     "text": [
      "Ariana Grande\n"
     ]
    },
    {
     "data": {
      "text/html": [
       "<table border=\"1\" class=\"dataframe\">\n",
       "  <thead>\n",
       "    <tr style=\"text-align: right;\">\n",
       "      <th></th>\n",
       "      <th>name</th>\n",
       "      <th>score</th>\n",
       "      <th>link</th>\n",
       "    </tr>\n",
       "  </thead>\n",
       "  <tbody>\n",
       "    <tr>\n",
       "      <th>0</th>\n",
       "      <td>Mohito</td>\n",
       "      <td>5.836</td>\n",
       "      <td>https://open.spotify.com/artist/52cgUUfIwnktO3v7BhuzCb</td>\n",
       "    </tr>\n",
       "    <tr>\n",
       "      <th>1</th>\n",
       "      <td>Prabh Gill</td>\n",
       "      <td>4.205</td>\n",
       "      <td>https://open.spotify.com/artist/4F5ZNBJDep3GTrMip2tpI4</td>\n",
       "    </tr>\n",
       "    <tr>\n",
       "      <th>2</th>\n",
       "      <td>Curiosity Killed The Cat</td>\n",
       "      <td>4.138</td>\n",
       "      <td>https://open.spotify.com/artist/0ZGAYur5k4gJprOffC6LkP</td>\n",
       "    </tr>\n",
       "    <tr>\n",
       "      <th>3</th>\n",
       "      <td>Afsana Khan</td>\n",
       "      <td>3.744</td>\n",
       "      <td>https://open.spotify.com/artist/4z0z82pXirH1TrygipQlOo</td>\n",
       "    </tr>\n",
       "    <tr>\n",
       "      <th>4</th>\n",
       "      <td>NOUMENN</td>\n",
       "      <td>3.483</td>\n",
       "      <td>https://open.spotify.com/artist/7bFQpPcrEXYDQDcVPVahyC</td>\n",
       "    </tr>\n",
       "  </tbody>\n",
       "</table>"
      ],
      "text/plain": [
       "<IPython.core.display.HTML object>"
      ]
     },
     "metadata": {},
     "output_type": "display_data"
    }
   ],
   "source": [
    "# 16 artists per cluster\n",
    "display_recs(['1uNFoZAHBGtllmzznpCI3s', '06HL4z0CvFAxyc27GXpf02', '66CXWjxzNUsdJxJ2JdwvnR'], 16)\n"
   ]
  },
  {
   "cell_type": "markdown",
   "metadata": {},
   "source": [
    "# Andrew's Favorite Artists"
   ]
  },
  {
   "cell_type": "markdown",
   "metadata": {},
   "source": [
    "### AJR, Quinn XCII, Twenty One Pilots, Billie Eilish, Maroon 5"
   ]
  },
  {
   "cell_type": "code",
   "execution_count": 9,
   "metadata": {},
   "outputs": [
    {
     "name": "stdout",
     "output_type": "stream",
     "text": [
      "3691 clusters\n",
      "\n",
      "AJR\n"
     ]
    },
    {
     "data": {
      "text/html": [
       "<table border=\"1\" class=\"dataframe\">\n",
       "  <thead>\n",
       "    <tr style=\"text-align: right;\">\n",
       "      <th></th>\n",
       "      <th>name</th>\n",
       "      <th>score</th>\n",
       "      <th>link</th>\n",
       "    </tr>\n",
       "  </thead>\n",
       "  <tbody>\n",
       "    <tr>\n",
       "      <th>0</th>\n",
       "      <td>Hommie Dilliwala</td>\n",
       "      <td>0.212</td>\n",
       "      <td>https://open.spotify.com/artist/4nK9FAS3HuQXcJva8gEWYT</td>\n",
       "    </tr>\n",
       "    <tr>\n",
       "      <th>1</th>\n",
       "      <td>Alejandro González</td>\n",
       "      <td>0.017</td>\n",
       "      <td>https://open.spotify.com/artist/2SzdXGFgRUgygnqrqmsW9W</td>\n",
       "    </tr>\n",
       "  </tbody>\n",
       "</table>"
      ],
      "text/plain": [
       "<IPython.core.display.HTML object>"
      ]
     },
     "metadata": {},
     "output_type": "display_data"
    },
    {
     "name": "stdout",
     "output_type": "stream",
     "text": [
      "Quinn XCII\n"
     ]
    },
    {
     "data": {
      "text/html": [
       "<table border=\"1\" class=\"dataframe\">\n",
       "  <thead>\n",
       "    <tr style=\"text-align: right;\">\n",
       "      <th></th>\n",
       "      <th>name</th>\n",
       "      <th>score</th>\n",
       "      <th>link</th>\n",
       "    </tr>\n",
       "  </thead>\n",
       "  <tbody>\n",
       "    <tr>\n",
       "      <th>0</th>\n",
       "      <td>Laura Enea</td>\n",
       "      <td>0.079</td>\n",
       "      <td>https://open.spotify.com/artist/6TEserE0g2TKlKBCGElMLL</td>\n",
       "    </tr>\n",
       "    <tr>\n",
       "      <th>1</th>\n",
       "      <td>Yosui Inoue</td>\n",
       "      <td>0.057</td>\n",
       "      <td>https://open.spotify.com/artist/4BQT8wAPy5SGtRnfstMzbA</td>\n",
       "    </tr>\n",
       "    <tr>\n",
       "      <th>2</th>\n",
       "      <td>Morgan Sulele</td>\n",
       "      <td>0.046</td>\n",
       "      <td>https://open.spotify.com/artist/3EaDukxGx5viO0MTLW1a5X</td>\n",
       "    </tr>\n",
       "    <tr>\n",
       "      <th>3</th>\n",
       "      <td>Yay</td>\n",
       "      <td>0.024</td>\n",
       "      <td>https://open.spotify.com/artist/65UC5VKwU4vBSBSHckQd5l</td>\n",
       "    </tr>\n",
       "    <tr>\n",
       "      <th>4</th>\n",
       "      <td>Indara</td>\n",
       "      <td>0.022</td>\n",
       "      <td>https://open.spotify.com/artist/41HE2dQNySxOJNb2TorVBr</td>\n",
       "    </tr>\n",
       "  </tbody>\n",
       "</table>"
      ],
      "text/plain": [
       "<IPython.core.display.HTML object>"
      ]
     },
     "metadata": {},
     "output_type": "display_data"
    },
    {
     "name": "stdout",
     "output_type": "stream",
     "text": [
      "Twenty One Pilots\n"
     ]
    },
    {
     "data": {
      "text/html": [
       "<table border=\"1\" class=\"dataframe\">\n",
       "  <thead>\n",
       "    <tr style=\"text-align: right;\">\n",
       "      <th></th>\n",
       "      <th>name</th>\n",
       "      <th>score</th>\n",
       "      <th>link</th>\n",
       "    </tr>\n",
       "  </thead>\n",
       "  <tbody>\n",
       "    <tr>\n",
       "      <th>0</th>\n",
       "      <td>Aseel Hameem</td>\n",
       "      <td>0.103</td>\n",
       "      <td>https://open.spotify.com/artist/10bqdRYq6Ha83UeU77iXAo</td>\n",
       "    </tr>\n",
       "    <tr>\n",
       "      <th>1</th>\n",
       "      <td>Yeison Jimenez</td>\n",
       "      <td>0.075</td>\n",
       "      <td>https://open.spotify.com/artist/3SEztK9fNxg81qZ8qETGNT</td>\n",
       "    </tr>\n",
       "    <tr>\n",
       "      <th>2</th>\n",
       "      <td>Deep Kalsi</td>\n",
       "      <td>0.042</td>\n",
       "      <td>https://open.spotify.com/artist/23S2w22FCwFjDBBn7qdB2I</td>\n",
       "    </tr>\n",
       "    <tr>\n",
       "      <th>3</th>\n",
       "      <td>KeBlack</td>\n",
       "      <td>0.037</td>\n",
       "      <td>https://open.spotify.com/artist/7x3eTVPlBiPjXHn3qotY86</td>\n",
       "    </tr>\n",
       "    <tr>\n",
       "      <th>4</th>\n",
       "      <td>Frsh</td>\n",
       "      <td>0.032</td>\n",
       "      <td>https://open.spotify.com/artist/19CxlXaWOlZh2pqZrJlHxN</td>\n",
       "    </tr>\n",
       "  </tbody>\n",
       "</table>"
      ],
      "text/plain": [
       "<IPython.core.display.HTML object>"
      ]
     },
     "metadata": {},
     "output_type": "display_data"
    },
    {
     "name": "stdout",
     "output_type": "stream",
     "text": [
      "Billie Eilish\n"
     ]
    },
    {
     "data": {
      "text/html": [
       "<table border=\"1\" class=\"dataframe\">\n",
       "  <thead>\n",
       "    <tr style=\"text-align: right;\">\n",
       "      <th></th>\n",
       "      <th>name</th>\n",
       "      <th>score</th>\n",
       "      <th>link</th>\n",
       "    </tr>\n",
       "  </thead>\n",
       "  <tbody>\n",
       "    <tr>\n",
       "      <th>0</th>\n",
       "      <td>Robert Frank</td>\n",
       "      <td>0.744</td>\n",
       "      <td>https://open.spotify.com/artist/4e60uo2o8a7dQt649G9aBV</td>\n",
       "    </tr>\n",
       "    <tr>\n",
       "      <th>1</th>\n",
       "      <td>François Bréant</td>\n",
       "      <td>0.109</td>\n",
       "      <td>https://open.spotify.com/artist/1xLbSMko6MzCwL1tEkvDDc</td>\n",
       "    </tr>\n",
       "    <tr>\n",
       "      <th>2</th>\n",
       "      <td>Toussaint McCall</td>\n",
       "      <td>0.055</td>\n",
       "      <td>https://open.spotify.com/artist/421kKwxa5GC9nLddFuqtNL</td>\n",
       "    </tr>\n",
       "    <tr>\n",
       "      <th>3</th>\n",
       "      <td>Art Blakey &amp; The Jazz Messengers</td>\n",
       "      <td>0.035</td>\n",
       "      <td>https://open.spotify.com/artist/6ykfXAed2KOLOMI3R0TZdz</td>\n",
       "    </tr>\n",
       "  </tbody>\n",
       "</table>"
      ],
      "text/plain": [
       "<IPython.core.display.HTML object>"
      ]
     },
     "metadata": {},
     "output_type": "display_data"
    },
    {
     "name": "stdout",
     "output_type": "stream",
     "text": [
      "Maroon 5\n"
     ]
    },
    {
     "data": {
      "text/html": [
       "<table border=\"1\" class=\"dataframe\">\n",
       "  <thead>\n",
       "    <tr style=\"text-align: right;\">\n",
       "      <th></th>\n",
       "      <th>name</th>\n",
       "      <th>score</th>\n",
       "      <th>link</th>\n",
       "    </tr>\n",
       "  </thead>\n",
       "  <tbody>\n",
       "    <tr>\n",
       "      <th>0</th>\n",
       "      <td>Pinkie Pie</td>\n",
       "      <td>0.261</td>\n",
       "      <td>https://open.spotify.com/artist/7ExZeMNpyKhYSokWo9riU5</td>\n",
       "    </tr>\n",
       "    <tr>\n",
       "      <th>1</th>\n",
       "      <td>U.S. Bonds</td>\n",
       "      <td>0.259</td>\n",
       "      <td>https://open.spotify.com/artist/2o1VlrBnNMyLXDo6gQyeU4</td>\n",
       "    </tr>\n",
       "    <tr>\n",
       "      <th>2</th>\n",
       "      <td>10cm</td>\n",
       "      <td>0.254</td>\n",
       "      <td>https://open.spotify.com/artist/6zn0ihyAApAYV51zpXxdEp</td>\n",
       "    </tr>\n",
       "    <tr>\n",
       "      <th>3</th>\n",
       "      <td>Jamie T</td>\n",
       "      <td>0.116</td>\n",
       "      <td>https://open.spotify.com/artist/3Rsr4Z96O6U3lToOiV3zBh</td>\n",
       "    </tr>\n",
       "    <tr>\n",
       "      <th>4</th>\n",
       "      <td>Lagwagon</td>\n",
       "      <td>0.109</td>\n",
       "      <td>https://open.spotify.com/artist/66riGCPfih1Xqk81dDvpvf</td>\n",
       "    </tr>\n",
       "  </tbody>\n",
       "</table>"
      ],
      "text/plain": [
       "<IPython.core.display.HTML object>"
      ]
     },
     "metadata": {},
     "output_type": "display_data"
    }
   ],
   "source": [
    "# 1 artist per cluster\n",
    "display_recs(['6s22t5Y3prQHyaHWUN1R1C', '3ApUX1o6oSz321MMECyIYd', '3YQKmKGau1PzlVlkL1iodx',\n",
    "              '6qqNVTkY8uBg9cP3Jd7DAH', '04gDigrS5kc9YWfZHwBETP'], 1)\n"
   ]
  },
  {
   "cell_type": "code",
   "execution_count": 10,
   "metadata": {},
   "outputs": [
    {
     "name": "stdout",
     "output_type": "stream",
     "text": [
      "1845 clusters\n",
      "\n",
      "AJR\n"
     ]
    },
    {
     "data": {
      "text/html": [
       "<table border=\"1\" class=\"dataframe\">\n",
       "  <thead>\n",
       "    <tr style=\"text-align: right;\">\n",
       "      <th></th>\n",
       "      <th>name</th>\n",
       "      <th>score</th>\n",
       "      <th>link</th>\n",
       "    </tr>\n",
       "  </thead>\n",
       "  <tbody>\n",
       "    <tr>\n",
       "      <th>0</th>\n",
       "      <td>Insanity Alert</td>\n",
       "      <td>0.202</td>\n",
       "      <td>https://open.spotify.com/artist/7371n3dNMRdoAuDOiweQJx</td>\n",
       "    </tr>\n",
       "    <tr>\n",
       "      <th>1</th>\n",
       "      <td>Verbal Jint</td>\n",
       "      <td>0.160</td>\n",
       "      <td>https://open.spotify.com/artist/24sQuJhQ85ZygDG7sUVUxR</td>\n",
       "    </tr>\n",
       "    <tr>\n",
       "      <th>2</th>\n",
       "      <td>Egypt Central</td>\n",
       "      <td>0.135</td>\n",
       "      <td>https://open.spotify.com/artist/1d5wNTZ8WZYE5WuXXjug9w</td>\n",
       "    </tr>\n",
       "    <tr>\n",
       "      <th>3</th>\n",
       "      <td>The 4 Of Us</td>\n",
       "      <td>0.112</td>\n",
       "      <td>https://open.spotify.com/artist/1Yr9lXq2m3KO4otqQKcllY</td>\n",
       "    </tr>\n",
       "    <tr>\n",
       "      <th>4</th>\n",
       "      <td>LOCASH</td>\n",
       "      <td>0.078</td>\n",
       "      <td>https://open.spotify.com/artist/5IcGbIAgdns0R5EJKHMjCQ</td>\n",
       "    </tr>\n",
       "  </tbody>\n",
       "</table>"
      ],
      "text/plain": [
       "<IPython.core.display.HTML object>"
      ]
     },
     "metadata": {},
     "output_type": "display_data"
    },
    {
     "name": "stdout",
     "output_type": "stream",
     "text": [
      "Quinn XCII\n"
     ]
    },
    {
     "data": {
      "text/html": [
       "<table border=\"1\" class=\"dataframe\">\n",
       "  <thead>\n",
       "    <tr style=\"text-align: right;\">\n",
       "      <th></th>\n",
       "      <th>name</th>\n",
       "      <th>score</th>\n",
       "      <th>link</th>\n",
       "    </tr>\n",
       "  </thead>\n",
       "  <tbody>\n",
       "    <tr>\n",
       "      <th>0</th>\n",
       "      <td>DENM</td>\n",
       "      <td>0.131</td>\n",
       "      <td>https://open.spotify.com/artist/6hrOM3yfx3SEtARzDWMikb</td>\n",
       "    </tr>\n",
       "    <tr>\n",
       "      <th>1</th>\n",
       "      <td>Tom Ferry</td>\n",
       "      <td>0.111</td>\n",
       "      <td>https://open.spotify.com/artist/7nLgDxwtRUTbagZKa9aaVA</td>\n",
       "    </tr>\n",
       "    <tr>\n",
       "      <th>2</th>\n",
       "      <td>BARANOVSKI</td>\n",
       "      <td>0.093</td>\n",
       "      <td>https://open.spotify.com/artist/0VpXPTuw4wRvor9ZZq1hbB</td>\n",
       "    </tr>\n",
       "    <tr>\n",
       "      <th>3</th>\n",
       "      <td>Ismael Rivera</td>\n",
       "      <td>0.092</td>\n",
       "      <td>https://open.spotify.com/artist/788HzQOFhN3mcDo0InBqbJ</td>\n",
       "    </tr>\n",
       "    <tr>\n",
       "      <th>4</th>\n",
       "      <td>Mousse T.</td>\n",
       "      <td>0.090</td>\n",
       "      <td>https://open.spotify.com/artist/5N6EzjkOoyABhNZJggeXi6</td>\n",
       "    </tr>\n",
       "  </tbody>\n",
       "</table>"
      ],
      "text/plain": [
       "<IPython.core.display.HTML object>"
      ]
     },
     "metadata": {},
     "output_type": "display_data"
    },
    {
     "name": "stdout",
     "output_type": "stream",
     "text": [
      "Twenty One Pilots\n"
     ]
    },
    {
     "data": {
      "text/html": [
       "<table border=\"1\" class=\"dataframe\">\n",
       "  <thead>\n",
       "    <tr style=\"text-align: right;\">\n",
       "      <th></th>\n",
       "      <th>name</th>\n",
       "      <th>score</th>\n",
       "      <th>link</th>\n",
       "    </tr>\n",
       "  </thead>\n",
       "  <tbody>\n",
       "    <tr>\n",
       "      <th>0</th>\n",
       "      <td>The Belle Stars</td>\n",
       "      <td>0.310</td>\n",
       "      <td>https://open.spotify.com/artist/79mvAIaa8bVyObPdeqs2i3</td>\n",
       "    </tr>\n",
       "    <tr>\n",
       "      <th>1</th>\n",
       "      <td>Altamash Faridi</td>\n",
       "      <td>0.308</td>\n",
       "      <td>https://open.spotify.com/artist/38IHJBGBuaYXHEkIQd4DtF</td>\n",
       "    </tr>\n",
       "    <tr>\n",
       "      <th>2</th>\n",
       "      <td>Vidyasagar</td>\n",
       "      <td>0.288</td>\n",
       "      <td>https://open.spotify.com/artist/5TB837uKG65w8Jnz5D0bS5</td>\n",
       "    </tr>\n",
       "    <tr>\n",
       "      <th>3</th>\n",
       "      <td>Victor Crone</td>\n",
       "      <td>0.277</td>\n",
       "      <td>https://open.spotify.com/artist/6TlWqqdj65mppNUHZVkjaq</td>\n",
       "    </tr>\n",
       "    <tr>\n",
       "      <th>4</th>\n",
       "      <td>Urban Dance Squad</td>\n",
       "      <td>0.275</td>\n",
       "      <td>https://open.spotify.com/artist/0Vo614yFlepUdpdbkggrmC</td>\n",
       "    </tr>\n",
       "  </tbody>\n",
       "</table>"
      ],
      "text/plain": [
       "<IPython.core.display.HTML object>"
      ]
     },
     "metadata": {},
     "output_type": "display_data"
    },
    {
     "name": "stdout",
     "output_type": "stream",
     "text": [
      "Billie Eilish\n"
     ]
    },
    {
     "data": {
      "text/html": [
       "<table border=\"1\" class=\"dataframe\">\n",
       "  <thead>\n",
       "    <tr style=\"text-align: right;\">\n",
       "      <th></th>\n",
       "      <th>name</th>\n",
       "      <th>score</th>\n",
       "      <th>link</th>\n",
       "    </tr>\n",
       "  </thead>\n",
       "  <tbody>\n",
       "    <tr>\n",
       "      <th>0</th>\n",
       "      <td>Baltimora</td>\n",
       "      <td>0.846</td>\n",
       "      <td>https://open.spotify.com/artist/6czfQ8MjHVmvJKA4LAnviG</td>\n",
       "    </tr>\n",
       "    <tr>\n",
       "      <th>1</th>\n",
       "      <td>Nightcrawlers</td>\n",
       "      <td>0.769</td>\n",
       "      <td>https://open.spotify.com/artist/1gALaWbNDnwS2ECV09sn2A</td>\n",
       "    </tr>\n",
       "    <tr>\n",
       "      <th>2</th>\n",
       "      <td>Robert Frank</td>\n",
       "      <td>0.744</td>\n",
       "      <td>https://open.spotify.com/artist/4e60uo2o8a7dQt649G9aBV</td>\n",
       "    </tr>\n",
       "    <tr>\n",
       "      <th>3</th>\n",
       "      <td>Men At Large</td>\n",
       "      <td>0.637</td>\n",
       "      <td>https://open.spotify.com/artist/4K8Nvr77A24iIMyjYWSde3</td>\n",
       "    </tr>\n",
       "    <tr>\n",
       "      <th>4</th>\n",
       "      <td>El Coco</td>\n",
       "      <td>0.600</td>\n",
       "      <td>https://open.spotify.com/artist/65kizxg0ldv6bDBKxbm0p9</td>\n",
       "    </tr>\n",
       "  </tbody>\n",
       "</table>"
      ],
      "text/plain": [
       "<IPython.core.display.HTML object>"
      ]
     },
     "metadata": {},
     "output_type": "display_data"
    },
    {
     "name": "stdout",
     "output_type": "stream",
     "text": [
      "Maroon 5\n"
     ]
    },
    {
     "data": {
      "text/html": [
       "<table border=\"1\" class=\"dataframe\">\n",
       "  <thead>\n",
       "    <tr style=\"text-align: right;\">\n",
       "      <th></th>\n",
       "      <th>name</th>\n",
       "      <th>score</th>\n",
       "      <th>link</th>\n",
       "    </tr>\n",
       "  </thead>\n",
       "  <tbody>\n",
       "    <tr>\n",
       "      <th>0</th>\n",
       "      <td>Behemoth</td>\n",
       "      <td>0.845</td>\n",
       "      <td>https://open.spotify.com/artist/1MK0sGeyTNkbefYGj673e9</td>\n",
       "    </tr>\n",
       "    <tr>\n",
       "      <th>1</th>\n",
       "      <td>IXION</td>\n",
       "      <td>0.567</td>\n",
       "      <td>https://open.spotify.com/artist/1pUo5aNsLW4FfY5WedNBLq</td>\n",
       "    </tr>\n",
       "    <tr>\n",
       "      <th>2</th>\n",
       "      <td>Joe Dolce</td>\n",
       "      <td>0.324</td>\n",
       "      <td>https://open.spotify.com/artist/4wUEfafmKVXlwEiz9RdPFc</td>\n",
       "    </tr>\n",
       "    <tr>\n",
       "      <th>3</th>\n",
       "      <td>GOBLIN KING</td>\n",
       "      <td>0.312</td>\n",
       "      <td>https://open.spotify.com/artist/4S66k7DawgCBwwjOlegNaX</td>\n",
       "    </tr>\n",
       "    <tr>\n",
       "      <th>4</th>\n",
       "      <td>Le Castle Vania</td>\n",
       "      <td>0.268</td>\n",
       "      <td>https://open.spotify.com/artist/2KrXlzpSX4wWvJ2555FWLv</td>\n",
       "    </tr>\n",
       "  </tbody>\n",
       "</table>"
      ],
      "text/plain": [
       "<IPython.core.display.HTML object>"
      ]
     },
     "metadata": {},
     "output_type": "display_data"
    }
   ],
   "source": [
    "# 2 artists per cluster\n",
    "display_recs(['6s22t5Y3prQHyaHWUN1R1C', '3ApUX1o6oSz321MMECyIYd', '3YQKmKGau1PzlVlkL1iodx',\n",
    "              '6qqNVTkY8uBg9cP3Jd7DAH', '04gDigrS5kc9YWfZHwBETP'], 2)\n"
   ]
  },
  {
   "cell_type": "code",
   "execution_count": 11,
   "metadata": {},
   "outputs": [
    {
     "name": "stdout",
     "output_type": "stream",
     "text": [
      "922 clusters\n",
      "\n",
      "AJR\n"
     ]
    },
    {
     "data": {
      "text/html": [
       "<table border=\"1\" class=\"dataframe\">\n",
       "  <thead>\n",
       "    <tr style=\"text-align: right;\">\n",
       "      <th></th>\n",
       "      <th>name</th>\n",
       "      <th>score</th>\n",
       "      <th>link</th>\n",
       "    </tr>\n",
       "  </thead>\n",
       "  <tbody>\n",
       "    <tr>\n",
       "      <th>0</th>\n",
       "      <td>Ill Repute</td>\n",
       "      <td>1.147</td>\n",
       "      <td>https://open.spotify.com/artist/2FE7KWiPJqwic38cmnAUQs</td>\n",
       "    </tr>\n",
       "    <tr>\n",
       "      <th>1</th>\n",
       "      <td>Brownman Revival</td>\n",
       "      <td>1.049</td>\n",
       "      <td>https://open.spotify.com/artist/7ymgfUyJFViyg1qFo4M2nH</td>\n",
       "    </tr>\n",
       "    <tr>\n",
       "      <th>2</th>\n",
       "      <td>La Cumbia</td>\n",
       "      <td>1.044</td>\n",
       "      <td>https://open.spotify.com/artist/1JBqDQ2nqzGdgOEv7f4Gev</td>\n",
       "    </tr>\n",
       "    <tr>\n",
       "      <th>3</th>\n",
       "      <td>Daniel Cardozo</td>\n",
       "      <td>0.979</td>\n",
       "      <td>https://open.spotify.com/artist/3Mr0TsHv8DUbDBMEFW2L9T</td>\n",
       "    </tr>\n",
       "    <tr>\n",
       "      <th>4</th>\n",
       "      <td>Outlawz</td>\n",
       "      <td>0.764</td>\n",
       "      <td>https://open.spotify.com/artist/2jp3Fk52x0HbymU0lNYbSC</td>\n",
       "    </tr>\n",
       "  </tbody>\n",
       "</table>"
      ],
      "text/plain": [
       "<IPython.core.display.HTML object>"
      ]
     },
     "metadata": {},
     "output_type": "display_data"
    },
    {
     "name": "stdout",
     "output_type": "stream",
     "text": [
      "Quinn XCII\n"
     ]
    },
    {
     "data": {
      "text/html": [
       "<table border=\"1\" class=\"dataframe\">\n",
       "  <thead>\n",
       "    <tr style=\"text-align: right;\">\n",
       "      <th></th>\n",
       "      <th>name</th>\n",
       "      <th>score</th>\n",
       "      <th>link</th>\n",
       "    </tr>\n",
       "  </thead>\n",
       "  <tbody>\n",
       "    <tr>\n",
       "      <th>0</th>\n",
       "      <td>Chase</td>\n",
       "      <td>0.434</td>\n",
       "      <td>https://open.spotify.com/artist/4vhSfR0qsVRgiUPA3gfZyO</td>\n",
       "    </tr>\n",
       "    <tr>\n",
       "      <th>1</th>\n",
       "      <td>El Coyote Y Su Banda Tierra Santa</td>\n",
       "      <td>0.181</td>\n",
       "      <td>https://open.spotify.com/artist/7sQ3Q6yYyg0SdpEezJN8UT</td>\n",
       "    </tr>\n",
       "    <tr>\n",
       "      <th>2</th>\n",
       "      <td>The Shamen</td>\n",
       "      <td>0.177</td>\n",
       "      <td>https://open.spotify.com/artist/5E704N5StxMVKpalhaJ5L3</td>\n",
       "    </tr>\n",
       "    <tr>\n",
       "      <th>3</th>\n",
       "      <td>Ikim &amp; Bacardi</td>\n",
       "      <td>0.135</td>\n",
       "      <td>https://open.spotify.com/artist/26FPXcpL0rDP7qhTMWp3zW</td>\n",
       "    </tr>\n",
       "    <tr>\n",
       "      <th>4</th>\n",
       "      <td>Dyland &amp; Lenny</td>\n",
       "      <td>0.126</td>\n",
       "      <td>https://open.spotify.com/artist/6EiZOxfG8B5evnLH4KnJeF</td>\n",
       "    </tr>\n",
       "  </tbody>\n",
       "</table>"
      ],
      "text/plain": [
       "<IPython.core.display.HTML object>"
      ]
     },
     "metadata": {},
     "output_type": "display_data"
    },
    {
     "name": "stdout",
     "output_type": "stream",
     "text": [
      "Twenty One Pilots\n"
     ]
    },
    {
     "data": {
      "text/html": [
       "<table border=\"1\" class=\"dataframe\">\n",
       "  <thead>\n",
       "    <tr style=\"text-align: right;\">\n",
       "      <th></th>\n",
       "      <th>name</th>\n",
       "      <th>score</th>\n",
       "      <th>link</th>\n",
       "    </tr>\n",
       "  </thead>\n",
       "  <tbody>\n",
       "    <tr>\n",
       "      <th>0</th>\n",
       "      <td>Fabiano</td>\n",
       "      <td>0.834</td>\n",
       "      <td>https://open.spotify.com/artist/7BdIIgJH5SZUuIv1AtuJlR</td>\n",
       "    </tr>\n",
       "    <tr>\n",
       "      <th>1</th>\n",
       "      <td>Kordas</td>\n",
       "      <td>0.779</td>\n",
       "      <td>https://open.spotify.com/artist/5INSKpcDpSbntKDXkJmoff</td>\n",
       "    </tr>\n",
       "    <tr>\n",
       "      <th>2</th>\n",
       "      <td>Linius</td>\n",
       "      <td>0.579</td>\n",
       "      <td>https://open.spotify.com/artist/1uhl1XFRNVY8fkPg0tDRMh</td>\n",
       "    </tr>\n",
       "    <tr>\n",
       "      <th>3</th>\n",
       "      <td>The Belle Stars</td>\n",
       "      <td>0.310</td>\n",
       "      <td>https://open.spotify.com/artist/79mvAIaa8bVyObPdeqs2i3</td>\n",
       "    </tr>\n",
       "    <tr>\n",
       "      <th>4</th>\n",
       "      <td>Vidyasagar</td>\n",
       "      <td>0.288</td>\n",
       "      <td>https://open.spotify.com/artist/5TB837uKG65w8Jnz5D0bS5</td>\n",
       "    </tr>\n",
       "  </tbody>\n",
       "</table>"
      ],
      "text/plain": [
       "<IPython.core.display.HTML object>"
      ]
     },
     "metadata": {},
     "output_type": "display_data"
    },
    {
     "name": "stdout",
     "output_type": "stream",
     "text": [
      "Billie Eilish\n"
     ]
    },
    {
     "data": {
      "text/html": [
       "<table border=\"1\" class=\"dataframe\">\n",
       "  <thead>\n",
       "    <tr style=\"text-align: right;\">\n",
       "      <th></th>\n",
       "      <th>name</th>\n",
       "      <th>score</th>\n",
       "      <th>link</th>\n",
       "    </tr>\n",
       "  </thead>\n",
       "  <tbody>\n",
       "    <tr>\n",
       "      <th>0</th>\n",
       "      <td>Paul Hardcastle</td>\n",
       "      <td>1.576</td>\n",
       "      <td>https://open.spotify.com/artist/0SgDfSfWqkZMW96aT2oQZ1</td>\n",
       "    </tr>\n",
       "    <tr>\n",
       "      <th>1</th>\n",
       "      <td>Azaleh</td>\n",
       "      <td>1.300</td>\n",
       "      <td>https://open.spotify.com/artist/3yNkKjNBiX09eHZ4EQ3lJY</td>\n",
       "    </tr>\n",
       "    <tr>\n",
       "      <th>2</th>\n",
       "      <td>Dawn</td>\n",
       "      <td>1.243</td>\n",
       "      <td>https://open.spotify.com/artist/0ITGyIOMfQ1mk5fRUlH8Am</td>\n",
       "    </tr>\n",
       "    <tr>\n",
       "      <th>3</th>\n",
       "      <td>Right Said Fred</td>\n",
       "      <td>1.113</td>\n",
       "      <td>https://open.spotify.com/artist/15ajdFAi5bjj5pS9laBfBL</td>\n",
       "    </tr>\n",
       "    <tr>\n",
       "      <th>4</th>\n",
       "      <td>Nightcrawlers</td>\n",
       "      <td>0.769</td>\n",
       "      <td>https://open.spotify.com/artist/1gALaWbNDnwS2ECV09sn2A</td>\n",
       "    </tr>\n",
       "  </tbody>\n",
       "</table>"
      ],
      "text/plain": [
       "<IPython.core.display.HTML object>"
      ]
     },
     "metadata": {},
     "output_type": "display_data"
    },
    {
     "name": "stdout",
     "output_type": "stream",
     "text": [
      "Maroon 5\n"
     ]
    },
    {
     "data": {
      "text/html": [
       "<table border=\"1\" class=\"dataframe\">\n",
       "  <thead>\n",
       "    <tr style=\"text-align: right;\">\n",
       "      <th></th>\n",
       "      <th>name</th>\n",
       "      <th>score</th>\n",
       "      <th>link</th>\n",
       "    </tr>\n",
       "  </thead>\n",
       "  <tbody>\n",
       "    <tr>\n",
       "      <th>0</th>\n",
       "      <td>Sydney Yungins</td>\n",
       "      <td>0.676</td>\n",
       "      <td>https://open.spotify.com/artist/7pqRrWbKf5yMxy79G3YdKc</td>\n",
       "    </tr>\n",
       "    <tr>\n",
       "      <th>1</th>\n",
       "      <td>SUHO</td>\n",
       "      <td>0.639</td>\n",
       "      <td>https://open.spotify.com/artist/5zkf2Na8DKKJmtWX5Xrx3m</td>\n",
       "    </tr>\n",
       "    <tr>\n",
       "      <th>2</th>\n",
       "      <td>IXION</td>\n",
       "      <td>0.567</td>\n",
       "      <td>https://open.spotify.com/artist/1pUo5aNsLW4FfY5WedNBLq</td>\n",
       "    </tr>\n",
       "    <tr>\n",
       "      <th>3</th>\n",
       "      <td>Lambasaia</td>\n",
       "      <td>0.501</td>\n",
       "      <td>https://open.spotify.com/artist/2gkfnXfwfeW6k3xm9dRdAd</td>\n",
       "    </tr>\n",
       "    <tr>\n",
       "      <th>4</th>\n",
       "      <td>Luke Vibert</td>\n",
       "      <td>0.441</td>\n",
       "      <td>https://open.spotify.com/artist/0HfxCluo7N2dhr4oRM0wBv</td>\n",
       "    </tr>\n",
       "  </tbody>\n",
       "</table>"
      ],
      "text/plain": [
       "<IPython.core.display.HTML object>"
      ]
     },
     "metadata": {},
     "output_type": "display_data"
    }
   ],
   "source": [
    "# 4 artist per cluster\n",
    "display_recs(['6s22t5Y3prQHyaHWUN1R1C', '3ApUX1o6oSz321MMECyIYd', '3YQKmKGau1PzlVlkL1iodx',\n",
    "              '6qqNVTkY8uBg9cP3Jd7DAH', '04gDigrS5kc9YWfZHwBETP'], 4)\n"
   ]
  },
  {
   "cell_type": "code",
   "execution_count": 12,
   "metadata": {},
   "outputs": [
    {
     "name": "stdout",
     "output_type": "stream",
     "text": [
      "461 clusters\n",
      "\n",
      "AJR\n"
     ]
    },
    {
     "data": {
      "text/html": [
       "<table border=\"1\" class=\"dataframe\">\n",
       "  <thead>\n",
       "    <tr style=\"text-align: right;\">\n",
       "      <th></th>\n",
       "      <th>name</th>\n",
       "      <th>score</th>\n",
       "      <th>link</th>\n",
       "    </tr>\n",
       "  </thead>\n",
       "  <tbody>\n",
       "    <tr>\n",
       "      <th>0</th>\n",
       "      <td>Mr. President</td>\n",
       "      <td>2.064</td>\n",
       "      <td>https://open.spotify.com/artist/7KBkgunlONG7LPxs93pgpp</td>\n",
       "    </tr>\n",
       "    <tr>\n",
       "      <th>1</th>\n",
       "      <td>El Polaco</td>\n",
       "      <td>2.046</td>\n",
       "      <td>https://open.spotify.com/artist/3ucYybVr1mTuB04HtoBDCc</td>\n",
       "    </tr>\n",
       "    <tr>\n",
       "      <th>2</th>\n",
       "      <td>Oumou Dioubate</td>\n",
       "      <td>1.912</td>\n",
       "      <td>https://open.spotify.com/artist/6b4sksjz6feKvujzyGmZWA</td>\n",
       "    </tr>\n",
       "    <tr>\n",
       "      <th>3</th>\n",
       "      <td>Avvy Sra</td>\n",
       "      <td>1.811</td>\n",
       "      <td>https://open.spotify.com/artist/4qjiRRFcM4WZ0aJ3IHdWPN</td>\n",
       "    </tr>\n",
       "    <tr>\n",
       "      <th>4</th>\n",
       "      <td>The Four Owls</td>\n",
       "      <td>1.797</td>\n",
       "      <td>https://open.spotify.com/artist/0W2ZH8knJiOzH0ZwXnsgox</td>\n",
       "    </tr>\n",
       "  </tbody>\n",
       "</table>"
      ],
      "text/plain": [
       "<IPython.core.display.HTML object>"
      ]
     },
     "metadata": {},
     "output_type": "display_data"
    },
    {
     "name": "stdout",
     "output_type": "stream",
     "text": [
      "Quinn XCII\n"
     ]
    },
    {
     "data": {
      "text/html": [
       "<table border=\"1\" class=\"dataframe\">\n",
       "  <thead>\n",
       "    <tr style=\"text-align: right;\">\n",
       "      <th></th>\n",
       "      <th>name</th>\n",
       "      <th>score</th>\n",
       "      <th>link</th>\n",
       "    </tr>\n",
       "  </thead>\n",
       "  <tbody>\n",
       "    <tr>\n",
       "      <th>0</th>\n",
       "      <td>Rolipso</td>\n",
       "      <td>1.034</td>\n",
       "      <td>https://open.spotify.com/artist/1EtBmvqGOtWnjDgCUFQRqI</td>\n",
       "    </tr>\n",
       "    <tr>\n",
       "      <th>1</th>\n",
       "      <td>Dj Victor</td>\n",
       "      <td>0.999</td>\n",
       "      <td>https://open.spotify.com/artist/5kKzlgNRX8FgC6Bni5DNNC</td>\n",
       "    </tr>\n",
       "    <tr>\n",
       "      <th>2</th>\n",
       "      <td>Aaron Smith</td>\n",
       "      <td>0.705</td>\n",
       "      <td>https://open.spotify.com/artist/5Nm4sZeWDNd1sOs5HcxAbl</td>\n",
       "    </tr>\n",
       "    <tr>\n",
       "      <th>3</th>\n",
       "      <td>Banda Misteriosa</td>\n",
       "      <td>0.652</td>\n",
       "      <td>https://open.spotify.com/artist/7ai2fsJ9zMJdLdyxnQJXA0</td>\n",
       "    </tr>\n",
       "    <tr>\n",
       "      <th>4</th>\n",
       "      <td>Gaeko</td>\n",
       "      <td>0.611</td>\n",
       "      <td>https://open.spotify.com/artist/0tkHE1pQ5ZCgQb8WZ0ba79</td>\n",
       "    </tr>\n",
       "  </tbody>\n",
       "</table>"
      ],
      "text/plain": [
       "<IPython.core.display.HTML object>"
      ]
     },
     "metadata": {},
     "output_type": "display_data"
    },
    {
     "name": "stdout",
     "output_type": "stream",
     "text": [
      "Twenty One Pilots\n"
     ]
    },
    {
     "data": {
      "text/html": [
       "<table border=\"1\" class=\"dataframe\">\n",
       "  <thead>\n",
       "    <tr style=\"text-align: right;\">\n",
       "      <th></th>\n",
       "      <th>name</th>\n",
       "      <th>score</th>\n",
       "      <th>link</th>\n",
       "    </tr>\n",
       "  </thead>\n",
       "  <tbody>\n",
       "    <tr>\n",
       "      <th>0</th>\n",
       "      <td>GoldFord</td>\n",
       "      <td>2.185</td>\n",
       "      <td>https://open.spotify.com/artist/4I2QW85rkIhCRRZt1kuBqS</td>\n",
       "    </tr>\n",
       "    <tr>\n",
       "      <th>1</th>\n",
       "      <td>Kreepa</td>\n",
       "      <td>1.824</td>\n",
       "      <td>https://open.spotify.com/artist/6XUob2lASlLLaavOTAw9Vb</td>\n",
       "    </tr>\n",
       "    <tr>\n",
       "      <th>2</th>\n",
       "      <td>Milonair</td>\n",
       "      <td>1.283</td>\n",
       "      <td>https://open.spotify.com/artist/6AZfDB8isLU2sHkSm3sRhX</td>\n",
       "    </tr>\n",
       "    <tr>\n",
       "      <th>3</th>\n",
       "      <td>Jimmy \"Bo\" Horne</td>\n",
       "      <td>1.267</td>\n",
       "      <td>https://open.spotify.com/artist/6jcPHv7qVfqysvBT7Jmn7K</td>\n",
       "    </tr>\n",
       "    <tr>\n",
       "      <th>4</th>\n",
       "      <td>Payman</td>\n",
       "      <td>1.209</td>\n",
       "      <td>https://open.spotify.com/artist/01Rh6oei872W6mW6Zz0ueQ</td>\n",
       "    </tr>\n",
       "  </tbody>\n",
       "</table>"
      ],
      "text/plain": [
       "<IPython.core.display.HTML object>"
      ]
     },
     "metadata": {},
     "output_type": "display_data"
    },
    {
     "name": "stdout",
     "output_type": "stream",
     "text": [
      "Billie Eilish\n"
     ]
    },
    {
     "data": {
      "text/html": [
       "<table border=\"1\" class=\"dataframe\">\n",
       "  <thead>\n",
       "    <tr style=\"text-align: right;\">\n",
       "      <th></th>\n",
       "      <th>name</th>\n",
       "      <th>score</th>\n",
       "      <th>link</th>\n",
       "    </tr>\n",
       "  </thead>\n",
       "  <tbody>\n",
       "    <tr>\n",
       "      <th>0</th>\n",
       "      <td>Africans with Mainframes</td>\n",
       "      <td>5.271</td>\n",
       "      <td>https://open.spotify.com/artist/7olHN0U4Va4jhXEUeRO554</td>\n",
       "    </tr>\n",
       "    <tr>\n",
       "      <th>1</th>\n",
       "      <td>Carmen Twillie</td>\n",
       "      <td>4.080</td>\n",
       "      <td>https://open.spotify.com/artist/6O3ZB5Cz5CNT3wQWouKcNJ</td>\n",
       "    </tr>\n",
       "    <tr>\n",
       "      <th>2</th>\n",
       "      <td>Tony Joe White</td>\n",
       "      <td>4.040</td>\n",
       "      <td>https://open.spotify.com/artist/6QvgWa4x3Ij4tvBpFMo11P</td>\n",
       "    </tr>\n",
       "    <tr>\n",
       "      <th>3</th>\n",
       "      <td>Evelyn Thomas</td>\n",
       "      <td>3.935</td>\n",
       "      <td>https://open.spotify.com/artist/2YLxwK8ceDNaG8RHhtkcQh</td>\n",
       "    </tr>\n",
       "    <tr>\n",
       "      <th>4</th>\n",
       "      <td>Canyon City</td>\n",
       "      <td>3.741</td>\n",
       "      <td>https://open.spotify.com/artist/6TdfKQvrdHZdr4DIzjuWOr</td>\n",
       "    </tr>\n",
       "  </tbody>\n",
       "</table>"
      ],
      "text/plain": [
       "<IPython.core.display.HTML object>"
      ]
     },
     "metadata": {},
     "output_type": "display_data"
    },
    {
     "name": "stdout",
     "output_type": "stream",
     "text": [
      "Maroon 5\n"
     ]
    },
    {
     "data": {
      "text/html": [
       "<table border=\"1\" class=\"dataframe\">\n",
       "  <thead>\n",
       "    <tr style=\"text-align: right;\">\n",
       "      <th></th>\n",
       "      <th>name</th>\n",
       "      <th>score</th>\n",
       "      <th>link</th>\n",
       "    </tr>\n",
       "  </thead>\n",
       "  <tbody>\n",
       "    <tr>\n",
       "      <th>0</th>\n",
       "      <td>REDZED</td>\n",
       "      <td>3.139</td>\n",
       "      <td>https://open.spotify.com/artist/3FCo1sUkVbwKnO2m0Z7Bp9</td>\n",
       "    </tr>\n",
       "    <tr>\n",
       "      <th>1</th>\n",
       "      <td>OxT</td>\n",
       "      <td>2.786</td>\n",
       "      <td>https://open.spotify.com/artist/2qaq1aaJNXMlqsdS50FDrW</td>\n",
       "    </tr>\n",
       "    <tr>\n",
       "      <th>2</th>\n",
       "      <td>Black Book Lodge</td>\n",
       "      <td>2.654</td>\n",
       "      <td>https://open.spotify.com/artist/26oIvYJQLLALW73bWlAIkm</td>\n",
       "    </tr>\n",
       "    <tr>\n",
       "      <th>3</th>\n",
       "      <td>Mc Pepeu</td>\n",
       "      <td>2.639</td>\n",
       "      <td>https://open.spotify.com/artist/3THyxXDkvAVvmfZKP3Fq7G</td>\n",
       "    </tr>\n",
       "    <tr>\n",
       "      <th>4</th>\n",
       "      <td>Angus Black</td>\n",
       "      <td>2.313</td>\n",
       "      <td>https://open.spotify.com/artist/2MfSIHUpiAVrBA0hYceWmK</td>\n",
       "    </tr>\n",
       "  </tbody>\n",
       "</table>"
      ],
      "text/plain": [
       "<IPython.core.display.HTML object>"
      ]
     },
     "metadata": {},
     "output_type": "display_data"
    }
   ],
   "source": [
    "# 8 artist per cluster\n",
    "display_recs(['6s22t5Y3prQHyaHWUN1R1C', '3ApUX1o6oSz321MMECyIYd', '3YQKmKGau1PzlVlkL1iodx',\n",
    "              '6qqNVTkY8uBg9cP3Jd7DAH', '04gDigrS5kc9YWfZHwBETP'], 8)\n"
   ]
  },
  {
   "cell_type": "code",
   "execution_count": 13,
   "metadata": {},
   "outputs": [
    {
     "name": "stdout",
     "output_type": "stream",
     "text": [
      "230 clusters\n",
      "\n",
      "AJR\n"
     ]
    },
    {
     "data": {
      "text/html": [
       "<table border=\"1\" class=\"dataframe\">\n",
       "  <thead>\n",
       "    <tr style=\"text-align: right;\">\n",
       "      <th></th>\n",
       "      <th>name</th>\n",
       "      <th>score</th>\n",
       "      <th>link</th>\n",
       "    </tr>\n",
       "  </thead>\n",
       "  <tbody>\n",
       "    <tr>\n",
       "      <th>0</th>\n",
       "      <td>Endymion</td>\n",
       "      <td>12.539</td>\n",
       "      <td>https://open.spotify.com/artist/11o3k2t3UfDJSdAYI5JhRk</td>\n",
       "    </tr>\n",
       "    <tr>\n",
       "      <th>1</th>\n",
       "      <td>Subze</td>\n",
       "      <td>11.472</td>\n",
       "      <td>https://open.spotify.com/artist/1iw6ZNe7cO6LGk61z3pMRJ</td>\n",
       "    </tr>\n",
       "    <tr>\n",
       "      <th>2</th>\n",
       "      <td>Agent Steel</td>\n",
       "      <td>8.495</td>\n",
       "      <td>https://open.spotify.com/artist/1FQv3rI4iJPitbZiTxBGut</td>\n",
       "    </tr>\n",
       "    <tr>\n",
       "      <th>3</th>\n",
       "      <td>Aymane Serhani</td>\n",
       "      <td>7.702</td>\n",
       "      <td>https://open.spotify.com/artist/2EAzv92ciNtTm5DkGSYXH2</td>\n",
       "    </tr>\n",
       "    <tr>\n",
       "      <th>4</th>\n",
       "      <td>F1rstman</td>\n",
       "      <td>7.272</td>\n",
       "      <td>https://open.spotify.com/artist/0IA4SdCS8HBDX6oBoOlgaf</td>\n",
       "    </tr>\n",
       "  </tbody>\n",
       "</table>"
      ],
      "text/plain": [
       "<IPython.core.display.HTML object>"
      ]
     },
     "metadata": {},
     "output_type": "display_data"
    },
    {
     "name": "stdout",
     "output_type": "stream",
     "text": [
      "Quinn XCII\n"
     ]
    },
    {
     "data": {
      "text/html": [
       "<table border=\"1\" class=\"dataframe\">\n",
       "  <thead>\n",
       "    <tr style=\"text-align: right;\">\n",
       "      <th></th>\n",
       "      <th>name</th>\n",
       "      <th>score</th>\n",
       "      <th>link</th>\n",
       "    </tr>\n",
       "  </thead>\n",
       "  <tbody>\n",
       "    <tr>\n",
       "      <th>0</th>\n",
       "      <td>Eden Hason</td>\n",
       "      <td>3.451</td>\n",
       "      <td>https://open.spotify.com/artist/6uQl3gu1AIXyvqCAxnc2q4</td>\n",
       "    </tr>\n",
       "    <tr>\n",
       "      <th>1</th>\n",
       "      <td>Luar La L</td>\n",
       "      <td>3.090</td>\n",
       "      <td>https://open.spotify.com/artist/4axKuDPr6WKcDCyh8vueTY</td>\n",
       "    </tr>\n",
       "    <tr>\n",
       "      <th>2</th>\n",
       "      <td>Camishe</td>\n",
       "      <td>2.368</td>\n",
       "      <td>https://open.spotify.com/artist/1l5ca6eEXIW8XHBIWPRnWC</td>\n",
       "    </tr>\n",
       "    <tr>\n",
       "      <th>3</th>\n",
       "      <td>Yazin Nizar</td>\n",
       "      <td>2.362</td>\n",
       "      <td>https://open.spotify.com/artist/2pVurQy6iuWWx707gilSdX</td>\n",
       "    </tr>\n",
       "    <tr>\n",
       "      <th>4</th>\n",
       "      <td>NAVI</td>\n",
       "      <td>1.972</td>\n",
       "      <td>https://open.spotify.com/artist/5DCwmxnCqNVMljhthee6ti</td>\n",
       "    </tr>\n",
       "  </tbody>\n",
       "</table>"
      ],
      "text/plain": [
       "<IPython.core.display.HTML object>"
      ]
     },
     "metadata": {},
     "output_type": "display_data"
    },
    {
     "name": "stdout",
     "output_type": "stream",
     "text": [
      "Twenty One Pilots\n"
     ]
    },
    {
     "data": {
      "text/html": [
       "<table border=\"1\" class=\"dataframe\">\n",
       "  <thead>\n",
       "    <tr style=\"text-align: right;\">\n",
       "      <th></th>\n",
       "      <th>name</th>\n",
       "      <th>score</th>\n",
       "      <th>link</th>\n",
       "    </tr>\n",
       "  </thead>\n",
       "  <tbody>\n",
       "    <tr>\n",
       "      <th>0</th>\n",
       "      <td>Ocean Park Standoff</td>\n",
       "      <td>6.733</td>\n",
       "      <td>https://open.spotify.com/artist/1qGohIp3a4kh1Euymx0pyL</td>\n",
       "    </tr>\n",
       "    <tr>\n",
       "      <th>1</th>\n",
       "      <td>Trapical Minds</td>\n",
       "      <td>6.505</td>\n",
       "      <td>https://open.spotify.com/artist/7lilUV0c5xjhnakgpbmpdi</td>\n",
       "    </tr>\n",
       "    <tr>\n",
       "      <th>2</th>\n",
       "      <td>Mach &amp; Daddy</td>\n",
       "      <td>6.005</td>\n",
       "      <td>https://open.spotify.com/artist/5Q1vijNjTVhQBoVrZVXms8</td>\n",
       "    </tr>\n",
       "    <tr>\n",
       "      <th>3</th>\n",
       "      <td>Babek Mamedrzaev</td>\n",
       "      <td>5.941</td>\n",
       "      <td>https://open.spotify.com/artist/2pZFo9VIdlenvCmKSicAhC</td>\n",
       "    </tr>\n",
       "    <tr>\n",
       "      <th>4</th>\n",
       "      <td>Freischwimmer</td>\n",
       "      <td>4.490</td>\n",
       "      <td>https://open.spotify.com/artist/185m2EJWTIm36MdqguiU8T</td>\n",
       "    </tr>\n",
       "  </tbody>\n",
       "</table>"
      ],
      "text/plain": [
       "<IPython.core.display.HTML object>"
      ]
     },
     "metadata": {},
     "output_type": "display_data"
    },
    {
     "name": "stdout",
     "output_type": "stream",
     "text": [
      "Billie Eilish\n"
     ]
    },
    {
     "data": {
      "text/html": [
       "<table border=\"1\" class=\"dataframe\">\n",
       "  <thead>\n",
       "    <tr style=\"text-align: right;\">\n",
       "      <th></th>\n",
       "      <th>name</th>\n",
       "      <th>score</th>\n",
       "      <th>link</th>\n",
       "    </tr>\n",
       "  </thead>\n",
       "  <tbody>\n",
       "    <tr>\n",
       "      <th>0</th>\n",
       "      <td>aekasora</td>\n",
       "      <td>9.186</td>\n",
       "      <td>https://open.spotify.com/artist/14zYh9bbvvVtfJHQpzSGDa</td>\n",
       "    </tr>\n",
       "    <tr>\n",
       "      <th>1</th>\n",
       "      <td>Benito Di Paula</td>\n",
       "      <td>9.028</td>\n",
       "      <td>https://open.spotify.com/artist/32GW4h2xb3glY99mWLjwlG</td>\n",
       "    </tr>\n",
       "    <tr>\n",
       "      <th>2</th>\n",
       "      <td>Crying Day Care Choir</td>\n",
       "      <td>8.158</td>\n",
       "      <td>https://open.spotify.com/artist/2wA059Agr6FoUUJTD23KLl</td>\n",
       "    </tr>\n",
       "    <tr>\n",
       "      <th>3</th>\n",
       "      <td>Los Tres Ases</td>\n",
       "      <td>8.116</td>\n",
       "      <td>https://open.spotify.com/artist/2AvUIlDzLMzaxajDtniU4B</td>\n",
       "    </tr>\n",
       "    <tr>\n",
       "      <th>4</th>\n",
       "      <td>Spirit</td>\n",
       "      <td>6.194</td>\n",
       "      <td>https://open.spotify.com/artist/0213yAkcvHef8LEJlsabW7</td>\n",
       "    </tr>\n",
       "  </tbody>\n",
       "</table>"
      ],
      "text/plain": [
       "<IPython.core.display.HTML object>"
      ]
     },
     "metadata": {},
     "output_type": "display_data"
    },
    {
     "name": "stdout",
     "output_type": "stream",
     "text": [
      "Maroon 5\n"
     ]
    },
    {
     "data": {
      "text/html": [
       "<table border=\"1\" class=\"dataframe\">\n",
       "  <thead>\n",
       "    <tr style=\"text-align: right;\">\n",
       "      <th></th>\n",
       "      <th>name</th>\n",
       "      <th>score</th>\n",
       "      <th>link</th>\n",
       "    </tr>\n",
       "  </thead>\n",
       "  <tbody>\n",
       "    <tr>\n",
       "      <th>0</th>\n",
       "      <td>La Nueva Escuela</td>\n",
       "      <td>16.834</td>\n",
       "      <td>https://open.spotify.com/artist/7mcJN2bWqCv7jvykgHp4KN</td>\n",
       "    </tr>\n",
       "    <tr>\n",
       "      <th>1</th>\n",
       "      <td>Eric North</td>\n",
       "      <td>13.112</td>\n",
       "      <td>https://open.spotify.com/artist/0paPKcyklDu8JjxxQbiOHX</td>\n",
       "    </tr>\n",
       "    <tr>\n",
       "      <th>2</th>\n",
       "      <td>Mc Topre</td>\n",
       "      <td>12.716</td>\n",
       "      <td>https://open.spotify.com/artist/6bmZfABIjvLMAMYwujdjFy</td>\n",
       "    </tr>\n",
       "    <tr>\n",
       "      <th>3</th>\n",
       "      <td>WJSN</td>\n",
       "      <td>11.015</td>\n",
       "      <td>https://open.spotify.com/artist/6hhqsQZhtp9hfaZhSd0VSD</td>\n",
       "    </tr>\n",
       "    <tr>\n",
       "      <th>4</th>\n",
       "      <td>IZ*ONE</td>\n",
       "      <td>10.761</td>\n",
       "      <td>https://open.spotify.com/artist/5r1tUTxVSgvBHnoDuDODPH</td>\n",
       "    </tr>\n",
       "  </tbody>\n",
       "</table>"
      ],
      "text/plain": [
       "<IPython.core.display.HTML object>"
      ]
     },
     "metadata": {},
     "output_type": "display_data"
    }
   ],
   "source": [
    "# 16 artist per cluster\n",
    "display_recs(['6s22t5Y3prQHyaHWUN1R1C', '3ApUX1o6oSz321MMECyIYd', '3YQKmKGau1PzlVlkL1iodx',\n",
    "              '6qqNVTkY8uBg9cP3Jd7DAH', '04gDigrS5kc9YWfZHwBETP'], 16)\n"
   ]
  },
  {
   "cell_type": "code",
   "execution_count": 14,
   "metadata": {},
   "outputs": [
    {
     "name": "stdout",
     "output_type": "stream",
     "text": [
      "230 clusters\n",
      "\n",
      "Drake\n"
     ]
    },
    {
     "data": {
      "text/html": [
       "<table border=\"1\" class=\"dataframe\">\n",
       "  <thead>\n",
       "    <tr style=\"text-align: right;\">\n",
       "      <th></th>\n",
       "      <th>name</th>\n",
       "      <th>score</th>\n",
       "      <th>link</th>\n",
       "    </tr>\n",
       "  </thead>\n",
       "  <tbody>\n",
       "    <tr>\n",
       "      <th>0</th>\n",
       "      <td>The Boss</td>\n",
       "      <td>3.819</td>\n",
       "      <td>https://open.spotify.com/artist/4BscBE6XCuJCR1ceYuqELH</td>\n",
       "    </tr>\n",
       "    <tr>\n",
       "      <th>1</th>\n",
       "      <td>CJota</td>\n",
       "      <td>3.506</td>\n",
       "      <td>https://open.spotify.com/artist/5qvphJwi72TG198xn5VVYH</td>\n",
       "    </tr>\n",
       "    <tr>\n",
       "      <th>2</th>\n",
       "      <td>Adrian Oblanca</td>\n",
       "      <td>3.417</td>\n",
       "      <td>https://open.spotify.com/artist/2dkWhpWqxWMOQkqKqpE6uY</td>\n",
       "    </tr>\n",
       "    <tr>\n",
       "      <th>3</th>\n",
       "      <td>Shakin' Street</td>\n",
       "      <td>2.990</td>\n",
       "      <td>https://open.spotify.com/artist/1gOSLTST5J2bcRv7u5fLjW</td>\n",
       "    </tr>\n",
       "    <tr>\n",
       "      <th>4</th>\n",
       "      <td>Adriatique</td>\n",
       "      <td>2.865</td>\n",
       "      <td>https://open.spotify.com/artist/02DWGcShQivFepRvGJ7xhB</td>\n",
       "    </tr>\n",
       "  </tbody>\n",
       "</table>"
      ],
      "text/plain": [
       "<IPython.core.display.HTML object>"
      ]
     },
     "metadata": {},
     "output_type": "display_data"
    },
    {
     "name": "stdout",
     "output_type": "stream",
     "text": [
      "Eminem\n"
     ]
    },
    {
     "data": {
      "text/html": [
       "<table border=\"1\" class=\"dataframe\">\n",
       "  <thead>\n",
       "    <tr style=\"text-align: right;\">\n",
       "      <th></th>\n",
       "      <th>name</th>\n",
       "      <th>score</th>\n",
       "      <th>link</th>\n",
       "    </tr>\n",
       "  </thead>\n",
       "  <tbody>\n",
       "    <tr>\n",
       "      <th>0</th>\n",
       "      <td>La Nueva Escuela</td>\n",
       "      <td>9.534</td>\n",
       "      <td>https://open.spotify.com/artist/7mcJN2bWqCv7jvykgHp4KN</td>\n",
       "    </tr>\n",
       "    <tr>\n",
       "      <th>1</th>\n",
       "      <td>Eric North</td>\n",
       "      <td>8.800</td>\n",
       "      <td>https://open.spotify.com/artist/0paPKcyklDu8JjxxQbiOHX</td>\n",
       "    </tr>\n",
       "    <tr>\n",
       "      <th>2</th>\n",
       "      <td>IZ*ONE</td>\n",
       "      <td>8.765</td>\n",
       "      <td>https://open.spotify.com/artist/5r1tUTxVSgvBHnoDuDODPH</td>\n",
       "    </tr>\n",
       "    <tr>\n",
       "      <th>3</th>\n",
       "      <td>Mc Pepeu</td>\n",
       "      <td>6.341</td>\n",
       "      <td>https://open.spotify.com/artist/3THyxXDkvAVvmfZKP3Fq7G</td>\n",
       "    </tr>\n",
       "    <tr>\n",
       "      <th>4</th>\n",
       "      <td>Apink</td>\n",
       "      <td>5.859</td>\n",
       "      <td>https://open.spotify.com/artist/2uWcrwgWmZcQc3IPBs3tfU</td>\n",
       "    </tr>\n",
       "  </tbody>\n",
       "</table>"
      ],
      "text/plain": [
       "<IPython.core.display.HTML object>"
      ]
     },
     "metadata": {},
     "output_type": "display_data"
    }
   ],
   "source": [
    "display_recs(['3TVXtAsR1Inumwj472S9r4', '7dGJo4pcD2V6oG8kP0tJRR'], 16)"
   ]
  },
  {
   "cell_type": "code",
   "execution_count": null,
   "metadata": {},
   "outputs": [],
   "source": []
  }
 ],
 "metadata": {
  "kernelspec": {
   "display_name": "Python 3",
   "language": "python",
   "name": "python3"
  },
  "language_info": {
   "codemirror_mode": {
    "name": "ipython",
    "version": 3
   },
   "file_extension": ".py",
   "mimetype": "text/x-python",
   "name": "python",
   "nbconvert_exporter": "python",
   "pygments_lexer": "ipython3",
   "version": "3.8.8"
  }
 },
 "nbformat": 4,
 "nbformat_minor": 4
}
