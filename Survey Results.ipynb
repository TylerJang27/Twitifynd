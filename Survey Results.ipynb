{
 "cells": [
  {
   "cell_type": "markdown",
   "metadata": {},
   "source": [
    "# Setup"
   ]
  },
  {
   "cell_type": "code",
   "execution_count": 52,
   "metadata": {},
   "outputs": [],
   "source": [
    "import pandas as pd\n",
    "import math\n",
    "import json\n",
    "from IPython.display import display, HTML\n",
    "pd.set_option('display.max_rows', None)\n",
    "pd.set_option('display.max_colwidth', None)\n",
    "\n",
    "from recommend import Recommend"
   ]
  },
  {
   "cell_type": "code",
   "execution_count": 45,
   "metadata": {},
   "outputs": [],
   "source": [
    "def display_recs(favorites, artists_per_cluster):\n",
    "    r = Recommend(artists_per_cluster)\n",
    "    recs = r.get_recs(favorites)\n",
    "    print('{} clusters'.format(math.floor(3691/artists_per_cluster))) # number of popular artists\n",
    "    print('')\n",
    "    for artist in recs:\n",
    "        print(recs[artist]['name'])\n",
    "        display(HTML(recs[artist]['recs'].head().to_html())) # TODO: TYLER PROPOSED CHANGE"
   ]
  },
  {
   "cell_type": "code",
   "execution_count": 77,
   "metadata": {},
   "outputs": [],
   "source": [
    "class find:\n",
    "    def __init__(self, artists_per_cluster):\n",
    "        folder = 'precomp_diff_clusters/precomp_' + str(artists_per_cluster)\n",
    "        with open(folder + '/s_name_find.json') as snf:\n",
    "            self.snf = json.load(snf)\n",
    "        with open(folder + '/t_uname_find.json') as tnf:\n",
    "            self.tnf = json.load(tnf)\n",
    "        with open(folder + '/s_info.json') as sif:\n",
    "            self.s_info = json.load(sif)\n",
    "        with open(folder + '/t_info.json') as tif:\n",
    "            self.t_info = json.load(tif)\n",
    "        with open(folder + '/candidates_scores.json') as csf:\n",
    "            self.candidates_scores = json.load(csf)\n",
    "    def s_name_find(self, name):\n",
    "        if name in self.snf:\n",
    "            df_spotify = pd.DataFrame(columns=['name', 'popular', 'sid', 'link'])\n",
    "            sids = self.snf[name]\n",
    "            for sid in sids:\n",
    "                tid = self.s_info[sid]['tid']\n",
    "                twitter = self.t_info[str(tid)]['followers count']\n",
    "                if twitter >= 100000:\n",
    "                    popular = True\n",
    "                else:\n",
    "                    popular = False\n",
    "                df_spotify = df_spotify.append({\n",
    "                'name': name,\n",
    "                'popular': popular,\n",
    "                'sid': sid,\n",
    "                'link': \"https://open.spotify.com/artist/\" + sid}, ignore_index=True)\n",
    "            return df_spotify\n",
    "        else:\n",
    "            print('We do not have {} in our database'.format(name))\n",
    "    def t_uname_find(self, uname):\n",
    "        if uname in self.tnf:\n",
    "            df_spotify = pd.DataFrame(columns=['name', 'popular', 'sid', 'link'])\n",
    "            sids = self.tnf[uname]\n",
    "            for sid in sids:\n",
    "                name = self.s_info[sid]['spotify name']\n",
    "                tid = self.s_info[sid]['tid']\n",
    "                twitter = self.t_info[str(tid)]['followers count']\n",
    "                if twitter >= 100000:\n",
    "                    popular = True\n",
    "                else:\n",
    "                    popular = False\n",
    "                df_spotify = df_spotify.append({\n",
    "                'name': name,\n",
    "                'popular': popular,\n",
    "                'sid': sid,\n",
    "                'link': \"https://open.spotify.com/artist/\" + sid}, ignore_index=True)\n",
    "            return df_spotify\n",
    "        else:\n",
    "            print('We do not have {} in our database'.format(uname))\n",
    "            "
   ]
  },
  {
   "cell_type": "code",
   "execution_count": 78,
   "metadata": {},
   "outputs": [],
   "source": [
    "# 4 artists per cluster\n",
    "artists_per_cluster = 4\n",
    "f4 = find(artists_per_cluster)"
   ]
  },
  {
   "cell_type": "markdown",
   "metadata": {},
   "source": [
    "# Ian (13)"
   ]
  },
  {
   "cell_type": "code",
   "execution_count": 80,
   "metadata": {},
   "outputs": [
    {
     "data": {
      "text/html": [
       "<div>\n",
       "<style scoped>\n",
       "    .dataframe tbody tr th:only-of-type {\n",
       "        vertical-align: middle;\n",
       "    }\n",
       "\n",
       "    .dataframe tbody tr th {\n",
       "        vertical-align: top;\n",
       "    }\n",
       "\n",
       "    .dataframe thead th {\n",
       "        text-align: right;\n",
       "    }\n",
       "</style>\n",
       "<table border=\"1\" class=\"dataframe\">\n",
       "  <thead>\n",
       "    <tr style=\"text-align: right;\">\n",
       "      <th></th>\n",
       "      <th>name</th>\n",
       "      <th>popular</th>\n",
       "      <th>sid</th>\n",
       "      <th>link</th>\n",
       "    </tr>\n",
       "  </thead>\n",
       "  <tbody>\n",
       "    <tr>\n",
       "      <th>0</th>\n",
       "      <td>Kanye West</td>\n",
       "      <td>True</td>\n",
       "      <td>5K4W6rqBFWDnAN6FQUkS6x</td>\n",
       "      <td>https://open.spotify.com/artist/5K4W6rqBFWDnAN6FQUkS6x</td>\n",
       "    </tr>\n",
       "  </tbody>\n",
       "</table>\n",
       "</div>"
      ],
      "text/plain": [
       "         name popular                     sid  \\\n",
       "0  Kanye West    True  5K4W6rqBFWDnAN6FQUkS6x   \n",
       "\n",
       "                                                     link  \n",
       "0  https://open.spotify.com/artist/5K4W6rqBFWDnAN6FQUkS6x  "
      ]
     },
     "execution_count": 80,
     "metadata": {},
     "output_type": "execute_result"
    }
   ],
   "source": [
    "f4.s_name_find('Kanye West')"
   ]
  },
  {
   "cell_type": "code",
   "execution_count": 82,
   "metadata": {},
   "outputs": [
    {
     "data": {
      "text/html": [
       "<div>\n",
       "<style scoped>\n",
       "    .dataframe tbody tr th:only-of-type {\n",
       "        vertical-align: middle;\n",
       "    }\n",
       "\n",
       "    .dataframe tbody tr th {\n",
       "        vertical-align: top;\n",
       "    }\n",
       "\n",
       "    .dataframe thead th {\n",
       "        text-align: right;\n",
       "    }\n",
       "</style>\n",
       "<table border=\"1\" class=\"dataframe\">\n",
       "  <thead>\n",
       "    <tr style=\"text-align: right;\">\n",
       "      <th></th>\n",
       "      <th>name</th>\n",
       "      <th>popular</th>\n",
       "      <th>sid</th>\n",
       "      <th>link</th>\n",
       "    </tr>\n",
       "  </thead>\n",
       "  <tbody>\n",
       "    <tr>\n",
       "      <th>0</th>\n",
       "      <td>Anderson .Paak</td>\n",
       "      <td>True</td>\n",
       "      <td>3jK9MiCrA42lLAdMGUZpwa</td>\n",
       "      <td>https://open.spotify.com/artist/3jK9MiCrA42lLAdMGUZpwa</td>\n",
       "    </tr>\n",
       "  </tbody>\n",
       "</table>\n",
       "</div>"
      ],
      "text/plain": [
       "             name popular                     sid  \\\n",
       "0  Anderson .Paak    True  3jK9MiCrA42lLAdMGUZpwa   \n",
       "\n",
       "                                                     link  \n",
       "0  https://open.spotify.com/artist/3jK9MiCrA42lLAdMGUZpwa  "
      ]
     },
     "execution_count": 82,
     "metadata": {},
     "output_type": "execute_result"
    }
   ],
   "source": [
    "f4.t_uname_find('AndersonPaak')"
   ]
  },
  {
   "cell_type": "code",
   "execution_count": 83,
   "metadata": {},
   "outputs": [
    {
     "data": {
      "text/html": [
       "<div>\n",
       "<style scoped>\n",
       "    .dataframe tbody tr th:only-of-type {\n",
       "        vertical-align: middle;\n",
       "    }\n",
       "\n",
       "    .dataframe tbody tr th {\n",
       "        vertical-align: top;\n",
       "    }\n",
       "\n",
       "    .dataframe thead th {\n",
       "        text-align: right;\n",
       "    }\n",
       "</style>\n",
       "<table border=\"1\" class=\"dataframe\">\n",
       "  <thead>\n",
       "    <tr style=\"text-align: right;\">\n",
       "      <th></th>\n",
       "      <th>name</th>\n",
       "      <th>popular</th>\n",
       "      <th>sid</th>\n",
       "      <th>link</th>\n",
       "    </tr>\n",
       "  </thead>\n",
       "  <tbody>\n",
       "    <tr>\n",
       "      <th>0</th>\n",
       "      <td>The Notorious B.I.G.</td>\n",
       "      <td>False</td>\n",
       "      <td>5me0Irg2ANcsgc93uaYrpb</td>\n",
       "      <td>https://open.spotify.com/artist/5me0Irg2ANcsgc93uaYrpb</td>\n",
       "    </tr>\n",
       "  </tbody>\n",
       "</table>\n",
       "</div>"
      ],
      "text/plain": [
       "                   name popular                     sid  \\\n",
       "0  The Notorious B.I.G.   False  5me0Irg2ANcsgc93uaYrpb   \n",
       "\n",
       "                                                     link  \n",
       "0  https://open.spotify.com/artist/5me0Irg2ANcsgc93uaYrpb  "
      ]
     },
     "execution_count": 83,
     "metadata": {},
     "output_type": "execute_result"
    }
   ],
   "source": [
    "f4.s_name_find('The Notorious B.I.G.')"
   ]
  },
  {
   "cell_type": "code",
   "execution_count": 84,
   "metadata": {},
   "outputs": [
    {
     "data": {
      "text/html": [
       "<div>\n",
       "<style scoped>\n",
       "    .dataframe tbody tr th:only-of-type {\n",
       "        vertical-align: middle;\n",
       "    }\n",
       "\n",
       "    .dataframe tbody tr th {\n",
       "        vertical-align: top;\n",
       "    }\n",
       "\n",
       "    .dataframe thead th {\n",
       "        text-align: right;\n",
       "    }\n",
       "</style>\n",
       "<table border=\"1\" class=\"dataframe\">\n",
       "  <thead>\n",
       "    <tr style=\"text-align: right;\">\n",
       "      <th></th>\n",
       "      <th>name</th>\n",
       "      <th>popular</th>\n",
       "      <th>sid</th>\n",
       "      <th>link</th>\n",
       "    </tr>\n",
       "  </thead>\n",
       "  <tbody>\n",
       "    <tr>\n",
       "      <th>0</th>\n",
       "      <td>Tyler, The Creator</td>\n",
       "      <td>True</td>\n",
       "      <td>4V8LLVI7PbaPR0K2TGSxFF</td>\n",
       "      <td>https://open.spotify.com/artist/4V8LLVI7PbaPR0K2TGSxFF</td>\n",
       "    </tr>\n",
       "  </tbody>\n",
       "</table>\n",
       "</div>"
      ],
      "text/plain": [
       "                 name popular                     sid  \\\n",
       "0  Tyler, The Creator    True  4V8LLVI7PbaPR0K2TGSxFF   \n",
       "\n",
       "                                                     link  \n",
       "0  https://open.spotify.com/artist/4V8LLVI7PbaPR0K2TGSxFF  "
      ]
     },
     "execution_count": 84,
     "metadata": {},
     "output_type": "execute_result"
    }
   ],
   "source": [
    "f4.t_uname_find('tylerthecreator')"
   ]
  },
  {
   "cell_type": "code",
   "execution_count": 85,
   "metadata": {},
   "outputs": [
    {
     "data": {
      "text/html": [
       "<div>\n",
       "<style scoped>\n",
       "    .dataframe tbody tr th:only-of-type {\n",
       "        vertical-align: middle;\n",
       "    }\n",
       "\n",
       "    .dataframe tbody tr th {\n",
       "        vertical-align: top;\n",
       "    }\n",
       "\n",
       "    .dataframe thead th {\n",
       "        text-align: right;\n",
       "    }\n",
       "</style>\n",
       "<table border=\"1\" class=\"dataframe\">\n",
       "  <thead>\n",
       "    <tr style=\"text-align: right;\">\n",
       "      <th></th>\n",
       "      <th>name</th>\n",
       "      <th>popular</th>\n",
       "      <th>sid</th>\n",
       "      <th>link</th>\n",
       "    </tr>\n",
       "  </thead>\n",
       "  <tbody>\n",
       "    <tr>\n",
       "      <th>0</th>\n",
       "      <td>Nujabes</td>\n",
       "      <td>False</td>\n",
       "      <td>3Rq3YOF9YG9YfCWD4D56RZ</td>\n",
       "      <td>https://open.spotify.com/artist/3Rq3YOF9YG9YfCWD4D56RZ</td>\n",
       "    </tr>\n",
       "  </tbody>\n",
       "</table>\n",
       "</div>"
      ],
      "text/plain": [
       "      name popular                     sid  \\\n",
       "0  Nujabes   False  3Rq3YOF9YG9YfCWD4D56RZ   \n",
       "\n",
       "                                                     link  \n",
       "0  https://open.spotify.com/artist/3Rq3YOF9YG9YfCWD4D56RZ  "
      ]
     },
     "execution_count": 85,
     "metadata": {},
     "output_type": "execute_result"
    }
   ],
   "source": [
    "f4.s_name_find('Nujabes')"
   ]
  },
  {
   "cell_type": "code",
   "execution_count": 88,
   "metadata": {},
   "outputs": [
    {
     "name": "stdout",
     "output_type": "stream",
     "text": [
      "922 clusters\n",
      "\n",
      "Kanye West\n"
     ]
    },
    {
     "data": {
      "text/html": [
       "<table border=\"1\" class=\"dataframe\">\n",
       "  <thead>\n",
       "    <tr style=\"text-align: right;\">\n",
       "      <th></th>\n",
       "      <th>name</th>\n",
       "      <th>score</th>\n",
       "      <th>link</th>\n",
       "    </tr>\n",
       "  </thead>\n",
       "  <tbody>\n",
       "    <tr>\n",
       "      <th>0</th>\n",
       "      <td>Jan Bradley</td>\n",
       "      <td>0.841</td>\n",
       "      <td>https://open.spotify.com/artist/4tPAbp9qF8nR9becfJGQCZ</td>\n",
       "    </tr>\n",
       "    <tr>\n",
       "      <th>1</th>\n",
       "      <td>Di Paullo &amp; Paulino</td>\n",
       "      <td>0.837</td>\n",
       "      <td>https://open.spotify.com/artist/1e5A3rWcqk9WfLjeg5T3dI</td>\n",
       "    </tr>\n",
       "    <tr>\n",
       "      <th>2</th>\n",
       "      <td>S. Kiyotaka &amp; Omega Tribe</td>\n",
       "      <td>0.382</td>\n",
       "      <td>https://open.spotify.com/artist/7bG2PIfT22HGxisl6LAohx</td>\n",
       "    </tr>\n",
       "    <tr>\n",
       "      <th>3</th>\n",
       "      <td>David Zowie</td>\n",
       "      <td>0.380</td>\n",
       "      <td>https://open.spotify.com/artist/2yEkeJoFOvm6qHuECSDHFg</td>\n",
       "    </tr>\n",
       "    <tr>\n",
       "      <th>4</th>\n",
       "      <td>Aesthetic Perfection</td>\n",
       "      <td>0.370</td>\n",
       "      <td>https://open.spotify.com/artist/1Jgp0YCPHCJx5XD7nlfGVN</td>\n",
       "    </tr>\n",
       "  </tbody>\n",
       "</table>"
      ],
      "text/plain": [
       "<IPython.core.display.HTML object>"
      ]
     },
     "metadata": {},
     "output_type": "display_data"
    },
    {
     "name": "stdout",
     "output_type": "stream",
     "text": [
      "Anderson .Paak\n"
     ]
    },
    {
     "data": {
      "text/html": [
       "<table border=\"1\" class=\"dataframe\">\n",
       "  <thead>\n",
       "    <tr style=\"text-align: right;\">\n",
       "      <th></th>\n",
       "      <th>name</th>\n",
       "      <th>score</th>\n",
       "      <th>link</th>\n",
       "    </tr>\n",
       "  </thead>\n",
       "  <tbody>\n",
       "    <tr>\n",
       "      <th>0</th>\n",
       "      <td>Pierrii</td>\n",
       "      <td>0.775</td>\n",
       "      <td>https://open.spotify.com/artist/2Muef9e20frSc14ocV9TQU</td>\n",
       "    </tr>\n",
       "    <tr>\n",
       "      <th>1</th>\n",
       "      <td>Meekz</td>\n",
       "      <td>0.523</td>\n",
       "      <td>https://open.spotify.com/artist/1Pm6hTRjgSkT3B4FCQpW4g</td>\n",
       "    </tr>\n",
       "    <tr>\n",
       "      <th>2</th>\n",
       "      <td>Duende</td>\n",
       "      <td>0.463</td>\n",
       "      <td>https://open.spotify.com/artist/6RqzIj3qOKsNemp4GZMDH9</td>\n",
       "    </tr>\n",
       "    <tr>\n",
       "      <th>3</th>\n",
       "      <td>S-Tone Inc</td>\n",
       "      <td>0.418</td>\n",
       "      <td>https://open.spotify.com/artist/7MqGKGC1ckMmbYiVKOU0ZN</td>\n",
       "    </tr>\n",
       "    <tr>\n",
       "      <th>4</th>\n",
       "      <td>Ike Turner &amp; The Kings Of Rhythm</td>\n",
       "      <td>0.386</td>\n",
       "      <td>https://open.spotify.com/artist/47V7QCymL7BMSADw2RrKdD</td>\n",
       "    </tr>\n",
       "  </tbody>\n",
       "</table>"
      ],
      "text/plain": [
       "<IPython.core.display.HTML object>"
      ]
     },
     "metadata": {},
     "output_type": "display_data"
    },
    {
     "name": "stdout",
     "output_type": "stream",
     "text": [
      "Tyler, The Creator\n"
     ]
    },
    {
     "data": {
      "text/html": [
       "<table border=\"1\" class=\"dataframe\">\n",
       "  <thead>\n",
       "    <tr style=\"text-align: right;\">\n",
       "      <th></th>\n",
       "      <th>name</th>\n",
       "      <th>score</th>\n",
       "      <th>link</th>\n",
       "    </tr>\n",
       "  </thead>\n",
       "  <tbody>\n",
       "    <tr>\n",
       "      <th>0</th>\n",
       "      <td>Naotaro Moriyama</td>\n",
       "      <td>0.733</td>\n",
       "      <td>https://open.spotify.com/artist/31VPfrPEa86aKpD2LT3Ued</td>\n",
       "    </tr>\n",
       "    <tr>\n",
       "      <th>1</th>\n",
       "      <td>Connie Stevens</td>\n",
       "      <td>0.480</td>\n",
       "      <td>https://open.spotify.com/artist/5dg9jB2sji4asJtjihC9AE</td>\n",
       "    </tr>\n",
       "    <tr>\n",
       "      <th>2</th>\n",
       "      <td>Ricardo \"Richie\" Ray</td>\n",
       "      <td>0.463</td>\n",
       "      <td>https://open.spotify.com/artist/2spUXl3eKq2URO97haSzAc</td>\n",
       "    </tr>\n",
       "    <tr>\n",
       "      <th>3</th>\n",
       "      <td>Robert Parker</td>\n",
       "      <td>0.450</td>\n",
       "      <td>https://open.spotify.com/artist/7FlUCXHUxNEOk2exJUiqp1</td>\n",
       "    </tr>\n",
       "    <tr>\n",
       "      <th>4</th>\n",
       "      <td>Shelley Fabares</td>\n",
       "      <td>0.441</td>\n",
       "      <td>https://open.spotify.com/artist/6ZID5oFfvvgzIRrqXaTJSy</td>\n",
       "    </tr>\n",
       "  </tbody>\n",
       "</table>"
      ],
      "text/plain": [
       "<IPython.core.display.HTML object>"
      ]
     },
     "metadata": {},
     "output_type": "display_data"
    }
   ],
   "source": [
    "# Kanye West, Anderson Paak, Tyler the Creator\n",
    "display_recs(['5K4W6rqBFWDnAN6FQUkS6x', '3jK9MiCrA42lLAdMGUZpwa', '4V8LLVI7PbaPR0K2TGSxFF'],\n",
    "            artists_per_cluster)\n"
   ]
  },
  {
   "cell_type": "markdown",
   "metadata": {},
   "source": [
    "# Daniel (14)"
   ]
  },
  {
   "cell_type": "code",
   "execution_count": 89,
   "metadata": {},
   "outputs": [
    {
     "data": {
      "text/html": [
       "<div>\n",
       "<style scoped>\n",
       "    .dataframe tbody tr th:only-of-type {\n",
       "        vertical-align: middle;\n",
       "    }\n",
       "\n",
       "    .dataframe tbody tr th {\n",
       "        vertical-align: top;\n",
       "    }\n",
       "\n",
       "    .dataframe thead th {\n",
       "        text-align: right;\n",
       "    }\n",
       "</style>\n",
       "<table border=\"1\" class=\"dataframe\">\n",
       "  <thead>\n",
       "    <tr style=\"text-align: right;\">\n",
       "      <th></th>\n",
       "      <th>name</th>\n",
       "      <th>popular</th>\n",
       "      <th>sid</th>\n",
       "      <th>link</th>\n",
       "    </tr>\n",
       "  </thead>\n",
       "  <tbody>\n",
       "    <tr>\n",
       "      <th>0</th>\n",
       "      <td>Led Zeppelin</td>\n",
       "      <td>True</td>\n",
       "      <td>36QJpDe2go2KgaRleHCDTp</td>\n",
       "      <td>https://open.spotify.com/artist/36QJpDe2go2KgaRleHCDTp</td>\n",
       "    </tr>\n",
       "  </tbody>\n",
       "</table>\n",
       "</div>"
      ],
      "text/plain": [
       "           name popular                     sid  \\\n",
       "0  Led Zeppelin    True  36QJpDe2go2KgaRleHCDTp   \n",
       "\n",
       "                                                     link  \n",
       "0  https://open.spotify.com/artist/36QJpDe2go2KgaRleHCDTp  "
      ]
     },
     "execution_count": 89,
     "metadata": {},
     "output_type": "execute_result"
    }
   ],
   "source": [
    "f4.s_name_find('Led Zeppelin')"
   ]
  },
  {
   "cell_type": "code",
   "execution_count": 90,
   "metadata": {},
   "outputs": [
    {
     "data": {
      "text/html": [
       "<div>\n",
       "<style scoped>\n",
       "    .dataframe tbody tr th:only-of-type {\n",
       "        vertical-align: middle;\n",
       "    }\n",
       "\n",
       "    .dataframe tbody tr th {\n",
       "        vertical-align: top;\n",
       "    }\n",
       "\n",
       "    .dataframe thead th {\n",
       "        text-align: right;\n",
       "    }\n",
       "</style>\n",
       "<table border=\"1\" class=\"dataframe\">\n",
       "  <thead>\n",
       "    <tr style=\"text-align: right;\">\n",
       "      <th></th>\n",
       "      <th>name</th>\n",
       "      <th>popular</th>\n",
       "      <th>sid</th>\n",
       "      <th>link</th>\n",
       "    </tr>\n",
       "  </thead>\n",
       "  <tbody>\n",
       "    <tr>\n",
       "      <th>0</th>\n",
       "      <td>Eminem</td>\n",
       "      <td>True</td>\n",
       "      <td>7dGJo4pcD2V6oG8kP0tJRR</td>\n",
       "      <td>https://open.spotify.com/artist/7dGJo4pcD2V6oG8kP0tJRR</td>\n",
       "    </tr>\n",
       "  </tbody>\n",
       "</table>\n",
       "</div>"
      ],
      "text/plain": [
       "     name popular                     sid  \\\n",
       "0  Eminem    True  7dGJo4pcD2V6oG8kP0tJRR   \n",
       "\n",
       "                                                     link  \n",
       "0  https://open.spotify.com/artist/7dGJo4pcD2V6oG8kP0tJRR  "
      ]
     },
     "execution_count": 90,
     "metadata": {},
     "output_type": "execute_result"
    }
   ],
   "source": [
    "f4.s_name_find('Eminem')"
   ]
  },
  {
   "cell_type": "code",
   "execution_count": 92,
   "metadata": {},
   "outputs": [
    {
     "data": {
      "text/html": [
       "<div>\n",
       "<style scoped>\n",
       "    .dataframe tbody tr th:only-of-type {\n",
       "        vertical-align: middle;\n",
       "    }\n",
       "\n",
       "    .dataframe tbody tr th {\n",
       "        vertical-align: top;\n",
       "    }\n",
       "\n",
       "    .dataframe thead th {\n",
       "        text-align: right;\n",
       "    }\n",
       "</style>\n",
       "<table border=\"1\" class=\"dataframe\">\n",
       "  <thead>\n",
       "    <tr style=\"text-align: right;\">\n",
       "      <th></th>\n",
       "      <th>name</th>\n",
       "      <th>popular</th>\n",
       "      <th>sid</th>\n",
       "      <th>link</th>\n",
       "    </tr>\n",
       "  </thead>\n",
       "  <tbody>\n",
       "    <tr>\n",
       "      <th>0</th>\n",
       "      <td>Royce Da 5'9\"</td>\n",
       "      <td>True</td>\n",
       "      <td>6DVipHzYsPlIoA0DW8Gmns</td>\n",
       "      <td>https://open.spotify.com/artist/6DVipHzYsPlIoA0DW8Gmns</td>\n",
       "    </tr>\n",
       "  </tbody>\n",
       "</table>\n",
       "</div>"
      ],
      "text/plain": [
       "            name popular                     sid  \\\n",
       "0  Royce Da 5'9\"    True  6DVipHzYsPlIoA0DW8Gmns   \n",
       "\n",
       "                                                     link  \n",
       "0  https://open.spotify.com/artist/6DVipHzYsPlIoA0DW8Gmns  "
      ]
     },
     "execution_count": 92,
     "metadata": {},
     "output_type": "execute_result"
    }
   ],
   "source": [
    "f4.t_uname_find('Royceda59')"
   ]
  },
  {
   "cell_type": "code",
   "execution_count": 93,
   "metadata": {},
   "outputs": [
    {
     "data": {
      "text/html": [
       "<div>\n",
       "<style scoped>\n",
       "    .dataframe tbody tr th:only-of-type {\n",
       "        vertical-align: middle;\n",
       "    }\n",
       "\n",
       "    .dataframe tbody tr th {\n",
       "        vertical-align: top;\n",
       "    }\n",
       "\n",
       "    .dataframe thead th {\n",
       "        text-align: right;\n",
       "    }\n",
       "</style>\n",
       "<table border=\"1\" class=\"dataframe\">\n",
       "  <thead>\n",
       "    <tr style=\"text-align: right;\">\n",
       "      <th></th>\n",
       "      <th>name</th>\n",
       "      <th>popular</th>\n",
       "      <th>sid</th>\n",
       "      <th>link</th>\n",
       "    </tr>\n",
       "  </thead>\n",
       "  <tbody>\n",
       "    <tr>\n",
       "      <th>0</th>\n",
       "      <td>ScHoolboy Q</td>\n",
       "      <td>True</td>\n",
       "      <td>5IcR3N7QB1j6KBL8eImZ8m</td>\n",
       "      <td>https://open.spotify.com/artist/5IcR3N7QB1j6KBL8eImZ8m</td>\n",
       "    </tr>\n",
       "  </tbody>\n",
       "</table>\n",
       "</div>"
      ],
      "text/plain": [
       "          name popular                     sid  \\\n",
       "0  ScHoolboy Q    True  5IcR3N7QB1j6KBL8eImZ8m   \n",
       "\n",
       "                                                     link  \n",
       "0  https://open.spotify.com/artist/5IcR3N7QB1j6KBL8eImZ8m  "
      ]
     },
     "execution_count": 93,
     "metadata": {},
     "output_type": "execute_result"
    }
   ],
   "source": [
    "f4.s_name_find('ScHoolboy Q')"
   ]
  },
  {
   "cell_type": "code",
   "execution_count": 94,
   "metadata": {},
   "outputs": [
    {
     "data": {
      "text/html": [
       "<div>\n",
       "<style scoped>\n",
       "    .dataframe tbody tr th:only-of-type {\n",
       "        vertical-align: middle;\n",
       "    }\n",
       "\n",
       "    .dataframe tbody tr th {\n",
       "        vertical-align: top;\n",
       "    }\n",
       "\n",
       "    .dataframe thead th {\n",
       "        text-align: right;\n",
       "    }\n",
       "</style>\n",
       "<table border=\"1\" class=\"dataframe\">\n",
       "  <thead>\n",
       "    <tr style=\"text-align: right;\">\n",
       "      <th></th>\n",
       "      <th>name</th>\n",
       "      <th>popular</th>\n",
       "      <th>sid</th>\n",
       "      <th>link</th>\n",
       "    </tr>\n",
       "  </thead>\n",
       "  <tbody>\n",
       "    <tr>\n",
       "      <th>0</th>\n",
       "      <td>Olivia Rodrigo</td>\n",
       "      <td>True</td>\n",
       "      <td>1McMsnEElThX1knmY4oliG</td>\n",
       "      <td>https://open.spotify.com/artist/1McMsnEElThX1knmY4oliG</td>\n",
       "    </tr>\n",
       "  </tbody>\n",
       "</table>\n",
       "</div>"
      ],
      "text/plain": [
       "             name popular                     sid  \\\n",
       "0  Olivia Rodrigo    True  1McMsnEElThX1knmY4oliG   \n",
       "\n",
       "                                                     link  \n",
       "0  https://open.spotify.com/artist/1McMsnEElThX1knmY4oliG  "
      ]
     },
     "execution_count": 94,
     "metadata": {},
     "output_type": "execute_result"
    }
   ],
   "source": [
    "f4.s_name_find('Olivia Rodrigo')"
   ]
  },
  {
   "cell_type": "code",
   "execution_count": 95,
   "metadata": {},
   "outputs": [
    {
     "name": "stdout",
     "output_type": "stream",
     "text": [
      "922 clusters\n",
      "\n",
      "Led Zeppelin\n"
     ]
    },
    {
     "data": {
      "text/html": [
       "<table border=\"1\" class=\"dataframe\">\n",
       "  <thead>\n",
       "    <tr style=\"text-align: right;\">\n",
       "      <th></th>\n",
       "      <th>name</th>\n",
       "      <th>score</th>\n",
       "      <th>link</th>\n",
       "    </tr>\n",
       "  </thead>\n",
       "  <tbody>\n",
       "    <tr>\n",
       "      <th>0</th>\n",
       "      <td>Sharkey Bonano</td>\n",
       "      <td>1.806</td>\n",
       "      <td>https://open.spotify.com/artist/4o2zkCpWF0zLf7NNpm7ZJM</td>\n",
       "    </tr>\n",
       "    <tr>\n",
       "      <th>1</th>\n",
       "      <td>Bonsaye</td>\n",
       "      <td>1.191</td>\n",
       "      <td>https://open.spotify.com/artist/1GL8uwuoUqjDP9Qs37FoFG</td>\n",
       "    </tr>\n",
       "    <tr>\n",
       "      <th>2</th>\n",
       "      <td>NKOHA</td>\n",
       "      <td>1.083</td>\n",
       "      <td>https://open.spotify.com/artist/74yb8EAWGPAcIUo6CFxKIR</td>\n",
       "    </tr>\n",
       "    <tr>\n",
       "      <th>3</th>\n",
       "      <td>Ortiz</td>\n",
       "      <td>0.932</td>\n",
       "      <td>https://open.spotify.com/artist/6nidPawoE1wPgAtFmeyXyR</td>\n",
       "    </tr>\n",
       "    <tr>\n",
       "      <th>4</th>\n",
       "      <td>Lennon &amp; Maisy</td>\n",
       "      <td>0.717</td>\n",
       "      <td>https://open.spotify.com/artist/720fJ5sGqAOhvU2IUypqIr</td>\n",
       "    </tr>\n",
       "  </tbody>\n",
       "</table>"
      ],
      "text/plain": [
       "<IPython.core.display.HTML object>"
      ]
     },
     "metadata": {},
     "output_type": "display_data"
    },
    {
     "name": "stdout",
     "output_type": "stream",
     "text": [
      "Eminem\n"
     ]
    },
    {
     "data": {
      "text/html": [
       "<table border=\"1\" class=\"dataframe\">\n",
       "  <thead>\n",
       "    <tr style=\"text-align: right;\">\n",
       "      <th></th>\n",
       "      <th>name</th>\n",
       "      <th>score</th>\n",
       "      <th>link</th>\n",
       "    </tr>\n",
       "  </thead>\n",
       "  <tbody>\n",
       "    <tr>\n",
       "      <th>0</th>\n",
       "      <td>Yailin la Mas Viral</td>\n",
       "      <td>0.695</td>\n",
       "      <td>https://open.spotify.com/artist/4ncaw2cfA3Wlly1tBD2eWt</td>\n",
       "    </tr>\n",
       "    <tr>\n",
       "      <th>1</th>\n",
       "      <td>Apashe</td>\n",
       "      <td>0.514</td>\n",
       "      <td>https://open.spotify.com/artist/1fd3fmwlhrDl2U5wbbPQYN</td>\n",
       "    </tr>\n",
       "    <tr>\n",
       "      <th>2</th>\n",
       "      <td>HyunA</td>\n",
       "      <td>0.320</td>\n",
       "      <td>https://open.spotify.com/artist/3UwlejyX2b458azZ7eCnHb</td>\n",
       "    </tr>\n",
       "    <tr>\n",
       "      <th>3</th>\n",
       "      <td>Frank Verkooyen</td>\n",
       "      <td>0.244</td>\n",
       "      <td>https://open.spotify.com/artist/4ufIflZBqkBtxKDjEJ624G</td>\n",
       "    </tr>\n",
       "    <tr>\n",
       "      <th>4</th>\n",
       "      <td>Dante Klein</td>\n",
       "      <td>0.151</td>\n",
       "      <td>https://open.spotify.com/artist/1b4DN8Vj0dnj5cceMFsRYN</td>\n",
       "    </tr>\n",
       "  </tbody>\n",
       "</table>"
      ],
      "text/plain": [
       "<IPython.core.display.HTML object>"
      ]
     },
     "metadata": {},
     "output_type": "display_data"
    },
    {
     "name": "stdout",
     "output_type": "stream",
     "text": [
      "Royce Da 5'9\"\n"
     ]
    },
    {
     "data": {
      "text/html": [
       "<table border=\"1\" class=\"dataframe\">\n",
       "  <thead>\n",
       "    <tr style=\"text-align: right;\">\n",
       "      <th></th>\n",
       "      <th>name</th>\n",
       "      <th>score</th>\n",
       "      <th>link</th>\n",
       "    </tr>\n",
       "  </thead>\n",
       "  <tbody>\n",
       "    <tr>\n",
       "      <th>0</th>\n",
       "      <td>Kamal Khan</td>\n",
       "      <td>4.333</td>\n",
       "      <td>https://open.spotify.com/artist/01DlVvmRpQFutrYzh0HmF8</td>\n",
       "    </tr>\n",
       "    <tr>\n",
       "      <th>1</th>\n",
       "      <td>Monkey Majik</td>\n",
       "      <td>2.723</td>\n",
       "      <td>https://open.spotify.com/artist/6U2dgcU46Iy9pF3RQBj5hG</td>\n",
       "    </tr>\n",
       "    <tr>\n",
       "      <th>2</th>\n",
       "      <td>Voltio</td>\n",
       "      <td>1.651</td>\n",
       "      <td>https://open.spotify.com/artist/3Okcq0dqLVlEFHRZ5t22bA</td>\n",
       "    </tr>\n",
       "    <tr>\n",
       "      <th>3</th>\n",
       "      <td>Arko</td>\n",
       "      <td>1.376</td>\n",
       "      <td>https://open.spotify.com/artist/6jf2eKjiPT6P18RbOSLzf0</td>\n",
       "    </tr>\n",
       "    <tr>\n",
       "      <th>4</th>\n",
       "      <td>Gina Thompson</td>\n",
       "      <td>1.368</td>\n",
       "      <td>https://open.spotify.com/artist/5u15ozs1bXTC2vJTPt2tpM</td>\n",
       "    </tr>\n",
       "  </tbody>\n",
       "</table>"
      ],
      "text/plain": [
       "<IPython.core.display.HTML object>"
      ]
     },
     "metadata": {},
     "output_type": "display_data"
    },
    {
     "name": "stdout",
     "output_type": "stream",
     "text": [
      "ScHoolboy Q\n"
     ]
    },
    {
     "data": {
      "text/html": [
       "<table border=\"1\" class=\"dataframe\">\n",
       "  <thead>\n",
       "    <tr style=\"text-align: right;\">\n",
       "      <th></th>\n",
       "      <th>name</th>\n",
       "      <th>score</th>\n",
       "      <th>link</th>\n",
       "    </tr>\n",
       "  </thead>\n",
       "  <tbody>\n",
       "    <tr>\n",
       "      <th>0</th>\n",
       "      <td>Syahiba Saufa</td>\n",
       "      <td>1.185</td>\n",
       "      <td>https://open.spotify.com/artist/1a8EV67v0WSk7czvboxGYz</td>\n",
       "    </tr>\n",
       "    <tr>\n",
       "      <th>1</th>\n",
       "      <td>AriBeatz</td>\n",
       "      <td>1.023</td>\n",
       "      <td>https://open.spotify.com/artist/6cNWiizYLCClZdnIvqU968</td>\n",
       "    </tr>\n",
       "    <tr>\n",
       "      <th>2</th>\n",
       "      <td>Elams</td>\n",
       "      <td>0.904</td>\n",
       "      <td>https://open.spotify.com/artist/2IoSLl3tqYMq9DzR0d6NJN</td>\n",
       "    </tr>\n",
       "    <tr>\n",
       "      <th>3</th>\n",
       "      <td>13 Organisé</td>\n",
       "      <td>0.776</td>\n",
       "      <td>https://open.spotify.com/artist/19u3RGWKsjmbg9eI6zAiNp</td>\n",
       "    </tr>\n",
       "    <tr>\n",
       "      <th>4</th>\n",
       "      <td>Popeda</td>\n",
       "      <td>0.749</td>\n",
       "      <td>https://open.spotify.com/artist/2bEPloIrEwXQwm9myrXW2P</td>\n",
       "    </tr>\n",
       "  </tbody>\n",
       "</table>"
      ],
      "text/plain": [
       "<IPython.core.display.HTML object>"
      ]
     },
     "metadata": {},
     "output_type": "display_data"
    },
    {
     "name": "stdout",
     "output_type": "stream",
     "text": [
      "Olivia Rodrigo\n"
     ]
    },
    {
     "data": {
      "text/html": [
       "<table border=\"1\" class=\"dataframe\">\n",
       "  <thead>\n",
       "    <tr style=\"text-align: right;\">\n",
       "      <th></th>\n",
       "      <th>name</th>\n",
       "      <th>score</th>\n",
       "      <th>link</th>\n",
       "    </tr>\n",
       "  </thead>\n",
       "  <tbody>\n",
       "    <tr>\n",
       "      <th>0</th>\n",
       "      <td>Elias Ayaviri</td>\n",
       "      <td>1.590</td>\n",
       "      <td>https://open.spotify.com/artist/30DQw23SjsbMLFlhia84jN</td>\n",
       "    </tr>\n",
       "    <tr>\n",
       "      <th>1</th>\n",
       "      <td>Nino Segarra</td>\n",
       "      <td>0.615</td>\n",
       "      <td>https://open.spotify.com/artist/7titF03HCJwxZeJ98nMWbK</td>\n",
       "    </tr>\n",
       "    <tr>\n",
       "      <th>2</th>\n",
       "      <td>Eddy Mitchell</td>\n",
       "      <td>0.608</td>\n",
       "      <td>https://open.spotify.com/artist/4KBk9hwqFYtGS3DlZJiCsQ</td>\n",
       "    </tr>\n",
       "    <tr>\n",
       "      <th>3</th>\n",
       "      <td>Def Cut</td>\n",
       "      <td>0.525</td>\n",
       "      <td>https://open.spotify.com/artist/0O1SCm1h1niAq8RUE0VwEs</td>\n",
       "    </tr>\n",
       "    <tr>\n",
       "      <th>4</th>\n",
       "      <td>The Bluetones</td>\n",
       "      <td>0.492</td>\n",
       "      <td>https://open.spotify.com/artist/66nOkPJTFgK25NMmojG04V</td>\n",
       "    </tr>\n",
       "  </tbody>\n",
       "</table>"
      ],
      "text/plain": [
       "<IPython.core.display.HTML object>"
      ]
     },
     "metadata": {},
     "output_type": "display_data"
    }
   ],
   "source": [
    "# Led Zeppelin, Eminem, Royce Da 5'9\", ScHoolboy Q, Olivia Rodrigo\n",
    "display_recs(['36QJpDe2go2KgaRleHCDTp', '7dGJo4pcD2V6oG8kP0tJRR', '6DVipHzYsPlIoA0DW8Gmns',\n",
    "             '5IcR3N7QB1j6KBL8eImZ8m', '1McMsnEElThX1knmY4oliG'], artists_per_cluster)\n"
   ]
  }
 ],
 "metadata": {
  "kernelspec": {
   "display_name": "Python 3",
   "language": "python",
   "name": "python3"
  },
  "language_info": {
   "codemirror_mode": {
    "name": "ipython",
    "version": 3
   },
   "file_extension": ".py",
   "mimetype": "text/x-python",
   "name": "python",
   "nbconvert_exporter": "python",
   "pygments_lexer": "ipython3",
   "version": "3.8.3"
  }
 },
 "nbformat": 4,
 "nbformat_minor": 4
}
