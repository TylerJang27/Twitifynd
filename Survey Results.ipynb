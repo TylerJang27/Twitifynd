{
 "cells": [
  {
   "cell_type": "markdown",
   "metadata": {},
   "source": [
    "# Setup"
   ]
  },
  {
   "cell_type": "code",
   "execution_count": 96,
   "metadata": {},
   "outputs": [],
   "source": [
    "import pandas as pd\n",
    "import math\n",
    "import json\n",
    "from IPython.display import display, HTML\n",
    "pd.set_option('display.max_rows', None)\n",
    "pd.set_option('display.max_colwidth', None)\n",
    "\n",
    "from recommend import Recommend"
   ]
  },
  {
   "cell_type": "code",
   "execution_count": 97,
   "metadata": {},
   "outputs": [],
   "source": [
    "def display_recs(favorites, artists_per_cluster):\n",
    "    r = Recommend(artists_per_cluster)\n",
    "    recs = r.get_recs(favorites)\n",
    "    print('{} clusters'.format(math.floor(3691/artists_per_cluster))) # number of popular artists\n",
    "    print('')\n",
    "    for artist in recs:\n",
    "        print(recs[artist]['name'])\n",
    "        display(HTML(recs[artist]['recs'].head().to_html())) # TODO: TYLER PROPOSED CHANGE"
   ]
  },
  {
   "cell_type": "code",
   "execution_count": 98,
   "metadata": {},
   "outputs": [],
   "source": [
    "class find:\n",
    "    def __init__(self, artists_per_cluster):\n",
    "        folder = 'precomp_diff_clusters/precomp_' + str(artists_per_cluster)\n",
    "        with open(folder + '/s_name_find.json') as snf:\n",
    "            self.snf = json.load(snf)\n",
    "        with open(folder + '/t_uname_find.json') as tnf:\n",
    "            self.tnf = json.load(tnf)\n",
    "        with open(folder + '/s_info.json') as sif:\n",
    "            self.s_info = json.load(sif)\n",
    "        with open(folder + '/t_info.json') as tif:\n",
    "            self.t_info = json.load(tif)\n",
    "        with open(folder + '/candidates_scores.json') as csf:\n",
    "            self.candidates_scores = json.load(csf)\n",
    "    def s_name_find(self, name):\n",
    "        if name in self.snf:\n",
    "            df_spotify = pd.DataFrame(columns=['name', 'popular', 'sid', 'link'])\n",
    "            sids = self.snf[name]\n",
    "            for sid in sids:\n",
    "                tid = self.s_info[sid]['tid']\n",
    "                twitter = self.t_info[str(tid)]['followers count']\n",
    "                if twitter >= 100000:\n",
    "                    popular = True\n",
    "                else:\n",
    "                    popular = False\n",
    "                df_spotify = df_spotify.append({\n",
    "                'name': name,\n",
    "                'popular': popular,\n",
    "                'sid': sid,\n",
    "                'link': \"https://open.spotify.com/artist/\" + sid}, ignore_index=True)\n",
    "            return df_spotify\n",
    "        else:\n",
    "            print('We do not have {} in our database'.format(name))\n",
    "    def t_uname_find(self, uname):\n",
    "        if uname in self.tnf:\n",
    "            df_spotify = pd.DataFrame(columns=['name', 'popular', 'sid', 'link'])\n",
    "            sids = self.tnf[uname]\n",
    "            for sid in sids:\n",
    "                name = self.s_info[sid]['spotify name']\n",
    "                tid = self.s_info[sid]['tid']\n",
    "                twitter = self.t_info[str(tid)]['followers count']\n",
    "                if twitter >= 100000:\n",
    "                    popular = True\n",
    "                else:\n",
    "                    popular = False\n",
    "                df_spotify = df_spotify.append({\n",
    "                'name': name,\n",
    "                'popular': popular,\n",
    "                'sid': sid,\n",
    "                'link': \"https://open.spotify.com/artist/\" + sid}, ignore_index=True)\n",
    "            return df_spotify\n",
    "        else:\n",
    "            print('We do not have {} in our database'.format(uname))\n",
    "            "
   ]
  },
  {
   "cell_type": "code",
   "execution_count": 99,
   "metadata": {},
   "outputs": [],
   "source": [
    "# 4 artists per cluster\n",
    "artists_per_cluster = 4\n",
    "f4 = find(artists_per_cluster)"
   ]
  },
  {
   "cell_type": "markdown",
   "metadata": {},
   "source": [
    "# Ian (13)"
   ]
  },
  {
   "cell_type": "code",
   "execution_count": 100,
   "metadata": {},
   "outputs": [
    {
     "data": {
      "text/html": [
       "<div>\n",
       "<style scoped>\n",
       "    .dataframe tbody tr th:only-of-type {\n",
       "        vertical-align: middle;\n",
       "    }\n",
       "\n",
       "    .dataframe tbody tr th {\n",
       "        vertical-align: top;\n",
       "    }\n",
       "\n",
       "    .dataframe thead th {\n",
       "        text-align: right;\n",
       "    }\n",
       "</style>\n",
       "<table border=\"1\" class=\"dataframe\">\n",
       "  <thead>\n",
       "    <tr style=\"text-align: right;\">\n",
       "      <th></th>\n",
       "      <th>name</th>\n",
       "      <th>popular</th>\n",
       "      <th>sid</th>\n",
       "      <th>link</th>\n",
       "    </tr>\n",
       "  </thead>\n",
       "  <tbody>\n",
       "    <tr>\n",
       "      <th>0</th>\n",
       "      <td>Kanye West</td>\n",
       "      <td>True</td>\n",
       "      <td>5K4W6rqBFWDnAN6FQUkS6x</td>\n",
       "      <td>https://open.spotify.com/artist/5K4W6rqBFWDnAN6FQUkS6x</td>\n",
       "    </tr>\n",
       "  </tbody>\n",
       "</table>\n",
       "</div>"
      ],
      "text/plain": [
       "         name popular                     sid  \\\n",
       "0  Kanye West    True  5K4W6rqBFWDnAN6FQUkS6x   \n",
       "\n",
       "                                                     link  \n",
       "0  https://open.spotify.com/artist/5K4W6rqBFWDnAN6FQUkS6x  "
      ]
     },
     "execution_count": 100,
     "metadata": {},
     "output_type": "execute_result"
    }
   ],
   "source": [
    "f4.s_name_find('Kanye West')"
   ]
  },
  {
   "cell_type": "code",
   "execution_count": 101,
   "metadata": {},
   "outputs": [
    {
     "data": {
      "text/html": [
       "<div>\n",
       "<style scoped>\n",
       "    .dataframe tbody tr th:only-of-type {\n",
       "        vertical-align: middle;\n",
       "    }\n",
       "\n",
       "    .dataframe tbody tr th {\n",
       "        vertical-align: top;\n",
       "    }\n",
       "\n",
       "    .dataframe thead th {\n",
       "        text-align: right;\n",
       "    }\n",
       "</style>\n",
       "<table border=\"1\" class=\"dataframe\">\n",
       "  <thead>\n",
       "    <tr style=\"text-align: right;\">\n",
       "      <th></th>\n",
       "      <th>name</th>\n",
       "      <th>popular</th>\n",
       "      <th>sid</th>\n",
       "      <th>link</th>\n",
       "    </tr>\n",
       "  </thead>\n",
       "  <tbody>\n",
       "    <tr>\n",
       "      <th>0</th>\n",
       "      <td>Anderson .Paak</td>\n",
       "      <td>True</td>\n",
       "      <td>3jK9MiCrA42lLAdMGUZpwa</td>\n",
       "      <td>https://open.spotify.com/artist/3jK9MiCrA42lLAdMGUZpwa</td>\n",
       "    </tr>\n",
       "  </tbody>\n",
       "</table>\n",
       "</div>"
      ],
      "text/plain": [
       "             name popular                     sid  \\\n",
       "0  Anderson .Paak    True  3jK9MiCrA42lLAdMGUZpwa   \n",
       "\n",
       "                                                     link  \n",
       "0  https://open.spotify.com/artist/3jK9MiCrA42lLAdMGUZpwa  "
      ]
     },
     "execution_count": 101,
     "metadata": {},
     "output_type": "execute_result"
    }
   ],
   "source": [
    "f4.t_uname_find('AndersonPaak')"
   ]
  },
  {
   "cell_type": "code",
   "execution_count": 102,
   "metadata": {},
   "outputs": [
    {
     "data": {
      "text/html": [
       "<div>\n",
       "<style scoped>\n",
       "    .dataframe tbody tr th:only-of-type {\n",
       "        vertical-align: middle;\n",
       "    }\n",
       "\n",
       "    .dataframe tbody tr th {\n",
       "        vertical-align: top;\n",
       "    }\n",
       "\n",
       "    .dataframe thead th {\n",
       "        text-align: right;\n",
       "    }\n",
       "</style>\n",
       "<table border=\"1\" class=\"dataframe\">\n",
       "  <thead>\n",
       "    <tr style=\"text-align: right;\">\n",
       "      <th></th>\n",
       "      <th>name</th>\n",
       "      <th>popular</th>\n",
       "      <th>sid</th>\n",
       "      <th>link</th>\n",
       "    </tr>\n",
       "  </thead>\n",
       "  <tbody>\n",
       "    <tr>\n",
       "      <th>0</th>\n",
       "      <td>The Notorious B.I.G.</td>\n",
       "      <td>False</td>\n",
       "      <td>5me0Irg2ANcsgc93uaYrpb</td>\n",
       "      <td>https://open.spotify.com/artist/5me0Irg2ANcsgc93uaYrpb</td>\n",
       "    </tr>\n",
       "  </tbody>\n",
       "</table>\n",
       "</div>"
      ],
      "text/plain": [
       "                   name popular                     sid  \\\n",
       "0  The Notorious B.I.G.   False  5me0Irg2ANcsgc93uaYrpb   \n",
       "\n",
       "                                                     link  \n",
       "0  https://open.spotify.com/artist/5me0Irg2ANcsgc93uaYrpb  "
      ]
     },
     "execution_count": 102,
     "metadata": {},
     "output_type": "execute_result"
    }
   ],
   "source": [
    "f4.s_name_find('The Notorious B.I.G.')"
   ]
  },
  {
   "cell_type": "code",
   "execution_count": 103,
   "metadata": {},
   "outputs": [
    {
     "data": {
      "text/html": [
       "<div>\n",
       "<style scoped>\n",
       "    .dataframe tbody tr th:only-of-type {\n",
       "        vertical-align: middle;\n",
       "    }\n",
       "\n",
       "    .dataframe tbody tr th {\n",
       "        vertical-align: top;\n",
       "    }\n",
       "\n",
       "    .dataframe thead th {\n",
       "        text-align: right;\n",
       "    }\n",
       "</style>\n",
       "<table border=\"1\" class=\"dataframe\">\n",
       "  <thead>\n",
       "    <tr style=\"text-align: right;\">\n",
       "      <th></th>\n",
       "      <th>name</th>\n",
       "      <th>popular</th>\n",
       "      <th>sid</th>\n",
       "      <th>link</th>\n",
       "    </tr>\n",
       "  </thead>\n",
       "  <tbody>\n",
       "    <tr>\n",
       "      <th>0</th>\n",
       "      <td>Tyler, The Creator</td>\n",
       "      <td>True</td>\n",
       "      <td>4V8LLVI7PbaPR0K2TGSxFF</td>\n",
       "      <td>https://open.spotify.com/artist/4V8LLVI7PbaPR0K2TGSxFF</td>\n",
       "    </tr>\n",
       "  </tbody>\n",
       "</table>\n",
       "</div>"
      ],
      "text/plain": [
       "                 name popular                     sid  \\\n",
       "0  Tyler, The Creator    True  4V8LLVI7PbaPR0K2TGSxFF   \n",
       "\n",
       "                                                     link  \n",
       "0  https://open.spotify.com/artist/4V8LLVI7PbaPR0K2TGSxFF  "
      ]
     },
     "execution_count": 103,
     "metadata": {},
     "output_type": "execute_result"
    }
   ],
   "source": [
    "f4.t_uname_find('tylerthecreator')"
   ]
  },
  {
   "cell_type": "code",
   "execution_count": 104,
   "metadata": {},
   "outputs": [
    {
     "data": {
      "text/html": [
       "<div>\n",
       "<style scoped>\n",
       "    .dataframe tbody tr th:only-of-type {\n",
       "        vertical-align: middle;\n",
       "    }\n",
       "\n",
       "    .dataframe tbody tr th {\n",
       "        vertical-align: top;\n",
       "    }\n",
       "\n",
       "    .dataframe thead th {\n",
       "        text-align: right;\n",
       "    }\n",
       "</style>\n",
       "<table border=\"1\" class=\"dataframe\">\n",
       "  <thead>\n",
       "    <tr style=\"text-align: right;\">\n",
       "      <th></th>\n",
       "      <th>name</th>\n",
       "      <th>popular</th>\n",
       "      <th>sid</th>\n",
       "      <th>link</th>\n",
       "    </tr>\n",
       "  </thead>\n",
       "  <tbody>\n",
       "    <tr>\n",
       "      <th>0</th>\n",
       "      <td>Nujabes</td>\n",
       "      <td>False</td>\n",
       "      <td>3Rq3YOF9YG9YfCWD4D56RZ</td>\n",
       "      <td>https://open.spotify.com/artist/3Rq3YOF9YG9YfCWD4D56RZ</td>\n",
       "    </tr>\n",
       "  </tbody>\n",
       "</table>\n",
       "</div>"
      ],
      "text/plain": [
       "      name popular                     sid  \\\n",
       "0  Nujabes   False  3Rq3YOF9YG9YfCWD4D56RZ   \n",
       "\n",
       "                                                     link  \n",
       "0  https://open.spotify.com/artist/3Rq3YOF9YG9YfCWD4D56RZ  "
      ]
     },
     "execution_count": 104,
     "metadata": {},
     "output_type": "execute_result"
    }
   ],
   "source": [
    "f4.s_name_find('Nujabes')"
   ]
  },
  {
   "cell_type": "code",
   "execution_count": 105,
   "metadata": {},
   "outputs": [
    {
     "name": "stdout",
     "output_type": "stream",
     "text": [
      "922 clusters\n",
      "\n",
      "Kanye West\n"
     ]
    },
    {
     "data": {
      "text/html": [
       "<table border=\"1\" class=\"dataframe\">\n",
       "  <thead>\n",
       "    <tr style=\"text-align: right;\">\n",
       "      <th></th>\n",
       "      <th>name</th>\n",
       "      <th>score</th>\n",
       "      <th>link</th>\n",
       "    </tr>\n",
       "  </thead>\n",
       "  <tbody>\n",
       "    <tr>\n",
       "      <th>0</th>\n",
       "      <td>Jan Bradley</td>\n",
       "      <td>0.841</td>\n",
       "      <td>https://open.spotify.com/artist/4tPAbp9qF8nR9becfJGQCZ</td>\n",
       "    </tr>\n",
       "    <tr>\n",
       "      <th>1</th>\n",
       "      <td>Di Paullo &amp; Paulino</td>\n",
       "      <td>0.837</td>\n",
       "      <td>https://open.spotify.com/artist/1e5A3rWcqk9WfLjeg5T3dI</td>\n",
       "    </tr>\n",
       "    <tr>\n",
       "      <th>2</th>\n",
       "      <td>S. Kiyotaka &amp; Omega Tribe</td>\n",
       "      <td>0.382</td>\n",
       "      <td>https://open.spotify.com/artist/7bG2PIfT22HGxisl6LAohx</td>\n",
       "    </tr>\n",
       "    <tr>\n",
       "      <th>3</th>\n",
       "      <td>David Zowie</td>\n",
       "      <td>0.380</td>\n",
       "      <td>https://open.spotify.com/artist/2yEkeJoFOvm6qHuECSDHFg</td>\n",
       "    </tr>\n",
       "    <tr>\n",
       "      <th>4</th>\n",
       "      <td>Aesthetic Perfection</td>\n",
       "      <td>0.370</td>\n",
       "      <td>https://open.spotify.com/artist/1Jgp0YCPHCJx5XD7nlfGVN</td>\n",
       "    </tr>\n",
       "  </tbody>\n",
       "</table>"
      ],
      "text/plain": [
       "<IPython.core.display.HTML object>"
      ]
     },
     "metadata": {},
     "output_type": "display_data"
    },
    {
     "name": "stdout",
     "output_type": "stream",
     "text": [
      "Anderson .Paak\n"
     ]
    },
    {
     "data": {
      "text/html": [
       "<table border=\"1\" class=\"dataframe\">\n",
       "  <thead>\n",
       "    <tr style=\"text-align: right;\">\n",
       "      <th></th>\n",
       "      <th>name</th>\n",
       "      <th>score</th>\n",
       "      <th>link</th>\n",
       "    </tr>\n",
       "  </thead>\n",
       "  <tbody>\n",
       "    <tr>\n",
       "      <th>0</th>\n",
       "      <td>Pierrii</td>\n",
       "      <td>0.775</td>\n",
       "      <td>https://open.spotify.com/artist/2Muef9e20frSc14ocV9TQU</td>\n",
       "    </tr>\n",
       "    <tr>\n",
       "      <th>1</th>\n",
       "      <td>Meekz</td>\n",
       "      <td>0.523</td>\n",
       "      <td>https://open.spotify.com/artist/1Pm6hTRjgSkT3B4FCQpW4g</td>\n",
       "    </tr>\n",
       "    <tr>\n",
       "      <th>2</th>\n",
       "      <td>Duende</td>\n",
       "      <td>0.463</td>\n",
       "      <td>https://open.spotify.com/artist/6RqzIj3qOKsNemp4GZMDH9</td>\n",
       "    </tr>\n",
       "    <tr>\n",
       "      <th>3</th>\n",
       "      <td>S-Tone Inc</td>\n",
       "      <td>0.418</td>\n",
       "      <td>https://open.spotify.com/artist/7MqGKGC1ckMmbYiVKOU0ZN</td>\n",
       "    </tr>\n",
       "    <tr>\n",
       "      <th>4</th>\n",
       "      <td>Ike Turner &amp; The Kings Of Rhythm</td>\n",
       "      <td>0.386</td>\n",
       "      <td>https://open.spotify.com/artist/47V7QCymL7BMSADw2RrKdD</td>\n",
       "    </tr>\n",
       "  </tbody>\n",
       "</table>"
      ],
      "text/plain": [
       "<IPython.core.display.HTML object>"
      ]
     },
     "metadata": {},
     "output_type": "display_data"
    },
    {
     "name": "stdout",
     "output_type": "stream",
     "text": [
      "Tyler, The Creator\n"
     ]
    },
    {
     "data": {
      "text/html": [
       "<table border=\"1\" class=\"dataframe\">\n",
       "  <thead>\n",
       "    <tr style=\"text-align: right;\">\n",
       "      <th></th>\n",
       "      <th>name</th>\n",
       "      <th>score</th>\n",
       "      <th>link</th>\n",
       "    </tr>\n",
       "  </thead>\n",
       "  <tbody>\n",
       "    <tr>\n",
       "      <th>0</th>\n",
       "      <td>Naotaro Moriyama</td>\n",
       "      <td>0.733</td>\n",
       "      <td>https://open.spotify.com/artist/31VPfrPEa86aKpD2LT3Ued</td>\n",
       "    </tr>\n",
       "    <tr>\n",
       "      <th>1</th>\n",
       "      <td>Connie Stevens</td>\n",
       "      <td>0.480</td>\n",
       "      <td>https://open.spotify.com/artist/5dg9jB2sji4asJtjihC9AE</td>\n",
       "    </tr>\n",
       "    <tr>\n",
       "      <th>2</th>\n",
       "      <td>Ricardo \"Richie\" Ray</td>\n",
       "      <td>0.463</td>\n",
       "      <td>https://open.spotify.com/artist/2spUXl3eKq2URO97haSzAc</td>\n",
       "    </tr>\n",
       "    <tr>\n",
       "      <th>3</th>\n",
       "      <td>Robert Parker</td>\n",
       "      <td>0.450</td>\n",
       "      <td>https://open.spotify.com/artist/7FlUCXHUxNEOk2exJUiqp1</td>\n",
       "    </tr>\n",
       "    <tr>\n",
       "      <th>4</th>\n",
       "      <td>Shelley Fabares</td>\n",
       "      <td>0.441</td>\n",
       "      <td>https://open.spotify.com/artist/6ZID5oFfvvgzIRrqXaTJSy</td>\n",
       "    </tr>\n",
       "  </tbody>\n",
       "</table>"
      ],
      "text/plain": [
       "<IPython.core.display.HTML object>"
      ]
     },
     "metadata": {},
     "output_type": "display_data"
    }
   ],
   "source": [
    "# Kanye West, Anderson Paak, Tyler the Creator\n",
    "display_recs(['5K4W6rqBFWDnAN6FQUkS6x', '3jK9MiCrA42lLAdMGUZpwa', '4V8LLVI7PbaPR0K2TGSxFF'],\n",
    "            artists_per_cluster)\n"
   ]
  },
  {
   "cell_type": "markdown",
   "metadata": {},
   "source": [
    "# Daniel (14)"
   ]
  },
  {
   "cell_type": "code",
   "execution_count": 106,
   "metadata": {},
   "outputs": [
    {
     "data": {
      "text/html": [
       "<div>\n",
       "<style scoped>\n",
       "    .dataframe tbody tr th:only-of-type {\n",
       "        vertical-align: middle;\n",
       "    }\n",
       "\n",
       "    .dataframe tbody tr th {\n",
       "        vertical-align: top;\n",
       "    }\n",
       "\n",
       "    .dataframe thead th {\n",
       "        text-align: right;\n",
       "    }\n",
       "</style>\n",
       "<table border=\"1\" class=\"dataframe\">\n",
       "  <thead>\n",
       "    <tr style=\"text-align: right;\">\n",
       "      <th></th>\n",
       "      <th>name</th>\n",
       "      <th>popular</th>\n",
       "      <th>sid</th>\n",
       "      <th>link</th>\n",
       "    </tr>\n",
       "  </thead>\n",
       "  <tbody>\n",
       "    <tr>\n",
       "      <th>0</th>\n",
       "      <td>Led Zeppelin</td>\n",
       "      <td>True</td>\n",
       "      <td>36QJpDe2go2KgaRleHCDTp</td>\n",
       "      <td>https://open.spotify.com/artist/36QJpDe2go2KgaRleHCDTp</td>\n",
       "    </tr>\n",
       "  </tbody>\n",
       "</table>\n",
       "</div>"
      ],
      "text/plain": [
       "           name popular                     sid  \\\n",
       "0  Led Zeppelin    True  36QJpDe2go2KgaRleHCDTp   \n",
       "\n",
       "                                                     link  \n",
       "0  https://open.spotify.com/artist/36QJpDe2go2KgaRleHCDTp  "
      ]
     },
     "execution_count": 106,
     "metadata": {},
     "output_type": "execute_result"
    }
   ],
   "source": [
    "f4.s_name_find('Led Zeppelin')"
   ]
  },
  {
   "cell_type": "code",
   "execution_count": 107,
   "metadata": {},
   "outputs": [
    {
     "data": {
      "text/html": [
       "<div>\n",
       "<style scoped>\n",
       "    .dataframe tbody tr th:only-of-type {\n",
       "        vertical-align: middle;\n",
       "    }\n",
       "\n",
       "    .dataframe tbody tr th {\n",
       "        vertical-align: top;\n",
       "    }\n",
       "\n",
       "    .dataframe thead th {\n",
       "        text-align: right;\n",
       "    }\n",
       "</style>\n",
       "<table border=\"1\" class=\"dataframe\">\n",
       "  <thead>\n",
       "    <tr style=\"text-align: right;\">\n",
       "      <th></th>\n",
       "      <th>name</th>\n",
       "      <th>popular</th>\n",
       "      <th>sid</th>\n",
       "      <th>link</th>\n",
       "    </tr>\n",
       "  </thead>\n",
       "  <tbody>\n",
       "    <tr>\n",
       "      <th>0</th>\n",
       "      <td>Eminem</td>\n",
       "      <td>True</td>\n",
       "      <td>7dGJo4pcD2V6oG8kP0tJRR</td>\n",
       "      <td>https://open.spotify.com/artist/7dGJo4pcD2V6oG8kP0tJRR</td>\n",
       "    </tr>\n",
       "  </tbody>\n",
       "</table>\n",
       "</div>"
      ],
      "text/plain": [
       "     name popular                     sid  \\\n",
       "0  Eminem    True  7dGJo4pcD2V6oG8kP0tJRR   \n",
       "\n",
       "                                                     link  \n",
       "0  https://open.spotify.com/artist/7dGJo4pcD2V6oG8kP0tJRR  "
      ]
     },
     "execution_count": 107,
     "metadata": {},
     "output_type": "execute_result"
    }
   ],
   "source": [
    "f4.s_name_find('Eminem')"
   ]
  },
  {
   "cell_type": "code",
   "execution_count": 108,
   "metadata": {},
   "outputs": [
    {
     "data": {
      "text/html": [
       "<div>\n",
       "<style scoped>\n",
       "    .dataframe tbody tr th:only-of-type {\n",
       "        vertical-align: middle;\n",
       "    }\n",
       "\n",
       "    .dataframe tbody tr th {\n",
       "        vertical-align: top;\n",
       "    }\n",
       "\n",
       "    .dataframe thead th {\n",
       "        text-align: right;\n",
       "    }\n",
       "</style>\n",
       "<table border=\"1\" class=\"dataframe\">\n",
       "  <thead>\n",
       "    <tr style=\"text-align: right;\">\n",
       "      <th></th>\n",
       "      <th>name</th>\n",
       "      <th>popular</th>\n",
       "      <th>sid</th>\n",
       "      <th>link</th>\n",
       "    </tr>\n",
       "  </thead>\n",
       "  <tbody>\n",
       "    <tr>\n",
       "      <th>0</th>\n",
       "      <td>Royce Da 5'9\"</td>\n",
       "      <td>True</td>\n",
       "      <td>6DVipHzYsPlIoA0DW8Gmns</td>\n",
       "      <td>https://open.spotify.com/artist/6DVipHzYsPlIoA0DW8Gmns</td>\n",
       "    </tr>\n",
       "  </tbody>\n",
       "</table>\n",
       "</div>"
      ],
      "text/plain": [
       "            name popular                     sid  \\\n",
       "0  Royce Da 5'9\"    True  6DVipHzYsPlIoA0DW8Gmns   \n",
       "\n",
       "                                                     link  \n",
       "0  https://open.spotify.com/artist/6DVipHzYsPlIoA0DW8Gmns  "
      ]
     },
     "execution_count": 108,
     "metadata": {},
     "output_type": "execute_result"
    }
   ],
   "source": [
    "f4.t_uname_find('Royceda59')"
   ]
  },
  {
   "cell_type": "code",
   "execution_count": 109,
   "metadata": {},
   "outputs": [
    {
     "data": {
      "text/html": [
       "<div>\n",
       "<style scoped>\n",
       "    .dataframe tbody tr th:only-of-type {\n",
       "        vertical-align: middle;\n",
       "    }\n",
       "\n",
       "    .dataframe tbody tr th {\n",
       "        vertical-align: top;\n",
       "    }\n",
       "\n",
       "    .dataframe thead th {\n",
       "        text-align: right;\n",
       "    }\n",
       "</style>\n",
       "<table border=\"1\" class=\"dataframe\">\n",
       "  <thead>\n",
       "    <tr style=\"text-align: right;\">\n",
       "      <th></th>\n",
       "      <th>name</th>\n",
       "      <th>popular</th>\n",
       "      <th>sid</th>\n",
       "      <th>link</th>\n",
       "    </tr>\n",
       "  </thead>\n",
       "  <tbody>\n",
       "    <tr>\n",
       "      <th>0</th>\n",
       "      <td>ScHoolboy Q</td>\n",
       "      <td>True</td>\n",
       "      <td>5IcR3N7QB1j6KBL8eImZ8m</td>\n",
       "      <td>https://open.spotify.com/artist/5IcR3N7QB1j6KBL8eImZ8m</td>\n",
       "    </tr>\n",
       "  </tbody>\n",
       "</table>\n",
       "</div>"
      ],
      "text/plain": [
       "          name popular                     sid  \\\n",
       "0  ScHoolboy Q    True  5IcR3N7QB1j6KBL8eImZ8m   \n",
       "\n",
       "                                                     link  \n",
       "0  https://open.spotify.com/artist/5IcR3N7QB1j6KBL8eImZ8m  "
      ]
     },
     "execution_count": 109,
     "metadata": {},
     "output_type": "execute_result"
    }
   ],
   "source": [
    "f4.s_name_find('ScHoolboy Q')"
   ]
  },
  {
   "cell_type": "code",
   "execution_count": 110,
   "metadata": {},
   "outputs": [
    {
     "data": {
      "text/html": [
       "<div>\n",
       "<style scoped>\n",
       "    .dataframe tbody tr th:only-of-type {\n",
       "        vertical-align: middle;\n",
       "    }\n",
       "\n",
       "    .dataframe tbody tr th {\n",
       "        vertical-align: top;\n",
       "    }\n",
       "\n",
       "    .dataframe thead th {\n",
       "        text-align: right;\n",
       "    }\n",
       "</style>\n",
       "<table border=\"1\" class=\"dataframe\">\n",
       "  <thead>\n",
       "    <tr style=\"text-align: right;\">\n",
       "      <th></th>\n",
       "      <th>name</th>\n",
       "      <th>popular</th>\n",
       "      <th>sid</th>\n",
       "      <th>link</th>\n",
       "    </tr>\n",
       "  </thead>\n",
       "  <tbody>\n",
       "    <tr>\n",
       "      <th>0</th>\n",
       "      <td>Olivia Rodrigo</td>\n",
       "      <td>True</td>\n",
       "      <td>1McMsnEElThX1knmY4oliG</td>\n",
       "      <td>https://open.spotify.com/artist/1McMsnEElThX1knmY4oliG</td>\n",
       "    </tr>\n",
       "  </tbody>\n",
       "</table>\n",
       "</div>"
      ],
      "text/plain": [
       "             name popular                     sid  \\\n",
       "0  Olivia Rodrigo    True  1McMsnEElThX1knmY4oliG   \n",
       "\n",
       "                                                     link  \n",
       "0  https://open.spotify.com/artist/1McMsnEElThX1knmY4oliG  "
      ]
     },
     "execution_count": 110,
     "metadata": {},
     "output_type": "execute_result"
    }
   ],
   "source": [
    "f4.s_name_find('Olivia Rodrigo')"
   ]
  },
  {
   "cell_type": "code",
   "execution_count": 111,
   "metadata": {},
   "outputs": [
    {
     "name": "stdout",
     "output_type": "stream",
     "text": [
      "922 clusters\n",
      "\n",
      "Led Zeppelin\n"
     ]
    },
    {
     "data": {
      "text/html": [
       "<table border=\"1\" class=\"dataframe\">\n",
       "  <thead>\n",
       "    <tr style=\"text-align: right;\">\n",
       "      <th></th>\n",
       "      <th>name</th>\n",
       "      <th>score</th>\n",
       "      <th>link</th>\n",
       "    </tr>\n",
       "  </thead>\n",
       "  <tbody>\n",
       "    <tr>\n",
       "      <th>0</th>\n",
       "      <td>Sharkey Bonano</td>\n",
       "      <td>1.806</td>\n",
       "      <td>https://open.spotify.com/artist/4o2zkCpWF0zLf7NNpm7ZJM</td>\n",
       "    </tr>\n",
       "    <tr>\n",
       "      <th>1</th>\n",
       "      <td>Bonsaye</td>\n",
       "      <td>1.191</td>\n",
       "      <td>https://open.spotify.com/artist/1GL8uwuoUqjDP9Qs37FoFG</td>\n",
       "    </tr>\n",
       "    <tr>\n",
       "      <th>2</th>\n",
       "      <td>NKOHA</td>\n",
       "      <td>1.083</td>\n",
       "      <td>https://open.spotify.com/artist/74yb8EAWGPAcIUo6CFxKIR</td>\n",
       "    </tr>\n",
       "    <tr>\n",
       "      <th>3</th>\n",
       "      <td>Ortiz</td>\n",
       "      <td>0.932</td>\n",
       "      <td>https://open.spotify.com/artist/6nidPawoE1wPgAtFmeyXyR</td>\n",
       "    </tr>\n",
       "    <tr>\n",
       "      <th>4</th>\n",
       "      <td>Lennon &amp; Maisy</td>\n",
       "      <td>0.717</td>\n",
       "      <td>https://open.spotify.com/artist/720fJ5sGqAOhvU2IUypqIr</td>\n",
       "    </tr>\n",
       "  </tbody>\n",
       "</table>"
      ],
      "text/plain": [
       "<IPython.core.display.HTML object>"
      ]
     },
     "metadata": {},
     "output_type": "display_data"
    },
    {
     "name": "stdout",
     "output_type": "stream",
     "text": [
      "Eminem\n"
     ]
    },
    {
     "data": {
      "text/html": [
       "<table border=\"1\" class=\"dataframe\">\n",
       "  <thead>\n",
       "    <tr style=\"text-align: right;\">\n",
       "      <th></th>\n",
       "      <th>name</th>\n",
       "      <th>score</th>\n",
       "      <th>link</th>\n",
       "    </tr>\n",
       "  </thead>\n",
       "  <tbody>\n",
       "    <tr>\n",
       "      <th>0</th>\n",
       "      <td>Yailin la Mas Viral</td>\n",
       "      <td>0.695</td>\n",
       "      <td>https://open.spotify.com/artist/4ncaw2cfA3Wlly1tBD2eWt</td>\n",
       "    </tr>\n",
       "    <tr>\n",
       "      <th>1</th>\n",
       "      <td>Apashe</td>\n",
       "      <td>0.514</td>\n",
       "      <td>https://open.spotify.com/artist/1fd3fmwlhrDl2U5wbbPQYN</td>\n",
       "    </tr>\n",
       "    <tr>\n",
       "      <th>2</th>\n",
       "      <td>HyunA</td>\n",
       "      <td>0.320</td>\n",
       "      <td>https://open.spotify.com/artist/3UwlejyX2b458azZ7eCnHb</td>\n",
       "    </tr>\n",
       "    <tr>\n",
       "      <th>3</th>\n",
       "      <td>Frank Verkooyen</td>\n",
       "      <td>0.244</td>\n",
       "      <td>https://open.spotify.com/artist/4ufIflZBqkBtxKDjEJ624G</td>\n",
       "    </tr>\n",
       "    <tr>\n",
       "      <th>4</th>\n",
       "      <td>Dante Klein</td>\n",
       "      <td>0.151</td>\n",
       "      <td>https://open.spotify.com/artist/1b4DN8Vj0dnj5cceMFsRYN</td>\n",
       "    </tr>\n",
       "  </tbody>\n",
       "</table>"
      ],
      "text/plain": [
       "<IPython.core.display.HTML object>"
      ]
     },
     "metadata": {},
     "output_type": "display_data"
    },
    {
     "name": "stdout",
     "output_type": "stream",
     "text": [
      "Royce Da 5'9\"\n"
     ]
    },
    {
     "data": {
      "text/html": [
       "<table border=\"1\" class=\"dataframe\">\n",
       "  <thead>\n",
       "    <tr style=\"text-align: right;\">\n",
       "      <th></th>\n",
       "      <th>name</th>\n",
       "      <th>score</th>\n",
       "      <th>link</th>\n",
       "    </tr>\n",
       "  </thead>\n",
       "  <tbody>\n",
       "    <tr>\n",
       "      <th>0</th>\n",
       "      <td>Kamal Khan</td>\n",
       "      <td>4.333</td>\n",
       "      <td>https://open.spotify.com/artist/01DlVvmRpQFutrYzh0HmF8</td>\n",
       "    </tr>\n",
       "    <tr>\n",
       "      <th>1</th>\n",
       "      <td>Monkey Majik</td>\n",
       "      <td>2.723</td>\n",
       "      <td>https://open.spotify.com/artist/6U2dgcU46Iy9pF3RQBj5hG</td>\n",
       "    </tr>\n",
       "    <tr>\n",
       "      <th>2</th>\n",
       "      <td>Voltio</td>\n",
       "      <td>1.651</td>\n",
       "      <td>https://open.spotify.com/artist/3Okcq0dqLVlEFHRZ5t22bA</td>\n",
       "    </tr>\n",
       "    <tr>\n",
       "      <th>3</th>\n",
       "      <td>Arko</td>\n",
       "      <td>1.376</td>\n",
       "      <td>https://open.spotify.com/artist/6jf2eKjiPT6P18RbOSLzf0</td>\n",
       "    </tr>\n",
       "    <tr>\n",
       "      <th>4</th>\n",
       "      <td>Gina Thompson</td>\n",
       "      <td>1.368</td>\n",
       "      <td>https://open.spotify.com/artist/5u15ozs1bXTC2vJTPt2tpM</td>\n",
       "    </tr>\n",
       "  </tbody>\n",
       "</table>"
      ],
      "text/plain": [
       "<IPython.core.display.HTML object>"
      ]
     },
     "metadata": {},
     "output_type": "display_data"
    },
    {
     "name": "stdout",
     "output_type": "stream",
     "text": [
      "ScHoolboy Q\n"
     ]
    },
    {
     "data": {
      "text/html": [
       "<table border=\"1\" class=\"dataframe\">\n",
       "  <thead>\n",
       "    <tr style=\"text-align: right;\">\n",
       "      <th></th>\n",
       "      <th>name</th>\n",
       "      <th>score</th>\n",
       "      <th>link</th>\n",
       "    </tr>\n",
       "  </thead>\n",
       "  <tbody>\n",
       "    <tr>\n",
       "      <th>0</th>\n",
       "      <td>Syahiba Saufa</td>\n",
       "      <td>1.185</td>\n",
       "      <td>https://open.spotify.com/artist/1a8EV67v0WSk7czvboxGYz</td>\n",
       "    </tr>\n",
       "    <tr>\n",
       "      <th>1</th>\n",
       "      <td>AriBeatz</td>\n",
       "      <td>1.023</td>\n",
       "      <td>https://open.spotify.com/artist/6cNWiizYLCClZdnIvqU968</td>\n",
       "    </tr>\n",
       "    <tr>\n",
       "      <th>2</th>\n",
       "      <td>Elams</td>\n",
       "      <td>0.904</td>\n",
       "      <td>https://open.spotify.com/artist/2IoSLl3tqYMq9DzR0d6NJN</td>\n",
       "    </tr>\n",
       "    <tr>\n",
       "      <th>3</th>\n",
       "      <td>13 Organisé</td>\n",
       "      <td>0.776</td>\n",
       "      <td>https://open.spotify.com/artist/19u3RGWKsjmbg9eI6zAiNp</td>\n",
       "    </tr>\n",
       "    <tr>\n",
       "      <th>4</th>\n",
       "      <td>Popeda</td>\n",
       "      <td>0.749</td>\n",
       "      <td>https://open.spotify.com/artist/2bEPloIrEwXQwm9myrXW2P</td>\n",
       "    </tr>\n",
       "  </tbody>\n",
       "</table>"
      ],
      "text/plain": [
       "<IPython.core.display.HTML object>"
      ]
     },
     "metadata": {},
     "output_type": "display_data"
    },
    {
     "name": "stdout",
     "output_type": "stream",
     "text": [
      "Olivia Rodrigo\n"
     ]
    },
    {
     "data": {
      "text/html": [
       "<table border=\"1\" class=\"dataframe\">\n",
       "  <thead>\n",
       "    <tr style=\"text-align: right;\">\n",
       "      <th></th>\n",
       "      <th>name</th>\n",
       "      <th>score</th>\n",
       "      <th>link</th>\n",
       "    </tr>\n",
       "  </thead>\n",
       "  <tbody>\n",
       "    <tr>\n",
       "      <th>0</th>\n",
       "      <td>Elias Ayaviri</td>\n",
       "      <td>1.590</td>\n",
       "      <td>https://open.spotify.com/artist/30DQw23SjsbMLFlhia84jN</td>\n",
       "    </tr>\n",
       "    <tr>\n",
       "      <th>1</th>\n",
       "      <td>Nino Segarra</td>\n",
       "      <td>0.615</td>\n",
       "      <td>https://open.spotify.com/artist/7titF03HCJwxZeJ98nMWbK</td>\n",
       "    </tr>\n",
       "    <tr>\n",
       "      <th>2</th>\n",
       "      <td>Eddy Mitchell</td>\n",
       "      <td>0.608</td>\n",
       "      <td>https://open.spotify.com/artist/4KBk9hwqFYtGS3DlZJiCsQ</td>\n",
       "    </tr>\n",
       "    <tr>\n",
       "      <th>3</th>\n",
       "      <td>Def Cut</td>\n",
       "      <td>0.525</td>\n",
       "      <td>https://open.spotify.com/artist/0O1SCm1h1niAq8RUE0VwEs</td>\n",
       "    </tr>\n",
       "    <tr>\n",
       "      <th>4</th>\n",
       "      <td>The Bluetones</td>\n",
       "      <td>0.492</td>\n",
       "      <td>https://open.spotify.com/artist/66nOkPJTFgK25NMmojG04V</td>\n",
       "    </tr>\n",
       "  </tbody>\n",
       "</table>"
      ],
      "text/plain": [
       "<IPython.core.display.HTML object>"
      ]
     },
     "metadata": {},
     "output_type": "display_data"
    }
   ],
   "source": [
    "# Led Zeppelin, Eminem, Royce Da 5'9\", ScHoolboy Q, Olivia Rodrigo\n",
    "display_recs(['36QJpDe2go2KgaRleHCDTp', '7dGJo4pcD2V6oG8kP0tJRR', '6DVipHzYsPlIoA0DW8Gmns',\n",
    "             '5IcR3N7QB1j6KBL8eImZ8m', '1McMsnEElThX1knmY4oliG'], artists_per_cluster)\n"
   ]
  },
  {
   "cell_type": "markdown",
   "metadata": {},
   "source": [
    "# Emma (15)"
   ]
  },
  {
   "cell_type": "code",
   "execution_count": 113,
   "metadata": {},
   "outputs": [
    {
     "data": {
      "text/html": [
       "<div>\n",
       "<style scoped>\n",
       "    .dataframe tbody tr th:only-of-type {\n",
       "        vertical-align: middle;\n",
       "    }\n",
       "\n",
       "    .dataframe tbody tr th {\n",
       "        vertical-align: top;\n",
       "    }\n",
       "\n",
       "    .dataframe thead th {\n",
       "        text-align: right;\n",
       "    }\n",
       "</style>\n",
       "<table border=\"1\" class=\"dataframe\">\n",
       "  <thead>\n",
       "    <tr style=\"text-align: right;\">\n",
       "      <th></th>\n",
       "      <th>name</th>\n",
       "      <th>popular</th>\n",
       "      <th>sid</th>\n",
       "      <th>link</th>\n",
       "    </tr>\n",
       "  </thead>\n",
       "  <tbody>\n",
       "    <tr>\n",
       "      <th>0</th>\n",
       "      <td>BØRNS</td>\n",
       "      <td>True</td>\n",
       "      <td>1KP6TWI40m7p3QBTU6u2xo</td>\n",
       "      <td>https://open.spotify.com/artist/1KP6TWI40m7p3QBTU6u2xo</td>\n",
       "    </tr>\n",
       "  </tbody>\n",
       "</table>\n",
       "</div>"
      ],
      "text/plain": [
       "    name popular                     sid  \\\n",
       "0  BØRNS    True  1KP6TWI40m7p3QBTU6u2xo   \n",
       "\n",
       "                                                     link  \n",
       "0  https://open.spotify.com/artist/1KP6TWI40m7p3QBTU6u2xo  "
      ]
     },
     "execution_count": 113,
     "metadata": {},
     "output_type": "execute_result"
    }
   ],
   "source": [
    "f4.t_uname_find('bornsmusic')"
   ]
  },
  {
   "cell_type": "code",
   "execution_count": 114,
   "metadata": {},
   "outputs": [
    {
     "data": {
      "text/html": [
       "<div>\n",
       "<style scoped>\n",
       "    .dataframe tbody tr th:only-of-type {\n",
       "        vertical-align: middle;\n",
       "    }\n",
       "\n",
       "    .dataframe tbody tr th {\n",
       "        vertical-align: top;\n",
       "    }\n",
       "\n",
       "    .dataframe thead th {\n",
       "        text-align: right;\n",
       "    }\n",
       "</style>\n",
       "<table border=\"1\" class=\"dataframe\">\n",
       "  <thead>\n",
       "    <tr style=\"text-align: right;\">\n",
       "      <th></th>\n",
       "      <th>name</th>\n",
       "      <th>popular</th>\n",
       "      <th>sid</th>\n",
       "      <th>link</th>\n",
       "    </tr>\n",
       "  </thead>\n",
       "  <tbody>\n",
       "    <tr>\n",
       "      <th>0</th>\n",
       "      <td>Miike Snow</td>\n",
       "      <td>False</td>\n",
       "      <td>4l1cKWYW591xnwEGxpUg3J</td>\n",
       "      <td>https://open.spotify.com/artist/4l1cKWYW591xnwEGxpUg3J</td>\n",
       "    </tr>\n",
       "  </tbody>\n",
       "</table>\n",
       "</div>"
      ],
      "text/plain": [
       "         name popular                     sid  \\\n",
       "0  Miike Snow   False  4l1cKWYW591xnwEGxpUg3J   \n",
       "\n",
       "                                                     link  \n",
       "0  https://open.spotify.com/artist/4l1cKWYW591xnwEGxpUg3J  "
      ]
     },
     "execution_count": 114,
     "metadata": {},
     "output_type": "execute_result"
    }
   ],
   "source": [
    "f4.s_name_find('Miike Snow')"
   ]
  },
  {
   "cell_type": "code",
   "execution_count": 115,
   "metadata": {},
   "outputs": [
    {
     "data": {
      "text/html": [
       "<div>\n",
       "<style scoped>\n",
       "    .dataframe tbody tr th:only-of-type {\n",
       "        vertical-align: middle;\n",
       "    }\n",
       "\n",
       "    .dataframe tbody tr th {\n",
       "        vertical-align: top;\n",
       "    }\n",
       "\n",
       "    .dataframe thead th {\n",
       "        text-align: right;\n",
       "    }\n",
       "</style>\n",
       "<table border=\"1\" class=\"dataframe\">\n",
       "  <thead>\n",
       "    <tr style=\"text-align: right;\">\n",
       "      <th></th>\n",
       "      <th>name</th>\n",
       "      <th>popular</th>\n",
       "      <th>sid</th>\n",
       "      <th>link</th>\n",
       "    </tr>\n",
       "  </thead>\n",
       "  <tbody>\n",
       "    <tr>\n",
       "      <th>0</th>\n",
       "      <td>Vampire Weekend</td>\n",
       "      <td>True</td>\n",
       "      <td>5BvJzeQpmsdsFp4HGUYUEx</td>\n",
       "      <td>https://open.spotify.com/artist/5BvJzeQpmsdsFp4HGUYUEx</td>\n",
       "    </tr>\n",
       "  </tbody>\n",
       "</table>\n",
       "</div>"
      ],
      "text/plain": [
       "              name popular                     sid  \\\n",
       "0  Vampire Weekend    True  5BvJzeQpmsdsFp4HGUYUEx   \n",
       "\n",
       "                                                     link  \n",
       "0  https://open.spotify.com/artist/5BvJzeQpmsdsFp4HGUYUEx  "
      ]
     },
     "execution_count": 115,
     "metadata": {},
     "output_type": "execute_result"
    }
   ],
   "source": [
    "f4.s_name_find('Vampire Weekend')"
   ]
  },
  {
   "cell_type": "code",
   "execution_count": 117,
   "metadata": {},
   "outputs": [
    {
     "data": {
      "text/html": [
       "<div>\n",
       "<style scoped>\n",
       "    .dataframe tbody tr th:only-of-type {\n",
       "        vertical-align: middle;\n",
       "    }\n",
       "\n",
       "    .dataframe tbody tr th {\n",
       "        vertical-align: top;\n",
       "    }\n",
       "\n",
       "    .dataframe thead th {\n",
       "        text-align: right;\n",
       "    }\n",
       "</style>\n",
       "<table border=\"1\" class=\"dataframe\">\n",
       "  <thead>\n",
       "    <tr style=\"text-align: right;\">\n",
       "      <th></th>\n",
       "      <th>name</th>\n",
       "      <th>popular</th>\n",
       "      <th>sid</th>\n",
       "      <th>link</th>\n",
       "    </tr>\n",
       "  </thead>\n",
       "  <tbody>\n",
       "    <tr>\n",
       "      <th>0</th>\n",
       "      <td>The Neighbourhood</td>\n",
       "      <td>True</td>\n",
       "      <td>77SW9BnxLY8rJ0RciFqkHh</td>\n",
       "      <td>https://open.spotify.com/artist/77SW9BnxLY8rJ0RciFqkHh</td>\n",
       "    </tr>\n",
       "  </tbody>\n",
       "</table>\n",
       "</div>"
      ],
      "text/plain": [
       "                name popular                     sid  \\\n",
       "0  The Neighbourhood    True  77SW9BnxLY8rJ0RciFqkHh   \n",
       "\n",
       "                                                     link  \n",
       "0  https://open.spotify.com/artist/77SW9BnxLY8rJ0RciFqkHh  "
      ]
     },
     "execution_count": 117,
     "metadata": {},
     "output_type": "execute_result"
    }
   ],
   "source": [
    "f4.s_name_find('The Neighbourhood')"
   ]
  },
  {
   "cell_type": "code",
   "execution_count": 118,
   "metadata": {},
   "outputs": [
    {
     "data": {
      "text/html": [
       "<div>\n",
       "<style scoped>\n",
       "    .dataframe tbody tr th:only-of-type {\n",
       "        vertical-align: middle;\n",
       "    }\n",
       "\n",
       "    .dataframe tbody tr th {\n",
       "        vertical-align: top;\n",
       "    }\n",
       "\n",
       "    .dataframe thead th {\n",
       "        text-align: right;\n",
       "    }\n",
       "</style>\n",
       "<table border=\"1\" class=\"dataframe\">\n",
       "  <thead>\n",
       "    <tr style=\"text-align: right;\">\n",
       "      <th></th>\n",
       "      <th>name</th>\n",
       "      <th>popular</th>\n",
       "      <th>sid</th>\n",
       "      <th>link</th>\n",
       "    </tr>\n",
       "  </thead>\n",
       "  <tbody>\n",
       "    <tr>\n",
       "      <th>0</th>\n",
       "      <td>The Wombats</td>\n",
       "      <td>True</td>\n",
       "      <td>0Ya43ZKWHTKkAbkoJJkwIB</td>\n",
       "      <td>https://open.spotify.com/artist/0Ya43ZKWHTKkAbkoJJkwIB</td>\n",
       "    </tr>\n",
       "  </tbody>\n",
       "</table>\n",
       "</div>"
      ],
      "text/plain": [
       "          name popular                     sid  \\\n",
       "0  The Wombats    True  0Ya43ZKWHTKkAbkoJJkwIB   \n",
       "\n",
       "                                                     link  \n",
       "0  https://open.spotify.com/artist/0Ya43ZKWHTKkAbkoJJkwIB  "
      ]
     },
     "execution_count": 118,
     "metadata": {},
     "output_type": "execute_result"
    }
   ],
   "source": [
    "f4.s_name_find('The Wombats')"
   ]
  },
  {
   "cell_type": "code",
   "execution_count": 119,
   "metadata": {},
   "outputs": [
    {
     "name": "stdout",
     "output_type": "stream",
     "text": [
      "922 clusters\n",
      "\n",
      "BØRNS\n"
     ]
    },
    {
     "data": {
      "text/html": [
       "<table border=\"1\" class=\"dataframe\">\n",
       "  <thead>\n",
       "    <tr style=\"text-align: right;\">\n",
       "      <th></th>\n",
       "      <th>name</th>\n",
       "      <th>score</th>\n",
       "      <th>link</th>\n",
       "    </tr>\n",
       "  </thead>\n",
       "  <tbody>\n",
       "    <tr>\n",
       "      <th>0</th>\n",
       "      <td>Wolfgang Lohr</td>\n",
       "      <td>0.568</td>\n",
       "      <td>https://open.spotify.com/artist/5GImm0oU5MkW7OHkb91jwu</td>\n",
       "    </tr>\n",
       "    <tr>\n",
       "      <th>1</th>\n",
       "      <td>Jocas</td>\n",
       "      <td>0.462</td>\n",
       "      <td>https://open.spotify.com/artist/5TPKb5J7mAuZ1DXG4WPXT5</td>\n",
       "    </tr>\n",
       "    <tr>\n",
       "      <th>2</th>\n",
       "      <td>Tati Zaqui</td>\n",
       "      <td>0.460</td>\n",
       "      <td>https://open.spotify.com/artist/0e68cnJyUTJu1nEuxxMSLm</td>\n",
       "    </tr>\n",
       "    <tr>\n",
       "      <th>3</th>\n",
       "      <td>Benjamin Hav</td>\n",
       "      <td>0.459</td>\n",
       "      <td>https://open.spotify.com/artist/67pwWZtcg7U2P2keoeC9jW</td>\n",
       "    </tr>\n",
       "    <tr>\n",
       "      <th>4</th>\n",
       "      <td>IVIE</td>\n",
       "      <td>0.357</td>\n",
       "      <td>https://open.spotify.com/artist/2ol1cb6xyYpaxRTUsl1CYN</td>\n",
       "    </tr>\n",
       "  </tbody>\n",
       "</table>"
      ],
      "text/plain": [
       "<IPython.core.display.HTML object>"
      ]
     },
     "metadata": {},
     "output_type": "display_data"
    },
    {
     "name": "stdout",
     "output_type": "stream",
     "text": [
      "Vampire Weekend\n"
     ]
    },
    {
     "data": {
      "text/html": [
       "<table border=\"1\" class=\"dataframe\">\n",
       "  <thead>\n",
       "    <tr style=\"text-align: right;\">\n",
       "      <th></th>\n",
       "      <th>name</th>\n",
       "      <th>score</th>\n",
       "      <th>link</th>\n",
       "    </tr>\n",
       "  </thead>\n",
       "  <tbody>\n",
       "    <tr>\n",
       "      <th>0</th>\n",
       "      <td>Highsnob</td>\n",
       "      <td>0.763</td>\n",
       "      <td>https://open.spotify.com/artist/47RMRcPX8zWGaiMSZRuOd4</td>\n",
       "    </tr>\n",
       "    <tr>\n",
       "      <th>1</th>\n",
       "      <td>Alvin Cash &amp; The Crawlers</td>\n",
       "      <td>0.729</td>\n",
       "      <td>https://open.spotify.com/artist/3bKRu4SjS8I0y7yWhvFfWw</td>\n",
       "    </tr>\n",
       "    <tr>\n",
       "      <th>2</th>\n",
       "      <td>M People</td>\n",
       "      <td>0.726</td>\n",
       "      <td>https://open.spotify.com/artist/3lcbKPLl0ci2mKRdcP5Etf</td>\n",
       "    </tr>\n",
       "    <tr>\n",
       "      <th>3</th>\n",
       "      <td>Kryder</td>\n",
       "      <td>0.621</td>\n",
       "      <td>https://open.spotify.com/artist/1xfLBmx0n8DQri9HxJsq9O</td>\n",
       "    </tr>\n",
       "    <tr>\n",
       "      <th>4</th>\n",
       "      <td>Matute</td>\n",
       "      <td>0.564</td>\n",
       "      <td>https://open.spotify.com/artist/6z7mf1FeKhq3GFy73o6PvC</td>\n",
       "    </tr>\n",
       "  </tbody>\n",
       "</table>"
      ],
      "text/plain": [
       "<IPython.core.display.HTML object>"
      ]
     },
     "metadata": {},
     "output_type": "display_data"
    },
    {
     "name": "stdout",
     "output_type": "stream",
     "text": [
      "The Neighbourhood\n"
     ]
    },
    {
     "data": {
      "text/html": [
       "<table border=\"1\" class=\"dataframe\">\n",
       "  <thead>\n",
       "    <tr style=\"text-align: right;\">\n",
       "      <th></th>\n",
       "      <th>name</th>\n",
       "      <th>score</th>\n",
       "      <th>link</th>\n",
       "    </tr>\n",
       "  </thead>\n",
       "  <tbody>\n",
       "    <tr>\n",
       "      <th>0</th>\n",
       "      <td>Bonde R300</td>\n",
       "      <td>1.563</td>\n",
       "      <td>https://open.spotify.com/artist/5rhznZjKfSxtKVqB0JZtpC</td>\n",
       "    </tr>\n",
       "    <tr>\n",
       "      <th>1</th>\n",
       "      <td>VICTON</td>\n",
       "      <td>1.162</td>\n",
       "      <td>https://open.spotify.com/artist/0ziR2zN0NFcB4x1G3P8cW3</td>\n",
       "    </tr>\n",
       "    <tr>\n",
       "      <th>2</th>\n",
       "      <td>Noisestorm</td>\n",
       "      <td>1.162</td>\n",
       "      <td>https://open.spotify.com/artist/2BuSNpxpMGJGiAAWJYJT2t</td>\n",
       "    </tr>\n",
       "    <tr>\n",
       "      <th>3</th>\n",
       "      <td>BRADIO</td>\n",
       "      <td>1.005</td>\n",
       "      <td>https://open.spotify.com/artist/4bykb0rz2eT2t2kzihCsne</td>\n",
       "    </tr>\n",
       "    <tr>\n",
       "      <th>4</th>\n",
       "      <td>Mc Lipi</td>\n",
       "      <td>0.808</td>\n",
       "      <td>https://open.spotify.com/artist/0cjkWe9VXcECGiOEHFuTfc</td>\n",
       "    </tr>\n",
       "  </tbody>\n",
       "</table>"
      ],
      "text/plain": [
       "<IPython.core.display.HTML object>"
      ]
     },
     "metadata": {},
     "output_type": "display_data"
    },
    {
     "name": "stdout",
     "output_type": "stream",
     "text": [
      "The Wombats\n"
     ]
    },
    {
     "data": {
      "text/html": [
       "<table border=\"1\" class=\"dataframe\">\n",
       "  <thead>\n",
       "    <tr style=\"text-align: right;\">\n",
       "      <th></th>\n",
       "      <th>name</th>\n",
       "      <th>score</th>\n",
       "      <th>link</th>\n",
       "    </tr>\n",
       "  </thead>\n",
       "  <tbody>\n",
       "    <tr>\n",
       "      <th>0</th>\n",
       "      <td>Salserin</td>\n",
       "      <td>0.701</td>\n",
       "      <td>https://open.spotify.com/artist/7is4d4FP9QUaV99j5kKDNT</td>\n",
       "    </tr>\n",
       "    <tr>\n",
       "      <th>1</th>\n",
       "      <td>KIMSEJEONG</td>\n",
       "      <td>0.661</td>\n",
       "      <td>https://open.spotify.com/artist/1lFLniFTaPjYCtQZvDXpqu</td>\n",
       "    </tr>\n",
       "    <tr>\n",
       "      <th>2</th>\n",
       "      <td>Masew</td>\n",
       "      <td>0.470</td>\n",
       "      <td>https://open.spotify.com/artist/3nGqUwkJHiLPDECMVrX1Sq</td>\n",
       "    </tr>\n",
       "    <tr>\n",
       "      <th>3</th>\n",
       "      <td>Creed Fisher</td>\n",
       "      <td>0.433</td>\n",
       "      <td>https://open.spotify.com/artist/03UZwtrCiMR9P10LcjQ5Wu</td>\n",
       "    </tr>\n",
       "    <tr>\n",
       "      <th>4</th>\n",
       "      <td>Kalafina</td>\n",
       "      <td>0.354</td>\n",
       "      <td>https://open.spotify.com/artist/2otsTXVV2ZWZ8T5LPzsBhy</td>\n",
       "    </tr>\n",
       "  </tbody>\n",
       "</table>"
      ],
      "text/plain": [
       "<IPython.core.display.HTML object>"
      ]
     },
     "metadata": {},
     "output_type": "display_data"
    }
   ],
   "source": [
    "# Borns, Vampire Weekend, The Neighbourhood, The Wombats\n",
    "display_recs(['1KP6TWI40m7p3QBTU6u2xo', '5BvJzeQpmsdsFp4HGUYUEx', '77SW9BnxLY8rJ0RciFqkHh',\n",
    "             '0Ya43ZKWHTKkAbkoJJkwIB'], artists_per_cluster)\n"
   ]
  },
  {
   "cell_type": "markdown",
   "metadata": {},
   "source": [
    "# Chai (16)"
   ]
  },
  {
   "cell_type": "code",
   "execution_count": 120,
   "metadata": {},
   "outputs": [
    {
     "data": {
      "text/html": [
       "<div>\n",
       "<style scoped>\n",
       "    .dataframe tbody tr th:only-of-type {\n",
       "        vertical-align: middle;\n",
       "    }\n",
       "\n",
       "    .dataframe tbody tr th {\n",
       "        vertical-align: top;\n",
       "    }\n",
       "\n",
       "    .dataframe thead th {\n",
       "        text-align: right;\n",
       "    }\n",
       "</style>\n",
       "<table border=\"1\" class=\"dataframe\">\n",
       "  <thead>\n",
       "    <tr style=\"text-align: right;\">\n",
       "      <th></th>\n",
       "      <th>name</th>\n",
       "      <th>popular</th>\n",
       "      <th>sid</th>\n",
       "      <th>link</th>\n",
       "    </tr>\n",
       "  </thead>\n",
       "  <tbody>\n",
       "    <tr>\n",
       "      <th>0</th>\n",
       "      <td>BTS</td>\n",
       "      <td>True</td>\n",
       "      <td>3Nrfpe0tUJi4K4DXYWgMUX</td>\n",
       "      <td>https://open.spotify.com/artist/3Nrfpe0tUJi4K4DXYWgMUX</td>\n",
       "    </tr>\n",
       "  </tbody>\n",
       "</table>\n",
       "</div>"
      ],
      "text/plain": [
       "  name popular                     sid  \\\n",
       "0  BTS    True  3Nrfpe0tUJi4K4DXYWgMUX   \n",
       "\n",
       "                                                     link  \n",
       "0  https://open.spotify.com/artist/3Nrfpe0tUJi4K4DXYWgMUX  "
      ]
     },
     "execution_count": 120,
     "metadata": {},
     "output_type": "execute_result"
    }
   ],
   "source": [
    "f4.s_name_find('BTS')"
   ]
  },
  {
   "cell_type": "code",
   "execution_count": 121,
   "metadata": {},
   "outputs": [
    {
     "data": {
      "text/html": [
       "<div>\n",
       "<style scoped>\n",
       "    .dataframe tbody tr th:only-of-type {\n",
       "        vertical-align: middle;\n",
       "    }\n",
       "\n",
       "    .dataframe tbody tr th {\n",
       "        vertical-align: top;\n",
       "    }\n",
       "\n",
       "    .dataframe thead th {\n",
       "        text-align: right;\n",
       "    }\n",
       "</style>\n",
       "<table border=\"1\" class=\"dataframe\">\n",
       "  <thead>\n",
       "    <tr style=\"text-align: right;\">\n",
       "      <th></th>\n",
       "      <th>name</th>\n",
       "      <th>popular</th>\n",
       "      <th>sid</th>\n",
       "      <th>link</th>\n",
       "    </tr>\n",
       "  </thead>\n",
       "  <tbody>\n",
       "    <tr>\n",
       "      <th>0</th>\n",
       "      <td>BLACKPINK</td>\n",
       "      <td>True</td>\n",
       "      <td>41MozSoPIsD1dJM0CLPjZF</td>\n",
       "      <td>https://open.spotify.com/artist/41MozSoPIsD1dJM0CLPjZF</td>\n",
       "    </tr>\n",
       "  </tbody>\n",
       "</table>\n",
       "</div>"
      ],
      "text/plain": [
       "        name popular                     sid  \\\n",
       "0  BLACKPINK    True  41MozSoPIsD1dJM0CLPjZF   \n",
       "\n",
       "                                                     link  \n",
       "0  https://open.spotify.com/artist/41MozSoPIsD1dJM0CLPjZF  "
      ]
     },
     "execution_count": 121,
     "metadata": {},
     "output_type": "execute_result"
    }
   ],
   "source": [
    "f4.s_name_find('BLACKPINK')"
   ]
  },
  {
   "cell_type": "code",
   "execution_count": 122,
   "metadata": {},
   "outputs": [
    {
     "data": {
      "text/html": [
       "<div>\n",
       "<style scoped>\n",
       "    .dataframe tbody tr th:only-of-type {\n",
       "        vertical-align: middle;\n",
       "    }\n",
       "\n",
       "    .dataframe tbody tr th {\n",
       "        vertical-align: top;\n",
       "    }\n",
       "\n",
       "    .dataframe thead th {\n",
       "        text-align: right;\n",
       "    }\n",
       "</style>\n",
       "<table border=\"1\" class=\"dataframe\">\n",
       "  <thead>\n",
       "    <tr style=\"text-align: right;\">\n",
       "      <th></th>\n",
       "      <th>name</th>\n",
       "      <th>popular</th>\n",
       "      <th>sid</th>\n",
       "      <th>link</th>\n",
       "    </tr>\n",
       "  </thead>\n",
       "  <tbody>\n",
       "    <tr>\n",
       "      <th>0</th>\n",
       "      <td>Panic! At The Disco</td>\n",
       "      <td>True</td>\n",
       "      <td>20JZFwl6HVl6yg8a4H3ZqK</td>\n",
       "      <td>https://open.spotify.com/artist/20JZFwl6HVl6yg8a4H3ZqK</td>\n",
       "    </tr>\n",
       "  </tbody>\n",
       "</table>\n",
       "</div>"
      ],
      "text/plain": [
       "                  name popular                     sid  \\\n",
       "0  Panic! At The Disco    True  20JZFwl6HVl6yg8a4H3ZqK   \n",
       "\n",
       "                                                     link  \n",
       "0  https://open.spotify.com/artist/20JZFwl6HVl6yg8a4H3ZqK  "
      ]
     },
     "execution_count": 122,
     "metadata": {},
     "output_type": "execute_result"
    }
   ],
   "source": [
    "f4.s_name_find('Panic! At The Disco')"
   ]
  },
  {
   "cell_type": "code",
   "execution_count": 123,
   "metadata": {},
   "outputs": [
    {
     "data": {
      "text/html": [
       "<div>\n",
       "<style scoped>\n",
       "    .dataframe tbody tr th:only-of-type {\n",
       "        vertical-align: middle;\n",
       "    }\n",
       "\n",
       "    .dataframe tbody tr th {\n",
       "        vertical-align: top;\n",
       "    }\n",
       "\n",
       "    .dataframe thead th {\n",
       "        text-align: right;\n",
       "    }\n",
       "</style>\n",
       "<table border=\"1\" class=\"dataframe\">\n",
       "  <thead>\n",
       "    <tr style=\"text-align: right;\">\n",
       "      <th></th>\n",
       "      <th>name</th>\n",
       "      <th>popular</th>\n",
       "      <th>sid</th>\n",
       "      <th>link</th>\n",
       "    </tr>\n",
       "  </thead>\n",
       "  <tbody>\n",
       "    <tr>\n",
       "      <th>0</th>\n",
       "      <td>Coldplay</td>\n",
       "      <td>True</td>\n",
       "      <td>4gzpq5DPGxSnKTe4SA8HAU</td>\n",
       "      <td>https://open.spotify.com/artist/4gzpq5DPGxSnKTe4SA8HAU</td>\n",
       "    </tr>\n",
       "  </tbody>\n",
       "</table>\n",
       "</div>"
      ],
      "text/plain": [
       "       name popular                     sid  \\\n",
       "0  Coldplay    True  4gzpq5DPGxSnKTe4SA8HAU   \n",
       "\n",
       "                                                     link  \n",
       "0  https://open.spotify.com/artist/4gzpq5DPGxSnKTe4SA8HAU  "
      ]
     },
     "execution_count": 123,
     "metadata": {},
     "output_type": "execute_result"
    }
   ],
   "source": [
    "f4.s_name_find('Coldplay')"
   ]
  },
  {
   "cell_type": "code",
   "execution_count": 124,
   "metadata": {},
   "outputs": [
    {
     "data": {
      "text/html": [
       "<div>\n",
       "<style scoped>\n",
       "    .dataframe tbody tr th:only-of-type {\n",
       "        vertical-align: middle;\n",
       "    }\n",
       "\n",
       "    .dataframe tbody tr th {\n",
       "        vertical-align: top;\n",
       "    }\n",
       "\n",
       "    .dataframe thead th {\n",
       "        text-align: right;\n",
       "    }\n",
       "</style>\n",
       "<table border=\"1\" class=\"dataframe\">\n",
       "  <thead>\n",
       "    <tr style=\"text-align: right;\">\n",
       "      <th></th>\n",
       "      <th>name</th>\n",
       "      <th>popular</th>\n",
       "      <th>sid</th>\n",
       "      <th>link</th>\n",
       "    </tr>\n",
       "  </thead>\n",
       "  <tbody>\n",
       "    <tr>\n",
       "      <th>0</th>\n",
       "      <td>Rihanna</td>\n",
       "      <td>True</td>\n",
       "      <td>5pKCCKE2ajJHZ9KAiaK11H</td>\n",
       "      <td>https://open.spotify.com/artist/5pKCCKE2ajJHZ9KAiaK11H</td>\n",
       "    </tr>\n",
       "  </tbody>\n",
       "</table>\n",
       "</div>"
      ],
      "text/plain": [
       "      name popular                     sid  \\\n",
       "0  Rihanna    True  5pKCCKE2ajJHZ9KAiaK11H   \n",
       "\n",
       "                                                     link  \n",
       "0  https://open.spotify.com/artist/5pKCCKE2ajJHZ9KAiaK11H  "
      ]
     },
     "execution_count": 124,
     "metadata": {},
     "output_type": "execute_result"
    }
   ],
   "source": [
    "f4.s_name_find('Rihanna')"
   ]
  },
  {
   "cell_type": "code",
   "execution_count": 125,
   "metadata": {},
   "outputs": [
    {
     "data": {
      "text/html": [
       "<div>\n",
       "<style scoped>\n",
       "    .dataframe tbody tr th:only-of-type {\n",
       "        vertical-align: middle;\n",
       "    }\n",
       "\n",
       "    .dataframe tbody tr th {\n",
       "        vertical-align: top;\n",
       "    }\n",
       "\n",
       "    .dataframe thead th {\n",
       "        text-align: right;\n",
       "    }\n",
       "</style>\n",
       "<table border=\"1\" class=\"dataframe\">\n",
       "  <thead>\n",
       "    <tr style=\"text-align: right;\">\n",
       "      <th></th>\n",
       "      <th>name</th>\n",
       "      <th>popular</th>\n",
       "      <th>sid</th>\n",
       "      <th>link</th>\n",
       "    </tr>\n",
       "  </thead>\n",
       "  <tbody>\n",
       "    <tr>\n",
       "      <th>0</th>\n",
       "      <td>Snow Patrol</td>\n",
       "      <td>True</td>\n",
       "      <td>3rIZMv9rysU7JkLzEaC5Jp</td>\n",
       "      <td>https://open.spotify.com/artist/3rIZMv9rysU7JkLzEaC5Jp</td>\n",
       "    </tr>\n",
       "  </tbody>\n",
       "</table>\n",
       "</div>"
      ],
      "text/plain": [
       "          name popular                     sid  \\\n",
       "0  Snow Patrol    True  3rIZMv9rysU7JkLzEaC5Jp   \n",
       "\n",
       "                                                     link  \n",
       "0  https://open.spotify.com/artist/3rIZMv9rysU7JkLzEaC5Jp  "
      ]
     },
     "execution_count": 125,
     "metadata": {},
     "output_type": "execute_result"
    }
   ],
   "source": [
    "f4.s_name_find('Snow Patrol')"
   ]
  },
  {
   "cell_type": "code",
   "execution_count": 126,
   "metadata": {},
   "outputs": [
    {
     "name": "stdout",
     "output_type": "stream",
     "text": [
      "922 clusters\n",
      "\n",
      "BTS\n"
     ]
    },
    {
     "data": {
      "text/html": [
       "<table border=\"1\" class=\"dataframe\">\n",
       "  <thead>\n",
       "    <tr style=\"text-align: right;\">\n",
       "      <th></th>\n",
       "      <th>name</th>\n",
       "      <th>score</th>\n",
       "      <th>link</th>\n",
       "    </tr>\n",
       "  </thead>\n",
       "  <tbody>\n",
       "    <tr>\n",
       "      <th>0</th>\n",
       "      <td>Starley</td>\n",
       "      <td>2.595</td>\n",
       "      <td>https://open.spotify.com/artist/02A3cEvlLLCbIMVDrK2GHV</td>\n",
       "    </tr>\n",
       "    <tr>\n",
       "      <th>1</th>\n",
       "      <td>Loudblast</td>\n",
       "      <td>1.699</td>\n",
       "      <td>https://open.spotify.com/artist/5UK3wj86cVRSZHrteL8Lbt</td>\n",
       "    </tr>\n",
       "    <tr>\n",
       "      <th>2</th>\n",
       "      <td>Misery Index</td>\n",
       "      <td>1.475</td>\n",
       "      <td>https://open.spotify.com/artist/1kTUJy3zL57iEANLB9FpIA</td>\n",
       "    </tr>\n",
       "    <tr>\n",
       "      <th>3</th>\n",
       "      <td>Sachin-Jigar</td>\n",
       "      <td>1.415</td>\n",
       "      <td>https://open.spotify.com/artist/1mBydYMVBECdDmMfE2sEUO</td>\n",
       "    </tr>\n",
       "    <tr>\n",
       "      <th>4</th>\n",
       "      <td>Crumbsuckers</td>\n",
       "      <td>1.371</td>\n",
       "      <td>https://open.spotify.com/artist/0urAT7hBcZ7407s9hD9bRg</td>\n",
       "    </tr>\n",
       "  </tbody>\n",
       "</table>"
      ],
      "text/plain": [
       "<IPython.core.display.HTML object>"
      ]
     },
     "metadata": {},
     "output_type": "display_data"
    },
    {
     "name": "stdout",
     "output_type": "stream",
     "text": [
      "BLACKPINK\n"
     ]
    },
    {
     "data": {
      "text/html": [
       "<table border=\"1\" class=\"dataframe\">\n",
       "  <thead>\n",
       "    <tr style=\"text-align: right;\">\n",
       "      <th></th>\n",
       "      <th>name</th>\n",
       "      <th>score</th>\n",
       "      <th>link</th>\n",
       "    </tr>\n",
       "  </thead>\n",
       "  <tbody>\n",
       "    <tr>\n",
       "      <th>0</th>\n",
       "      <td>PSY</td>\n",
       "      <td>2.010</td>\n",
       "      <td>https://open.spotify.com/artist/2dd5mrQZvg6SmahdgVKDzh</td>\n",
       "    </tr>\n",
       "    <tr>\n",
       "      <th>1</th>\n",
       "      <td>Hord</td>\n",
       "      <td>1.152</td>\n",
       "      <td>https://open.spotify.com/artist/7MjAq0rgwcnAZt7P3k65ol</td>\n",
       "    </tr>\n",
       "    <tr>\n",
       "      <th>2</th>\n",
       "      <td>The Biz</td>\n",
       "      <td>1.011</td>\n",
       "      <td>https://open.spotify.com/artist/1jQDgp9Fak4WYVZedWLF4G</td>\n",
       "    </tr>\n",
       "    <tr>\n",
       "      <th>3</th>\n",
       "      <td>Ronny Douglas</td>\n",
       "      <td>0.856</td>\n",
       "      <td>https://open.spotify.com/artist/7Gk7zQEIcdvEBjcGJeRPcX</td>\n",
       "    </tr>\n",
       "    <tr>\n",
       "      <th>4</th>\n",
       "      <td>Tokyo Machine</td>\n",
       "      <td>0.778</td>\n",
       "      <td>https://open.spotify.com/artist/3bwENxqj9nhaAI3fsAwmv9</td>\n",
       "    </tr>\n",
       "  </tbody>\n",
       "</table>"
      ],
      "text/plain": [
       "<IPython.core.display.HTML object>"
      ]
     },
     "metadata": {},
     "output_type": "display_data"
    },
    {
     "name": "stdout",
     "output_type": "stream",
     "text": [
      "Panic! At The Disco\n"
     ]
    },
    {
     "data": {
      "text/html": [
       "<table border=\"1\" class=\"dataframe\">\n",
       "  <thead>\n",
       "    <tr style=\"text-align: right;\">\n",
       "      <th></th>\n",
       "      <th>name</th>\n",
       "      <th>score</th>\n",
       "      <th>link</th>\n",
       "    </tr>\n",
       "  </thead>\n",
       "  <tbody>\n",
       "    <tr>\n",
       "      <th>0</th>\n",
       "      <td>Hugo &amp; Vitor</td>\n",
       "      <td>0.662</td>\n",
       "      <td>https://open.spotify.com/artist/3rbG069NuFKBCXYPoGjB9g</td>\n",
       "    </tr>\n",
       "    <tr>\n",
       "      <th>1</th>\n",
       "      <td>Lillasyster</td>\n",
       "      <td>0.619</td>\n",
       "      <td>https://open.spotify.com/artist/34uGMERnU9XHnmQDnK03Gj</td>\n",
       "    </tr>\n",
       "    <tr>\n",
       "      <th>2</th>\n",
       "      <td>Los Alegres de la Sierra</td>\n",
       "      <td>0.561</td>\n",
       "      <td>https://open.spotify.com/artist/4Yfe8uXcl5PYwknQ4OMZIP</td>\n",
       "    </tr>\n",
       "    <tr>\n",
       "      <th>3</th>\n",
       "      <td>Andrew Spencer &amp; The Vamprockerz</td>\n",
       "      <td>0.432</td>\n",
       "      <td>https://open.spotify.com/artist/6Zu1fmKgelxNounSMsGxNn</td>\n",
       "    </tr>\n",
       "    <tr>\n",
       "      <th>4</th>\n",
       "      <td>Lichtenfels</td>\n",
       "      <td>0.389</td>\n",
       "      <td>https://open.spotify.com/artist/4dXAmqXc083u4CuCjyAVrX</td>\n",
       "    </tr>\n",
       "  </tbody>\n",
       "</table>"
      ],
      "text/plain": [
       "<IPython.core.display.HTML object>"
      ]
     },
     "metadata": {},
     "output_type": "display_data"
    },
    {
     "name": "stdout",
     "output_type": "stream",
     "text": [
      "Coldplay\n"
     ]
    },
    {
     "data": {
      "text/html": [
       "<table border=\"1\" class=\"dataframe\">\n",
       "  <thead>\n",
       "    <tr style=\"text-align: right;\">\n",
       "      <th></th>\n",
       "      <th>name</th>\n",
       "      <th>score</th>\n",
       "      <th>link</th>\n",
       "    </tr>\n",
       "  </thead>\n",
       "  <tbody>\n",
       "    <tr>\n",
       "      <th>0</th>\n",
       "      <td>La Decima Banda</td>\n",
       "      <td>0.812</td>\n",
       "      <td>https://open.spotify.com/artist/1C2CCqiE3rxq2H4ErMzz9U</td>\n",
       "    </tr>\n",
       "    <tr>\n",
       "      <th>1</th>\n",
       "      <td>Nick Strand</td>\n",
       "      <td>0.489</td>\n",
       "      <td>https://open.spotify.com/artist/5nFFSwxKDNlZyHEYl48YTd</td>\n",
       "    </tr>\n",
       "    <tr>\n",
       "      <th>2</th>\n",
       "      <td>The Beau-Marks</td>\n",
       "      <td>0.488</td>\n",
       "      <td>https://open.spotify.com/artist/4DdKwKjWP5k7tuT8RyMRQ3</td>\n",
       "    </tr>\n",
       "    <tr>\n",
       "      <th>3</th>\n",
       "      <td>Kuwada</td>\n",
       "      <td>0.463</td>\n",
       "      <td>https://open.spotify.com/artist/66LFdGYtbmJ6G8sArrkfsu</td>\n",
       "    </tr>\n",
       "    <tr>\n",
       "      <th>4</th>\n",
       "      <td>Mugen Rao</td>\n",
       "      <td>0.373</td>\n",
       "      <td>https://open.spotify.com/artist/521uA5nxi1L31JgK6yd2lA</td>\n",
       "    </tr>\n",
       "  </tbody>\n",
       "</table>"
      ],
      "text/plain": [
       "<IPython.core.display.HTML object>"
      ]
     },
     "metadata": {},
     "output_type": "display_data"
    },
    {
     "name": "stdout",
     "output_type": "stream",
     "text": [
      "Rihanna\n"
     ]
    },
    {
     "data": {
      "text/html": [
       "<table border=\"1\" class=\"dataframe\">\n",
       "  <thead>\n",
       "    <tr style=\"text-align: right;\">\n",
       "      <th></th>\n",
       "      <th>name</th>\n",
       "      <th>score</th>\n",
       "      <th>link</th>\n",
       "    </tr>\n",
       "  </thead>\n",
       "  <tbody>\n",
       "    <tr>\n",
       "      <th>0</th>\n",
       "      <td>Antonio Rios</td>\n",
       "      <td>0.827</td>\n",
       "      <td>https://open.spotify.com/artist/7s652lD4v77szrPEfgMTBi</td>\n",
       "    </tr>\n",
       "    <tr>\n",
       "      <th>1</th>\n",
       "      <td>Wolfgang Lohr</td>\n",
       "      <td>0.599</td>\n",
       "      <td>https://open.spotify.com/artist/5GImm0oU5MkW7OHkb91jwu</td>\n",
       "    </tr>\n",
       "    <tr>\n",
       "      <th>2</th>\n",
       "      <td>Kartellen</td>\n",
       "      <td>0.578</td>\n",
       "      <td>https://open.spotify.com/artist/3kklzjWziqW7RX5jQjsRnb</td>\n",
       "    </tr>\n",
       "    <tr>\n",
       "      <th>3</th>\n",
       "      <td>AlunaGeorge</td>\n",
       "      <td>0.564</td>\n",
       "      <td>https://open.spotify.com/artist/2VAnyOxzJuSAj7XIuEOT38</td>\n",
       "    </tr>\n",
       "    <tr>\n",
       "      <th>4</th>\n",
       "      <td>IVIE</td>\n",
       "      <td>0.564</td>\n",
       "      <td>https://open.spotify.com/artist/2ol1cb6xyYpaxRTUsl1CYN</td>\n",
       "    </tr>\n",
       "  </tbody>\n",
       "</table>"
      ],
      "text/plain": [
       "<IPython.core.display.HTML object>"
      ]
     },
     "metadata": {},
     "output_type": "display_data"
    },
    {
     "name": "stdout",
     "output_type": "stream",
     "text": [
      "Snow Patrol\n"
     ]
    },
    {
     "data": {
      "text/html": [
       "<table border=\"1\" class=\"dataframe\">\n",
       "  <thead>\n",
       "    <tr style=\"text-align: right;\">\n",
       "      <th></th>\n",
       "      <th>name</th>\n",
       "      <th>score</th>\n",
       "      <th>link</th>\n",
       "    </tr>\n",
       "  </thead>\n",
       "  <tbody>\n",
       "    <tr>\n",
       "      <th>0</th>\n",
       "      <td>Karan Sehmbi</td>\n",
       "      <td>0.970</td>\n",
       "      <td>https://open.spotify.com/artist/0wmFEqpoc2FgAv8IPtCLBW</td>\n",
       "    </tr>\n",
       "    <tr>\n",
       "      <th>1</th>\n",
       "      <td>The Brecker Brothers</td>\n",
       "      <td>0.867</td>\n",
       "      <td>https://open.spotify.com/artist/45rpaf8BR69NIPqmeAYb7l</td>\n",
       "    </tr>\n",
       "    <tr>\n",
       "      <th>2</th>\n",
       "      <td>Tayna</td>\n",
       "      <td>0.506</td>\n",
       "      <td>https://open.spotify.com/artist/5Cj0xJrG2k8TPOJQ1vdAmZ</td>\n",
       "    </tr>\n",
       "    <tr>\n",
       "      <th>3</th>\n",
       "      <td>Rebecca Black</td>\n",
       "      <td>0.487</td>\n",
       "      <td>https://open.spotify.com/artist/3Vl9fyKMIdLMswk8ai3mm9</td>\n",
       "    </tr>\n",
       "    <tr>\n",
       "      <th>4</th>\n",
       "      <td>Job For A Cowboy</td>\n",
       "      <td>0.344</td>\n",
       "      <td>https://open.spotify.com/artist/5L3QTPofDwMPGlNnQkyHK1</td>\n",
       "    </tr>\n",
       "  </tbody>\n",
       "</table>"
      ],
      "text/plain": [
       "<IPython.core.display.HTML object>"
      ]
     },
     "metadata": {},
     "output_type": "display_data"
    }
   ],
   "source": [
    "# BTS, BLACKPINK, Panic! At The Disco, Coldplay, Rihanna, Snow Patrol\n",
    "display_recs(['3Nrfpe0tUJi4K4DXYWgMUX', '41MozSoPIsD1dJM0CLPjZF', '20JZFwl6HVl6yg8a4H3ZqK',\n",
    "             '4gzpq5DPGxSnKTe4SA8HAU', '5pKCCKE2ajJHZ9KAiaK11H', '3rIZMv9rysU7JkLzEaC5Jp'], artists_per_cluster)\n"
   ]
  },
  {
   "cell_type": "markdown",
   "metadata": {},
   "source": [
    "# Julie (17)"
   ]
  },
  {
   "cell_type": "code",
   "execution_count": 127,
   "metadata": {},
   "outputs": [
    {
     "data": {
      "text/html": [
       "<div>\n",
       "<style scoped>\n",
       "    .dataframe tbody tr th:only-of-type {\n",
       "        vertical-align: middle;\n",
       "    }\n",
       "\n",
       "    .dataframe tbody tr th {\n",
       "        vertical-align: top;\n",
       "    }\n",
       "\n",
       "    .dataframe thead th {\n",
       "        text-align: right;\n",
       "    }\n",
       "</style>\n",
       "<table border=\"1\" class=\"dataframe\">\n",
       "  <thead>\n",
       "    <tr style=\"text-align: right;\">\n",
       "      <th></th>\n",
       "      <th>name</th>\n",
       "      <th>popular</th>\n",
       "      <th>sid</th>\n",
       "      <th>link</th>\n",
       "    </tr>\n",
       "  </thead>\n",
       "  <tbody>\n",
       "    <tr>\n",
       "      <th>0</th>\n",
       "      <td>Adele</td>\n",
       "      <td>True</td>\n",
       "      <td>4dpARuHxo51G3z768sgnrY</td>\n",
       "      <td>https://open.spotify.com/artist/4dpARuHxo51G3z768sgnrY</td>\n",
       "    </tr>\n",
       "  </tbody>\n",
       "</table>\n",
       "</div>"
      ],
      "text/plain": [
       "    name popular                     sid  \\\n",
       "0  Adele    True  4dpARuHxo51G3z768sgnrY   \n",
       "\n",
       "                                                     link  \n",
       "0  https://open.spotify.com/artist/4dpARuHxo51G3z768sgnrY  "
      ]
     },
     "execution_count": 127,
     "metadata": {},
     "output_type": "execute_result"
    }
   ],
   "source": [
    "f4.s_name_find('Adele')"
   ]
  },
  {
   "cell_type": "code",
   "execution_count": 128,
   "metadata": {},
   "outputs": [
    {
     "data": {
      "text/html": [
       "<div>\n",
       "<style scoped>\n",
       "    .dataframe tbody tr th:only-of-type {\n",
       "        vertical-align: middle;\n",
       "    }\n",
       "\n",
       "    .dataframe tbody tr th {\n",
       "        vertical-align: top;\n",
       "    }\n",
       "\n",
       "    .dataframe thead th {\n",
       "        text-align: right;\n",
       "    }\n",
       "</style>\n",
       "<table border=\"1\" class=\"dataframe\">\n",
       "  <thead>\n",
       "    <tr style=\"text-align: right;\">\n",
       "      <th></th>\n",
       "      <th>name</th>\n",
       "      <th>popular</th>\n",
       "      <th>sid</th>\n",
       "      <th>link</th>\n",
       "    </tr>\n",
       "  </thead>\n",
       "  <tbody>\n",
       "    <tr>\n",
       "      <th>0</th>\n",
       "      <td>5 Seconds of Summer</td>\n",
       "      <td>True</td>\n",
       "      <td>5Rl15oVamLq7FbSb0NNBNy</td>\n",
       "      <td>https://open.spotify.com/artist/5Rl15oVamLq7FbSb0NNBNy</td>\n",
       "    </tr>\n",
       "  </tbody>\n",
       "</table>\n",
       "</div>"
      ],
      "text/plain": [
       "                  name popular                     sid  \\\n",
       "0  5 Seconds of Summer    True  5Rl15oVamLq7FbSb0NNBNy   \n",
       "\n",
       "                                                     link  \n",
       "0  https://open.spotify.com/artist/5Rl15oVamLq7FbSb0NNBNy  "
      ]
     },
     "execution_count": 128,
     "metadata": {},
     "output_type": "execute_result"
    }
   ],
   "source": [
    "f4.s_name_find('5 Seconds of Summer')"
   ]
  },
  {
   "cell_type": "code",
   "execution_count": 129,
   "metadata": {},
   "outputs": [
    {
     "data": {
      "text/html": [
       "<div>\n",
       "<style scoped>\n",
       "    .dataframe tbody tr th:only-of-type {\n",
       "        vertical-align: middle;\n",
       "    }\n",
       "\n",
       "    .dataframe tbody tr th {\n",
       "        vertical-align: top;\n",
       "    }\n",
       "\n",
       "    .dataframe thead th {\n",
       "        text-align: right;\n",
       "    }\n",
       "</style>\n",
       "<table border=\"1\" class=\"dataframe\">\n",
       "  <thead>\n",
       "    <tr style=\"text-align: right;\">\n",
       "      <th></th>\n",
       "      <th>name</th>\n",
       "      <th>popular</th>\n",
       "      <th>sid</th>\n",
       "      <th>link</th>\n",
       "    </tr>\n",
       "  </thead>\n",
       "  <tbody>\n",
       "    <tr>\n",
       "      <th>0</th>\n",
       "      <td>Imagine Dragons</td>\n",
       "      <td>True</td>\n",
       "      <td>53XhwfbYqKCa1cC15pYq2q</td>\n",
       "      <td>https://open.spotify.com/artist/53XhwfbYqKCa1cC15pYq2q</td>\n",
       "    </tr>\n",
       "  </tbody>\n",
       "</table>\n",
       "</div>"
      ],
      "text/plain": [
       "              name popular                     sid  \\\n",
       "0  Imagine Dragons    True  53XhwfbYqKCa1cC15pYq2q   \n",
       "\n",
       "                                                     link  \n",
       "0  https://open.spotify.com/artist/53XhwfbYqKCa1cC15pYq2q  "
      ]
     },
     "execution_count": 129,
     "metadata": {},
     "output_type": "execute_result"
    }
   ],
   "source": [
    "f4.s_name_find('Imagine Dragons')"
   ]
  },
  {
   "cell_type": "code",
   "execution_count": 130,
   "metadata": {},
   "outputs": [
    {
     "data": {
      "text/html": [
       "<div>\n",
       "<style scoped>\n",
       "    .dataframe tbody tr th:only-of-type {\n",
       "        vertical-align: middle;\n",
       "    }\n",
       "\n",
       "    .dataframe tbody tr th {\n",
       "        vertical-align: top;\n",
       "    }\n",
       "\n",
       "    .dataframe thead th {\n",
       "        text-align: right;\n",
       "    }\n",
       "</style>\n",
       "<table border=\"1\" class=\"dataframe\">\n",
       "  <thead>\n",
       "    <tr style=\"text-align: right;\">\n",
       "      <th></th>\n",
       "      <th>name</th>\n",
       "      <th>popular</th>\n",
       "      <th>sid</th>\n",
       "      <th>link</th>\n",
       "    </tr>\n",
       "  </thead>\n",
       "  <tbody>\n",
       "    <tr>\n",
       "      <th>0</th>\n",
       "      <td>Ariana Grande</td>\n",
       "      <td>True</td>\n",
       "      <td>66CXWjxzNUsdJxJ2JdwvnR</td>\n",
       "      <td>https://open.spotify.com/artist/66CXWjxzNUsdJxJ2JdwvnR</td>\n",
       "    </tr>\n",
       "  </tbody>\n",
       "</table>\n",
       "</div>"
      ],
      "text/plain": [
       "            name popular                     sid  \\\n",
       "0  Ariana Grande    True  66CXWjxzNUsdJxJ2JdwvnR   \n",
       "\n",
       "                                                     link  \n",
       "0  https://open.spotify.com/artist/66CXWjxzNUsdJxJ2JdwvnR  "
      ]
     },
     "execution_count": 130,
     "metadata": {},
     "output_type": "execute_result"
    }
   ],
   "source": [
    "f4.s_name_find('Ariana Grande')"
   ]
  },
  {
   "cell_type": "code",
   "execution_count": 133,
   "metadata": {},
   "outputs": [
    {
     "name": "stdout",
     "output_type": "stream",
     "text": [
      "We do not have Beyonce in our database\n"
     ]
    }
   ],
   "source": [
    "f4.t_uname_find('Beyonce')"
   ]
  },
  {
   "cell_type": "code",
   "execution_count": null,
   "metadata": {},
   "outputs": [],
   "source": [
    "display_recs(['4dpARuHxo51G3z768sgnrY', '5Rl15oVamLq7FbSb0NNBNy'])"
   ]
  }
 ],
 "metadata": {
  "kernelspec": {
   "display_name": "Python 3",
   "language": "python",
   "name": "python3"
  },
  "language_info": {
   "codemirror_mode": {
    "name": "ipython",
    "version": 3
   },
   "file_extension": ".py",
   "mimetype": "text/x-python",
   "name": "python",
   "nbconvert_exporter": "python",
   "pygments_lexer": "ipython3",
   "version": "3.8.3"
  }
 },
 "nbformat": 4,
 "nbformat_minor": 4
}
