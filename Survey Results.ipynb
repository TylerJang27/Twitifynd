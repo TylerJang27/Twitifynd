{
 "cells": [
  {
   "cell_type": "markdown",
   "metadata": {},
   "source": [
    "# Setup"
   ]
  },
  {
   "cell_type": "code",
   "execution_count": 1,
   "metadata": {},
   "outputs": [],
   "source": [
    "import pandas as pd\n",
    "import math\n",
    "import json\n",
    "from IPython.display import display, HTML\n",
    "pd.set_option('display.max_rows', None)\n",
    "pd.set_option('display.max_colwidth', None)\n",
    "\n",
    "from recommend import Recommend"
   ]
  },
  {
   "cell_type": "code",
   "execution_count": 2,
   "metadata": {},
   "outputs": [],
   "source": [
    "def display_recs(favorites, artists_per_cluster):\n",
    "    r = Recommend(artists_per_cluster)\n",
    "    recs = r.get_recs(favorites)\n",
    "    print('{} clusters'.format(math.floor(3691/artists_per_cluster))) # number of popular artists\n",
    "    print('')\n",
    "    for artist in recs:\n",
    "        print(recs[artist]['name'])\n",
    "        display(HTML(recs[artist]['recs'].head().to_html())) # TODO: TYLER PROPOSED CHANGE"
   ]
  },
  {
   "cell_type": "code",
   "execution_count": 3,
   "metadata": {},
   "outputs": [],
   "source": [
    "class find:\n",
    "    def __init__(self, artists_per_cluster):\n",
    "        folder = 'precomp_diff_clusters/precomp_' + str(artists_per_cluster)\n",
    "        with open(folder + '/s_name_find.json') as snf:\n",
    "            self.snf = json.load(snf)\n",
    "        with open(folder + '/t_uname_find.json') as tnf:\n",
    "            self.tnf = json.load(tnf)\n",
    "        with open(folder + '/s_info.json') as sif:\n",
    "            self.s_info = json.load(sif)\n",
    "        with open(folder + '/t_info.json') as tif:\n",
    "            self.t_info = json.load(tif)\n",
    "        with open(folder + '/candidates_scores.json') as csf:\n",
    "            self.candidates_scores = json.load(csf)\n",
    "    def s_name_find(self, name):\n",
    "        if name in self.snf:\n",
    "            df_spotify = pd.DataFrame(columns=['name', 'popular', 'sid', 'link'])\n",
    "            sids = self.snf[name]\n",
    "            for sid in sids:\n",
    "                tid = self.s_info[sid]['tid']\n",
    "                twitter = self.t_info[str(tid)]['followers count']\n",
    "                if twitter >= 100000:\n",
    "                    popular = True\n",
    "                else:\n",
    "                    popular = False\n",
    "                df_spotify = df_spotify.append({\n",
    "                'name': name,\n",
    "                'popular': popular,\n",
    "                'sid': sid,\n",
    "                'link': \"https://open.spotify.com/artist/\" + sid}, ignore_index=True)\n",
    "            return df_spotify\n",
    "        else:\n",
    "            print('We do not have {} in our database'.format(name))\n",
    "    def t_uname_find(self, uname):\n",
    "        if uname in self.tnf:\n",
    "            df_spotify = pd.DataFrame(columns=['name', 'popular', 'sid', 'link'])\n",
    "            sids = self.tnf[uname]\n",
    "            for sid in sids:\n",
    "                name = self.s_info[sid]['spotify name']\n",
    "                tid = self.s_info[sid]['tid']\n",
    "                twitter = self.t_info[str(tid)]['followers count']\n",
    "                if twitter >= 100000:\n",
    "                    popular = True\n",
    "                else:\n",
    "                    popular = False\n",
    "                df_spotify = df_spotify.append({\n",
    "                'name': name,\n",
    "                'popular': popular,\n",
    "                'sid': sid,\n",
    "                'link': \"https://open.spotify.com/artist/\" + sid}, ignore_index=True)\n",
    "            return df_spotify\n",
    "        else:\n",
    "            print('We do not have {} in our database'.format(uname))\n",
    "            "
   ]
  },
  {
   "cell_type": "code",
   "execution_count": 5,
   "metadata": {},
   "outputs": [],
   "source": [
    "# 4 artists per cluster\n",
    "artists_per_cluster = 4\n",
    "f4 = find(artists_per_cluster)"
   ]
  },
  {
   "cell_type": "markdown",
   "metadata": {},
   "source": [
    "# Ian (13)"
   ]
  },
  {
   "cell_type": "code",
   "execution_count": 6,
   "metadata": {},
   "outputs": [
    {
     "data": {
      "text/html": [
       "<div>\n",
       "<style scoped>\n",
       "    .dataframe tbody tr th:only-of-type {\n",
       "        vertical-align: middle;\n",
       "    }\n",
       "\n",
       "    .dataframe tbody tr th {\n",
       "        vertical-align: top;\n",
       "    }\n",
       "\n",
       "    .dataframe thead th {\n",
       "        text-align: right;\n",
       "    }\n",
       "</style>\n",
       "<table border=\"1\" class=\"dataframe\">\n",
       "  <thead>\n",
       "    <tr style=\"text-align: right;\">\n",
       "      <th></th>\n",
       "      <th>name</th>\n",
       "      <th>popular</th>\n",
       "      <th>sid</th>\n",
       "      <th>link</th>\n",
       "    </tr>\n",
       "  </thead>\n",
       "  <tbody>\n",
       "    <tr>\n",
       "      <th>0</th>\n",
       "      <td>Kanye West</td>\n",
       "      <td>True</td>\n",
       "      <td>5K4W6rqBFWDnAN6FQUkS6x</td>\n",
       "      <td>https://open.spotify.com/artist/5K4W6rqBFWDnAN6FQUkS6x</td>\n",
       "    </tr>\n",
       "  </tbody>\n",
       "</table>\n",
       "</div>"
      ],
      "text/plain": [
       "         name popular                     sid  \\\n",
       "0  Kanye West    True  5K4W6rqBFWDnAN6FQUkS6x   \n",
       "\n",
       "                                                     link  \n",
       "0  https://open.spotify.com/artist/5K4W6rqBFWDnAN6FQUkS6x  "
      ]
     },
     "execution_count": 6,
     "metadata": {},
     "output_type": "execute_result"
    }
   ],
   "source": [
    "f4.s_name_find('Kanye West')"
   ]
  },
  {
   "cell_type": "code",
   "execution_count": 7,
   "metadata": {},
   "outputs": [
    {
     "data": {
      "text/html": [
       "<div>\n",
       "<style scoped>\n",
       "    .dataframe tbody tr th:only-of-type {\n",
       "        vertical-align: middle;\n",
       "    }\n",
       "\n",
       "    .dataframe tbody tr th {\n",
       "        vertical-align: top;\n",
       "    }\n",
       "\n",
       "    .dataframe thead th {\n",
       "        text-align: right;\n",
       "    }\n",
       "</style>\n",
       "<table border=\"1\" class=\"dataframe\">\n",
       "  <thead>\n",
       "    <tr style=\"text-align: right;\">\n",
       "      <th></th>\n",
       "      <th>name</th>\n",
       "      <th>popular</th>\n",
       "      <th>sid</th>\n",
       "      <th>link</th>\n",
       "    </tr>\n",
       "  </thead>\n",
       "  <tbody>\n",
       "    <tr>\n",
       "      <th>0</th>\n",
       "      <td>Anderson .Paak</td>\n",
       "      <td>True</td>\n",
       "      <td>3jK9MiCrA42lLAdMGUZpwa</td>\n",
       "      <td>https://open.spotify.com/artist/3jK9MiCrA42lLAdMGUZpwa</td>\n",
       "    </tr>\n",
       "  </tbody>\n",
       "</table>\n",
       "</div>"
      ],
      "text/plain": [
       "             name popular                     sid  \\\n",
       "0  Anderson .Paak    True  3jK9MiCrA42lLAdMGUZpwa   \n",
       "\n",
       "                                                     link  \n",
       "0  https://open.spotify.com/artist/3jK9MiCrA42lLAdMGUZpwa  "
      ]
     },
     "execution_count": 7,
     "metadata": {},
     "output_type": "execute_result"
    }
   ],
   "source": [
    "f4.t_uname_find('AndersonPaak')"
   ]
  },
  {
   "cell_type": "code",
   "execution_count": 8,
   "metadata": {},
   "outputs": [
    {
     "data": {
      "text/html": [
       "<div>\n",
       "<style scoped>\n",
       "    .dataframe tbody tr th:only-of-type {\n",
       "        vertical-align: middle;\n",
       "    }\n",
       "\n",
       "    .dataframe tbody tr th {\n",
       "        vertical-align: top;\n",
       "    }\n",
       "\n",
       "    .dataframe thead th {\n",
       "        text-align: right;\n",
       "    }\n",
       "</style>\n",
       "<table border=\"1\" class=\"dataframe\">\n",
       "  <thead>\n",
       "    <tr style=\"text-align: right;\">\n",
       "      <th></th>\n",
       "      <th>name</th>\n",
       "      <th>popular</th>\n",
       "      <th>sid</th>\n",
       "      <th>link</th>\n",
       "    </tr>\n",
       "  </thead>\n",
       "  <tbody>\n",
       "    <tr>\n",
       "      <th>0</th>\n",
       "      <td>The Notorious B.I.G.</td>\n",
       "      <td>False</td>\n",
       "      <td>5me0Irg2ANcsgc93uaYrpb</td>\n",
       "      <td>https://open.spotify.com/artist/5me0Irg2ANcsgc93uaYrpb</td>\n",
       "    </tr>\n",
       "  </tbody>\n",
       "</table>\n",
       "</div>"
      ],
      "text/plain": [
       "                   name popular                     sid  \\\n",
       "0  The Notorious B.I.G.   False  5me0Irg2ANcsgc93uaYrpb   \n",
       "\n",
       "                                                     link  \n",
       "0  https://open.spotify.com/artist/5me0Irg2ANcsgc93uaYrpb  "
      ]
     },
     "execution_count": 8,
     "metadata": {},
     "output_type": "execute_result"
    }
   ],
   "source": [
    "f4.s_name_find('The Notorious B.I.G.')"
   ]
  },
  {
   "cell_type": "code",
   "execution_count": 9,
   "metadata": {},
   "outputs": [
    {
     "data": {
      "text/html": [
       "<div>\n",
       "<style scoped>\n",
       "    .dataframe tbody tr th:only-of-type {\n",
       "        vertical-align: middle;\n",
       "    }\n",
       "\n",
       "    .dataframe tbody tr th {\n",
       "        vertical-align: top;\n",
       "    }\n",
       "\n",
       "    .dataframe thead th {\n",
       "        text-align: right;\n",
       "    }\n",
       "</style>\n",
       "<table border=\"1\" class=\"dataframe\">\n",
       "  <thead>\n",
       "    <tr style=\"text-align: right;\">\n",
       "      <th></th>\n",
       "      <th>name</th>\n",
       "      <th>popular</th>\n",
       "      <th>sid</th>\n",
       "      <th>link</th>\n",
       "    </tr>\n",
       "  </thead>\n",
       "  <tbody>\n",
       "    <tr>\n",
       "      <th>0</th>\n",
       "      <td>Tyler, The Creator</td>\n",
       "      <td>True</td>\n",
       "      <td>4V8LLVI7PbaPR0K2TGSxFF</td>\n",
       "      <td>https://open.spotify.com/artist/4V8LLVI7PbaPR0K2TGSxFF</td>\n",
       "    </tr>\n",
       "  </tbody>\n",
       "</table>\n",
       "</div>"
      ],
      "text/plain": [
       "                 name popular                     sid  \\\n",
       "0  Tyler, The Creator    True  4V8LLVI7PbaPR0K2TGSxFF   \n",
       "\n",
       "                                                     link  \n",
       "0  https://open.spotify.com/artist/4V8LLVI7PbaPR0K2TGSxFF  "
      ]
     },
     "execution_count": 9,
     "metadata": {},
     "output_type": "execute_result"
    }
   ],
   "source": [
    "f4.t_uname_find('tylerthecreator')"
   ]
  },
  {
   "cell_type": "code",
   "execution_count": 10,
   "metadata": {},
   "outputs": [
    {
     "data": {
      "text/html": [
       "<div>\n",
       "<style scoped>\n",
       "    .dataframe tbody tr th:only-of-type {\n",
       "        vertical-align: middle;\n",
       "    }\n",
       "\n",
       "    .dataframe tbody tr th {\n",
       "        vertical-align: top;\n",
       "    }\n",
       "\n",
       "    .dataframe thead th {\n",
       "        text-align: right;\n",
       "    }\n",
       "</style>\n",
       "<table border=\"1\" class=\"dataframe\">\n",
       "  <thead>\n",
       "    <tr style=\"text-align: right;\">\n",
       "      <th></th>\n",
       "      <th>name</th>\n",
       "      <th>popular</th>\n",
       "      <th>sid</th>\n",
       "      <th>link</th>\n",
       "    </tr>\n",
       "  </thead>\n",
       "  <tbody>\n",
       "    <tr>\n",
       "      <th>0</th>\n",
       "      <td>Nujabes</td>\n",
       "      <td>False</td>\n",
       "      <td>3Rq3YOF9YG9YfCWD4D56RZ</td>\n",
       "      <td>https://open.spotify.com/artist/3Rq3YOF9YG9YfCWD4D56RZ</td>\n",
       "    </tr>\n",
       "  </tbody>\n",
       "</table>\n",
       "</div>"
      ],
      "text/plain": [
       "      name popular                     sid  \\\n",
       "0  Nujabes   False  3Rq3YOF9YG9YfCWD4D56RZ   \n",
       "\n",
       "                                                     link  \n",
       "0  https://open.spotify.com/artist/3Rq3YOF9YG9YfCWD4D56RZ  "
      ]
     },
     "execution_count": 10,
     "metadata": {},
     "output_type": "execute_result"
    }
   ],
   "source": [
    "f4.s_name_find('Nujabes')"
   ]
  },
  {
   "cell_type": "code",
   "execution_count": 11,
   "metadata": {},
   "outputs": [
    {
     "name": "stdout",
     "output_type": "stream",
     "text": [
      "922 clusters\n",
      "\n",
      "Kanye West\n"
     ]
    },
    {
     "data": {
      "text/html": [
       "<table border=\"1\" class=\"dataframe\">\n",
       "  <thead>\n",
       "    <tr style=\"text-align: right;\">\n",
       "      <th></th>\n",
       "      <th>name</th>\n",
       "      <th>score</th>\n",
       "      <th>link</th>\n",
       "    </tr>\n",
       "  </thead>\n",
       "  <tbody>\n",
       "    <tr>\n",
       "      <th>0</th>\n",
       "      <td>Jan Bradley</td>\n",
       "      <td>0.841</td>\n",
       "      <td>https://open.spotify.com/artist/4tPAbp9qF8nR9becfJGQCZ</td>\n",
       "    </tr>\n",
       "    <tr>\n",
       "      <th>1</th>\n",
       "      <td>Di Paullo &amp; Paulino</td>\n",
       "      <td>0.837</td>\n",
       "      <td>https://open.spotify.com/artist/1e5A3rWcqk9WfLjeg5T3dI</td>\n",
       "    </tr>\n",
       "    <tr>\n",
       "      <th>2</th>\n",
       "      <td>S. Kiyotaka &amp; Omega Tribe</td>\n",
       "      <td>0.382</td>\n",
       "      <td>https://open.spotify.com/artist/7bG2PIfT22HGxisl6LAohx</td>\n",
       "    </tr>\n",
       "    <tr>\n",
       "      <th>3</th>\n",
       "      <td>David Zowie</td>\n",
       "      <td>0.380</td>\n",
       "      <td>https://open.spotify.com/artist/2yEkeJoFOvm6qHuECSDHFg</td>\n",
       "    </tr>\n",
       "    <tr>\n",
       "      <th>4</th>\n",
       "      <td>Aesthetic Perfection</td>\n",
       "      <td>0.370</td>\n",
       "      <td>https://open.spotify.com/artist/1Jgp0YCPHCJx5XD7nlfGVN</td>\n",
       "    </tr>\n",
       "  </tbody>\n",
       "</table>"
      ],
      "text/plain": [
       "<IPython.core.display.HTML object>"
      ]
     },
     "metadata": {},
     "output_type": "display_data"
    },
    {
     "name": "stdout",
     "output_type": "stream",
     "text": [
      "Anderson .Paak\n"
     ]
    },
    {
     "data": {
      "text/html": [
       "<table border=\"1\" class=\"dataframe\">\n",
       "  <thead>\n",
       "    <tr style=\"text-align: right;\">\n",
       "      <th></th>\n",
       "      <th>name</th>\n",
       "      <th>score</th>\n",
       "      <th>link</th>\n",
       "    </tr>\n",
       "  </thead>\n",
       "  <tbody>\n",
       "    <tr>\n",
       "      <th>0</th>\n",
       "      <td>Pierrii</td>\n",
       "      <td>0.775</td>\n",
       "      <td>https://open.spotify.com/artist/2Muef9e20frSc14ocV9TQU</td>\n",
       "    </tr>\n",
       "    <tr>\n",
       "      <th>1</th>\n",
       "      <td>Meekz</td>\n",
       "      <td>0.523</td>\n",
       "      <td>https://open.spotify.com/artist/1Pm6hTRjgSkT3B4FCQpW4g</td>\n",
       "    </tr>\n",
       "    <tr>\n",
       "      <th>2</th>\n",
       "      <td>Duende</td>\n",
       "      <td>0.463</td>\n",
       "      <td>https://open.spotify.com/artist/6RqzIj3qOKsNemp4GZMDH9</td>\n",
       "    </tr>\n",
       "    <tr>\n",
       "      <th>3</th>\n",
       "      <td>S-Tone Inc</td>\n",
       "      <td>0.418</td>\n",
       "      <td>https://open.spotify.com/artist/7MqGKGC1ckMmbYiVKOU0ZN</td>\n",
       "    </tr>\n",
       "    <tr>\n",
       "      <th>4</th>\n",
       "      <td>Ike Turner &amp; The Kings Of Rhythm</td>\n",
       "      <td>0.386</td>\n",
       "      <td>https://open.spotify.com/artist/47V7QCymL7BMSADw2RrKdD</td>\n",
       "    </tr>\n",
       "  </tbody>\n",
       "</table>"
      ],
      "text/plain": [
       "<IPython.core.display.HTML object>"
      ]
     },
     "metadata": {},
     "output_type": "display_data"
    },
    {
     "name": "stdout",
     "output_type": "stream",
     "text": [
      "Tyler, The Creator\n"
     ]
    },
    {
     "data": {
      "text/html": [
       "<table border=\"1\" class=\"dataframe\">\n",
       "  <thead>\n",
       "    <tr style=\"text-align: right;\">\n",
       "      <th></th>\n",
       "      <th>name</th>\n",
       "      <th>score</th>\n",
       "      <th>link</th>\n",
       "    </tr>\n",
       "  </thead>\n",
       "  <tbody>\n",
       "    <tr>\n",
       "      <th>0</th>\n",
       "      <td>Naotaro Moriyama</td>\n",
       "      <td>0.733</td>\n",
       "      <td>https://open.spotify.com/artist/31VPfrPEa86aKpD2LT3Ued</td>\n",
       "    </tr>\n",
       "    <tr>\n",
       "      <th>1</th>\n",
       "      <td>Connie Stevens</td>\n",
       "      <td>0.480</td>\n",
       "      <td>https://open.spotify.com/artist/5dg9jB2sji4asJtjihC9AE</td>\n",
       "    </tr>\n",
       "    <tr>\n",
       "      <th>2</th>\n",
       "      <td>Ricardo \"Richie\" Ray</td>\n",
       "      <td>0.463</td>\n",
       "      <td>https://open.spotify.com/artist/2spUXl3eKq2URO97haSzAc</td>\n",
       "    </tr>\n",
       "    <tr>\n",
       "      <th>3</th>\n",
       "      <td>Robert Parker</td>\n",
       "      <td>0.450</td>\n",
       "      <td>https://open.spotify.com/artist/7FlUCXHUxNEOk2exJUiqp1</td>\n",
       "    </tr>\n",
       "    <tr>\n",
       "      <th>4</th>\n",
       "      <td>Shelley Fabares</td>\n",
       "      <td>0.441</td>\n",
       "      <td>https://open.spotify.com/artist/6ZID5oFfvvgzIRrqXaTJSy</td>\n",
       "    </tr>\n",
       "  </tbody>\n",
       "</table>"
      ],
      "text/plain": [
       "<IPython.core.display.HTML object>"
      ]
     },
     "metadata": {},
     "output_type": "display_data"
    }
   ],
   "source": [
    "# Kanye West, Anderson Paak, Tyler the Creator\n",
    "display_recs(['5K4W6rqBFWDnAN6FQUkS6x', '3jK9MiCrA42lLAdMGUZpwa', '4V8LLVI7PbaPR0K2TGSxFF'],\n",
    "            artists_per_cluster)\n"
   ]
  },
  {
   "cell_type": "markdown",
   "metadata": {},
   "source": [
    "# Daniel (14)"
   ]
  },
  {
   "cell_type": "code",
   "execution_count": 106,
   "metadata": {},
   "outputs": [
    {
     "data": {
      "text/html": [
       "<div>\n",
       "<style scoped>\n",
       "    .dataframe tbody tr th:only-of-type {\n",
       "        vertical-align: middle;\n",
       "    }\n",
       "\n",
       "    .dataframe tbody tr th {\n",
       "        vertical-align: top;\n",
       "    }\n",
       "\n",
       "    .dataframe thead th {\n",
       "        text-align: right;\n",
       "    }\n",
       "</style>\n",
       "<table border=\"1\" class=\"dataframe\">\n",
       "  <thead>\n",
       "    <tr style=\"text-align: right;\">\n",
       "      <th></th>\n",
       "      <th>name</th>\n",
       "      <th>popular</th>\n",
       "      <th>sid</th>\n",
       "      <th>link</th>\n",
       "    </tr>\n",
       "  </thead>\n",
       "  <tbody>\n",
       "    <tr>\n",
       "      <th>0</th>\n",
       "      <td>Led Zeppelin</td>\n",
       "      <td>True</td>\n",
       "      <td>36QJpDe2go2KgaRleHCDTp</td>\n",
       "      <td>https://open.spotify.com/artist/36QJpDe2go2KgaRleHCDTp</td>\n",
       "    </tr>\n",
       "  </tbody>\n",
       "</table>\n",
       "</div>"
      ],
      "text/plain": [
       "           name popular                     sid  \\\n",
       "0  Led Zeppelin    True  36QJpDe2go2KgaRleHCDTp   \n",
       "\n",
       "                                                     link  \n",
       "0  https://open.spotify.com/artist/36QJpDe2go2KgaRleHCDTp  "
      ]
     },
     "execution_count": 106,
     "metadata": {},
     "output_type": "execute_result"
    }
   ],
   "source": [
    "f4.s_name_find('Led Zeppelin')"
   ]
  },
  {
   "cell_type": "code",
   "execution_count": 107,
   "metadata": {},
   "outputs": [
    {
     "data": {
      "text/html": [
       "<div>\n",
       "<style scoped>\n",
       "    .dataframe tbody tr th:only-of-type {\n",
       "        vertical-align: middle;\n",
       "    }\n",
       "\n",
       "    .dataframe tbody tr th {\n",
       "        vertical-align: top;\n",
       "    }\n",
       "\n",
       "    .dataframe thead th {\n",
       "        text-align: right;\n",
       "    }\n",
       "</style>\n",
       "<table border=\"1\" class=\"dataframe\">\n",
       "  <thead>\n",
       "    <tr style=\"text-align: right;\">\n",
       "      <th></th>\n",
       "      <th>name</th>\n",
       "      <th>popular</th>\n",
       "      <th>sid</th>\n",
       "      <th>link</th>\n",
       "    </tr>\n",
       "  </thead>\n",
       "  <tbody>\n",
       "    <tr>\n",
       "      <th>0</th>\n",
       "      <td>Eminem</td>\n",
       "      <td>True</td>\n",
       "      <td>7dGJo4pcD2V6oG8kP0tJRR</td>\n",
       "      <td>https://open.spotify.com/artist/7dGJo4pcD2V6oG8kP0tJRR</td>\n",
       "    </tr>\n",
       "  </tbody>\n",
       "</table>\n",
       "</div>"
      ],
      "text/plain": [
       "     name popular                     sid  \\\n",
       "0  Eminem    True  7dGJo4pcD2V6oG8kP0tJRR   \n",
       "\n",
       "                                                     link  \n",
       "0  https://open.spotify.com/artist/7dGJo4pcD2V6oG8kP0tJRR  "
      ]
     },
     "execution_count": 107,
     "metadata": {},
     "output_type": "execute_result"
    }
   ],
   "source": [
    "f4.s_name_find('Eminem')"
   ]
  },
  {
   "cell_type": "code",
   "execution_count": 108,
   "metadata": {},
   "outputs": [
    {
     "data": {
      "text/html": [
       "<div>\n",
       "<style scoped>\n",
       "    .dataframe tbody tr th:only-of-type {\n",
       "        vertical-align: middle;\n",
       "    }\n",
       "\n",
       "    .dataframe tbody tr th {\n",
       "        vertical-align: top;\n",
       "    }\n",
       "\n",
       "    .dataframe thead th {\n",
       "        text-align: right;\n",
       "    }\n",
       "</style>\n",
       "<table border=\"1\" class=\"dataframe\">\n",
       "  <thead>\n",
       "    <tr style=\"text-align: right;\">\n",
       "      <th></th>\n",
       "      <th>name</th>\n",
       "      <th>popular</th>\n",
       "      <th>sid</th>\n",
       "      <th>link</th>\n",
       "    </tr>\n",
       "  </thead>\n",
       "  <tbody>\n",
       "    <tr>\n",
       "      <th>0</th>\n",
       "      <td>Royce Da 5'9\"</td>\n",
       "      <td>True</td>\n",
       "      <td>6DVipHzYsPlIoA0DW8Gmns</td>\n",
       "      <td>https://open.spotify.com/artist/6DVipHzYsPlIoA0DW8Gmns</td>\n",
       "    </tr>\n",
       "  </tbody>\n",
       "</table>\n",
       "</div>"
      ],
      "text/plain": [
       "            name popular                     sid  \\\n",
       "0  Royce Da 5'9\"    True  6DVipHzYsPlIoA0DW8Gmns   \n",
       "\n",
       "                                                     link  \n",
       "0  https://open.spotify.com/artist/6DVipHzYsPlIoA0DW8Gmns  "
      ]
     },
     "execution_count": 108,
     "metadata": {},
     "output_type": "execute_result"
    }
   ],
   "source": [
    "f4.t_uname_find('Royceda59')"
   ]
  },
  {
   "cell_type": "code",
   "execution_count": 109,
   "metadata": {},
   "outputs": [
    {
     "data": {
      "text/html": [
       "<div>\n",
       "<style scoped>\n",
       "    .dataframe tbody tr th:only-of-type {\n",
       "        vertical-align: middle;\n",
       "    }\n",
       "\n",
       "    .dataframe tbody tr th {\n",
       "        vertical-align: top;\n",
       "    }\n",
       "\n",
       "    .dataframe thead th {\n",
       "        text-align: right;\n",
       "    }\n",
       "</style>\n",
       "<table border=\"1\" class=\"dataframe\">\n",
       "  <thead>\n",
       "    <tr style=\"text-align: right;\">\n",
       "      <th></th>\n",
       "      <th>name</th>\n",
       "      <th>popular</th>\n",
       "      <th>sid</th>\n",
       "      <th>link</th>\n",
       "    </tr>\n",
       "  </thead>\n",
       "  <tbody>\n",
       "    <tr>\n",
       "      <th>0</th>\n",
       "      <td>ScHoolboy Q</td>\n",
       "      <td>True</td>\n",
       "      <td>5IcR3N7QB1j6KBL8eImZ8m</td>\n",
       "      <td>https://open.spotify.com/artist/5IcR3N7QB1j6KBL8eImZ8m</td>\n",
       "    </tr>\n",
       "  </tbody>\n",
       "</table>\n",
       "</div>"
      ],
      "text/plain": [
       "          name popular                     sid  \\\n",
       "0  ScHoolboy Q    True  5IcR3N7QB1j6KBL8eImZ8m   \n",
       "\n",
       "                                                     link  \n",
       "0  https://open.spotify.com/artist/5IcR3N7QB1j6KBL8eImZ8m  "
      ]
     },
     "execution_count": 109,
     "metadata": {},
     "output_type": "execute_result"
    }
   ],
   "source": [
    "f4.s_name_find('ScHoolboy Q')"
   ]
  },
  {
   "cell_type": "code",
   "execution_count": 110,
   "metadata": {},
   "outputs": [
    {
     "data": {
      "text/html": [
       "<div>\n",
       "<style scoped>\n",
       "    .dataframe tbody tr th:only-of-type {\n",
       "        vertical-align: middle;\n",
       "    }\n",
       "\n",
       "    .dataframe tbody tr th {\n",
       "        vertical-align: top;\n",
       "    }\n",
       "\n",
       "    .dataframe thead th {\n",
       "        text-align: right;\n",
       "    }\n",
       "</style>\n",
       "<table border=\"1\" class=\"dataframe\">\n",
       "  <thead>\n",
       "    <tr style=\"text-align: right;\">\n",
       "      <th></th>\n",
       "      <th>name</th>\n",
       "      <th>popular</th>\n",
       "      <th>sid</th>\n",
       "      <th>link</th>\n",
       "    </tr>\n",
       "  </thead>\n",
       "  <tbody>\n",
       "    <tr>\n",
       "      <th>0</th>\n",
       "      <td>Olivia Rodrigo</td>\n",
       "      <td>True</td>\n",
       "      <td>1McMsnEElThX1knmY4oliG</td>\n",
       "      <td>https://open.spotify.com/artist/1McMsnEElThX1knmY4oliG</td>\n",
       "    </tr>\n",
       "  </tbody>\n",
       "</table>\n",
       "</div>"
      ],
      "text/plain": [
       "             name popular                     sid  \\\n",
       "0  Olivia Rodrigo    True  1McMsnEElThX1knmY4oliG   \n",
       "\n",
       "                                                     link  \n",
       "0  https://open.spotify.com/artist/1McMsnEElThX1knmY4oliG  "
      ]
     },
     "execution_count": 110,
     "metadata": {},
     "output_type": "execute_result"
    }
   ],
   "source": [
    "f4.s_name_find('Olivia Rodrigo')"
   ]
  },
  {
   "cell_type": "code",
   "execution_count": 111,
   "metadata": {},
   "outputs": [
    {
     "name": "stdout",
     "output_type": "stream",
     "text": [
      "922 clusters\n",
      "\n",
      "Led Zeppelin\n"
     ]
    },
    {
     "data": {
      "text/html": [
       "<table border=\"1\" class=\"dataframe\">\n",
       "  <thead>\n",
       "    <tr style=\"text-align: right;\">\n",
       "      <th></th>\n",
       "      <th>name</th>\n",
       "      <th>score</th>\n",
       "      <th>link</th>\n",
       "    </tr>\n",
       "  </thead>\n",
       "  <tbody>\n",
       "    <tr>\n",
       "      <th>0</th>\n",
       "      <td>Sharkey Bonano</td>\n",
       "      <td>1.806</td>\n",
       "      <td>https://open.spotify.com/artist/4o2zkCpWF0zLf7NNpm7ZJM</td>\n",
       "    </tr>\n",
       "    <tr>\n",
       "      <th>1</th>\n",
       "      <td>Bonsaye</td>\n",
       "      <td>1.191</td>\n",
       "      <td>https://open.spotify.com/artist/1GL8uwuoUqjDP9Qs37FoFG</td>\n",
       "    </tr>\n",
       "    <tr>\n",
       "      <th>2</th>\n",
       "      <td>NKOHA</td>\n",
       "      <td>1.083</td>\n",
       "      <td>https://open.spotify.com/artist/74yb8EAWGPAcIUo6CFxKIR</td>\n",
       "    </tr>\n",
       "    <tr>\n",
       "      <th>3</th>\n",
       "      <td>Ortiz</td>\n",
       "      <td>0.932</td>\n",
       "      <td>https://open.spotify.com/artist/6nidPawoE1wPgAtFmeyXyR</td>\n",
       "    </tr>\n",
       "    <tr>\n",
       "      <th>4</th>\n",
       "      <td>Lennon &amp; Maisy</td>\n",
       "      <td>0.717</td>\n",
       "      <td>https://open.spotify.com/artist/720fJ5sGqAOhvU2IUypqIr</td>\n",
       "    </tr>\n",
       "  </tbody>\n",
       "</table>"
      ],
      "text/plain": [
       "<IPython.core.display.HTML object>"
      ]
     },
     "metadata": {},
     "output_type": "display_data"
    },
    {
     "name": "stdout",
     "output_type": "stream",
     "text": [
      "Eminem\n"
     ]
    },
    {
     "data": {
      "text/html": [
       "<table border=\"1\" class=\"dataframe\">\n",
       "  <thead>\n",
       "    <tr style=\"text-align: right;\">\n",
       "      <th></th>\n",
       "      <th>name</th>\n",
       "      <th>score</th>\n",
       "      <th>link</th>\n",
       "    </tr>\n",
       "  </thead>\n",
       "  <tbody>\n",
       "    <tr>\n",
       "      <th>0</th>\n",
       "      <td>Yailin la Mas Viral</td>\n",
       "      <td>0.695</td>\n",
       "      <td>https://open.spotify.com/artist/4ncaw2cfA3Wlly1tBD2eWt</td>\n",
       "    </tr>\n",
       "    <tr>\n",
       "      <th>1</th>\n",
       "      <td>Apashe</td>\n",
       "      <td>0.514</td>\n",
       "      <td>https://open.spotify.com/artist/1fd3fmwlhrDl2U5wbbPQYN</td>\n",
       "    </tr>\n",
       "    <tr>\n",
       "      <th>2</th>\n",
       "      <td>HyunA</td>\n",
       "      <td>0.320</td>\n",
       "      <td>https://open.spotify.com/artist/3UwlejyX2b458azZ7eCnHb</td>\n",
       "    </tr>\n",
       "    <tr>\n",
       "      <th>3</th>\n",
       "      <td>Frank Verkooyen</td>\n",
       "      <td>0.244</td>\n",
       "      <td>https://open.spotify.com/artist/4ufIflZBqkBtxKDjEJ624G</td>\n",
       "    </tr>\n",
       "    <tr>\n",
       "      <th>4</th>\n",
       "      <td>Dante Klein</td>\n",
       "      <td>0.151</td>\n",
       "      <td>https://open.spotify.com/artist/1b4DN8Vj0dnj5cceMFsRYN</td>\n",
       "    </tr>\n",
       "  </tbody>\n",
       "</table>"
      ],
      "text/plain": [
       "<IPython.core.display.HTML object>"
      ]
     },
     "metadata": {},
     "output_type": "display_data"
    },
    {
     "name": "stdout",
     "output_type": "stream",
     "text": [
      "Royce Da 5'9\"\n"
     ]
    },
    {
     "data": {
      "text/html": [
       "<table border=\"1\" class=\"dataframe\">\n",
       "  <thead>\n",
       "    <tr style=\"text-align: right;\">\n",
       "      <th></th>\n",
       "      <th>name</th>\n",
       "      <th>score</th>\n",
       "      <th>link</th>\n",
       "    </tr>\n",
       "  </thead>\n",
       "  <tbody>\n",
       "    <tr>\n",
       "      <th>0</th>\n",
       "      <td>Kamal Khan</td>\n",
       "      <td>4.333</td>\n",
       "      <td>https://open.spotify.com/artist/01DlVvmRpQFutrYzh0HmF8</td>\n",
       "    </tr>\n",
       "    <tr>\n",
       "      <th>1</th>\n",
       "      <td>Monkey Majik</td>\n",
       "      <td>2.723</td>\n",
       "      <td>https://open.spotify.com/artist/6U2dgcU46Iy9pF3RQBj5hG</td>\n",
       "    </tr>\n",
       "    <tr>\n",
       "      <th>2</th>\n",
       "      <td>Voltio</td>\n",
       "      <td>1.651</td>\n",
       "      <td>https://open.spotify.com/artist/3Okcq0dqLVlEFHRZ5t22bA</td>\n",
       "    </tr>\n",
       "    <tr>\n",
       "      <th>3</th>\n",
       "      <td>Arko</td>\n",
       "      <td>1.376</td>\n",
       "      <td>https://open.spotify.com/artist/6jf2eKjiPT6P18RbOSLzf0</td>\n",
       "    </tr>\n",
       "    <tr>\n",
       "      <th>4</th>\n",
       "      <td>Gina Thompson</td>\n",
       "      <td>1.368</td>\n",
       "      <td>https://open.spotify.com/artist/5u15ozs1bXTC2vJTPt2tpM</td>\n",
       "    </tr>\n",
       "  </tbody>\n",
       "</table>"
      ],
      "text/plain": [
       "<IPython.core.display.HTML object>"
      ]
     },
     "metadata": {},
     "output_type": "display_data"
    },
    {
     "name": "stdout",
     "output_type": "stream",
     "text": [
      "ScHoolboy Q\n"
     ]
    },
    {
     "data": {
      "text/html": [
       "<table border=\"1\" class=\"dataframe\">\n",
       "  <thead>\n",
       "    <tr style=\"text-align: right;\">\n",
       "      <th></th>\n",
       "      <th>name</th>\n",
       "      <th>score</th>\n",
       "      <th>link</th>\n",
       "    </tr>\n",
       "  </thead>\n",
       "  <tbody>\n",
       "    <tr>\n",
       "      <th>0</th>\n",
       "      <td>Syahiba Saufa</td>\n",
       "      <td>1.185</td>\n",
       "      <td>https://open.spotify.com/artist/1a8EV67v0WSk7czvboxGYz</td>\n",
       "    </tr>\n",
       "    <tr>\n",
       "      <th>1</th>\n",
       "      <td>AriBeatz</td>\n",
       "      <td>1.023</td>\n",
       "      <td>https://open.spotify.com/artist/6cNWiizYLCClZdnIvqU968</td>\n",
       "    </tr>\n",
       "    <tr>\n",
       "      <th>2</th>\n",
       "      <td>Elams</td>\n",
       "      <td>0.904</td>\n",
       "      <td>https://open.spotify.com/artist/2IoSLl3tqYMq9DzR0d6NJN</td>\n",
       "    </tr>\n",
       "    <tr>\n",
       "      <th>3</th>\n",
       "      <td>13 Organisé</td>\n",
       "      <td>0.776</td>\n",
       "      <td>https://open.spotify.com/artist/19u3RGWKsjmbg9eI6zAiNp</td>\n",
       "    </tr>\n",
       "    <tr>\n",
       "      <th>4</th>\n",
       "      <td>Popeda</td>\n",
       "      <td>0.749</td>\n",
       "      <td>https://open.spotify.com/artist/2bEPloIrEwXQwm9myrXW2P</td>\n",
       "    </tr>\n",
       "  </tbody>\n",
       "</table>"
      ],
      "text/plain": [
       "<IPython.core.display.HTML object>"
      ]
     },
     "metadata": {},
     "output_type": "display_data"
    },
    {
     "name": "stdout",
     "output_type": "stream",
     "text": [
      "Olivia Rodrigo\n"
     ]
    },
    {
     "data": {
      "text/html": [
       "<table border=\"1\" class=\"dataframe\">\n",
       "  <thead>\n",
       "    <tr style=\"text-align: right;\">\n",
       "      <th></th>\n",
       "      <th>name</th>\n",
       "      <th>score</th>\n",
       "      <th>link</th>\n",
       "    </tr>\n",
       "  </thead>\n",
       "  <tbody>\n",
       "    <tr>\n",
       "      <th>0</th>\n",
       "      <td>Elias Ayaviri</td>\n",
       "      <td>1.590</td>\n",
       "      <td>https://open.spotify.com/artist/30DQw23SjsbMLFlhia84jN</td>\n",
       "    </tr>\n",
       "    <tr>\n",
       "      <th>1</th>\n",
       "      <td>Nino Segarra</td>\n",
       "      <td>0.615</td>\n",
       "      <td>https://open.spotify.com/artist/7titF03HCJwxZeJ98nMWbK</td>\n",
       "    </tr>\n",
       "    <tr>\n",
       "      <th>2</th>\n",
       "      <td>Eddy Mitchell</td>\n",
       "      <td>0.608</td>\n",
       "      <td>https://open.spotify.com/artist/4KBk9hwqFYtGS3DlZJiCsQ</td>\n",
       "    </tr>\n",
       "    <tr>\n",
       "      <th>3</th>\n",
       "      <td>Def Cut</td>\n",
       "      <td>0.525</td>\n",
       "      <td>https://open.spotify.com/artist/0O1SCm1h1niAq8RUE0VwEs</td>\n",
       "    </tr>\n",
       "    <tr>\n",
       "      <th>4</th>\n",
       "      <td>The Bluetones</td>\n",
       "      <td>0.492</td>\n",
       "      <td>https://open.spotify.com/artist/66nOkPJTFgK25NMmojG04V</td>\n",
       "    </tr>\n",
       "  </tbody>\n",
       "</table>"
      ],
      "text/plain": [
       "<IPython.core.display.HTML object>"
      ]
     },
     "metadata": {},
     "output_type": "display_data"
    }
   ],
   "source": [
    "# Led Zeppelin, Eminem, Royce Da 5'9\", ScHoolboy Q, Olivia Rodrigo\n",
    "display_recs(['36QJpDe2go2KgaRleHCDTp', '7dGJo4pcD2V6oG8kP0tJRR', '6DVipHzYsPlIoA0DW8Gmns',\n",
    "             '5IcR3N7QB1j6KBL8eImZ8m', '1McMsnEElThX1knmY4oliG'], artists_per_cluster)\n"
   ]
  },
  {
   "cell_type": "markdown",
   "metadata": {},
   "source": [
    "# Emma (15)"
   ]
  },
  {
   "cell_type": "code",
   "execution_count": 113,
   "metadata": {},
   "outputs": [
    {
     "data": {
      "text/html": [
       "<div>\n",
       "<style scoped>\n",
       "    .dataframe tbody tr th:only-of-type {\n",
       "        vertical-align: middle;\n",
       "    }\n",
       "\n",
       "    .dataframe tbody tr th {\n",
       "        vertical-align: top;\n",
       "    }\n",
       "\n",
       "    .dataframe thead th {\n",
       "        text-align: right;\n",
       "    }\n",
       "</style>\n",
       "<table border=\"1\" class=\"dataframe\">\n",
       "  <thead>\n",
       "    <tr style=\"text-align: right;\">\n",
       "      <th></th>\n",
       "      <th>name</th>\n",
       "      <th>popular</th>\n",
       "      <th>sid</th>\n",
       "      <th>link</th>\n",
       "    </tr>\n",
       "  </thead>\n",
       "  <tbody>\n",
       "    <tr>\n",
       "      <th>0</th>\n",
       "      <td>BØRNS</td>\n",
       "      <td>True</td>\n",
       "      <td>1KP6TWI40m7p3QBTU6u2xo</td>\n",
       "      <td>https://open.spotify.com/artist/1KP6TWI40m7p3QBTU6u2xo</td>\n",
       "    </tr>\n",
       "  </tbody>\n",
       "</table>\n",
       "</div>"
      ],
      "text/plain": [
       "    name popular                     sid  \\\n",
       "0  BØRNS    True  1KP6TWI40m7p3QBTU6u2xo   \n",
       "\n",
       "                                                     link  \n",
       "0  https://open.spotify.com/artist/1KP6TWI40m7p3QBTU6u2xo  "
      ]
     },
     "execution_count": 113,
     "metadata": {},
     "output_type": "execute_result"
    }
   ],
   "source": [
    "f4.t_uname_find('bornsmusic')"
   ]
  },
  {
   "cell_type": "code",
   "execution_count": 114,
   "metadata": {},
   "outputs": [
    {
     "data": {
      "text/html": [
       "<div>\n",
       "<style scoped>\n",
       "    .dataframe tbody tr th:only-of-type {\n",
       "        vertical-align: middle;\n",
       "    }\n",
       "\n",
       "    .dataframe tbody tr th {\n",
       "        vertical-align: top;\n",
       "    }\n",
       "\n",
       "    .dataframe thead th {\n",
       "        text-align: right;\n",
       "    }\n",
       "</style>\n",
       "<table border=\"1\" class=\"dataframe\">\n",
       "  <thead>\n",
       "    <tr style=\"text-align: right;\">\n",
       "      <th></th>\n",
       "      <th>name</th>\n",
       "      <th>popular</th>\n",
       "      <th>sid</th>\n",
       "      <th>link</th>\n",
       "    </tr>\n",
       "  </thead>\n",
       "  <tbody>\n",
       "    <tr>\n",
       "      <th>0</th>\n",
       "      <td>Miike Snow</td>\n",
       "      <td>False</td>\n",
       "      <td>4l1cKWYW591xnwEGxpUg3J</td>\n",
       "      <td>https://open.spotify.com/artist/4l1cKWYW591xnwEGxpUg3J</td>\n",
       "    </tr>\n",
       "  </tbody>\n",
       "</table>\n",
       "</div>"
      ],
      "text/plain": [
       "         name popular                     sid  \\\n",
       "0  Miike Snow   False  4l1cKWYW591xnwEGxpUg3J   \n",
       "\n",
       "                                                     link  \n",
       "0  https://open.spotify.com/artist/4l1cKWYW591xnwEGxpUg3J  "
      ]
     },
     "execution_count": 114,
     "metadata": {},
     "output_type": "execute_result"
    }
   ],
   "source": [
    "f4.s_name_find('Miike Snow')"
   ]
  },
  {
   "cell_type": "code",
   "execution_count": 115,
   "metadata": {},
   "outputs": [
    {
     "data": {
      "text/html": [
       "<div>\n",
       "<style scoped>\n",
       "    .dataframe tbody tr th:only-of-type {\n",
       "        vertical-align: middle;\n",
       "    }\n",
       "\n",
       "    .dataframe tbody tr th {\n",
       "        vertical-align: top;\n",
       "    }\n",
       "\n",
       "    .dataframe thead th {\n",
       "        text-align: right;\n",
       "    }\n",
       "</style>\n",
       "<table border=\"1\" class=\"dataframe\">\n",
       "  <thead>\n",
       "    <tr style=\"text-align: right;\">\n",
       "      <th></th>\n",
       "      <th>name</th>\n",
       "      <th>popular</th>\n",
       "      <th>sid</th>\n",
       "      <th>link</th>\n",
       "    </tr>\n",
       "  </thead>\n",
       "  <tbody>\n",
       "    <tr>\n",
       "      <th>0</th>\n",
       "      <td>Vampire Weekend</td>\n",
       "      <td>True</td>\n",
       "      <td>5BvJzeQpmsdsFp4HGUYUEx</td>\n",
       "      <td>https://open.spotify.com/artist/5BvJzeQpmsdsFp4HGUYUEx</td>\n",
       "    </tr>\n",
       "  </tbody>\n",
       "</table>\n",
       "</div>"
      ],
      "text/plain": [
       "              name popular                     sid  \\\n",
       "0  Vampire Weekend    True  5BvJzeQpmsdsFp4HGUYUEx   \n",
       "\n",
       "                                                     link  \n",
       "0  https://open.spotify.com/artist/5BvJzeQpmsdsFp4HGUYUEx  "
      ]
     },
     "execution_count": 115,
     "metadata": {},
     "output_type": "execute_result"
    }
   ],
   "source": [
    "f4.s_name_find('Vampire Weekend')"
   ]
  },
  {
   "cell_type": "code",
   "execution_count": 117,
   "metadata": {},
   "outputs": [
    {
     "data": {
      "text/html": [
       "<div>\n",
       "<style scoped>\n",
       "    .dataframe tbody tr th:only-of-type {\n",
       "        vertical-align: middle;\n",
       "    }\n",
       "\n",
       "    .dataframe tbody tr th {\n",
       "        vertical-align: top;\n",
       "    }\n",
       "\n",
       "    .dataframe thead th {\n",
       "        text-align: right;\n",
       "    }\n",
       "</style>\n",
       "<table border=\"1\" class=\"dataframe\">\n",
       "  <thead>\n",
       "    <tr style=\"text-align: right;\">\n",
       "      <th></th>\n",
       "      <th>name</th>\n",
       "      <th>popular</th>\n",
       "      <th>sid</th>\n",
       "      <th>link</th>\n",
       "    </tr>\n",
       "  </thead>\n",
       "  <tbody>\n",
       "    <tr>\n",
       "      <th>0</th>\n",
       "      <td>The Neighbourhood</td>\n",
       "      <td>True</td>\n",
       "      <td>77SW9BnxLY8rJ0RciFqkHh</td>\n",
       "      <td>https://open.spotify.com/artist/77SW9BnxLY8rJ0RciFqkHh</td>\n",
       "    </tr>\n",
       "  </tbody>\n",
       "</table>\n",
       "</div>"
      ],
      "text/plain": [
       "                name popular                     sid  \\\n",
       "0  The Neighbourhood    True  77SW9BnxLY8rJ0RciFqkHh   \n",
       "\n",
       "                                                     link  \n",
       "0  https://open.spotify.com/artist/77SW9BnxLY8rJ0RciFqkHh  "
      ]
     },
     "execution_count": 117,
     "metadata": {},
     "output_type": "execute_result"
    }
   ],
   "source": [
    "f4.s_name_find('The Neighbourhood')"
   ]
  },
  {
   "cell_type": "code",
   "execution_count": 118,
   "metadata": {},
   "outputs": [
    {
     "data": {
      "text/html": [
       "<div>\n",
       "<style scoped>\n",
       "    .dataframe tbody tr th:only-of-type {\n",
       "        vertical-align: middle;\n",
       "    }\n",
       "\n",
       "    .dataframe tbody tr th {\n",
       "        vertical-align: top;\n",
       "    }\n",
       "\n",
       "    .dataframe thead th {\n",
       "        text-align: right;\n",
       "    }\n",
       "</style>\n",
       "<table border=\"1\" class=\"dataframe\">\n",
       "  <thead>\n",
       "    <tr style=\"text-align: right;\">\n",
       "      <th></th>\n",
       "      <th>name</th>\n",
       "      <th>popular</th>\n",
       "      <th>sid</th>\n",
       "      <th>link</th>\n",
       "    </tr>\n",
       "  </thead>\n",
       "  <tbody>\n",
       "    <tr>\n",
       "      <th>0</th>\n",
       "      <td>The Wombats</td>\n",
       "      <td>True</td>\n",
       "      <td>0Ya43ZKWHTKkAbkoJJkwIB</td>\n",
       "      <td>https://open.spotify.com/artist/0Ya43ZKWHTKkAbkoJJkwIB</td>\n",
       "    </tr>\n",
       "  </tbody>\n",
       "</table>\n",
       "</div>"
      ],
      "text/plain": [
       "          name popular                     sid  \\\n",
       "0  The Wombats    True  0Ya43ZKWHTKkAbkoJJkwIB   \n",
       "\n",
       "                                                     link  \n",
       "0  https://open.spotify.com/artist/0Ya43ZKWHTKkAbkoJJkwIB  "
      ]
     },
     "execution_count": 118,
     "metadata": {},
     "output_type": "execute_result"
    }
   ],
   "source": [
    "f4.s_name_find('The Wombats')"
   ]
  },
  {
   "cell_type": "code",
   "execution_count": 119,
   "metadata": {},
   "outputs": [
    {
     "name": "stdout",
     "output_type": "stream",
     "text": [
      "922 clusters\n",
      "\n",
      "BØRNS\n"
     ]
    },
    {
     "data": {
      "text/html": [
       "<table border=\"1\" class=\"dataframe\">\n",
       "  <thead>\n",
       "    <tr style=\"text-align: right;\">\n",
       "      <th></th>\n",
       "      <th>name</th>\n",
       "      <th>score</th>\n",
       "      <th>link</th>\n",
       "    </tr>\n",
       "  </thead>\n",
       "  <tbody>\n",
       "    <tr>\n",
       "      <th>0</th>\n",
       "      <td>Wolfgang Lohr</td>\n",
       "      <td>0.568</td>\n",
       "      <td>https://open.spotify.com/artist/5GImm0oU5MkW7OHkb91jwu</td>\n",
       "    </tr>\n",
       "    <tr>\n",
       "      <th>1</th>\n",
       "      <td>Jocas</td>\n",
       "      <td>0.462</td>\n",
       "      <td>https://open.spotify.com/artist/5TPKb5J7mAuZ1DXG4WPXT5</td>\n",
       "    </tr>\n",
       "    <tr>\n",
       "      <th>2</th>\n",
       "      <td>Tati Zaqui</td>\n",
       "      <td>0.460</td>\n",
       "      <td>https://open.spotify.com/artist/0e68cnJyUTJu1nEuxxMSLm</td>\n",
       "    </tr>\n",
       "    <tr>\n",
       "      <th>3</th>\n",
       "      <td>Benjamin Hav</td>\n",
       "      <td>0.459</td>\n",
       "      <td>https://open.spotify.com/artist/67pwWZtcg7U2P2keoeC9jW</td>\n",
       "    </tr>\n",
       "    <tr>\n",
       "      <th>4</th>\n",
       "      <td>IVIE</td>\n",
       "      <td>0.357</td>\n",
       "      <td>https://open.spotify.com/artist/2ol1cb6xyYpaxRTUsl1CYN</td>\n",
       "    </tr>\n",
       "  </tbody>\n",
       "</table>"
      ],
      "text/plain": [
       "<IPython.core.display.HTML object>"
      ]
     },
     "metadata": {},
     "output_type": "display_data"
    },
    {
     "name": "stdout",
     "output_type": "stream",
     "text": [
      "Vampire Weekend\n"
     ]
    },
    {
     "data": {
      "text/html": [
       "<table border=\"1\" class=\"dataframe\">\n",
       "  <thead>\n",
       "    <tr style=\"text-align: right;\">\n",
       "      <th></th>\n",
       "      <th>name</th>\n",
       "      <th>score</th>\n",
       "      <th>link</th>\n",
       "    </tr>\n",
       "  </thead>\n",
       "  <tbody>\n",
       "    <tr>\n",
       "      <th>0</th>\n",
       "      <td>Highsnob</td>\n",
       "      <td>0.763</td>\n",
       "      <td>https://open.spotify.com/artist/47RMRcPX8zWGaiMSZRuOd4</td>\n",
       "    </tr>\n",
       "    <tr>\n",
       "      <th>1</th>\n",
       "      <td>Alvin Cash &amp; The Crawlers</td>\n",
       "      <td>0.729</td>\n",
       "      <td>https://open.spotify.com/artist/3bKRu4SjS8I0y7yWhvFfWw</td>\n",
       "    </tr>\n",
       "    <tr>\n",
       "      <th>2</th>\n",
       "      <td>M People</td>\n",
       "      <td>0.726</td>\n",
       "      <td>https://open.spotify.com/artist/3lcbKPLl0ci2mKRdcP5Etf</td>\n",
       "    </tr>\n",
       "    <tr>\n",
       "      <th>3</th>\n",
       "      <td>Kryder</td>\n",
       "      <td>0.621</td>\n",
       "      <td>https://open.spotify.com/artist/1xfLBmx0n8DQri9HxJsq9O</td>\n",
       "    </tr>\n",
       "    <tr>\n",
       "      <th>4</th>\n",
       "      <td>Matute</td>\n",
       "      <td>0.564</td>\n",
       "      <td>https://open.spotify.com/artist/6z7mf1FeKhq3GFy73o6PvC</td>\n",
       "    </tr>\n",
       "  </tbody>\n",
       "</table>"
      ],
      "text/plain": [
       "<IPython.core.display.HTML object>"
      ]
     },
     "metadata": {},
     "output_type": "display_data"
    },
    {
     "name": "stdout",
     "output_type": "stream",
     "text": [
      "The Neighbourhood\n"
     ]
    },
    {
     "data": {
      "text/html": [
       "<table border=\"1\" class=\"dataframe\">\n",
       "  <thead>\n",
       "    <tr style=\"text-align: right;\">\n",
       "      <th></th>\n",
       "      <th>name</th>\n",
       "      <th>score</th>\n",
       "      <th>link</th>\n",
       "    </tr>\n",
       "  </thead>\n",
       "  <tbody>\n",
       "    <tr>\n",
       "      <th>0</th>\n",
       "      <td>Bonde R300</td>\n",
       "      <td>1.563</td>\n",
       "      <td>https://open.spotify.com/artist/5rhznZjKfSxtKVqB0JZtpC</td>\n",
       "    </tr>\n",
       "    <tr>\n",
       "      <th>1</th>\n",
       "      <td>VICTON</td>\n",
       "      <td>1.162</td>\n",
       "      <td>https://open.spotify.com/artist/0ziR2zN0NFcB4x1G3P8cW3</td>\n",
       "    </tr>\n",
       "    <tr>\n",
       "      <th>2</th>\n",
       "      <td>Noisestorm</td>\n",
       "      <td>1.162</td>\n",
       "      <td>https://open.spotify.com/artist/2BuSNpxpMGJGiAAWJYJT2t</td>\n",
       "    </tr>\n",
       "    <tr>\n",
       "      <th>3</th>\n",
       "      <td>BRADIO</td>\n",
       "      <td>1.005</td>\n",
       "      <td>https://open.spotify.com/artist/4bykb0rz2eT2t2kzihCsne</td>\n",
       "    </tr>\n",
       "    <tr>\n",
       "      <th>4</th>\n",
       "      <td>Mc Lipi</td>\n",
       "      <td>0.808</td>\n",
       "      <td>https://open.spotify.com/artist/0cjkWe9VXcECGiOEHFuTfc</td>\n",
       "    </tr>\n",
       "  </tbody>\n",
       "</table>"
      ],
      "text/plain": [
       "<IPython.core.display.HTML object>"
      ]
     },
     "metadata": {},
     "output_type": "display_data"
    },
    {
     "name": "stdout",
     "output_type": "stream",
     "text": [
      "The Wombats\n"
     ]
    },
    {
     "data": {
      "text/html": [
       "<table border=\"1\" class=\"dataframe\">\n",
       "  <thead>\n",
       "    <tr style=\"text-align: right;\">\n",
       "      <th></th>\n",
       "      <th>name</th>\n",
       "      <th>score</th>\n",
       "      <th>link</th>\n",
       "    </tr>\n",
       "  </thead>\n",
       "  <tbody>\n",
       "    <tr>\n",
       "      <th>0</th>\n",
       "      <td>Salserin</td>\n",
       "      <td>0.701</td>\n",
       "      <td>https://open.spotify.com/artist/7is4d4FP9QUaV99j5kKDNT</td>\n",
       "    </tr>\n",
       "    <tr>\n",
       "      <th>1</th>\n",
       "      <td>KIMSEJEONG</td>\n",
       "      <td>0.661</td>\n",
       "      <td>https://open.spotify.com/artist/1lFLniFTaPjYCtQZvDXpqu</td>\n",
       "    </tr>\n",
       "    <tr>\n",
       "      <th>2</th>\n",
       "      <td>Masew</td>\n",
       "      <td>0.470</td>\n",
       "      <td>https://open.spotify.com/artist/3nGqUwkJHiLPDECMVrX1Sq</td>\n",
       "    </tr>\n",
       "    <tr>\n",
       "      <th>3</th>\n",
       "      <td>Creed Fisher</td>\n",
       "      <td>0.433</td>\n",
       "      <td>https://open.spotify.com/artist/03UZwtrCiMR9P10LcjQ5Wu</td>\n",
       "    </tr>\n",
       "    <tr>\n",
       "      <th>4</th>\n",
       "      <td>Kalafina</td>\n",
       "      <td>0.354</td>\n",
       "      <td>https://open.spotify.com/artist/2otsTXVV2ZWZ8T5LPzsBhy</td>\n",
       "    </tr>\n",
       "  </tbody>\n",
       "</table>"
      ],
      "text/plain": [
       "<IPython.core.display.HTML object>"
      ]
     },
     "metadata": {},
     "output_type": "display_data"
    }
   ],
   "source": [
    "# Borns, Vampire Weekend, The Neighbourhood, The Wombats\n",
    "display_recs(['1KP6TWI40m7p3QBTU6u2xo', '5BvJzeQpmsdsFp4HGUYUEx', '77SW9BnxLY8rJ0RciFqkHh',\n",
    "             '0Ya43ZKWHTKkAbkoJJkwIB'], artists_per_cluster)\n"
   ]
  },
  {
   "cell_type": "markdown",
   "metadata": {},
   "source": [
    "# Chai (16)"
   ]
  },
  {
   "cell_type": "code",
   "execution_count": 120,
   "metadata": {},
   "outputs": [
    {
     "data": {
      "text/html": [
       "<div>\n",
       "<style scoped>\n",
       "    .dataframe tbody tr th:only-of-type {\n",
       "        vertical-align: middle;\n",
       "    }\n",
       "\n",
       "    .dataframe tbody tr th {\n",
       "        vertical-align: top;\n",
       "    }\n",
       "\n",
       "    .dataframe thead th {\n",
       "        text-align: right;\n",
       "    }\n",
       "</style>\n",
       "<table border=\"1\" class=\"dataframe\">\n",
       "  <thead>\n",
       "    <tr style=\"text-align: right;\">\n",
       "      <th></th>\n",
       "      <th>name</th>\n",
       "      <th>popular</th>\n",
       "      <th>sid</th>\n",
       "      <th>link</th>\n",
       "    </tr>\n",
       "  </thead>\n",
       "  <tbody>\n",
       "    <tr>\n",
       "      <th>0</th>\n",
       "      <td>BTS</td>\n",
       "      <td>True</td>\n",
       "      <td>3Nrfpe0tUJi4K4DXYWgMUX</td>\n",
       "      <td>https://open.spotify.com/artist/3Nrfpe0tUJi4K4DXYWgMUX</td>\n",
       "    </tr>\n",
       "  </tbody>\n",
       "</table>\n",
       "</div>"
      ],
      "text/plain": [
       "  name popular                     sid  \\\n",
       "0  BTS    True  3Nrfpe0tUJi4K4DXYWgMUX   \n",
       "\n",
       "                                                     link  \n",
       "0  https://open.spotify.com/artist/3Nrfpe0tUJi4K4DXYWgMUX  "
      ]
     },
     "execution_count": 120,
     "metadata": {},
     "output_type": "execute_result"
    }
   ],
   "source": [
    "f4.s_name_find('BTS')"
   ]
  },
  {
   "cell_type": "code",
   "execution_count": 121,
   "metadata": {},
   "outputs": [
    {
     "data": {
      "text/html": [
       "<div>\n",
       "<style scoped>\n",
       "    .dataframe tbody tr th:only-of-type {\n",
       "        vertical-align: middle;\n",
       "    }\n",
       "\n",
       "    .dataframe tbody tr th {\n",
       "        vertical-align: top;\n",
       "    }\n",
       "\n",
       "    .dataframe thead th {\n",
       "        text-align: right;\n",
       "    }\n",
       "</style>\n",
       "<table border=\"1\" class=\"dataframe\">\n",
       "  <thead>\n",
       "    <tr style=\"text-align: right;\">\n",
       "      <th></th>\n",
       "      <th>name</th>\n",
       "      <th>popular</th>\n",
       "      <th>sid</th>\n",
       "      <th>link</th>\n",
       "    </tr>\n",
       "  </thead>\n",
       "  <tbody>\n",
       "    <tr>\n",
       "      <th>0</th>\n",
       "      <td>BLACKPINK</td>\n",
       "      <td>True</td>\n",
       "      <td>41MozSoPIsD1dJM0CLPjZF</td>\n",
       "      <td>https://open.spotify.com/artist/41MozSoPIsD1dJM0CLPjZF</td>\n",
       "    </tr>\n",
       "  </tbody>\n",
       "</table>\n",
       "</div>"
      ],
      "text/plain": [
       "        name popular                     sid  \\\n",
       "0  BLACKPINK    True  41MozSoPIsD1dJM0CLPjZF   \n",
       "\n",
       "                                                     link  \n",
       "0  https://open.spotify.com/artist/41MozSoPIsD1dJM0CLPjZF  "
      ]
     },
     "execution_count": 121,
     "metadata": {},
     "output_type": "execute_result"
    }
   ],
   "source": [
    "f4.s_name_find('BLACKPINK')"
   ]
  },
  {
   "cell_type": "code",
   "execution_count": 122,
   "metadata": {},
   "outputs": [
    {
     "data": {
      "text/html": [
       "<div>\n",
       "<style scoped>\n",
       "    .dataframe tbody tr th:only-of-type {\n",
       "        vertical-align: middle;\n",
       "    }\n",
       "\n",
       "    .dataframe tbody tr th {\n",
       "        vertical-align: top;\n",
       "    }\n",
       "\n",
       "    .dataframe thead th {\n",
       "        text-align: right;\n",
       "    }\n",
       "</style>\n",
       "<table border=\"1\" class=\"dataframe\">\n",
       "  <thead>\n",
       "    <tr style=\"text-align: right;\">\n",
       "      <th></th>\n",
       "      <th>name</th>\n",
       "      <th>popular</th>\n",
       "      <th>sid</th>\n",
       "      <th>link</th>\n",
       "    </tr>\n",
       "  </thead>\n",
       "  <tbody>\n",
       "    <tr>\n",
       "      <th>0</th>\n",
       "      <td>Panic! At The Disco</td>\n",
       "      <td>True</td>\n",
       "      <td>20JZFwl6HVl6yg8a4H3ZqK</td>\n",
       "      <td>https://open.spotify.com/artist/20JZFwl6HVl6yg8a4H3ZqK</td>\n",
       "    </tr>\n",
       "  </tbody>\n",
       "</table>\n",
       "</div>"
      ],
      "text/plain": [
       "                  name popular                     sid  \\\n",
       "0  Panic! At The Disco    True  20JZFwl6HVl6yg8a4H3ZqK   \n",
       "\n",
       "                                                     link  \n",
       "0  https://open.spotify.com/artist/20JZFwl6HVl6yg8a4H3ZqK  "
      ]
     },
     "execution_count": 122,
     "metadata": {},
     "output_type": "execute_result"
    }
   ],
   "source": [
    "f4.s_name_find('Panic! At The Disco')"
   ]
  },
  {
   "cell_type": "code",
   "execution_count": 123,
   "metadata": {},
   "outputs": [
    {
     "data": {
      "text/html": [
       "<div>\n",
       "<style scoped>\n",
       "    .dataframe tbody tr th:only-of-type {\n",
       "        vertical-align: middle;\n",
       "    }\n",
       "\n",
       "    .dataframe tbody tr th {\n",
       "        vertical-align: top;\n",
       "    }\n",
       "\n",
       "    .dataframe thead th {\n",
       "        text-align: right;\n",
       "    }\n",
       "</style>\n",
       "<table border=\"1\" class=\"dataframe\">\n",
       "  <thead>\n",
       "    <tr style=\"text-align: right;\">\n",
       "      <th></th>\n",
       "      <th>name</th>\n",
       "      <th>popular</th>\n",
       "      <th>sid</th>\n",
       "      <th>link</th>\n",
       "    </tr>\n",
       "  </thead>\n",
       "  <tbody>\n",
       "    <tr>\n",
       "      <th>0</th>\n",
       "      <td>Coldplay</td>\n",
       "      <td>True</td>\n",
       "      <td>4gzpq5DPGxSnKTe4SA8HAU</td>\n",
       "      <td>https://open.spotify.com/artist/4gzpq5DPGxSnKTe4SA8HAU</td>\n",
       "    </tr>\n",
       "  </tbody>\n",
       "</table>\n",
       "</div>"
      ],
      "text/plain": [
       "       name popular                     sid  \\\n",
       "0  Coldplay    True  4gzpq5DPGxSnKTe4SA8HAU   \n",
       "\n",
       "                                                     link  \n",
       "0  https://open.spotify.com/artist/4gzpq5DPGxSnKTe4SA8HAU  "
      ]
     },
     "execution_count": 123,
     "metadata": {},
     "output_type": "execute_result"
    }
   ],
   "source": [
    "f4.s_name_find('Coldplay')"
   ]
  },
  {
   "cell_type": "code",
   "execution_count": 124,
   "metadata": {},
   "outputs": [
    {
     "data": {
      "text/html": [
       "<div>\n",
       "<style scoped>\n",
       "    .dataframe tbody tr th:only-of-type {\n",
       "        vertical-align: middle;\n",
       "    }\n",
       "\n",
       "    .dataframe tbody tr th {\n",
       "        vertical-align: top;\n",
       "    }\n",
       "\n",
       "    .dataframe thead th {\n",
       "        text-align: right;\n",
       "    }\n",
       "</style>\n",
       "<table border=\"1\" class=\"dataframe\">\n",
       "  <thead>\n",
       "    <tr style=\"text-align: right;\">\n",
       "      <th></th>\n",
       "      <th>name</th>\n",
       "      <th>popular</th>\n",
       "      <th>sid</th>\n",
       "      <th>link</th>\n",
       "    </tr>\n",
       "  </thead>\n",
       "  <tbody>\n",
       "    <tr>\n",
       "      <th>0</th>\n",
       "      <td>Rihanna</td>\n",
       "      <td>True</td>\n",
       "      <td>5pKCCKE2ajJHZ9KAiaK11H</td>\n",
       "      <td>https://open.spotify.com/artist/5pKCCKE2ajJHZ9KAiaK11H</td>\n",
       "    </tr>\n",
       "  </tbody>\n",
       "</table>\n",
       "</div>"
      ],
      "text/plain": [
       "      name popular                     sid  \\\n",
       "0  Rihanna    True  5pKCCKE2ajJHZ9KAiaK11H   \n",
       "\n",
       "                                                     link  \n",
       "0  https://open.spotify.com/artist/5pKCCKE2ajJHZ9KAiaK11H  "
      ]
     },
     "execution_count": 124,
     "metadata": {},
     "output_type": "execute_result"
    }
   ],
   "source": [
    "f4.s_name_find('Rihanna')"
   ]
  },
  {
   "cell_type": "code",
   "execution_count": 125,
   "metadata": {},
   "outputs": [
    {
     "data": {
      "text/html": [
       "<div>\n",
       "<style scoped>\n",
       "    .dataframe tbody tr th:only-of-type {\n",
       "        vertical-align: middle;\n",
       "    }\n",
       "\n",
       "    .dataframe tbody tr th {\n",
       "        vertical-align: top;\n",
       "    }\n",
       "\n",
       "    .dataframe thead th {\n",
       "        text-align: right;\n",
       "    }\n",
       "</style>\n",
       "<table border=\"1\" class=\"dataframe\">\n",
       "  <thead>\n",
       "    <tr style=\"text-align: right;\">\n",
       "      <th></th>\n",
       "      <th>name</th>\n",
       "      <th>popular</th>\n",
       "      <th>sid</th>\n",
       "      <th>link</th>\n",
       "    </tr>\n",
       "  </thead>\n",
       "  <tbody>\n",
       "    <tr>\n",
       "      <th>0</th>\n",
       "      <td>Snow Patrol</td>\n",
       "      <td>True</td>\n",
       "      <td>3rIZMv9rysU7JkLzEaC5Jp</td>\n",
       "      <td>https://open.spotify.com/artist/3rIZMv9rysU7JkLzEaC5Jp</td>\n",
       "    </tr>\n",
       "  </tbody>\n",
       "</table>\n",
       "</div>"
      ],
      "text/plain": [
       "          name popular                     sid  \\\n",
       "0  Snow Patrol    True  3rIZMv9rysU7JkLzEaC5Jp   \n",
       "\n",
       "                                                     link  \n",
       "0  https://open.spotify.com/artist/3rIZMv9rysU7JkLzEaC5Jp  "
      ]
     },
     "execution_count": 125,
     "metadata": {},
     "output_type": "execute_result"
    }
   ],
   "source": [
    "f4.s_name_find('Snow Patrol')"
   ]
  },
  {
   "cell_type": "code",
   "execution_count": 126,
   "metadata": {},
   "outputs": [
    {
     "name": "stdout",
     "output_type": "stream",
     "text": [
      "922 clusters\n",
      "\n",
      "BTS\n"
     ]
    },
    {
     "data": {
      "text/html": [
       "<table border=\"1\" class=\"dataframe\">\n",
       "  <thead>\n",
       "    <tr style=\"text-align: right;\">\n",
       "      <th></th>\n",
       "      <th>name</th>\n",
       "      <th>score</th>\n",
       "      <th>link</th>\n",
       "    </tr>\n",
       "  </thead>\n",
       "  <tbody>\n",
       "    <tr>\n",
       "      <th>0</th>\n",
       "      <td>Starley</td>\n",
       "      <td>2.595</td>\n",
       "      <td>https://open.spotify.com/artist/02A3cEvlLLCbIMVDrK2GHV</td>\n",
       "    </tr>\n",
       "    <tr>\n",
       "      <th>1</th>\n",
       "      <td>Loudblast</td>\n",
       "      <td>1.699</td>\n",
       "      <td>https://open.spotify.com/artist/5UK3wj86cVRSZHrteL8Lbt</td>\n",
       "    </tr>\n",
       "    <tr>\n",
       "      <th>2</th>\n",
       "      <td>Misery Index</td>\n",
       "      <td>1.475</td>\n",
       "      <td>https://open.spotify.com/artist/1kTUJy3zL57iEANLB9FpIA</td>\n",
       "    </tr>\n",
       "    <tr>\n",
       "      <th>3</th>\n",
       "      <td>Sachin-Jigar</td>\n",
       "      <td>1.415</td>\n",
       "      <td>https://open.spotify.com/artist/1mBydYMVBECdDmMfE2sEUO</td>\n",
       "    </tr>\n",
       "    <tr>\n",
       "      <th>4</th>\n",
       "      <td>Crumbsuckers</td>\n",
       "      <td>1.371</td>\n",
       "      <td>https://open.spotify.com/artist/0urAT7hBcZ7407s9hD9bRg</td>\n",
       "    </tr>\n",
       "  </tbody>\n",
       "</table>"
      ],
      "text/plain": [
       "<IPython.core.display.HTML object>"
      ]
     },
     "metadata": {},
     "output_type": "display_data"
    },
    {
     "name": "stdout",
     "output_type": "stream",
     "text": [
      "BLACKPINK\n"
     ]
    },
    {
     "data": {
      "text/html": [
       "<table border=\"1\" class=\"dataframe\">\n",
       "  <thead>\n",
       "    <tr style=\"text-align: right;\">\n",
       "      <th></th>\n",
       "      <th>name</th>\n",
       "      <th>score</th>\n",
       "      <th>link</th>\n",
       "    </tr>\n",
       "  </thead>\n",
       "  <tbody>\n",
       "    <tr>\n",
       "      <th>0</th>\n",
       "      <td>PSY</td>\n",
       "      <td>2.010</td>\n",
       "      <td>https://open.spotify.com/artist/2dd5mrQZvg6SmahdgVKDzh</td>\n",
       "    </tr>\n",
       "    <tr>\n",
       "      <th>1</th>\n",
       "      <td>Hord</td>\n",
       "      <td>1.152</td>\n",
       "      <td>https://open.spotify.com/artist/7MjAq0rgwcnAZt7P3k65ol</td>\n",
       "    </tr>\n",
       "    <tr>\n",
       "      <th>2</th>\n",
       "      <td>The Biz</td>\n",
       "      <td>1.011</td>\n",
       "      <td>https://open.spotify.com/artist/1jQDgp9Fak4WYVZedWLF4G</td>\n",
       "    </tr>\n",
       "    <tr>\n",
       "      <th>3</th>\n",
       "      <td>Ronny Douglas</td>\n",
       "      <td>0.856</td>\n",
       "      <td>https://open.spotify.com/artist/7Gk7zQEIcdvEBjcGJeRPcX</td>\n",
       "    </tr>\n",
       "    <tr>\n",
       "      <th>4</th>\n",
       "      <td>Tokyo Machine</td>\n",
       "      <td>0.778</td>\n",
       "      <td>https://open.spotify.com/artist/3bwENxqj9nhaAI3fsAwmv9</td>\n",
       "    </tr>\n",
       "  </tbody>\n",
       "</table>"
      ],
      "text/plain": [
       "<IPython.core.display.HTML object>"
      ]
     },
     "metadata": {},
     "output_type": "display_data"
    },
    {
     "name": "stdout",
     "output_type": "stream",
     "text": [
      "Panic! At The Disco\n"
     ]
    },
    {
     "data": {
      "text/html": [
       "<table border=\"1\" class=\"dataframe\">\n",
       "  <thead>\n",
       "    <tr style=\"text-align: right;\">\n",
       "      <th></th>\n",
       "      <th>name</th>\n",
       "      <th>score</th>\n",
       "      <th>link</th>\n",
       "    </tr>\n",
       "  </thead>\n",
       "  <tbody>\n",
       "    <tr>\n",
       "      <th>0</th>\n",
       "      <td>Hugo &amp; Vitor</td>\n",
       "      <td>0.662</td>\n",
       "      <td>https://open.spotify.com/artist/3rbG069NuFKBCXYPoGjB9g</td>\n",
       "    </tr>\n",
       "    <tr>\n",
       "      <th>1</th>\n",
       "      <td>Lillasyster</td>\n",
       "      <td>0.619</td>\n",
       "      <td>https://open.spotify.com/artist/34uGMERnU9XHnmQDnK03Gj</td>\n",
       "    </tr>\n",
       "    <tr>\n",
       "      <th>2</th>\n",
       "      <td>Los Alegres de la Sierra</td>\n",
       "      <td>0.561</td>\n",
       "      <td>https://open.spotify.com/artist/4Yfe8uXcl5PYwknQ4OMZIP</td>\n",
       "    </tr>\n",
       "    <tr>\n",
       "      <th>3</th>\n",
       "      <td>Andrew Spencer &amp; The Vamprockerz</td>\n",
       "      <td>0.432</td>\n",
       "      <td>https://open.spotify.com/artist/6Zu1fmKgelxNounSMsGxNn</td>\n",
       "    </tr>\n",
       "    <tr>\n",
       "      <th>4</th>\n",
       "      <td>Lichtenfels</td>\n",
       "      <td>0.389</td>\n",
       "      <td>https://open.spotify.com/artist/4dXAmqXc083u4CuCjyAVrX</td>\n",
       "    </tr>\n",
       "  </tbody>\n",
       "</table>"
      ],
      "text/plain": [
       "<IPython.core.display.HTML object>"
      ]
     },
     "metadata": {},
     "output_type": "display_data"
    },
    {
     "name": "stdout",
     "output_type": "stream",
     "text": [
      "Coldplay\n"
     ]
    },
    {
     "data": {
      "text/html": [
       "<table border=\"1\" class=\"dataframe\">\n",
       "  <thead>\n",
       "    <tr style=\"text-align: right;\">\n",
       "      <th></th>\n",
       "      <th>name</th>\n",
       "      <th>score</th>\n",
       "      <th>link</th>\n",
       "    </tr>\n",
       "  </thead>\n",
       "  <tbody>\n",
       "    <tr>\n",
       "      <th>0</th>\n",
       "      <td>La Decima Banda</td>\n",
       "      <td>0.812</td>\n",
       "      <td>https://open.spotify.com/artist/1C2CCqiE3rxq2H4ErMzz9U</td>\n",
       "    </tr>\n",
       "    <tr>\n",
       "      <th>1</th>\n",
       "      <td>Nick Strand</td>\n",
       "      <td>0.489</td>\n",
       "      <td>https://open.spotify.com/artist/5nFFSwxKDNlZyHEYl48YTd</td>\n",
       "    </tr>\n",
       "    <tr>\n",
       "      <th>2</th>\n",
       "      <td>The Beau-Marks</td>\n",
       "      <td>0.488</td>\n",
       "      <td>https://open.spotify.com/artist/4DdKwKjWP5k7tuT8RyMRQ3</td>\n",
       "    </tr>\n",
       "    <tr>\n",
       "      <th>3</th>\n",
       "      <td>Kuwada</td>\n",
       "      <td>0.463</td>\n",
       "      <td>https://open.spotify.com/artist/66LFdGYtbmJ6G8sArrkfsu</td>\n",
       "    </tr>\n",
       "    <tr>\n",
       "      <th>4</th>\n",
       "      <td>Mugen Rao</td>\n",
       "      <td>0.373</td>\n",
       "      <td>https://open.spotify.com/artist/521uA5nxi1L31JgK6yd2lA</td>\n",
       "    </tr>\n",
       "  </tbody>\n",
       "</table>"
      ],
      "text/plain": [
       "<IPython.core.display.HTML object>"
      ]
     },
     "metadata": {},
     "output_type": "display_data"
    },
    {
     "name": "stdout",
     "output_type": "stream",
     "text": [
      "Rihanna\n"
     ]
    },
    {
     "data": {
      "text/html": [
       "<table border=\"1\" class=\"dataframe\">\n",
       "  <thead>\n",
       "    <tr style=\"text-align: right;\">\n",
       "      <th></th>\n",
       "      <th>name</th>\n",
       "      <th>score</th>\n",
       "      <th>link</th>\n",
       "    </tr>\n",
       "  </thead>\n",
       "  <tbody>\n",
       "    <tr>\n",
       "      <th>0</th>\n",
       "      <td>Antonio Rios</td>\n",
       "      <td>0.827</td>\n",
       "      <td>https://open.spotify.com/artist/7s652lD4v77szrPEfgMTBi</td>\n",
       "    </tr>\n",
       "    <tr>\n",
       "      <th>1</th>\n",
       "      <td>Wolfgang Lohr</td>\n",
       "      <td>0.599</td>\n",
       "      <td>https://open.spotify.com/artist/5GImm0oU5MkW7OHkb91jwu</td>\n",
       "    </tr>\n",
       "    <tr>\n",
       "      <th>2</th>\n",
       "      <td>Kartellen</td>\n",
       "      <td>0.578</td>\n",
       "      <td>https://open.spotify.com/artist/3kklzjWziqW7RX5jQjsRnb</td>\n",
       "    </tr>\n",
       "    <tr>\n",
       "      <th>3</th>\n",
       "      <td>AlunaGeorge</td>\n",
       "      <td>0.564</td>\n",
       "      <td>https://open.spotify.com/artist/2VAnyOxzJuSAj7XIuEOT38</td>\n",
       "    </tr>\n",
       "    <tr>\n",
       "      <th>4</th>\n",
       "      <td>IVIE</td>\n",
       "      <td>0.564</td>\n",
       "      <td>https://open.spotify.com/artist/2ol1cb6xyYpaxRTUsl1CYN</td>\n",
       "    </tr>\n",
       "  </tbody>\n",
       "</table>"
      ],
      "text/plain": [
       "<IPython.core.display.HTML object>"
      ]
     },
     "metadata": {},
     "output_type": "display_data"
    },
    {
     "name": "stdout",
     "output_type": "stream",
     "text": [
      "Snow Patrol\n"
     ]
    },
    {
     "data": {
      "text/html": [
       "<table border=\"1\" class=\"dataframe\">\n",
       "  <thead>\n",
       "    <tr style=\"text-align: right;\">\n",
       "      <th></th>\n",
       "      <th>name</th>\n",
       "      <th>score</th>\n",
       "      <th>link</th>\n",
       "    </tr>\n",
       "  </thead>\n",
       "  <tbody>\n",
       "    <tr>\n",
       "      <th>0</th>\n",
       "      <td>Karan Sehmbi</td>\n",
       "      <td>0.970</td>\n",
       "      <td>https://open.spotify.com/artist/0wmFEqpoc2FgAv8IPtCLBW</td>\n",
       "    </tr>\n",
       "    <tr>\n",
       "      <th>1</th>\n",
       "      <td>The Brecker Brothers</td>\n",
       "      <td>0.867</td>\n",
       "      <td>https://open.spotify.com/artist/45rpaf8BR69NIPqmeAYb7l</td>\n",
       "    </tr>\n",
       "    <tr>\n",
       "      <th>2</th>\n",
       "      <td>Tayna</td>\n",
       "      <td>0.506</td>\n",
       "      <td>https://open.spotify.com/artist/5Cj0xJrG2k8TPOJQ1vdAmZ</td>\n",
       "    </tr>\n",
       "    <tr>\n",
       "      <th>3</th>\n",
       "      <td>Rebecca Black</td>\n",
       "      <td>0.487</td>\n",
       "      <td>https://open.spotify.com/artist/3Vl9fyKMIdLMswk8ai3mm9</td>\n",
       "    </tr>\n",
       "    <tr>\n",
       "      <th>4</th>\n",
       "      <td>Job For A Cowboy</td>\n",
       "      <td>0.344</td>\n",
       "      <td>https://open.spotify.com/artist/5L3QTPofDwMPGlNnQkyHK1</td>\n",
       "    </tr>\n",
       "  </tbody>\n",
       "</table>"
      ],
      "text/plain": [
       "<IPython.core.display.HTML object>"
      ]
     },
     "metadata": {},
     "output_type": "display_data"
    }
   ],
   "source": [
    "# BTS, BLACKPINK, Panic! At The Disco, Coldplay, Rihanna, Snow Patrol\n",
    "display_recs(['3Nrfpe0tUJi4K4DXYWgMUX', '41MozSoPIsD1dJM0CLPjZF', '20JZFwl6HVl6yg8a4H3ZqK',\n",
    "             '4gzpq5DPGxSnKTe4SA8HAU', '5pKCCKE2ajJHZ9KAiaK11H', '3rIZMv9rysU7JkLzEaC5Jp'], artists_per_cluster)\n"
   ]
  },
  {
   "cell_type": "markdown",
   "metadata": {},
   "source": [
    "# Julie (17)"
   ]
  },
  {
   "cell_type": "code",
   "execution_count": 127,
   "metadata": {},
   "outputs": [
    {
     "data": {
      "text/html": [
       "<div>\n",
       "<style scoped>\n",
       "    .dataframe tbody tr th:only-of-type {\n",
       "        vertical-align: middle;\n",
       "    }\n",
       "\n",
       "    .dataframe tbody tr th {\n",
       "        vertical-align: top;\n",
       "    }\n",
       "\n",
       "    .dataframe thead th {\n",
       "        text-align: right;\n",
       "    }\n",
       "</style>\n",
       "<table border=\"1\" class=\"dataframe\">\n",
       "  <thead>\n",
       "    <tr style=\"text-align: right;\">\n",
       "      <th></th>\n",
       "      <th>name</th>\n",
       "      <th>popular</th>\n",
       "      <th>sid</th>\n",
       "      <th>link</th>\n",
       "    </tr>\n",
       "  </thead>\n",
       "  <tbody>\n",
       "    <tr>\n",
       "      <th>0</th>\n",
       "      <td>Adele</td>\n",
       "      <td>True</td>\n",
       "      <td>4dpARuHxo51G3z768sgnrY</td>\n",
       "      <td>https://open.spotify.com/artist/4dpARuHxo51G3z768sgnrY</td>\n",
       "    </tr>\n",
       "  </tbody>\n",
       "</table>\n",
       "</div>"
      ],
      "text/plain": [
       "    name popular                     sid  \\\n",
       "0  Adele    True  4dpARuHxo51G3z768sgnrY   \n",
       "\n",
       "                                                     link  \n",
       "0  https://open.spotify.com/artist/4dpARuHxo51G3z768sgnrY  "
      ]
     },
     "execution_count": 127,
     "metadata": {},
     "output_type": "execute_result"
    }
   ],
   "source": [
    "f4.s_name_find('Adele')"
   ]
  },
  {
   "cell_type": "code",
   "execution_count": 128,
   "metadata": {},
   "outputs": [
    {
     "data": {
      "text/html": [
       "<div>\n",
       "<style scoped>\n",
       "    .dataframe tbody tr th:only-of-type {\n",
       "        vertical-align: middle;\n",
       "    }\n",
       "\n",
       "    .dataframe tbody tr th {\n",
       "        vertical-align: top;\n",
       "    }\n",
       "\n",
       "    .dataframe thead th {\n",
       "        text-align: right;\n",
       "    }\n",
       "</style>\n",
       "<table border=\"1\" class=\"dataframe\">\n",
       "  <thead>\n",
       "    <tr style=\"text-align: right;\">\n",
       "      <th></th>\n",
       "      <th>name</th>\n",
       "      <th>popular</th>\n",
       "      <th>sid</th>\n",
       "      <th>link</th>\n",
       "    </tr>\n",
       "  </thead>\n",
       "  <tbody>\n",
       "    <tr>\n",
       "      <th>0</th>\n",
       "      <td>5 Seconds of Summer</td>\n",
       "      <td>True</td>\n",
       "      <td>5Rl15oVamLq7FbSb0NNBNy</td>\n",
       "      <td>https://open.spotify.com/artist/5Rl15oVamLq7FbSb0NNBNy</td>\n",
       "    </tr>\n",
       "  </tbody>\n",
       "</table>\n",
       "</div>"
      ],
      "text/plain": [
       "                  name popular                     sid  \\\n",
       "0  5 Seconds of Summer    True  5Rl15oVamLq7FbSb0NNBNy   \n",
       "\n",
       "                                                     link  \n",
       "0  https://open.spotify.com/artist/5Rl15oVamLq7FbSb0NNBNy  "
      ]
     },
     "execution_count": 128,
     "metadata": {},
     "output_type": "execute_result"
    }
   ],
   "source": [
    "f4.s_name_find('5 Seconds of Summer')"
   ]
  },
  {
   "cell_type": "code",
   "execution_count": 129,
   "metadata": {},
   "outputs": [
    {
     "data": {
      "text/html": [
       "<div>\n",
       "<style scoped>\n",
       "    .dataframe tbody tr th:only-of-type {\n",
       "        vertical-align: middle;\n",
       "    }\n",
       "\n",
       "    .dataframe tbody tr th {\n",
       "        vertical-align: top;\n",
       "    }\n",
       "\n",
       "    .dataframe thead th {\n",
       "        text-align: right;\n",
       "    }\n",
       "</style>\n",
       "<table border=\"1\" class=\"dataframe\">\n",
       "  <thead>\n",
       "    <tr style=\"text-align: right;\">\n",
       "      <th></th>\n",
       "      <th>name</th>\n",
       "      <th>popular</th>\n",
       "      <th>sid</th>\n",
       "      <th>link</th>\n",
       "    </tr>\n",
       "  </thead>\n",
       "  <tbody>\n",
       "    <tr>\n",
       "      <th>0</th>\n",
       "      <td>Imagine Dragons</td>\n",
       "      <td>True</td>\n",
       "      <td>53XhwfbYqKCa1cC15pYq2q</td>\n",
       "      <td>https://open.spotify.com/artist/53XhwfbYqKCa1cC15pYq2q</td>\n",
       "    </tr>\n",
       "  </tbody>\n",
       "</table>\n",
       "</div>"
      ],
      "text/plain": [
       "              name popular                     sid  \\\n",
       "0  Imagine Dragons    True  53XhwfbYqKCa1cC15pYq2q   \n",
       "\n",
       "                                                     link  \n",
       "0  https://open.spotify.com/artist/53XhwfbYqKCa1cC15pYq2q  "
      ]
     },
     "execution_count": 129,
     "metadata": {},
     "output_type": "execute_result"
    }
   ],
   "source": [
    "f4.s_name_find('Imagine Dragons')"
   ]
  },
  {
   "cell_type": "code",
   "execution_count": 130,
   "metadata": {},
   "outputs": [
    {
     "data": {
      "text/html": [
       "<div>\n",
       "<style scoped>\n",
       "    .dataframe tbody tr th:only-of-type {\n",
       "        vertical-align: middle;\n",
       "    }\n",
       "\n",
       "    .dataframe tbody tr th {\n",
       "        vertical-align: top;\n",
       "    }\n",
       "\n",
       "    .dataframe thead th {\n",
       "        text-align: right;\n",
       "    }\n",
       "</style>\n",
       "<table border=\"1\" class=\"dataframe\">\n",
       "  <thead>\n",
       "    <tr style=\"text-align: right;\">\n",
       "      <th></th>\n",
       "      <th>name</th>\n",
       "      <th>popular</th>\n",
       "      <th>sid</th>\n",
       "      <th>link</th>\n",
       "    </tr>\n",
       "  </thead>\n",
       "  <tbody>\n",
       "    <tr>\n",
       "      <th>0</th>\n",
       "      <td>Ariana Grande</td>\n",
       "      <td>True</td>\n",
       "      <td>66CXWjxzNUsdJxJ2JdwvnR</td>\n",
       "      <td>https://open.spotify.com/artist/66CXWjxzNUsdJxJ2JdwvnR</td>\n",
       "    </tr>\n",
       "  </tbody>\n",
       "</table>\n",
       "</div>"
      ],
      "text/plain": [
       "            name popular                     sid  \\\n",
       "0  Ariana Grande    True  66CXWjxzNUsdJxJ2JdwvnR   \n",
       "\n",
       "                                                     link  \n",
       "0  https://open.spotify.com/artist/66CXWjxzNUsdJxJ2JdwvnR  "
      ]
     },
     "execution_count": 130,
     "metadata": {},
     "output_type": "execute_result"
    }
   ],
   "source": [
    "f4.s_name_find('Ariana Grande')"
   ]
  },
  {
   "cell_type": "code",
   "execution_count": 133,
   "metadata": {},
   "outputs": [
    {
     "name": "stdout",
     "output_type": "stream",
     "text": [
      "We do not have Beyonce in our database\n"
     ]
    }
   ],
   "source": [
    "f4.t_uname_find('Beyonce')"
   ]
  },
  {
   "cell_type": "code",
   "execution_count": null,
   "metadata": {},
   "outputs": [],
   "source": [
    "display_recs(['4dpARuHxo51G3z768sgnrY', '5Rl15oVamLq7FbSb0NNBNy'])"
   ]
  },
  {
   "cell_type": "markdown",
   "metadata": {},
   "source": [
    "# Justin Tandon"
   ]
  },
  {
   "cell_type": "code",
   "execution_count": 12,
   "metadata": {},
   "outputs": [
    {
     "data": {
      "text/html": [
       "<div>\n",
       "<style scoped>\n",
       "    .dataframe tbody tr th:only-of-type {\n",
       "        vertical-align: middle;\n",
       "    }\n",
       "\n",
       "    .dataframe tbody tr th {\n",
       "        vertical-align: top;\n",
       "    }\n",
       "\n",
       "    .dataframe thead th {\n",
       "        text-align: right;\n",
       "    }\n",
       "</style>\n",
       "<table border=\"1\" class=\"dataframe\">\n",
       "  <thead>\n",
       "    <tr style=\"text-align: right;\">\n",
       "      <th></th>\n",
       "      <th>name</th>\n",
       "      <th>popular</th>\n",
       "      <th>sid</th>\n",
       "      <th>link</th>\n",
       "    </tr>\n",
       "  </thead>\n",
       "  <tbody>\n",
       "    <tr>\n",
       "      <th>0</th>\n",
       "      <td>Rex Orange County</td>\n",
       "      <td>True</td>\n",
       "      <td>7pbDxGE6nQSZVfiFdq9lOL</td>\n",
       "      <td>https://open.spotify.com/artist/7pbDxGE6nQSZVfiFdq9lOL</td>\n",
       "    </tr>\n",
       "  </tbody>\n",
       "</table>\n",
       "</div>"
      ],
      "text/plain": [
       "                name popular                     sid  \\\n",
       "0  Rex Orange County    True  7pbDxGE6nQSZVfiFdq9lOL   \n",
       "\n",
       "                                                     link  \n",
       "0  https://open.spotify.com/artist/7pbDxGE6nQSZVfiFdq9lOL  "
      ]
     },
     "execution_count": 12,
     "metadata": {},
     "output_type": "execute_result"
    }
   ],
   "source": [
    "f4.s_name_find('Rex Orange County')"
   ]
  },
  {
   "cell_type": "code",
   "execution_count": 13,
   "metadata": {},
   "outputs": [
    {
     "data": {
      "text/html": [
       "<div>\n",
       "<style scoped>\n",
       "    .dataframe tbody tr th:only-of-type {\n",
       "        vertical-align: middle;\n",
       "    }\n",
       "\n",
       "    .dataframe tbody tr th {\n",
       "        vertical-align: top;\n",
       "    }\n",
       "\n",
       "    .dataframe thead th {\n",
       "        text-align: right;\n",
       "    }\n",
       "</style>\n",
       "<table border=\"1\" class=\"dataframe\">\n",
       "  <thead>\n",
       "    <tr style=\"text-align: right;\">\n",
       "      <th></th>\n",
       "      <th>name</th>\n",
       "      <th>popular</th>\n",
       "      <th>sid</th>\n",
       "      <th>link</th>\n",
       "    </tr>\n",
       "  </thead>\n",
       "  <tbody>\n",
       "    <tr>\n",
       "      <th>0</th>\n",
       "      <td>Quinn XCII</td>\n",
       "      <td>True</td>\n",
       "      <td>3ApUX1o6oSz321MMECyIYd</td>\n",
       "      <td>https://open.spotify.com/artist/3ApUX1o6oSz321MMECyIYd</td>\n",
       "    </tr>\n",
       "  </tbody>\n",
       "</table>\n",
       "</div>"
      ],
      "text/plain": [
       "         name popular                     sid  \\\n",
       "0  Quinn XCII    True  3ApUX1o6oSz321MMECyIYd   \n",
       "\n",
       "                                                     link  \n",
       "0  https://open.spotify.com/artist/3ApUX1o6oSz321MMECyIYd  "
      ]
     },
     "execution_count": 13,
     "metadata": {},
     "output_type": "execute_result"
    }
   ],
   "source": [
    "f4.s_name_find('Quinn XCII')"
   ]
  },
  {
   "cell_type": "code",
   "execution_count": 14,
   "metadata": {},
   "outputs": [
    {
     "data": {
      "text/html": [
       "<div>\n",
       "<style scoped>\n",
       "    .dataframe tbody tr th:only-of-type {\n",
       "        vertical-align: middle;\n",
       "    }\n",
       "\n",
       "    .dataframe tbody tr th {\n",
       "        vertical-align: top;\n",
       "    }\n",
       "\n",
       "    .dataframe thead th {\n",
       "        text-align: right;\n",
       "    }\n",
       "</style>\n",
       "<table border=\"1\" class=\"dataframe\">\n",
       "  <thead>\n",
       "    <tr style=\"text-align: right;\">\n",
       "      <th></th>\n",
       "      <th>name</th>\n",
       "      <th>popular</th>\n",
       "      <th>sid</th>\n",
       "      <th>link</th>\n",
       "    </tr>\n",
       "  </thead>\n",
       "  <tbody>\n",
       "    <tr>\n",
       "      <th>0</th>\n",
       "      <td>Alec Benjamin</td>\n",
       "      <td>True</td>\n",
       "      <td>5IH6FPUwQTxPSXurCrcIov</td>\n",
       "      <td>https://open.spotify.com/artist/5IH6FPUwQTxPSXurCrcIov</td>\n",
       "    </tr>\n",
       "  </tbody>\n",
       "</table>\n",
       "</div>"
      ],
      "text/plain": [
       "            name popular                     sid  \\\n",
       "0  Alec Benjamin    True  5IH6FPUwQTxPSXurCrcIov   \n",
       "\n",
       "                                                     link  \n",
       "0  https://open.spotify.com/artist/5IH6FPUwQTxPSXurCrcIov  "
      ]
     },
     "execution_count": 14,
     "metadata": {},
     "output_type": "execute_result"
    }
   ],
   "source": [
    "f4.s_name_find('Alec Benjamin')"
   ]
  },
  {
   "cell_type": "code",
   "execution_count": 21,
   "metadata": {},
   "outputs": [
    {
     "name": "stdout",
     "output_type": "stream",
     "text": [
      "922 clusters\n",
      "\n",
      "Rex Orange County\n"
     ]
    },
    {
     "data": {
      "text/html": [
       "<table border=\"1\" class=\"dataframe\">\n",
       "  <thead>\n",
       "    <tr style=\"text-align: right;\">\n",
       "      <th></th>\n",
       "      <th>name</th>\n",
       "      <th>score</th>\n",
       "      <th>link</th>\n",
       "    </tr>\n",
       "  </thead>\n",
       "  <tbody>\n",
       "    <tr>\n",
       "      <th>0</th>\n",
       "      <td>Ran the Man</td>\n",
       "      <td>3.460</td>\n",
       "      <td>https://open.spotify.com/artist/69lVKiR03uaDrGqEgOC2gu</td>\n",
       "    </tr>\n",
       "    <tr>\n",
       "      <th>1</th>\n",
       "      <td>Buckeye</td>\n",
       "      <td>1.584</td>\n",
       "      <td>https://open.spotify.com/artist/0FY6bEUdu9VGQXiMFgo8ba</td>\n",
       "    </tr>\n",
       "    <tr>\n",
       "      <th>2</th>\n",
       "      <td>Jim Capaldi</td>\n",
       "      <td>1.451</td>\n",
       "      <td>https://open.spotify.com/artist/1XIbUq7y7kiMUhmp5dywGx</td>\n",
       "    </tr>\n",
       "    <tr>\n",
       "      <th>3</th>\n",
       "      <td>Colonel Bagshot</td>\n",
       "      <td>1.279</td>\n",
       "      <td>https://open.spotify.com/artist/1tmpv57VTq9XG346FRsgqW</td>\n",
       "    </tr>\n",
       "    <tr>\n",
       "      <th>4</th>\n",
       "      <td>Khalil Fong</td>\n",
       "      <td>1.156</td>\n",
       "      <td>https://open.spotify.com/artist/1YrtUPrWcPfgdl9BaD9nhd</td>\n",
       "    </tr>\n",
       "  </tbody>\n",
       "</table>"
      ],
      "text/plain": [
       "<IPython.core.display.HTML object>"
      ]
     },
     "metadata": {},
     "output_type": "display_data"
    },
    {
     "name": "stdout",
     "output_type": "stream",
     "text": [
      "Quinn XCII\n"
     ]
    },
    {
     "data": {
      "text/html": [
       "<table border=\"1\" class=\"dataframe\">\n",
       "  <thead>\n",
       "    <tr style=\"text-align: right;\">\n",
       "      <th></th>\n",
       "      <th>name</th>\n",
       "      <th>score</th>\n",
       "      <th>link</th>\n",
       "    </tr>\n",
       "  </thead>\n",
       "  <tbody>\n",
       "    <tr>\n",
       "      <th>0</th>\n",
       "      <td>Chase</td>\n",
       "      <td>0.434</td>\n",
       "      <td>https://open.spotify.com/artist/4vhSfR0qsVRgiUPA3gfZyO</td>\n",
       "    </tr>\n",
       "    <tr>\n",
       "      <th>1</th>\n",
       "      <td>El Coyote Y Su Banda Tierra Santa</td>\n",
       "      <td>0.181</td>\n",
       "      <td>https://open.spotify.com/artist/7sQ3Q6yYyg0SdpEezJN8UT</td>\n",
       "    </tr>\n",
       "    <tr>\n",
       "      <th>2</th>\n",
       "      <td>The Shamen</td>\n",
       "      <td>0.177</td>\n",
       "      <td>https://open.spotify.com/artist/5E704N5StxMVKpalhaJ5L3</td>\n",
       "    </tr>\n",
       "    <tr>\n",
       "      <th>3</th>\n",
       "      <td>Ikim &amp; Bacardi</td>\n",
       "      <td>0.135</td>\n",
       "      <td>https://open.spotify.com/artist/26FPXcpL0rDP7qhTMWp3zW</td>\n",
       "    </tr>\n",
       "    <tr>\n",
       "      <th>4</th>\n",
       "      <td>Dyland &amp; Lenny</td>\n",
       "      <td>0.126</td>\n",
       "      <td>https://open.spotify.com/artist/6EiZOxfG8B5evnLH4KnJeF</td>\n",
       "    </tr>\n",
       "  </tbody>\n",
       "</table>"
      ],
      "text/plain": [
       "<IPython.core.display.HTML object>"
      ]
     },
     "metadata": {},
     "output_type": "display_data"
    },
    {
     "name": "stdout",
     "output_type": "stream",
     "text": [
      "Alec Benjamin\n"
     ]
    },
    {
     "data": {
      "text/html": [
       "<table border=\"1\" class=\"dataframe\">\n",
       "  <thead>\n",
       "    <tr style=\"text-align: right;\">\n",
       "      <th></th>\n",
       "      <th>name</th>\n",
       "      <th>score</th>\n",
       "      <th>link</th>\n",
       "    </tr>\n",
       "  </thead>\n",
       "  <tbody>\n",
       "    <tr>\n",
       "      <th>0</th>\n",
       "      <td>Shooter Kahlon</td>\n",
       "      <td>0.930</td>\n",
       "      <td>https://open.spotify.com/artist/5oL0GAI8fKD0Wgbr4Em9AS</td>\n",
       "    </tr>\n",
       "    <tr>\n",
       "      <th>1</th>\n",
       "      <td>Major RD</td>\n",
       "      <td>0.839</td>\n",
       "      <td>https://open.spotify.com/artist/76hYPcWML9NGEh8LashwT5</td>\n",
       "    </tr>\n",
       "    <tr>\n",
       "      <th>2</th>\n",
       "      <td>Stratovarius</td>\n",
       "      <td>0.775</td>\n",
       "      <td>https://open.spotify.com/artist/1O8CSXsPwEqxcoBE360PPO</td>\n",
       "    </tr>\n",
       "    <tr>\n",
       "      <th>3</th>\n",
       "      <td>Queen Key</td>\n",
       "      <td>0.624</td>\n",
       "      <td>https://open.spotify.com/artist/3IhYHKVt0Q9vxCCwiCHahR</td>\n",
       "    </tr>\n",
       "    <tr>\n",
       "      <th>4</th>\n",
       "      <td>Lanie Gardner</td>\n",
       "      <td>0.446</td>\n",
       "      <td>https://open.spotify.com/artist/5lhCycgJCjQIMpWNk4DycY</td>\n",
       "    </tr>\n",
       "  </tbody>\n",
       "</table>"
      ],
      "text/plain": [
       "<IPython.core.display.HTML object>"
      ]
     },
     "metadata": {},
     "output_type": "display_data"
    }
   ],
   "source": [
    "display_recs(['7pbDxGE6nQSZVfiFdq9lOL', '3ApUX1o6oSz321MMECyIYd', '5IH6FPUwQTxPSXurCrcIov'], artists_per_cluster)"
   ]
  },
  {
   "cell_type": "markdown",
   "metadata": {},
   "source": [
    "# Sonali "
   ]
  },
  {
   "cell_type": "code",
   "execution_count": 22,
   "metadata": {},
   "outputs": [
    {
     "data": {
      "text/html": [
       "<div>\n",
       "<style scoped>\n",
       "    .dataframe tbody tr th:only-of-type {\n",
       "        vertical-align: middle;\n",
       "    }\n",
       "\n",
       "    .dataframe tbody tr th {\n",
       "        vertical-align: top;\n",
       "    }\n",
       "\n",
       "    .dataframe thead th {\n",
       "        text-align: right;\n",
       "    }\n",
       "</style>\n",
       "<table border=\"1\" class=\"dataframe\">\n",
       "  <thead>\n",
       "    <tr style=\"text-align: right;\">\n",
       "      <th></th>\n",
       "      <th>name</th>\n",
       "      <th>popular</th>\n",
       "      <th>sid</th>\n",
       "      <th>link</th>\n",
       "    </tr>\n",
       "  </thead>\n",
       "  <tbody>\n",
       "    <tr>\n",
       "      <th>0</th>\n",
       "      <td>Arijit Singh</td>\n",
       "      <td>False</td>\n",
       "      <td>4YRxDV8wJFPHPTeXepOstw</td>\n",
       "      <td>https://open.spotify.com/artist/4YRxDV8wJFPHPTeXepOstw</td>\n",
       "    </tr>\n",
       "  </tbody>\n",
       "</table>\n",
       "</div>"
      ],
      "text/plain": [
       "           name popular                     sid  \\\n",
       "0  Arijit Singh   False  4YRxDV8wJFPHPTeXepOstw   \n",
       "\n",
       "                                                     link  \n",
       "0  https://open.spotify.com/artist/4YRxDV8wJFPHPTeXepOstw  "
      ]
     },
     "execution_count": 22,
     "metadata": {},
     "output_type": "execute_result"
    }
   ],
   "source": [
    "f4.s_name_find('Arijit Singh')"
   ]
  },
  {
   "cell_type": "code",
   "execution_count": 23,
   "metadata": {},
   "outputs": [
    {
     "data": {
      "text/html": [
       "<div>\n",
       "<style scoped>\n",
       "    .dataframe tbody tr th:only-of-type {\n",
       "        vertical-align: middle;\n",
       "    }\n",
       "\n",
       "    .dataframe tbody tr th {\n",
       "        vertical-align: top;\n",
       "    }\n",
       "\n",
       "    .dataframe thead th {\n",
       "        text-align: right;\n",
       "    }\n",
       "</style>\n",
       "<table border=\"1\" class=\"dataframe\">\n",
       "  <thead>\n",
       "    <tr style=\"text-align: right;\">\n",
       "      <th></th>\n",
       "      <th>name</th>\n",
       "      <th>popular</th>\n",
       "      <th>sid</th>\n",
       "      <th>link</th>\n",
       "    </tr>\n",
       "  </thead>\n",
       "  <tbody>\n",
       "    <tr>\n",
       "      <th>0</th>\n",
       "      <td>Ritviz</td>\n",
       "      <td>False</td>\n",
       "      <td>72beYOeW2sb2yfcS4JsRvb</td>\n",
       "      <td>https://open.spotify.com/artist/72beYOeW2sb2yfcS4JsRvb</td>\n",
       "    </tr>\n",
       "  </tbody>\n",
       "</table>\n",
       "</div>"
      ],
      "text/plain": [
       "     name popular                     sid  \\\n",
       "0  Ritviz   False  72beYOeW2sb2yfcS4JsRvb   \n",
       "\n",
       "                                                     link  \n",
       "0  https://open.spotify.com/artist/72beYOeW2sb2yfcS4JsRvb  "
      ]
     },
     "execution_count": 23,
     "metadata": {},
     "output_type": "execute_result"
    }
   ],
   "source": [
    "f4.s_name_find('Ritviz')"
   ]
  },
  {
   "cell_type": "code",
   "execution_count": 24,
   "metadata": {},
   "outputs": [
    {
     "data": {
      "text/html": [
       "<div>\n",
       "<style scoped>\n",
       "    .dataframe tbody tr th:only-of-type {\n",
       "        vertical-align: middle;\n",
       "    }\n",
       "\n",
       "    .dataframe tbody tr th {\n",
       "        vertical-align: top;\n",
       "    }\n",
       "\n",
       "    .dataframe thead th {\n",
       "        text-align: right;\n",
       "    }\n",
       "</style>\n",
       "<table border=\"1\" class=\"dataframe\">\n",
       "  <thead>\n",
       "    <tr style=\"text-align: right;\">\n",
       "      <th></th>\n",
       "      <th>name</th>\n",
       "      <th>popular</th>\n",
       "      <th>sid</th>\n",
       "      <th>link</th>\n",
       "    </tr>\n",
       "  </thead>\n",
       "  <tbody>\n",
       "    <tr>\n",
       "      <th>0</th>\n",
       "      <td>Adele</td>\n",
       "      <td>True</td>\n",
       "      <td>4dpARuHxo51G3z768sgnrY</td>\n",
       "      <td>https://open.spotify.com/artist/4dpARuHxo51G3z768sgnrY</td>\n",
       "    </tr>\n",
       "  </tbody>\n",
       "</table>\n",
       "</div>"
      ],
      "text/plain": [
       "    name popular                     sid  \\\n",
       "0  Adele    True  4dpARuHxo51G3z768sgnrY   \n",
       "\n",
       "                                                     link  \n",
       "0  https://open.spotify.com/artist/4dpARuHxo51G3z768sgnrY  "
      ]
     },
     "execution_count": 24,
     "metadata": {},
     "output_type": "execute_result"
    }
   ],
   "source": [
    "f4.s_name_find('Adele')"
   ]
  },
  {
   "cell_type": "code",
   "execution_count": 25,
   "metadata": {},
   "outputs": [
    {
     "data": {
      "text/html": [
       "<div>\n",
       "<style scoped>\n",
       "    .dataframe tbody tr th:only-of-type {\n",
       "        vertical-align: middle;\n",
       "    }\n",
       "\n",
       "    .dataframe tbody tr th {\n",
       "        vertical-align: top;\n",
       "    }\n",
       "\n",
       "    .dataframe thead th {\n",
       "        text-align: right;\n",
       "    }\n",
       "</style>\n",
       "<table border=\"1\" class=\"dataframe\">\n",
       "  <thead>\n",
       "    <tr style=\"text-align: right;\">\n",
       "      <th></th>\n",
       "      <th>name</th>\n",
       "      <th>popular</th>\n",
       "      <th>sid</th>\n",
       "      <th>link</th>\n",
       "    </tr>\n",
       "  </thead>\n",
       "  <tbody>\n",
       "    <tr>\n",
       "      <th>0</th>\n",
       "      <td>Calvin Harris</td>\n",
       "      <td>True</td>\n",
       "      <td>7CajNmpbOovFoOoasH2HaY</td>\n",
       "      <td>https://open.spotify.com/artist/7CajNmpbOovFoOoasH2HaY</td>\n",
       "    </tr>\n",
       "  </tbody>\n",
       "</table>\n",
       "</div>"
      ],
      "text/plain": [
       "            name popular                     sid  \\\n",
       "0  Calvin Harris    True  7CajNmpbOovFoOoasH2HaY   \n",
       "\n",
       "                                                     link  \n",
       "0  https://open.spotify.com/artist/7CajNmpbOovFoOoasH2HaY  "
      ]
     },
     "execution_count": 25,
     "metadata": {},
     "output_type": "execute_result"
    }
   ],
   "source": [
    "f4.s_name_find('Calvin Harris')"
   ]
  },
  {
   "cell_type": "code",
   "execution_count": 26,
   "metadata": {},
   "outputs": [
    {
     "data": {
      "text/html": [
       "<div>\n",
       "<style scoped>\n",
       "    .dataframe tbody tr th:only-of-type {\n",
       "        vertical-align: middle;\n",
       "    }\n",
       "\n",
       "    .dataframe tbody tr th {\n",
       "        vertical-align: top;\n",
       "    }\n",
       "\n",
       "    .dataframe thead th {\n",
       "        text-align: right;\n",
       "    }\n",
       "</style>\n",
       "<table border=\"1\" class=\"dataframe\">\n",
       "  <thead>\n",
       "    <tr style=\"text-align: right;\">\n",
       "      <th></th>\n",
       "      <th>name</th>\n",
       "      <th>popular</th>\n",
       "      <th>sid</th>\n",
       "      <th>link</th>\n",
       "    </tr>\n",
       "  </thead>\n",
       "  <tbody>\n",
       "    <tr>\n",
       "      <th>0</th>\n",
       "      <td>Ariana Grande</td>\n",
       "      <td>True</td>\n",
       "      <td>66CXWjxzNUsdJxJ2JdwvnR</td>\n",
       "      <td>https://open.spotify.com/artist/66CXWjxzNUsdJxJ2JdwvnR</td>\n",
       "    </tr>\n",
       "  </tbody>\n",
       "</table>\n",
       "</div>"
      ],
      "text/plain": [
       "            name popular                     sid  \\\n",
       "0  Ariana Grande    True  66CXWjxzNUsdJxJ2JdwvnR   \n",
       "\n",
       "                                                     link  \n",
       "0  https://open.spotify.com/artist/66CXWjxzNUsdJxJ2JdwvnR  "
      ]
     },
     "execution_count": 26,
     "metadata": {},
     "output_type": "execute_result"
    }
   ],
   "source": [
    "f4.s_name_find('Ariana Grande')"
   ]
  },
  {
   "cell_type": "code",
   "execution_count": 27,
   "metadata": {},
   "outputs": [
    {
     "name": "stdout",
     "output_type": "stream",
     "text": [
      "922 clusters\n",
      "\n",
      "Adele\n"
     ]
    },
    {
     "data": {
      "text/html": [
       "<table border=\"1\" class=\"dataframe\">\n",
       "  <thead>\n",
       "    <tr style=\"text-align: right;\">\n",
       "      <th></th>\n",
       "      <th>name</th>\n",
       "      <th>score</th>\n",
       "      <th>link</th>\n",
       "    </tr>\n",
       "  </thead>\n",
       "  <tbody>\n",
       "    <tr>\n",
       "      <th>0</th>\n",
       "      <td>Magrudergrind</td>\n",
       "      <td>1.234</td>\n",
       "      <td>https://open.spotify.com/artist/1zVJfLMaN1eeiz4NVdI1Mh</td>\n",
       "    </tr>\n",
       "    <tr>\n",
       "      <th>1</th>\n",
       "      <td>Lantlôs</td>\n",
       "      <td>0.664</td>\n",
       "      <td>https://open.spotify.com/artist/1cbBzQxiKcZCsit68iTbTJ</td>\n",
       "    </tr>\n",
       "    <tr>\n",
       "      <th>2</th>\n",
       "      <td>Dora The Explorer</td>\n",
       "      <td>0.643</td>\n",
       "      <td>https://open.spotify.com/artist/4zMssRZ6iG7sJm54RwFozt</td>\n",
       "    </tr>\n",
       "    <tr>\n",
       "      <th>3</th>\n",
       "      <td>Extreme Noise Terror</td>\n",
       "      <td>0.639</td>\n",
       "      <td>https://open.spotify.com/artist/43OKr8veKrM8ptgj3LcpOg</td>\n",
       "    </tr>\n",
       "    <tr>\n",
       "      <th>4</th>\n",
       "      <td>Kevin Lamb</td>\n",
       "      <td>0.552</td>\n",
       "      <td>https://open.spotify.com/artist/5gYUDgAOPYzdNOQPqVjiE2</td>\n",
       "    </tr>\n",
       "  </tbody>\n",
       "</table>"
      ],
      "text/plain": [
       "<IPython.core.display.HTML object>"
      ]
     },
     "metadata": {},
     "output_type": "display_data"
    },
    {
     "name": "stdout",
     "output_type": "stream",
     "text": [
      "Calvin Harris\n"
     ]
    },
    {
     "data": {
      "text/html": [
       "<table border=\"1\" class=\"dataframe\">\n",
       "  <thead>\n",
       "    <tr style=\"text-align: right;\">\n",
       "      <th></th>\n",
       "      <th>name</th>\n",
       "      <th>score</th>\n",
       "      <th>link</th>\n",
       "    </tr>\n",
       "  </thead>\n",
       "  <tbody>\n",
       "    <tr>\n",
       "      <th>0</th>\n",
       "      <td>Sean Finn</td>\n",
       "      <td>0.891</td>\n",
       "      <td>https://open.spotify.com/artist/5xUacP1mVGfiY7Zr9RskmS</td>\n",
       "    </tr>\n",
       "    <tr>\n",
       "      <th>1</th>\n",
       "      <td>MC Ingryd</td>\n",
       "      <td>0.717</td>\n",
       "      <td>https://open.spotify.com/artist/09EYYUcfEDOvj3D5f45L99</td>\n",
       "    </tr>\n",
       "    <tr>\n",
       "      <th>2</th>\n",
       "      <td>Dead Fish</td>\n",
       "      <td>0.491</td>\n",
       "      <td>https://open.spotify.com/artist/7Lvg39k5XgXevGR767ikYI</td>\n",
       "    </tr>\n",
       "    <tr>\n",
       "      <th>3</th>\n",
       "      <td>Patrick Miller</td>\n",
       "      <td>0.468</td>\n",
       "      <td>https://open.spotify.com/artist/3tPUjzychwThvfKUGhlQL2</td>\n",
       "    </tr>\n",
       "    <tr>\n",
       "      <th>4</th>\n",
       "      <td>Celldweller</td>\n",
       "      <td>0.455</td>\n",
       "      <td>https://open.spotify.com/artist/4BKyei61gtyDFxlKhcvBJJ</td>\n",
       "    </tr>\n",
       "  </tbody>\n",
       "</table>"
      ],
      "text/plain": [
       "<IPython.core.display.HTML object>"
      ]
     },
     "metadata": {},
     "output_type": "display_data"
    },
    {
     "name": "stdout",
     "output_type": "stream",
     "text": [
      "Ariana Grande\n"
     ]
    },
    {
     "data": {
      "text/html": [
       "<table border=\"1\" class=\"dataframe\">\n",
       "  <thead>\n",
       "    <tr style=\"text-align: right;\">\n",
       "      <th></th>\n",
       "      <th>name</th>\n",
       "      <th>score</th>\n",
       "      <th>link</th>\n",
       "    </tr>\n",
       "  </thead>\n",
       "  <tbody>\n",
       "    <tr>\n",
       "      <th>0</th>\n",
       "      <td>DJ Neeh</td>\n",
       "      <td>1.453</td>\n",
       "      <td>https://open.spotify.com/artist/2SDYnXWEAiTFyyKyRDy79I</td>\n",
       "    </tr>\n",
       "    <tr>\n",
       "      <th>1</th>\n",
       "      <td>DJ Goja</td>\n",
       "      <td>1.119</td>\n",
       "      <td>https://open.spotify.com/artist/2bHWbDN72wdIF0Y48669zg</td>\n",
       "    </tr>\n",
       "    <tr>\n",
       "      <th>2</th>\n",
       "      <td>Grupo TMB</td>\n",
       "      <td>1.054</td>\n",
       "      <td>https://open.spotify.com/artist/3QknSu5Hr8QrEGl3rzQOPT</td>\n",
       "    </tr>\n",
       "    <tr>\n",
       "      <th>3</th>\n",
       "      <td>El Greco</td>\n",
       "      <td>0.968</td>\n",
       "      <td>https://open.spotify.com/artist/2fe5YD0v1HzDeACkHSPAXG</td>\n",
       "    </tr>\n",
       "    <tr>\n",
       "      <th>4</th>\n",
       "      <td>Blut Aus Nord</td>\n",
       "      <td>0.887</td>\n",
       "      <td>https://open.spotify.com/artist/0c0xIXQhCbmtvzM93liaSf</td>\n",
       "    </tr>\n",
       "  </tbody>\n",
       "</table>"
      ],
      "text/plain": [
       "<IPython.core.display.HTML object>"
      ]
     },
     "metadata": {},
     "output_type": "display_data"
    }
   ],
   "source": [
    "display_recs(['4dpARuHxo51G3z768sgnrY', '7CajNmpbOovFoOoasH2HaY', '66CXWjxzNUsdJxJ2JdwvnR'], artists_per_cluster)"
   ]
  },
  {
   "cell_type": "markdown",
   "metadata": {},
   "source": [
    "# Charlie"
   ]
  },
  {
   "cell_type": "code",
   "execution_count": 28,
   "metadata": {},
   "outputs": [
    {
     "data": {
      "text/html": [
       "<div>\n",
       "<style scoped>\n",
       "    .dataframe tbody tr th:only-of-type {\n",
       "        vertical-align: middle;\n",
       "    }\n",
       "\n",
       "    .dataframe tbody tr th {\n",
       "        vertical-align: top;\n",
       "    }\n",
       "\n",
       "    .dataframe thead th {\n",
       "        text-align: right;\n",
       "    }\n",
       "</style>\n",
       "<table border=\"1\" class=\"dataframe\">\n",
       "  <thead>\n",
       "    <tr style=\"text-align: right;\">\n",
       "      <th></th>\n",
       "      <th>name</th>\n",
       "      <th>popular</th>\n",
       "      <th>sid</th>\n",
       "      <th>link</th>\n",
       "    </tr>\n",
       "  </thead>\n",
       "  <tbody>\n",
       "    <tr>\n",
       "      <th>0</th>\n",
       "      <td>Alec Benjamin</td>\n",
       "      <td>True</td>\n",
       "      <td>5IH6FPUwQTxPSXurCrcIov</td>\n",
       "      <td>https://open.spotify.com/artist/5IH6FPUwQTxPSXurCrcIov</td>\n",
       "    </tr>\n",
       "  </tbody>\n",
       "</table>\n",
       "</div>"
      ],
      "text/plain": [
       "            name popular                     sid  \\\n",
       "0  Alec Benjamin    True  5IH6FPUwQTxPSXurCrcIov   \n",
       "\n",
       "                                                     link  \n",
       "0  https://open.spotify.com/artist/5IH6FPUwQTxPSXurCrcIov  "
      ]
     },
     "execution_count": 28,
     "metadata": {},
     "output_type": "execute_result"
    }
   ],
   "source": [
    "f4.s_name_find('Alec Benjamin')"
   ]
  },
  {
   "cell_type": "code",
   "execution_count": 29,
   "metadata": {},
   "outputs": [
    {
     "data": {
      "text/html": [
       "<div>\n",
       "<style scoped>\n",
       "    .dataframe tbody tr th:only-of-type {\n",
       "        vertical-align: middle;\n",
       "    }\n",
       "\n",
       "    .dataframe tbody tr th {\n",
       "        vertical-align: top;\n",
       "    }\n",
       "\n",
       "    .dataframe thead th {\n",
       "        text-align: right;\n",
       "    }\n",
       "</style>\n",
       "<table border=\"1\" class=\"dataframe\">\n",
       "  <thead>\n",
       "    <tr style=\"text-align: right;\">\n",
       "      <th></th>\n",
       "      <th>name</th>\n",
       "      <th>popular</th>\n",
       "      <th>sid</th>\n",
       "      <th>link</th>\n",
       "    </tr>\n",
       "  </thead>\n",
       "  <tbody>\n",
       "    <tr>\n",
       "      <th>0</th>\n",
       "      <td>Porter Robinson</td>\n",
       "      <td>True</td>\n",
       "      <td>3dz0NnIZhtKKeXZxLOxCam</td>\n",
       "      <td>https://open.spotify.com/artist/3dz0NnIZhtKKeXZxLOxCam</td>\n",
       "    </tr>\n",
       "  </tbody>\n",
       "</table>\n",
       "</div>"
      ],
      "text/plain": [
       "              name popular                     sid  \\\n",
       "0  Porter Robinson    True  3dz0NnIZhtKKeXZxLOxCam   \n",
       "\n",
       "                                                     link  \n",
       "0  https://open.spotify.com/artist/3dz0NnIZhtKKeXZxLOxCam  "
      ]
     },
     "execution_count": 29,
     "metadata": {},
     "output_type": "execute_result"
    }
   ],
   "source": [
    "f4.s_name_find('Porter Robinson')"
   ]
  },
  {
   "cell_type": "code",
   "execution_count": 30,
   "metadata": {},
   "outputs": [
    {
     "data": {
      "text/html": [
       "<div>\n",
       "<style scoped>\n",
       "    .dataframe tbody tr th:only-of-type {\n",
       "        vertical-align: middle;\n",
       "    }\n",
       "\n",
       "    .dataframe tbody tr th {\n",
       "        vertical-align: top;\n",
       "    }\n",
       "\n",
       "    .dataframe thead th {\n",
       "        text-align: right;\n",
       "    }\n",
       "</style>\n",
       "<table border=\"1\" class=\"dataframe\">\n",
       "  <thead>\n",
       "    <tr style=\"text-align: right;\">\n",
       "      <th></th>\n",
       "      <th>name</th>\n",
       "      <th>popular</th>\n",
       "      <th>sid</th>\n",
       "      <th>link</th>\n",
       "    </tr>\n",
       "  </thead>\n",
       "  <tbody>\n",
       "    <tr>\n",
       "      <th>0</th>\n",
       "      <td>Dua Lipa</td>\n",
       "      <td>True</td>\n",
       "      <td>6M2wZ9GZgrQXHCFfjv46we</td>\n",
       "      <td>https://open.spotify.com/artist/6M2wZ9GZgrQXHCFfjv46we</td>\n",
       "    </tr>\n",
       "  </tbody>\n",
       "</table>\n",
       "</div>"
      ],
      "text/plain": [
       "       name popular                     sid  \\\n",
       "0  Dua Lipa    True  6M2wZ9GZgrQXHCFfjv46we   \n",
       "\n",
       "                                                     link  \n",
       "0  https://open.spotify.com/artist/6M2wZ9GZgrQXHCFfjv46we  "
      ]
     },
     "execution_count": 30,
     "metadata": {},
     "output_type": "execute_result"
    }
   ],
   "source": [
    "f4.s_name_find('Dua Lipa')"
   ]
  },
  {
   "cell_type": "code",
   "execution_count": 31,
   "metadata": {},
   "outputs": [
    {
     "data": {
      "text/html": [
       "<div>\n",
       "<style scoped>\n",
       "    .dataframe tbody tr th:only-of-type {\n",
       "        vertical-align: middle;\n",
       "    }\n",
       "\n",
       "    .dataframe tbody tr th {\n",
       "        vertical-align: top;\n",
       "    }\n",
       "\n",
       "    .dataframe thead th {\n",
       "        text-align: right;\n",
       "    }\n",
       "</style>\n",
       "<table border=\"1\" class=\"dataframe\">\n",
       "  <thead>\n",
       "    <tr style=\"text-align: right;\">\n",
       "      <th></th>\n",
       "      <th>name</th>\n",
       "      <th>popular</th>\n",
       "      <th>sid</th>\n",
       "      <th>link</th>\n",
       "    </tr>\n",
       "  </thead>\n",
       "  <tbody>\n",
       "    <tr>\n",
       "      <th>0</th>\n",
       "      <td>Travis Scott</td>\n",
       "      <td>True</td>\n",
       "      <td>0Y5tJX1MQlPlqiwlOH1tJY</td>\n",
       "      <td>https://open.spotify.com/artist/0Y5tJX1MQlPlqiwlOH1tJY</td>\n",
       "    </tr>\n",
       "  </tbody>\n",
       "</table>\n",
       "</div>"
      ],
      "text/plain": [
       "           name popular                     sid  \\\n",
       "0  Travis Scott    True  0Y5tJX1MQlPlqiwlOH1tJY   \n",
       "\n",
       "                                                     link  \n",
       "0  https://open.spotify.com/artist/0Y5tJX1MQlPlqiwlOH1tJY  "
      ]
     },
     "execution_count": 31,
     "metadata": {},
     "output_type": "execute_result"
    }
   ],
   "source": [
    "f4.s_name_find('Travis Scott')"
   ]
  },
  {
   "cell_type": "code",
   "execution_count": 32,
   "metadata": {},
   "outputs": [
    {
     "name": "stdout",
     "output_type": "stream",
     "text": [
      "922 clusters\n",
      "\n",
      "Alec Benjamin\n"
     ]
    },
    {
     "data": {
      "text/html": [
       "<table border=\"1\" class=\"dataframe\">\n",
       "  <thead>\n",
       "    <tr style=\"text-align: right;\">\n",
       "      <th></th>\n",
       "      <th>name</th>\n",
       "      <th>score</th>\n",
       "      <th>link</th>\n",
       "    </tr>\n",
       "  </thead>\n",
       "  <tbody>\n",
       "    <tr>\n",
       "      <th>0</th>\n",
       "      <td>Shooter Kahlon</td>\n",
       "      <td>0.930</td>\n",
       "      <td>https://open.spotify.com/artist/5oL0GAI8fKD0Wgbr4Em9AS</td>\n",
       "    </tr>\n",
       "    <tr>\n",
       "      <th>1</th>\n",
       "      <td>Major RD</td>\n",
       "      <td>0.839</td>\n",
       "      <td>https://open.spotify.com/artist/76hYPcWML9NGEh8LashwT5</td>\n",
       "    </tr>\n",
       "    <tr>\n",
       "      <th>2</th>\n",
       "      <td>Stratovarius</td>\n",
       "      <td>0.775</td>\n",
       "      <td>https://open.spotify.com/artist/1O8CSXsPwEqxcoBE360PPO</td>\n",
       "    </tr>\n",
       "    <tr>\n",
       "      <th>3</th>\n",
       "      <td>Queen Key</td>\n",
       "      <td>0.624</td>\n",
       "      <td>https://open.spotify.com/artist/3IhYHKVt0Q9vxCCwiCHahR</td>\n",
       "    </tr>\n",
       "    <tr>\n",
       "      <th>4</th>\n",
       "      <td>Lanie Gardner</td>\n",
       "      <td>0.446</td>\n",
       "      <td>https://open.spotify.com/artist/5lhCycgJCjQIMpWNk4DycY</td>\n",
       "    </tr>\n",
       "  </tbody>\n",
       "</table>"
      ],
      "text/plain": [
       "<IPython.core.display.HTML object>"
      ]
     },
     "metadata": {},
     "output_type": "display_data"
    },
    {
     "name": "stdout",
     "output_type": "stream",
     "text": [
      "Porter Robinson\n"
     ]
    },
    {
     "data": {
      "text/html": [
       "<table border=\"1\" class=\"dataframe\">\n",
       "  <thead>\n",
       "    <tr style=\"text-align: right;\">\n",
       "      <th></th>\n",
       "      <th>name</th>\n",
       "      <th>score</th>\n",
       "      <th>link</th>\n",
       "    </tr>\n",
       "  </thead>\n",
       "  <tbody>\n",
       "    <tr>\n",
       "      <th>0</th>\n",
       "      <td>Eden Hason</td>\n",
       "      <td>0.708</td>\n",
       "      <td>https://open.spotify.com/artist/6uQl3gu1AIXyvqCAxnc2q4</td>\n",
       "    </tr>\n",
       "    <tr>\n",
       "      <th>1</th>\n",
       "      <td>Kosa</td>\n",
       "      <td>0.631</td>\n",
       "      <td>https://open.spotify.com/artist/2DR7MOGAwxMZUA7U4N5X6t</td>\n",
       "    </tr>\n",
       "    <tr>\n",
       "      <th>2</th>\n",
       "      <td>Fran</td>\n",
       "      <td>0.585</td>\n",
       "      <td>https://open.spotify.com/artist/1vrYVHeXLynVOgRmAxzHq1</td>\n",
       "    </tr>\n",
       "    <tr>\n",
       "      <th>3</th>\n",
       "      <td>Cortesia Da Casa</td>\n",
       "      <td>0.581</td>\n",
       "      <td>https://open.spotify.com/artist/4DdazUhIad0cymOHGifQO6</td>\n",
       "    </tr>\n",
       "    <tr>\n",
       "      <th>4</th>\n",
       "      <td>Jesto</td>\n",
       "      <td>0.528</td>\n",
       "      <td>https://open.spotify.com/artist/3zkAFoqRMvc1ZWjW65XOO8</td>\n",
       "    </tr>\n",
       "  </tbody>\n",
       "</table>"
      ],
      "text/plain": [
       "<IPython.core.display.HTML object>"
      ]
     },
     "metadata": {},
     "output_type": "display_data"
    },
    {
     "name": "stdout",
     "output_type": "stream",
     "text": [
      "Dua Lipa\n"
     ]
    },
    {
     "data": {
      "text/html": [
       "<table border=\"1\" class=\"dataframe\">\n",
       "  <thead>\n",
       "    <tr style=\"text-align: right;\">\n",
       "      <th></th>\n",
       "      <th>name</th>\n",
       "      <th>score</th>\n",
       "      <th>link</th>\n",
       "    </tr>\n",
       "  </thead>\n",
       "  <tbody>\n",
       "    <tr>\n",
       "      <th>0</th>\n",
       "      <td>Kiddtetoon</td>\n",
       "      <td>0.292</td>\n",
       "      <td>https://open.spotify.com/artist/2zfwez4uxbP8NcFy3kaNLF</td>\n",
       "    </tr>\n",
       "    <tr>\n",
       "      <th>1</th>\n",
       "      <td>Reunion</td>\n",
       "      <td>0.285</td>\n",
       "      <td>https://open.spotify.com/artist/0T2Spw8uxfoKW3GJEEQoBd</td>\n",
       "    </tr>\n",
       "    <tr>\n",
       "      <th>2</th>\n",
       "      <td>Lorena Santos</td>\n",
       "      <td>0.266</td>\n",
       "      <td>https://open.spotify.com/artist/5ACW0L3lAgfRihTOhV8awe</td>\n",
       "    </tr>\n",
       "    <tr>\n",
       "      <th>3</th>\n",
       "      <td>STOR</td>\n",
       "      <td>0.226</td>\n",
       "      <td>https://open.spotify.com/artist/4XLISC9SzRTcR34fosyMtw</td>\n",
       "    </tr>\n",
       "    <tr>\n",
       "      <th>4</th>\n",
       "      <td>Kevo DJ</td>\n",
       "      <td>0.217</td>\n",
       "      <td>https://open.spotify.com/artist/4Fr8ee9ec47r9fC8SqiO8z</td>\n",
       "    </tr>\n",
       "  </tbody>\n",
       "</table>"
      ],
      "text/plain": [
       "<IPython.core.display.HTML object>"
      ]
     },
     "metadata": {},
     "output_type": "display_data"
    },
    {
     "name": "stdout",
     "output_type": "stream",
     "text": [
      "Travis Scott\n"
     ]
    },
    {
     "data": {
      "text/html": [
       "<table border=\"1\" class=\"dataframe\">\n",
       "  <thead>\n",
       "    <tr style=\"text-align: right;\">\n",
       "      <th></th>\n",
       "      <th>name</th>\n",
       "      <th>score</th>\n",
       "      <th>link</th>\n",
       "    </tr>\n",
       "  </thead>\n",
       "  <tbody>\n",
       "    <tr>\n",
       "      <th>0</th>\n",
       "      <td>Cartoons</td>\n",
       "      <td>0.731</td>\n",
       "      <td>https://open.spotify.com/artist/6eKJWEzLZq8jZix8hdYsv4</td>\n",
       "    </tr>\n",
       "    <tr>\n",
       "      <th>1</th>\n",
       "      <td>KIMSEJEONG</td>\n",
       "      <td>0.715</td>\n",
       "      <td>https://open.spotify.com/artist/1lFLniFTaPjYCtQZvDXpqu</td>\n",
       "    </tr>\n",
       "    <tr>\n",
       "      <th>2</th>\n",
       "      <td>Medina</td>\n",
       "      <td>0.578</td>\n",
       "      <td>https://open.spotify.com/artist/3HbP7OfT7PCV0BrR0ReUkC</td>\n",
       "    </tr>\n",
       "    <tr>\n",
       "      <th>3</th>\n",
       "      <td>Masew</td>\n",
       "      <td>0.556</td>\n",
       "      <td>https://open.spotify.com/artist/3nGqUwkJHiLPDECMVrX1Sq</td>\n",
       "    </tr>\n",
       "    <tr>\n",
       "      <th>4</th>\n",
       "      <td>Rafa Pabön</td>\n",
       "      <td>0.461</td>\n",
       "      <td>https://open.spotify.com/artist/11YLRSsZA3YVuQQtHXKTlz</td>\n",
       "    </tr>\n",
       "  </tbody>\n",
       "</table>"
      ],
      "text/plain": [
       "<IPython.core.display.HTML object>"
      ]
     },
     "metadata": {},
     "output_type": "display_data"
    }
   ],
   "source": [
    "display_recs(['5IH6FPUwQTxPSXurCrcIov', '3dz0NnIZhtKKeXZxLOxCam', '6M2wZ9GZgrQXHCFfjv46we', '0Y5tJX1MQlPlqiwlOH1tJY'], artists_per_cluster)"
   ]
  },
  {
   "cell_type": "markdown",
   "metadata": {},
   "source": [
    "# Christine"
   ]
  },
  {
   "cell_type": "code",
   "execution_count": 34,
   "metadata": {},
   "outputs": [
    {
     "name": "stdout",
     "output_type": "stream",
     "text": [
      "We do not have f(x) in our database\n"
     ]
    }
   ],
   "source": [
    "f4.t_uname_find('f(x)')"
   ]
  },
  {
   "cell_type": "code",
   "execution_count": 35,
   "metadata": {},
   "outputs": [
    {
     "data": {
      "text/html": [
       "<div>\n",
       "<style scoped>\n",
       "    .dataframe tbody tr th:only-of-type {\n",
       "        vertical-align: middle;\n",
       "    }\n",
       "\n",
       "    .dataframe tbody tr th {\n",
       "        vertical-align: top;\n",
       "    }\n",
       "\n",
       "    .dataframe thead th {\n",
       "        text-align: right;\n",
       "    }\n",
       "</style>\n",
       "<table border=\"1\" class=\"dataframe\">\n",
       "  <thead>\n",
       "    <tr style=\"text-align: right;\">\n",
       "      <th></th>\n",
       "      <th>name</th>\n",
       "      <th>popular</th>\n",
       "      <th>sid</th>\n",
       "      <th>link</th>\n",
       "    </tr>\n",
       "  </thead>\n",
       "  <tbody>\n",
       "    <tr>\n",
       "      <th>0</th>\n",
       "      <td>EXO</td>\n",
       "      <td>True</td>\n",
       "      <td>3cjEqqelV9zb4BYE3qDQ4O</td>\n",
       "      <td>https://open.spotify.com/artist/3cjEqqelV9zb4BYE3qDQ4O</td>\n",
       "    </tr>\n",
       "  </tbody>\n",
       "</table>\n",
       "</div>"
      ],
      "text/plain": [
       "  name popular                     sid  \\\n",
       "0  EXO    True  3cjEqqelV9zb4BYE3qDQ4O   \n",
       "\n",
       "                                                     link  \n",
       "0  https://open.spotify.com/artist/3cjEqqelV9zb4BYE3qDQ4O  "
      ]
     },
     "execution_count": 35,
     "metadata": {},
     "output_type": "execute_result"
    }
   ],
   "source": [
    "f4.s_name_find('EXO')"
   ]
  },
  {
   "cell_type": "code",
   "execution_count": 37,
   "metadata": {},
   "outputs": [
    {
     "name": "stdout",
     "output_type": "stream",
     "text": [
      "We do not have Bittermilk in our database\n"
     ]
    }
   ],
   "source": [
    "f4.t_uname_find('Bittermilk')"
   ]
  },
  {
   "cell_type": "code",
   "execution_count": 38,
   "metadata": {},
   "outputs": [
    {
     "data": {
      "text/html": [
       "<div>\n",
       "<style scoped>\n",
       "    .dataframe tbody tr th:only-of-type {\n",
       "        vertical-align: middle;\n",
       "    }\n",
       "\n",
       "    .dataframe tbody tr th {\n",
       "        vertical-align: top;\n",
       "    }\n",
       "\n",
       "    .dataframe thead th {\n",
       "        text-align: right;\n",
       "    }\n",
       "</style>\n",
       "<table border=\"1\" class=\"dataframe\">\n",
       "  <thead>\n",
       "    <tr style=\"text-align: right;\">\n",
       "      <th></th>\n",
       "      <th>name</th>\n",
       "      <th>popular</th>\n",
       "      <th>sid</th>\n",
       "      <th>link</th>\n",
       "    </tr>\n",
       "  </thead>\n",
       "  <tbody>\n",
       "    <tr>\n",
       "      <th>0</th>\n",
       "      <td>Eve</td>\n",
       "      <td>True</td>\n",
       "      <td>58oPVy7oihAEXE0Ott6JOf</td>\n",
       "      <td>https://open.spotify.com/artist/58oPVy7oihAEXE0Ott6JOf</td>\n",
       "    </tr>\n",
       "    <tr>\n",
       "      <th>1</th>\n",
       "      <td>Eve</td>\n",
       "      <td>False</td>\n",
       "      <td>4d3yvTptO48nOYTPBcPFZC</td>\n",
       "      <td>https://open.spotify.com/artist/4d3yvTptO48nOYTPBcPFZC</td>\n",
       "    </tr>\n",
       "    <tr>\n",
       "      <th>2</th>\n",
       "      <td>Eve</td>\n",
       "      <td>False</td>\n",
       "      <td>64V0qcIldpWvtvY7re6Yt6</td>\n",
       "      <td>https://open.spotify.com/artist/64V0qcIldpWvtvY7re6Yt6</td>\n",
       "    </tr>\n",
       "    <tr>\n",
       "      <th>3</th>\n",
       "      <td>Eve</td>\n",
       "      <td>False</td>\n",
       "      <td>1HeGHzUC0MVMJq3J9ITf6P</td>\n",
       "      <td>https://open.spotify.com/artist/1HeGHzUC0MVMJq3J9ITf6P</td>\n",
       "    </tr>\n",
       "    <tr>\n",
       "      <th>4</th>\n",
       "      <td>Eve</td>\n",
       "      <td>False</td>\n",
       "      <td>1oyTtsbChtf14jw3jptCQB</td>\n",
       "      <td>https://open.spotify.com/artist/1oyTtsbChtf14jw3jptCQB</td>\n",
       "    </tr>\n",
       "    <tr>\n",
       "      <th>5</th>\n",
       "      <td>Eve</td>\n",
       "      <td>False</td>\n",
       "      <td>1svumhJbXDIuLVd9PHOWYG</td>\n",
       "      <td>https://open.spotify.com/artist/1svumhJbXDIuLVd9PHOWYG</td>\n",
       "    </tr>\n",
       "  </tbody>\n",
       "</table>\n",
       "</div>"
      ],
      "text/plain": [
       "  name popular                     sid  \\\n",
       "0  Eve    True  58oPVy7oihAEXE0Ott6JOf   \n",
       "1  Eve   False  4d3yvTptO48nOYTPBcPFZC   \n",
       "2  Eve   False  64V0qcIldpWvtvY7re6Yt6   \n",
       "3  Eve   False  1HeGHzUC0MVMJq3J9ITf6P   \n",
       "4  Eve   False  1oyTtsbChtf14jw3jptCQB   \n",
       "5  Eve   False  1svumhJbXDIuLVd9PHOWYG   \n",
       "\n",
       "                                                     link  \n",
       "0  https://open.spotify.com/artist/58oPVy7oihAEXE0Ott6JOf  \n",
       "1  https://open.spotify.com/artist/4d3yvTptO48nOYTPBcPFZC  \n",
       "2  https://open.spotify.com/artist/64V0qcIldpWvtvY7re6Yt6  \n",
       "3  https://open.spotify.com/artist/1HeGHzUC0MVMJq3J9ITf6P  \n",
       "4  https://open.spotify.com/artist/1oyTtsbChtf14jw3jptCQB  \n",
       "5  https://open.spotify.com/artist/1svumhJbXDIuLVd9PHOWYG  "
      ]
     },
     "execution_count": 38,
     "metadata": {},
     "output_type": "execute_result"
    }
   ],
   "source": [
    "f4.s_name_find('Eve')"
   ]
  },
  {
   "cell_type": "code",
   "execution_count": 39,
   "metadata": {},
   "outputs": [
    {
     "data": {
      "text/html": [
       "<div>\n",
       "<style scoped>\n",
       "    .dataframe tbody tr th:only-of-type {\n",
       "        vertical-align: middle;\n",
       "    }\n",
       "\n",
       "    .dataframe tbody tr th {\n",
       "        vertical-align: top;\n",
       "    }\n",
       "\n",
       "    .dataframe thead th {\n",
       "        text-align: right;\n",
       "    }\n",
       "</style>\n",
       "<table border=\"1\" class=\"dataframe\">\n",
       "  <thead>\n",
       "    <tr style=\"text-align: right;\">\n",
       "      <th></th>\n",
       "      <th>name</th>\n",
       "      <th>popular</th>\n",
       "      <th>sid</th>\n",
       "      <th>link</th>\n",
       "    </tr>\n",
       "  </thead>\n",
       "  <tbody>\n",
       "    <tr>\n",
       "      <th>0</th>\n",
       "      <td>OOHYO</td>\n",
       "      <td>False</td>\n",
       "      <td>50Zu2bK9y5UAtD0jcqk5VX</td>\n",
       "      <td>https://open.spotify.com/artist/50Zu2bK9y5UAtD0jcqk5VX</td>\n",
       "    </tr>\n",
       "  </tbody>\n",
       "</table>\n",
       "</div>"
      ],
      "text/plain": [
       "    name popular                     sid  \\\n",
       "0  OOHYO   False  50Zu2bK9y5UAtD0jcqk5VX   \n",
       "\n",
       "                                                     link  \n",
       "0  https://open.spotify.com/artist/50Zu2bK9y5UAtD0jcqk5VX  "
      ]
     },
     "execution_count": 39,
     "metadata": {},
     "output_type": "execute_result"
    }
   ],
   "source": [
    "f4.s_name_find('OOHYO')"
   ]
  },
  {
   "cell_type": "code",
   "execution_count": 40,
   "metadata": {},
   "outputs": [
    {
     "name": "stdout",
     "output_type": "stream",
     "text": [
      "922 clusters\n",
      "\n",
      "Eve\n"
     ]
    },
    {
     "data": {
      "text/html": [
       "<table border=\"1\" class=\"dataframe\">\n",
       "  <thead>\n",
       "    <tr style=\"text-align: right;\">\n",
       "      <th></th>\n",
       "      <th>name</th>\n",
       "      <th>score</th>\n",
       "      <th>link</th>\n",
       "    </tr>\n",
       "  </thead>\n",
       "  <tbody>\n",
       "    <tr>\n",
       "      <th>0</th>\n",
       "      <td>Necrocurse</td>\n",
       "      <td>1.735</td>\n",
       "      <td>https://open.spotify.com/artist/5PVwCmK3zZb4DXwgJ9DCMf</td>\n",
       "    </tr>\n",
       "    <tr>\n",
       "      <th>1</th>\n",
       "      <td>Farscape</td>\n",
       "      <td>1.302</td>\n",
       "      <td>https://open.spotify.com/artist/75NkIB7RrU03OGE4UkqPTo</td>\n",
       "    </tr>\n",
       "    <tr>\n",
       "      <th>2</th>\n",
       "      <td>Hypocrisy</td>\n",
       "      <td>0.971</td>\n",
       "      <td>https://open.spotify.com/artist/73UIalJYgktSi7qQFV53Qv</td>\n",
       "    </tr>\n",
       "    <tr>\n",
       "      <th>3</th>\n",
       "      <td>Black Crucifixion</td>\n",
       "      <td>0.666</td>\n",
       "      <td>https://open.spotify.com/artist/0IkrXtH63XSpPHIDRDgCGI</td>\n",
       "    </tr>\n",
       "    <tr>\n",
       "      <th>4</th>\n",
       "      <td>Dubmood</td>\n",
       "      <td>0.642</td>\n",
       "      <td>https://open.spotify.com/artist/4D2G48IdJKhcdZ5c1dqp5Z</td>\n",
       "    </tr>\n",
       "  </tbody>\n",
       "</table>"
      ],
      "text/plain": [
       "<IPython.core.display.HTML object>"
      ]
     },
     "metadata": {},
     "output_type": "display_data"
    },
    {
     "name": "stdout",
     "output_type": "stream",
     "text": [
      "EXO\n"
     ]
    },
    {
     "data": {
      "text/html": [
       "<table border=\"1\" class=\"dataframe\">\n",
       "  <thead>\n",
       "    <tr style=\"text-align: right;\">\n",
       "      <th></th>\n",
       "      <th>name</th>\n",
       "      <th>score</th>\n",
       "      <th>link</th>\n",
       "    </tr>\n",
       "  </thead>\n",
       "  <tbody>\n",
       "    <tr>\n",
       "      <th>0</th>\n",
       "      <td>Leo Mattioli</td>\n",
       "      <td>0.599</td>\n",
       "      <td>https://open.spotify.com/artist/2Mu8h5sFkOziL0Rfn7FXIA</td>\n",
       "    </tr>\n",
       "    <tr>\n",
       "      <th>1</th>\n",
       "      <td>MC Joãozinho VT</td>\n",
       "      <td>0.481</td>\n",
       "      <td>https://open.spotify.com/artist/6XFc29m1ptfUNmaa1UTuBT</td>\n",
       "    </tr>\n",
       "    <tr>\n",
       "      <th>2</th>\n",
       "      <td>Andre Williams</td>\n",
       "      <td>0.475</td>\n",
       "      <td>https://open.spotify.com/artist/4mmEKUZZBwnzg4m6hizPyN</td>\n",
       "    </tr>\n",
       "    <tr>\n",
       "      <th>3</th>\n",
       "      <td>DMNDS</td>\n",
       "      <td>0.468</td>\n",
       "      <td>https://open.spotify.com/artist/0U3b0BjITtQHwjwBVtiGcO</td>\n",
       "    </tr>\n",
       "    <tr>\n",
       "      <th>4</th>\n",
       "      <td>El Tigrillo Palma</td>\n",
       "      <td>0.451</td>\n",
       "      <td>https://open.spotify.com/artist/2usAJ9Mtrw570XlQ5MHJek</td>\n",
       "    </tr>\n",
       "  </tbody>\n",
       "</table>"
      ],
      "text/plain": [
       "<IPython.core.display.HTML object>"
      ]
     },
     "metadata": {},
     "output_type": "display_data"
    }
   ],
   "source": [
    "display_recs(['58oPVy7oihAEXE0Ott6JOf', '3cjEqqelV9zb4BYE3qDQ4O'], artists_per_cluster)"
   ]
  },
  {
   "cell_type": "markdown",
   "metadata": {},
   "source": [
    "# Sam"
   ]
  },
  {
   "cell_type": "code",
   "execution_count": 41,
   "metadata": {},
   "outputs": [
    {
     "data": {
      "text/html": [
       "<div>\n",
       "<style scoped>\n",
       "    .dataframe tbody tr th:only-of-type {\n",
       "        vertical-align: middle;\n",
       "    }\n",
       "\n",
       "    .dataframe tbody tr th {\n",
       "        vertical-align: top;\n",
       "    }\n",
       "\n",
       "    .dataframe thead th {\n",
       "        text-align: right;\n",
       "    }\n",
       "</style>\n",
       "<table border=\"1\" class=\"dataframe\">\n",
       "  <thead>\n",
       "    <tr style=\"text-align: right;\">\n",
       "      <th></th>\n",
       "      <th>name</th>\n",
       "      <th>popular</th>\n",
       "      <th>sid</th>\n",
       "      <th>link</th>\n",
       "    </tr>\n",
       "  </thead>\n",
       "  <tbody>\n",
       "    <tr>\n",
       "      <th>0</th>\n",
       "      <td>Drake</td>\n",
       "      <td>True</td>\n",
       "      <td>3TVXtAsR1Inumwj472S9r4</td>\n",
       "      <td>https://open.spotify.com/artist/3TVXtAsR1Inumwj472S9r4</td>\n",
       "    </tr>\n",
       "    <tr>\n",
       "      <th>1</th>\n",
       "      <td>Drake</td>\n",
       "      <td>True</td>\n",
       "      <td>2m5ti7YuYYCVs8xfZgnVkx</td>\n",
       "      <td>https://open.spotify.com/artist/2m5ti7YuYYCVs8xfZgnVkx</td>\n",
       "    </tr>\n",
       "    <tr>\n",
       "      <th>2</th>\n",
       "      <td>Drake</td>\n",
       "      <td>True</td>\n",
       "      <td>4PrHn62sbAwEY2TkPYXOxN</td>\n",
       "      <td>https://open.spotify.com/artist/4PrHn62sbAwEY2TkPYXOxN</td>\n",
       "    </tr>\n",
       "  </tbody>\n",
       "</table>\n",
       "</div>"
      ],
      "text/plain": [
       "    name popular                     sid  \\\n",
       "0  Drake    True  3TVXtAsR1Inumwj472S9r4   \n",
       "1  Drake    True  2m5ti7YuYYCVs8xfZgnVkx   \n",
       "2  Drake    True  4PrHn62sbAwEY2TkPYXOxN   \n",
       "\n",
       "                                                     link  \n",
       "0  https://open.spotify.com/artist/3TVXtAsR1Inumwj472S9r4  \n",
       "1  https://open.spotify.com/artist/2m5ti7YuYYCVs8xfZgnVkx  \n",
       "2  https://open.spotify.com/artist/4PrHn62sbAwEY2TkPYXOxN  "
      ]
     },
     "execution_count": 41,
     "metadata": {},
     "output_type": "execute_result"
    }
   ],
   "source": [
    "#Drake, Lil Baby, Gryffin, Kanye West, Ed Sheeran\n",
    "f4.s_name_find('Drake')"
   ]
  },
  {
   "cell_type": "code",
   "execution_count": 52,
   "metadata": {},
   "outputs": [
    {
     "data": {
      "text/html": [
       "<div>\n",
       "<style scoped>\n",
       "    .dataframe tbody tr th:only-of-type {\n",
       "        vertical-align: middle;\n",
       "    }\n",
       "\n",
       "    .dataframe tbody tr th {\n",
       "        vertical-align: top;\n",
       "    }\n",
       "\n",
       "    .dataframe thead th {\n",
       "        text-align: right;\n",
       "    }\n",
       "</style>\n",
       "<table border=\"1\" class=\"dataframe\">\n",
       "  <thead>\n",
       "    <tr style=\"text-align: right;\">\n",
       "      <th></th>\n",
       "      <th>name</th>\n",
       "      <th>popular</th>\n",
       "      <th>sid</th>\n",
       "      <th>link</th>\n",
       "    </tr>\n",
       "  </thead>\n",
       "  <tbody>\n",
       "    <tr>\n",
       "      <th>0</th>\n",
       "      <td>Lil Baby</td>\n",
       "      <td>True</td>\n",
       "      <td>5f7VJjfbwm532GiveGC0ZK</td>\n",
       "      <td>https://open.spotify.com/artist/5f7VJjfbwm532GiveGC0ZK</td>\n",
       "    </tr>\n",
       "  </tbody>\n",
       "</table>\n",
       "</div>"
      ],
      "text/plain": [
       "       name popular                     sid  \\\n",
       "0  Lil Baby    True  5f7VJjfbwm532GiveGC0ZK   \n",
       "\n",
       "                                                     link  \n",
       "0  https://open.spotify.com/artist/5f7VJjfbwm532GiveGC0ZK  "
      ]
     },
     "execution_count": 52,
     "metadata": {},
     "output_type": "execute_result"
    }
   ],
   "source": [
    "f4.s_name_find('Lil Baby')"
   ]
  },
  {
   "cell_type": "code",
   "execution_count": 43,
   "metadata": {},
   "outputs": [
    {
     "data": {
      "text/html": [
       "<div>\n",
       "<style scoped>\n",
       "    .dataframe tbody tr th:only-of-type {\n",
       "        vertical-align: middle;\n",
       "    }\n",
       "\n",
       "    .dataframe tbody tr th {\n",
       "        vertical-align: top;\n",
       "    }\n",
       "\n",
       "    .dataframe thead th {\n",
       "        text-align: right;\n",
       "    }\n",
       "</style>\n",
       "<table border=\"1\" class=\"dataframe\">\n",
       "  <thead>\n",
       "    <tr style=\"text-align: right;\">\n",
       "      <th></th>\n",
       "      <th>name</th>\n",
       "      <th>popular</th>\n",
       "      <th>sid</th>\n",
       "      <th>link</th>\n",
       "    </tr>\n",
       "  </thead>\n",
       "  <tbody>\n",
       "    <tr>\n",
       "      <th>0</th>\n",
       "      <td>Gryffin</td>\n",
       "      <td>False</td>\n",
       "      <td>2ZRQcIgzPCVaT9XKhXZIzh</td>\n",
       "      <td>https://open.spotify.com/artist/2ZRQcIgzPCVaT9XKhXZIzh</td>\n",
       "    </tr>\n",
       "  </tbody>\n",
       "</table>\n",
       "</div>"
      ],
      "text/plain": [
       "      name popular                     sid  \\\n",
       "0  Gryffin   False  2ZRQcIgzPCVaT9XKhXZIzh   \n",
       "\n",
       "                                                     link  \n",
       "0  https://open.spotify.com/artist/2ZRQcIgzPCVaT9XKhXZIzh  "
      ]
     },
     "execution_count": 43,
     "metadata": {},
     "output_type": "execute_result"
    }
   ],
   "source": [
    "f4.s_name_find('Gryffin')"
   ]
  },
  {
   "cell_type": "code",
   "execution_count": 44,
   "metadata": {},
   "outputs": [
    {
     "data": {
      "text/html": [
       "<div>\n",
       "<style scoped>\n",
       "    .dataframe tbody tr th:only-of-type {\n",
       "        vertical-align: middle;\n",
       "    }\n",
       "\n",
       "    .dataframe tbody tr th {\n",
       "        vertical-align: top;\n",
       "    }\n",
       "\n",
       "    .dataframe thead th {\n",
       "        text-align: right;\n",
       "    }\n",
       "</style>\n",
       "<table border=\"1\" class=\"dataframe\">\n",
       "  <thead>\n",
       "    <tr style=\"text-align: right;\">\n",
       "      <th></th>\n",
       "      <th>name</th>\n",
       "      <th>popular</th>\n",
       "      <th>sid</th>\n",
       "      <th>link</th>\n",
       "    </tr>\n",
       "  </thead>\n",
       "  <tbody>\n",
       "    <tr>\n",
       "      <th>0</th>\n",
       "      <td>Kanye West</td>\n",
       "      <td>True</td>\n",
       "      <td>5K4W6rqBFWDnAN6FQUkS6x</td>\n",
       "      <td>https://open.spotify.com/artist/5K4W6rqBFWDnAN6FQUkS6x</td>\n",
       "    </tr>\n",
       "  </tbody>\n",
       "</table>\n",
       "</div>"
      ],
      "text/plain": [
       "         name popular                     sid  \\\n",
       "0  Kanye West    True  5K4W6rqBFWDnAN6FQUkS6x   \n",
       "\n",
       "                                                     link  \n",
       "0  https://open.spotify.com/artist/5K4W6rqBFWDnAN6FQUkS6x  "
      ]
     },
     "execution_count": 44,
     "metadata": {},
     "output_type": "execute_result"
    }
   ],
   "source": [
    "f4.s_name_find('Kanye West')"
   ]
  },
  {
   "cell_type": "code",
   "execution_count": 45,
   "metadata": {},
   "outputs": [
    {
     "data": {
      "text/html": [
       "<div>\n",
       "<style scoped>\n",
       "    .dataframe tbody tr th:only-of-type {\n",
       "        vertical-align: middle;\n",
       "    }\n",
       "\n",
       "    .dataframe tbody tr th {\n",
       "        vertical-align: top;\n",
       "    }\n",
       "\n",
       "    .dataframe thead th {\n",
       "        text-align: right;\n",
       "    }\n",
       "</style>\n",
       "<table border=\"1\" class=\"dataframe\">\n",
       "  <thead>\n",
       "    <tr style=\"text-align: right;\">\n",
       "      <th></th>\n",
       "      <th>name</th>\n",
       "      <th>popular</th>\n",
       "      <th>sid</th>\n",
       "      <th>link</th>\n",
       "    </tr>\n",
       "  </thead>\n",
       "  <tbody>\n",
       "    <tr>\n",
       "      <th>0</th>\n",
       "      <td>Ed Sheeran</td>\n",
       "      <td>True</td>\n",
       "      <td>6eUKZXaKkcviH0Ku9w2n3V</td>\n",
       "      <td>https://open.spotify.com/artist/6eUKZXaKkcviH0Ku9w2n3V</td>\n",
       "    </tr>\n",
       "  </tbody>\n",
       "</table>\n",
       "</div>"
      ],
      "text/plain": [
       "         name popular                     sid  \\\n",
       "0  Ed Sheeran    True  6eUKZXaKkcviH0Ku9w2n3V   \n",
       "\n",
       "                                                     link  \n",
       "0  https://open.spotify.com/artist/6eUKZXaKkcviH0Ku9w2n3V  "
      ]
     },
     "execution_count": 45,
     "metadata": {},
     "output_type": "execute_result"
    }
   ],
   "source": [
    "f4.s_name_find('Ed Sheeran')"
   ]
  },
  {
   "cell_type": "code",
   "execution_count": 47,
   "metadata": {
    "scrolled": true
   },
   "outputs": [
    {
     "name": "stdout",
     "output_type": "stream",
     "text": [
      "922 clusters\n",
      "\n",
      "Drake\n"
     ]
    },
    {
     "data": {
      "text/html": [
       "<table border=\"1\" class=\"dataframe\">\n",
       "  <thead>\n",
       "    <tr style=\"text-align: right;\">\n",
       "      <th></th>\n",
       "      <th>name</th>\n",
       "      <th>score</th>\n",
       "      <th>link</th>\n",
       "    </tr>\n",
       "  </thead>\n",
       "  <tbody>\n",
       "    <tr>\n",
       "      <th>0</th>\n",
       "      <td>Power Glove</td>\n",
       "      <td>0.481</td>\n",
       "      <td>https://open.spotify.com/artist/0dalJaAT80lKfkZsC86lnW</td>\n",
       "    </tr>\n",
       "    <tr>\n",
       "      <th>1</th>\n",
       "      <td>Claire Kuo</td>\n",
       "      <td>0.432</td>\n",
       "      <td>https://open.spotify.com/artist/6OiFtK426XJWnOJ2HYlSbf</td>\n",
       "    </tr>\n",
       "    <tr>\n",
       "      <th>2</th>\n",
       "      <td>Nyasia</td>\n",
       "      <td>0.372</td>\n",
       "      <td>https://open.spotify.com/artist/1FmH6MmsNdjm11V4qa9nMW</td>\n",
       "    </tr>\n",
       "    <tr>\n",
       "      <th>3</th>\n",
       "      <td>Dan Tyminski</td>\n",
       "      <td>0.369</td>\n",
       "      <td>https://open.spotify.com/artist/1eNxt1JI2Bgjl8bPDQ5sG8</td>\n",
       "    </tr>\n",
       "    <tr>\n",
       "      <th>4</th>\n",
       "      <td>El Payaso Plim Plim</td>\n",
       "      <td>0.350</td>\n",
       "      <td>https://open.spotify.com/artist/1E7NoA5YJu5N0XEm6ojotR</td>\n",
       "    </tr>\n",
       "  </tbody>\n",
       "</table>"
      ],
      "text/plain": [
       "<IPython.core.display.HTML object>"
      ]
     },
     "metadata": {},
     "output_type": "display_data"
    },
    {
     "name": "stdout",
     "output_type": "stream",
     "text": [
      "Lil Baby\n"
     ]
    },
    {
     "data": {
      "text/html": [
       "<table border=\"1\" class=\"dataframe\">\n",
       "  <thead>\n",
       "    <tr style=\"text-align: right;\">\n",
       "      <th></th>\n",
       "      <th>name</th>\n",
       "      <th>score</th>\n",
       "      <th>link</th>\n",
       "    </tr>\n",
       "  </thead>\n",
       "  <tbody>\n",
       "    <tr>\n",
       "      <th>0</th>\n",
       "      <td>Christine McVie</td>\n",
       "      <td>0.843</td>\n",
       "      <td>https://open.spotify.com/artist/6RCsx4p5smZHYz2P5HLcL2</td>\n",
       "    </tr>\n",
       "    <tr>\n",
       "      <th>1</th>\n",
       "      <td>Tankcsapda</td>\n",
       "      <td>0.787</td>\n",
       "      <td>https://open.spotify.com/artist/3QbmGjx9VYiu3fpG8NjIZI</td>\n",
       "    </tr>\n",
       "    <tr>\n",
       "      <th>2</th>\n",
       "      <td>DJ Isaac</td>\n",
       "      <td>0.745</td>\n",
       "      <td>https://open.spotify.com/artist/2FmgW6Jee0JQKtb6EnBWCq</td>\n",
       "    </tr>\n",
       "    <tr>\n",
       "      <th>3</th>\n",
       "      <td>Shop Boyz</td>\n",
       "      <td>0.745</td>\n",
       "      <td>https://open.spotify.com/artist/3v3clM1KQgVfpPjKJFPAmx</td>\n",
       "    </tr>\n",
       "    <tr>\n",
       "      <th>4</th>\n",
       "      <td>JUDY AND MARY</td>\n",
       "      <td>0.654</td>\n",
       "      <td>https://open.spotify.com/artist/7unNuvk3OEqGmegHTaxRA9</td>\n",
       "    </tr>\n",
       "  </tbody>\n",
       "</table>"
      ],
      "text/plain": [
       "<IPython.core.display.HTML object>"
      ]
     },
     "metadata": {},
     "output_type": "display_data"
    },
    {
     "name": "stdout",
     "output_type": "stream",
     "text": [
      "Kanye West\n"
     ]
    },
    {
     "data": {
      "text/html": [
       "<table border=\"1\" class=\"dataframe\">\n",
       "  <thead>\n",
       "    <tr style=\"text-align: right;\">\n",
       "      <th></th>\n",
       "      <th>name</th>\n",
       "      <th>score</th>\n",
       "      <th>link</th>\n",
       "    </tr>\n",
       "  </thead>\n",
       "  <tbody>\n",
       "    <tr>\n",
       "      <th>0</th>\n",
       "      <td>Jan Bradley</td>\n",
       "      <td>0.841</td>\n",
       "      <td>https://open.spotify.com/artist/4tPAbp9qF8nR9becfJGQCZ</td>\n",
       "    </tr>\n",
       "    <tr>\n",
       "      <th>1</th>\n",
       "      <td>Di Paullo &amp; Paulino</td>\n",
       "      <td>0.837</td>\n",
       "      <td>https://open.spotify.com/artist/1e5A3rWcqk9WfLjeg5T3dI</td>\n",
       "    </tr>\n",
       "    <tr>\n",
       "      <th>2</th>\n",
       "      <td>S. Kiyotaka &amp; Omega Tribe</td>\n",
       "      <td>0.382</td>\n",
       "      <td>https://open.spotify.com/artist/7bG2PIfT22HGxisl6LAohx</td>\n",
       "    </tr>\n",
       "    <tr>\n",
       "      <th>3</th>\n",
       "      <td>David Zowie</td>\n",
       "      <td>0.380</td>\n",
       "      <td>https://open.spotify.com/artist/2yEkeJoFOvm6qHuECSDHFg</td>\n",
       "    </tr>\n",
       "    <tr>\n",
       "      <th>4</th>\n",
       "      <td>Aesthetic Perfection</td>\n",
       "      <td>0.370</td>\n",
       "      <td>https://open.spotify.com/artist/1Jgp0YCPHCJx5XD7nlfGVN</td>\n",
       "    </tr>\n",
       "  </tbody>\n",
       "</table>"
      ],
      "text/plain": [
       "<IPython.core.display.HTML object>"
      ]
     },
     "metadata": {},
     "output_type": "display_data"
    },
    {
     "name": "stdout",
     "output_type": "stream",
     "text": [
      "Ed Sheeran\n"
     ]
    },
    {
     "data": {
      "text/html": [
       "<table border=\"1\" class=\"dataframe\">\n",
       "  <thead>\n",
       "    <tr style=\"text-align: right;\">\n",
       "      <th></th>\n",
       "      <th>name</th>\n",
       "      <th>score</th>\n",
       "      <th>link</th>\n",
       "    </tr>\n",
       "  </thead>\n",
       "  <tbody>\n",
       "    <tr>\n",
       "      <th>0</th>\n",
       "      <td>Heaven 17</td>\n",
       "      <td>0.793</td>\n",
       "      <td>https://open.spotify.com/artist/5PYuBRQMHh7nWmdV076sH9</td>\n",
       "    </tr>\n",
       "    <tr>\n",
       "      <th>1</th>\n",
       "      <td>Sarhad</td>\n",
       "      <td>0.718</td>\n",
       "      <td>https://open.spotify.com/artist/140rt2E4rTCFAA6R6cbyYb</td>\n",
       "    </tr>\n",
       "    <tr>\n",
       "      <th>2</th>\n",
       "      <td>Kadebostany</td>\n",
       "      <td>0.663</td>\n",
       "      <td>https://open.spotify.com/artist/3IVrpJxHeUFoYP4H6bxg57</td>\n",
       "    </tr>\n",
       "    <tr>\n",
       "      <th>3</th>\n",
       "      <td>Amigos</td>\n",
       "      <td>0.638</td>\n",
       "      <td>https://open.spotify.com/artist/7t9vZg9sglZGukAMixJf5t</td>\n",
       "    </tr>\n",
       "    <tr>\n",
       "      <th>4</th>\n",
       "      <td>AchtVier</td>\n",
       "      <td>0.493</td>\n",
       "      <td>https://open.spotify.com/artist/6JOYrJkaS8ZKxLoUdNNdWr</td>\n",
       "    </tr>\n",
       "  </tbody>\n",
       "</table>"
      ],
      "text/plain": [
       "<IPython.core.display.HTML object>"
      ]
     },
     "metadata": {},
     "output_type": "display_data"
    }
   ],
   "source": [
    "display_recs(['3TVXtAsR1Inumwj472S9r4', '5f7VJjfbwm532GiveGC0ZK', '5K4W6rqBFWDnAN6FQUkS6x', '6eUKZXaKkcviH0Ku9w2n3V'], artists_per_cluster)"
   ]
  },
  {
   "cell_type": "markdown",
   "metadata": {},
   "source": [
    "# Aden "
   ]
  },
  {
   "cell_type": "code",
   "execution_count": 54,
   "metadata": {},
   "outputs": [
    {
     "data": {
      "text/html": [
       "<div>\n",
       "<style scoped>\n",
       "    .dataframe tbody tr th:only-of-type {\n",
       "        vertical-align: middle;\n",
       "    }\n",
       "\n",
       "    .dataframe tbody tr th {\n",
       "        vertical-align: top;\n",
       "    }\n",
       "\n",
       "    .dataframe thead th {\n",
       "        text-align: right;\n",
       "    }\n",
       "</style>\n",
       "<table border=\"1\" class=\"dataframe\">\n",
       "  <thead>\n",
       "    <tr style=\"text-align: right;\">\n",
       "      <th></th>\n",
       "      <th>name</th>\n",
       "      <th>popular</th>\n",
       "      <th>sid</th>\n",
       "      <th>link</th>\n",
       "    </tr>\n",
       "  </thead>\n",
       "  <tbody>\n",
       "    <tr>\n",
       "      <th>0</th>\n",
       "      <td>Tyler, The Creator</td>\n",
       "      <td>True</td>\n",
       "      <td>4V8LLVI7PbaPR0K2TGSxFF</td>\n",
       "      <td>https://open.spotify.com/artist/4V8LLVI7PbaPR0K2TGSxFF</td>\n",
       "    </tr>\n",
       "  </tbody>\n",
       "</table>\n",
       "</div>"
      ],
      "text/plain": [
       "                 name popular                     sid  \\\n",
       "0  Tyler, The Creator    True  4V8LLVI7PbaPR0K2TGSxFF   \n",
       "\n",
       "                                                     link  \n",
       "0  https://open.spotify.com/artist/4V8LLVI7PbaPR0K2TGSxFF  "
      ]
     },
     "execution_count": 54,
     "metadata": {},
     "output_type": "execute_result"
    }
   ],
   "source": [
    "# Tyler, The Creator, Blood Orange, The Flaming Lips, Pearl Jam, Weyes Blood\n",
    "f4.s_name_find('Tyler, The Creator')"
   ]
  },
  {
   "cell_type": "code",
   "execution_count": 55,
   "metadata": {},
   "outputs": [
    {
     "data": {
      "text/html": [
       "<div>\n",
       "<style scoped>\n",
       "    .dataframe tbody tr th:only-of-type {\n",
       "        vertical-align: middle;\n",
       "    }\n",
       "\n",
       "    .dataframe tbody tr th {\n",
       "        vertical-align: top;\n",
       "    }\n",
       "\n",
       "    .dataframe thead th {\n",
       "        text-align: right;\n",
       "    }\n",
       "</style>\n",
       "<table border=\"1\" class=\"dataframe\">\n",
       "  <thead>\n",
       "    <tr style=\"text-align: right;\">\n",
       "      <th></th>\n",
       "      <th>name</th>\n",
       "      <th>popular</th>\n",
       "      <th>sid</th>\n",
       "      <th>link</th>\n",
       "    </tr>\n",
       "  </thead>\n",
       "  <tbody>\n",
       "    <tr>\n",
       "      <th>0</th>\n",
       "      <td>Blood Orange</td>\n",
       "      <td>False</td>\n",
       "      <td>6LEeAFiJF8OuPx747e1wxR</td>\n",
       "      <td>https://open.spotify.com/artist/6LEeAFiJF8OuPx747e1wxR</td>\n",
       "    </tr>\n",
       "  </tbody>\n",
       "</table>\n",
       "</div>"
      ],
      "text/plain": [
       "           name popular                     sid  \\\n",
       "0  Blood Orange   False  6LEeAFiJF8OuPx747e1wxR   \n",
       "\n",
       "                                                     link  \n",
       "0  https://open.spotify.com/artist/6LEeAFiJF8OuPx747e1wxR  "
      ]
     },
     "execution_count": 55,
     "metadata": {},
     "output_type": "execute_result"
    }
   ],
   "source": [
    "f4.s_name_find('Blood Orange')"
   ]
  },
  {
   "cell_type": "code",
   "execution_count": 56,
   "metadata": {},
   "outputs": [
    {
     "data": {
      "text/html": [
       "<div>\n",
       "<style scoped>\n",
       "    .dataframe tbody tr th:only-of-type {\n",
       "        vertical-align: middle;\n",
       "    }\n",
       "\n",
       "    .dataframe tbody tr th {\n",
       "        vertical-align: top;\n",
       "    }\n",
       "\n",
       "    .dataframe thead th {\n",
       "        text-align: right;\n",
       "    }\n",
       "</style>\n",
       "<table border=\"1\" class=\"dataframe\">\n",
       "  <thead>\n",
       "    <tr style=\"text-align: right;\">\n",
       "      <th></th>\n",
       "      <th>name</th>\n",
       "      <th>popular</th>\n",
       "      <th>sid</th>\n",
       "      <th>link</th>\n",
       "    </tr>\n",
       "  </thead>\n",
       "  <tbody>\n",
       "    <tr>\n",
       "      <th>0</th>\n",
       "      <td>The Flaming Lips</td>\n",
       "      <td>True</td>\n",
       "      <td>16eRpMNXSQ15wuJoeqguaB</td>\n",
       "      <td>https://open.spotify.com/artist/16eRpMNXSQ15wuJoeqguaB</td>\n",
       "    </tr>\n",
       "  </tbody>\n",
       "</table>\n",
       "</div>"
      ],
      "text/plain": [
       "               name popular                     sid  \\\n",
       "0  The Flaming Lips    True  16eRpMNXSQ15wuJoeqguaB   \n",
       "\n",
       "                                                     link  \n",
       "0  https://open.spotify.com/artist/16eRpMNXSQ15wuJoeqguaB  "
      ]
     },
     "execution_count": 56,
     "metadata": {},
     "output_type": "execute_result"
    }
   ],
   "source": [
    "f4.s_name_find('The Flaming Lips')"
   ]
  },
  {
   "cell_type": "code",
   "execution_count": 57,
   "metadata": {},
   "outputs": [
    {
     "data": {
      "text/html": [
       "<div>\n",
       "<style scoped>\n",
       "    .dataframe tbody tr th:only-of-type {\n",
       "        vertical-align: middle;\n",
       "    }\n",
       "\n",
       "    .dataframe tbody tr th {\n",
       "        vertical-align: top;\n",
       "    }\n",
       "\n",
       "    .dataframe thead th {\n",
       "        text-align: right;\n",
       "    }\n",
       "</style>\n",
       "<table border=\"1\" class=\"dataframe\">\n",
       "  <thead>\n",
       "    <tr style=\"text-align: right;\">\n",
       "      <th></th>\n",
       "      <th>name</th>\n",
       "      <th>popular</th>\n",
       "      <th>sid</th>\n",
       "      <th>link</th>\n",
       "    </tr>\n",
       "  </thead>\n",
       "  <tbody>\n",
       "    <tr>\n",
       "      <th>0</th>\n",
       "      <td>Pearl Jam</td>\n",
       "      <td>True</td>\n",
       "      <td>1w5Kfo2jwwIPruYS2UWh56</td>\n",
       "      <td>https://open.spotify.com/artist/1w5Kfo2jwwIPruYS2UWh56</td>\n",
       "    </tr>\n",
       "  </tbody>\n",
       "</table>\n",
       "</div>"
      ],
      "text/plain": [
       "        name popular                     sid  \\\n",
       "0  Pearl Jam    True  1w5Kfo2jwwIPruYS2UWh56   \n",
       "\n",
       "                                                     link  \n",
       "0  https://open.spotify.com/artist/1w5Kfo2jwwIPruYS2UWh56  "
      ]
     },
     "execution_count": 57,
     "metadata": {},
     "output_type": "execute_result"
    }
   ],
   "source": [
    "f4.s_name_find('Pearl Jam')"
   ]
  },
  {
   "cell_type": "code",
   "execution_count": 58,
   "metadata": {},
   "outputs": [
    {
     "data": {
      "text/html": [
       "<div>\n",
       "<style scoped>\n",
       "    .dataframe tbody tr th:only-of-type {\n",
       "        vertical-align: middle;\n",
       "    }\n",
       "\n",
       "    .dataframe tbody tr th {\n",
       "        vertical-align: top;\n",
       "    }\n",
       "\n",
       "    .dataframe thead th {\n",
       "        text-align: right;\n",
       "    }\n",
       "</style>\n",
       "<table border=\"1\" class=\"dataframe\">\n",
       "  <thead>\n",
       "    <tr style=\"text-align: right;\">\n",
       "      <th></th>\n",
       "      <th>name</th>\n",
       "      <th>popular</th>\n",
       "      <th>sid</th>\n",
       "      <th>link</th>\n",
       "    </tr>\n",
       "  </thead>\n",
       "  <tbody>\n",
       "    <tr>\n",
       "      <th>0</th>\n",
       "      <td>Weyes Blood</td>\n",
       "      <td>False</td>\n",
       "      <td>3Uqu1mEdkUJxPe7s31n1M9</td>\n",
       "      <td>https://open.spotify.com/artist/3Uqu1mEdkUJxPe7s31n1M9</td>\n",
       "    </tr>\n",
       "  </tbody>\n",
       "</table>\n",
       "</div>"
      ],
      "text/plain": [
       "          name popular                     sid  \\\n",
       "0  Weyes Blood   False  3Uqu1mEdkUJxPe7s31n1M9   \n",
       "\n",
       "                                                     link  \n",
       "0  https://open.spotify.com/artist/3Uqu1mEdkUJxPe7s31n1M9  "
      ]
     },
     "execution_count": 58,
     "metadata": {},
     "output_type": "execute_result"
    }
   ],
   "source": [
    "f4.s_name_find('Weyes Blood')"
   ]
  },
  {
   "cell_type": "code",
   "execution_count": 59,
   "metadata": {},
   "outputs": [
    {
     "name": "stdout",
     "output_type": "stream",
     "text": [
      "922 clusters\n",
      "\n",
      "Tyler, The Creator\n"
     ]
    },
    {
     "data": {
      "text/html": [
       "<table border=\"1\" class=\"dataframe\">\n",
       "  <thead>\n",
       "    <tr style=\"text-align: right;\">\n",
       "      <th></th>\n",
       "      <th>name</th>\n",
       "      <th>score</th>\n",
       "      <th>link</th>\n",
       "    </tr>\n",
       "  </thead>\n",
       "  <tbody>\n",
       "    <tr>\n",
       "      <th>0</th>\n",
       "      <td>Naotaro Moriyama</td>\n",
       "      <td>0.733</td>\n",
       "      <td>https://open.spotify.com/artist/31VPfrPEa86aKpD2LT3Ued</td>\n",
       "    </tr>\n",
       "    <tr>\n",
       "      <th>1</th>\n",
       "      <td>Connie Stevens</td>\n",
       "      <td>0.480</td>\n",
       "      <td>https://open.spotify.com/artist/5dg9jB2sji4asJtjihC9AE</td>\n",
       "    </tr>\n",
       "    <tr>\n",
       "      <th>2</th>\n",
       "      <td>Ricardo \"Richie\" Ray</td>\n",
       "      <td>0.463</td>\n",
       "      <td>https://open.spotify.com/artist/2spUXl3eKq2URO97haSzAc</td>\n",
       "    </tr>\n",
       "    <tr>\n",
       "      <th>3</th>\n",
       "      <td>Robert Parker</td>\n",
       "      <td>0.450</td>\n",
       "      <td>https://open.spotify.com/artist/7FlUCXHUxNEOk2exJUiqp1</td>\n",
       "    </tr>\n",
       "    <tr>\n",
       "      <th>4</th>\n",
       "      <td>Shelley Fabares</td>\n",
       "      <td>0.441</td>\n",
       "      <td>https://open.spotify.com/artist/6ZID5oFfvvgzIRrqXaTJSy</td>\n",
       "    </tr>\n",
       "  </tbody>\n",
       "</table>"
      ],
      "text/plain": [
       "<IPython.core.display.HTML object>"
      ]
     },
     "metadata": {},
     "output_type": "display_data"
    },
    {
     "name": "stdout",
     "output_type": "stream",
     "text": [
      "The Flaming Lips\n"
     ]
    },
    {
     "data": {
      "text/html": [
       "<table border=\"1\" class=\"dataframe\">\n",
       "  <thead>\n",
       "    <tr style=\"text-align: right;\">\n",
       "      <th></th>\n",
       "      <th>name</th>\n",
       "      <th>score</th>\n",
       "      <th>link</th>\n",
       "    </tr>\n",
       "  </thead>\n",
       "  <tbody>\n",
       "    <tr>\n",
       "      <th>0</th>\n",
       "      <td>George Thorogood &amp; The Destroyers</td>\n",
       "      <td>5.443</td>\n",
       "      <td>https://open.spotify.com/artist/4n31svBA9GGIYxGxgrQaRK</td>\n",
       "    </tr>\n",
       "    <tr>\n",
       "      <th>1</th>\n",
       "      <td>Los Flechazos</td>\n",
       "      <td>2.214</td>\n",
       "      <td>https://open.spotify.com/artist/59fMjqzT9fvTLoGbWJZ6vA</td>\n",
       "    </tr>\n",
       "    <tr>\n",
       "      <th>2</th>\n",
       "      <td>Eddie Lovette</td>\n",
       "      <td>1.135</td>\n",
       "      <td>https://open.spotify.com/artist/7Fd1nidunOjfHBD87iU1ZI</td>\n",
       "    </tr>\n",
       "    <tr>\n",
       "      <th>3</th>\n",
       "      <td>The Sharks</td>\n",
       "      <td>0.428</td>\n",
       "      <td>https://open.spotify.com/artist/5YUnGJyBSdPLoJExvs7qHF</td>\n",
       "    </tr>\n",
       "    <tr>\n",
       "      <th>4</th>\n",
       "      <td>Cæcilie Norby</td>\n",
       "      <td>0.288</td>\n",
       "      <td>https://open.spotify.com/artist/6XFVoO2x9F6P1FxZy1PG4H</td>\n",
       "    </tr>\n",
       "  </tbody>\n",
       "</table>"
      ],
      "text/plain": [
       "<IPython.core.display.HTML object>"
      ]
     },
     "metadata": {},
     "output_type": "display_data"
    },
    {
     "name": "stdout",
     "output_type": "stream",
     "text": [
      "Pearl Jam\n"
     ]
    },
    {
     "data": {
      "text/html": [
       "<table border=\"1\" class=\"dataframe\">\n",
       "  <thead>\n",
       "    <tr style=\"text-align: right;\">\n",
       "      <th></th>\n",
       "      <th>name</th>\n",
       "      <th>score</th>\n",
       "      <th>link</th>\n",
       "    </tr>\n",
       "  </thead>\n",
       "  <tbody>\n",
       "    <tr>\n",
       "      <th>0</th>\n",
       "      <td>Hopex</td>\n",
       "      <td>1.215</td>\n",
       "      <td>https://open.spotify.com/artist/0dE2azLipjakJifWO2xrOO</td>\n",
       "    </tr>\n",
       "    <tr>\n",
       "      <th>1</th>\n",
       "      <td>Miguel Campello</td>\n",
       "      <td>1.088</td>\n",
       "      <td>https://open.spotify.com/artist/0OzDyhPnwvUVGRNWrVILlg</td>\n",
       "    </tr>\n",
       "    <tr>\n",
       "      <th>2</th>\n",
       "      <td>Power Station</td>\n",
       "      <td>0.993</td>\n",
       "      <td>https://open.spotify.com/artist/6zCAdMK7SVxKyGMnAc26Cy</td>\n",
       "    </tr>\n",
       "    <tr>\n",
       "      <th>3</th>\n",
       "      <td>Kittie</td>\n",
       "      <td>0.883</td>\n",
       "      <td>https://open.spotify.com/artist/0ImEDe9tW5n4pxHOK39zIc</td>\n",
       "    </tr>\n",
       "    <tr>\n",
       "      <th>4</th>\n",
       "      <td>Tempo Giusto</td>\n",
       "      <td>0.840</td>\n",
       "      <td>https://open.spotify.com/artist/0m0RB1rz2K4biPY7teHR6R</td>\n",
       "    </tr>\n",
       "  </tbody>\n",
       "</table>"
      ],
      "text/plain": [
       "<IPython.core.display.HTML object>"
      ]
     },
     "metadata": {},
     "output_type": "display_data"
    }
   ],
   "source": [
    "display_recs(['4V8LLVI7PbaPR0K2TGSxFF', '16eRpMNXSQ15wuJoeqguaB', '1w5Kfo2jwwIPruYS2UWh56'], artists_per_cluster)"
   ]
  },
  {
   "cell_type": "markdown",
   "metadata": {},
   "source": [
    "# Varun"
   ]
  },
  {
   "cell_type": "code",
   "execution_count": 60,
   "metadata": {},
   "outputs": [
    {
     "data": {
      "text/html": [
       "<div>\n",
       "<style scoped>\n",
       "    .dataframe tbody tr th:only-of-type {\n",
       "        vertical-align: middle;\n",
       "    }\n",
       "\n",
       "    .dataframe tbody tr th {\n",
       "        vertical-align: top;\n",
       "    }\n",
       "\n",
       "    .dataframe thead th {\n",
       "        text-align: right;\n",
       "    }\n",
       "</style>\n",
       "<table border=\"1\" class=\"dataframe\">\n",
       "  <thead>\n",
       "    <tr style=\"text-align: right;\">\n",
       "      <th></th>\n",
       "      <th>name</th>\n",
       "      <th>popular</th>\n",
       "      <th>sid</th>\n",
       "      <th>link</th>\n",
       "    </tr>\n",
       "  </thead>\n",
       "  <tbody>\n",
       "    <tr>\n",
       "      <th>0</th>\n",
       "      <td>Jack Harlow</td>\n",
       "      <td>True</td>\n",
       "      <td>2LIk90788K0zvyj2JJVwkJ</td>\n",
       "      <td>https://open.spotify.com/artist/2LIk90788K0zvyj2JJVwkJ</td>\n",
       "    </tr>\n",
       "  </tbody>\n",
       "</table>\n",
       "</div>"
      ],
      "text/plain": [
       "          name popular                     sid  \\\n",
       "0  Jack Harlow    True  2LIk90788K0zvyj2JJVwkJ   \n",
       "\n",
       "                                                     link  \n",
       "0  https://open.spotify.com/artist/2LIk90788K0zvyj2JJVwkJ  "
      ]
     },
     "execution_count": 60,
     "metadata": {},
     "output_type": "execute_result"
    }
   ],
   "source": [
    "# Jack Harlow, Fiji Blue, Coldplay, Kevin Powers, Baby Keem\n",
    "f4.s_name_find('Jack Harlow')"
   ]
  },
  {
   "cell_type": "code",
   "execution_count": 62,
   "metadata": {},
   "outputs": [
    {
     "data": {
      "text/html": [
       "<div>\n",
       "<style scoped>\n",
       "    .dataframe tbody tr th:only-of-type {\n",
       "        vertical-align: middle;\n",
       "    }\n",
       "\n",
       "    .dataframe tbody tr th {\n",
       "        vertical-align: top;\n",
       "    }\n",
       "\n",
       "    .dataframe thead th {\n",
       "        text-align: right;\n",
       "    }\n",
       "</style>\n",
       "<table border=\"1\" class=\"dataframe\">\n",
       "  <thead>\n",
       "    <tr style=\"text-align: right;\">\n",
       "      <th></th>\n",
       "      <th>name</th>\n",
       "      <th>popular</th>\n",
       "      <th>sid</th>\n",
       "      <th>link</th>\n",
       "    </tr>\n",
       "  </thead>\n",
       "  <tbody>\n",
       "    <tr>\n",
       "      <th>0</th>\n",
       "      <td>Fiji Blue</td>\n",
       "      <td>False</td>\n",
       "      <td>1e7K8jD3wRuQfnwDAOeGqe</td>\n",
       "      <td>https://open.spotify.com/artist/1e7K8jD3wRuQfnwDAOeGqe</td>\n",
       "    </tr>\n",
       "  </tbody>\n",
       "</table>\n",
       "</div>"
      ],
      "text/plain": [
       "        name popular                     sid  \\\n",
       "0  Fiji Blue   False  1e7K8jD3wRuQfnwDAOeGqe   \n",
       "\n",
       "                                                     link  \n",
       "0  https://open.spotify.com/artist/1e7K8jD3wRuQfnwDAOeGqe  "
      ]
     },
     "execution_count": 62,
     "metadata": {},
     "output_type": "execute_result"
    }
   ],
   "source": [
    "f4.s_name_find('Fiji Blue')"
   ]
  },
  {
   "cell_type": "code",
   "execution_count": 63,
   "metadata": {},
   "outputs": [
    {
     "data": {
      "text/html": [
       "<div>\n",
       "<style scoped>\n",
       "    .dataframe tbody tr th:only-of-type {\n",
       "        vertical-align: middle;\n",
       "    }\n",
       "\n",
       "    .dataframe tbody tr th {\n",
       "        vertical-align: top;\n",
       "    }\n",
       "\n",
       "    .dataframe thead th {\n",
       "        text-align: right;\n",
       "    }\n",
       "</style>\n",
       "<table border=\"1\" class=\"dataframe\">\n",
       "  <thead>\n",
       "    <tr style=\"text-align: right;\">\n",
       "      <th></th>\n",
       "      <th>name</th>\n",
       "      <th>popular</th>\n",
       "      <th>sid</th>\n",
       "      <th>link</th>\n",
       "    </tr>\n",
       "  </thead>\n",
       "  <tbody>\n",
       "    <tr>\n",
       "      <th>0</th>\n",
       "      <td>Coldplay</td>\n",
       "      <td>True</td>\n",
       "      <td>4gzpq5DPGxSnKTe4SA8HAU</td>\n",
       "      <td>https://open.spotify.com/artist/4gzpq5DPGxSnKTe4SA8HAU</td>\n",
       "    </tr>\n",
       "  </tbody>\n",
       "</table>\n",
       "</div>"
      ],
      "text/plain": [
       "       name popular                     sid  \\\n",
       "0  Coldplay    True  4gzpq5DPGxSnKTe4SA8HAU   \n",
       "\n",
       "                                                     link  \n",
       "0  https://open.spotify.com/artist/4gzpq5DPGxSnKTe4SA8HAU  "
      ]
     },
     "execution_count": 63,
     "metadata": {},
     "output_type": "execute_result"
    }
   ],
   "source": [
    "f4.s_name_find('Coldplay')"
   ]
  },
  {
   "cell_type": "code",
   "execution_count": 64,
   "metadata": {},
   "outputs": [
    {
     "data": {
      "text/html": [
       "<div>\n",
       "<style scoped>\n",
       "    .dataframe tbody tr th:only-of-type {\n",
       "        vertical-align: middle;\n",
       "    }\n",
       "\n",
       "    .dataframe tbody tr th {\n",
       "        vertical-align: top;\n",
       "    }\n",
       "\n",
       "    .dataframe thead th {\n",
       "        text-align: right;\n",
       "    }\n",
       "</style>\n",
       "<table border=\"1\" class=\"dataframe\">\n",
       "  <thead>\n",
       "    <tr style=\"text-align: right;\">\n",
       "      <th></th>\n",
       "      <th>name</th>\n",
       "      <th>popular</th>\n",
       "      <th>sid</th>\n",
       "      <th>link</th>\n",
       "    </tr>\n",
       "  </thead>\n",
       "  <tbody>\n",
       "    <tr>\n",
       "      <th>0</th>\n",
       "      <td>Kevin Powers</td>\n",
       "      <td>False</td>\n",
       "      <td>4X8TR9pBFyewFlIDYt1o2s</td>\n",
       "      <td>https://open.spotify.com/artist/4X8TR9pBFyewFlIDYt1o2s</td>\n",
       "    </tr>\n",
       "  </tbody>\n",
       "</table>\n",
       "</div>"
      ],
      "text/plain": [
       "           name popular                     sid  \\\n",
       "0  Kevin Powers   False  4X8TR9pBFyewFlIDYt1o2s   \n",
       "\n",
       "                                                     link  \n",
       "0  https://open.spotify.com/artist/4X8TR9pBFyewFlIDYt1o2s  "
      ]
     },
     "execution_count": 64,
     "metadata": {},
     "output_type": "execute_result"
    }
   ],
   "source": [
    "f4.s_name_find('Kevin Powers')"
   ]
  },
  {
   "cell_type": "code",
   "execution_count": 65,
   "metadata": {},
   "outputs": [
    {
     "data": {
      "text/html": [
       "<div>\n",
       "<style scoped>\n",
       "    .dataframe tbody tr th:only-of-type {\n",
       "        vertical-align: middle;\n",
       "    }\n",
       "\n",
       "    .dataframe tbody tr th {\n",
       "        vertical-align: top;\n",
       "    }\n",
       "\n",
       "    .dataframe thead th {\n",
       "        text-align: right;\n",
       "    }\n",
       "</style>\n",
       "<table border=\"1\" class=\"dataframe\">\n",
       "  <thead>\n",
       "    <tr style=\"text-align: right;\">\n",
       "      <th></th>\n",
       "      <th>name</th>\n",
       "      <th>popular</th>\n",
       "      <th>sid</th>\n",
       "      <th>link</th>\n",
       "    </tr>\n",
       "  </thead>\n",
       "  <tbody>\n",
       "    <tr>\n",
       "      <th>0</th>\n",
       "      <td>Baby Keem</td>\n",
       "      <td>False</td>\n",
       "      <td>5SXuuuRpukkTvsLuUknva1</td>\n",
       "      <td>https://open.spotify.com/artist/5SXuuuRpukkTvsLuUknva1</td>\n",
       "    </tr>\n",
       "  </tbody>\n",
       "</table>\n",
       "</div>"
      ],
      "text/plain": [
       "        name popular                     sid  \\\n",
       "0  Baby Keem   False  5SXuuuRpukkTvsLuUknva1   \n",
       "\n",
       "                                                     link  \n",
       "0  https://open.spotify.com/artist/5SXuuuRpukkTvsLuUknva1  "
      ]
     },
     "execution_count": 65,
     "metadata": {},
     "output_type": "execute_result"
    }
   ],
   "source": [
    "f4.s_name_find('Baby Keem')"
   ]
  },
  {
   "cell_type": "code",
   "execution_count": 66,
   "metadata": {},
   "outputs": [
    {
     "name": "stdout",
     "output_type": "stream",
     "text": [
      "922 clusters\n",
      "\n",
      "Jack Harlow\n"
     ]
    },
    {
     "data": {
      "text/html": [
       "<table border=\"1\" class=\"dataframe\">\n",
       "  <thead>\n",
       "    <tr style=\"text-align: right;\">\n",
       "      <th></th>\n",
       "      <th>name</th>\n",
       "      <th>score</th>\n",
       "      <th>link</th>\n",
       "    </tr>\n",
       "  </thead>\n",
       "  <tbody>\n",
       "    <tr>\n",
       "      <th>0</th>\n",
       "      <td>Panuma</td>\n",
       "      <td>0.783</td>\n",
       "      <td>https://open.spotify.com/artist/3YvNtTSaJ2YAt1RhaE9eiH</td>\n",
       "    </tr>\n",
       "    <tr>\n",
       "      <th>1</th>\n",
       "      <td>Mojjo</td>\n",
       "      <td>0.597</td>\n",
       "      <td>https://open.spotify.com/artist/6AVyGjQ7gNzSkGlBldHS1j</td>\n",
       "    </tr>\n",
       "    <tr>\n",
       "      <th>2</th>\n",
       "      <td>Stella Donnelly</td>\n",
       "      <td>0.591</td>\n",
       "      <td>https://open.spotify.com/artist/2mHjhKyKCLh6MZELuCe1Es</td>\n",
       "    </tr>\n",
       "    <tr>\n",
       "      <th>3</th>\n",
       "      <td>Starlito</td>\n",
       "      <td>0.563</td>\n",
       "      <td>https://open.spotify.com/artist/4SjND9kT6Ja5TSPZTyUUab</td>\n",
       "    </tr>\n",
       "    <tr>\n",
       "      <th>4</th>\n",
       "      <td>Cassian</td>\n",
       "      <td>0.561</td>\n",
       "      <td>https://open.spotify.com/artist/1ChtRJ3f4rbv4vtz87i6CD</td>\n",
       "    </tr>\n",
       "  </tbody>\n",
       "</table>"
      ],
      "text/plain": [
       "<IPython.core.display.HTML object>"
      ]
     },
     "metadata": {},
     "output_type": "display_data"
    },
    {
     "name": "stdout",
     "output_type": "stream",
     "text": [
      "Coldplay\n"
     ]
    },
    {
     "data": {
      "text/html": [
       "<table border=\"1\" class=\"dataframe\">\n",
       "  <thead>\n",
       "    <tr style=\"text-align: right;\">\n",
       "      <th></th>\n",
       "      <th>name</th>\n",
       "      <th>score</th>\n",
       "      <th>link</th>\n",
       "    </tr>\n",
       "  </thead>\n",
       "  <tbody>\n",
       "    <tr>\n",
       "      <th>0</th>\n",
       "      <td>La Decima Banda</td>\n",
       "      <td>0.812</td>\n",
       "      <td>https://open.spotify.com/artist/1C2CCqiE3rxq2H4ErMzz9U</td>\n",
       "    </tr>\n",
       "    <tr>\n",
       "      <th>1</th>\n",
       "      <td>Nick Strand</td>\n",
       "      <td>0.489</td>\n",
       "      <td>https://open.spotify.com/artist/5nFFSwxKDNlZyHEYl48YTd</td>\n",
       "    </tr>\n",
       "    <tr>\n",
       "      <th>2</th>\n",
       "      <td>The Beau-Marks</td>\n",
       "      <td>0.488</td>\n",
       "      <td>https://open.spotify.com/artist/4DdKwKjWP5k7tuT8RyMRQ3</td>\n",
       "    </tr>\n",
       "    <tr>\n",
       "      <th>3</th>\n",
       "      <td>Kuwada</td>\n",
       "      <td>0.463</td>\n",
       "      <td>https://open.spotify.com/artist/66LFdGYtbmJ6G8sArrkfsu</td>\n",
       "    </tr>\n",
       "    <tr>\n",
       "      <th>4</th>\n",
       "      <td>Mugen Rao</td>\n",
       "      <td>0.373</td>\n",
       "      <td>https://open.spotify.com/artist/521uA5nxi1L31JgK6yd2lA</td>\n",
       "    </tr>\n",
       "  </tbody>\n",
       "</table>"
      ],
      "text/plain": [
       "<IPython.core.display.HTML object>"
      ]
     },
     "metadata": {},
     "output_type": "display_data"
    }
   ],
   "source": [
    "display_recs(['2LIk90788K0zvyj2JJVwkJ', '4gzpq5DPGxSnKTe4SA8HAU'], artists_per_cluster)"
   ]
  },
  {
   "cell_type": "markdown",
   "metadata": {},
   "source": [
    "# Will"
   ]
  },
  {
   "cell_type": "code",
   "execution_count": 67,
   "metadata": {},
   "outputs": [
    {
     "data": {
      "text/html": [
       "<div>\n",
       "<style scoped>\n",
       "    .dataframe tbody tr th:only-of-type {\n",
       "        vertical-align: middle;\n",
       "    }\n",
       "\n",
       "    .dataframe tbody tr th {\n",
       "        vertical-align: top;\n",
       "    }\n",
       "\n",
       "    .dataframe thead th {\n",
       "        text-align: right;\n",
       "    }\n",
       "</style>\n",
       "<table border=\"1\" class=\"dataframe\">\n",
       "  <thead>\n",
       "    <tr style=\"text-align: right;\">\n",
       "      <th></th>\n",
       "      <th>name</th>\n",
       "      <th>popular</th>\n",
       "      <th>sid</th>\n",
       "      <th>link</th>\n",
       "    </tr>\n",
       "  </thead>\n",
       "  <tbody>\n",
       "    <tr>\n",
       "      <th>0</th>\n",
       "      <td>Joey Bada$$</td>\n",
       "      <td>True</td>\n",
       "      <td>2P5sC9cVZDToPxyomzF1UH</td>\n",
       "      <td>https://open.spotify.com/artist/2P5sC9cVZDToPxyomzF1UH</td>\n",
       "    </tr>\n",
       "  </tbody>\n",
       "</table>\n",
       "</div>"
      ],
      "text/plain": [
       "          name popular                     sid  \\\n",
       "0  Joey Bada$$    True  2P5sC9cVZDToPxyomzF1UH   \n",
       "\n",
       "                                                     link  \n",
       "0  https://open.spotify.com/artist/2P5sC9cVZDToPxyomzF1UH  "
      ]
     },
     "execution_count": 67,
     "metadata": {},
     "output_type": "execute_result"
    }
   ],
   "source": [
    "#Joey Bada$$, Sheff G, Polo G, Sleepy Hallow, A Tribe Called Quest\n",
    "f4.s_name_find('Joey Bada$$')"
   ]
  },
  {
   "cell_type": "code",
   "execution_count": 72,
   "metadata": {},
   "outputs": [
    {
     "name": "stdout",
     "output_type": "stream",
     "text": [
      "We do not have Sheff G, in our database\n"
     ]
    }
   ],
   "source": [
    "f4.t_uname_find('Sheff G,')"
   ]
  },
  {
   "cell_type": "code",
   "execution_count": 69,
   "metadata": {},
   "outputs": [
    {
     "data": {
      "text/html": [
       "<div>\n",
       "<style scoped>\n",
       "    .dataframe tbody tr th:only-of-type {\n",
       "        vertical-align: middle;\n",
       "    }\n",
       "\n",
       "    .dataframe tbody tr th {\n",
       "        vertical-align: top;\n",
       "    }\n",
       "\n",
       "    .dataframe thead th {\n",
       "        text-align: right;\n",
       "    }\n",
       "</style>\n",
       "<table border=\"1\" class=\"dataframe\">\n",
       "  <thead>\n",
       "    <tr style=\"text-align: right;\">\n",
       "      <th></th>\n",
       "      <th>name</th>\n",
       "      <th>popular</th>\n",
       "      <th>sid</th>\n",
       "      <th>link</th>\n",
       "    </tr>\n",
       "  </thead>\n",
       "  <tbody>\n",
       "    <tr>\n",
       "      <th>0</th>\n",
       "      <td>Polo G</td>\n",
       "      <td>False</td>\n",
       "      <td>6AgTAQt8XS6jRWi4sX7w49</td>\n",
       "      <td>https://open.spotify.com/artist/6AgTAQt8XS6jRWi4sX7w49</td>\n",
       "    </tr>\n",
       "  </tbody>\n",
       "</table>\n",
       "</div>"
      ],
      "text/plain": [
       "     name popular                     sid  \\\n",
       "0  Polo G   False  6AgTAQt8XS6jRWi4sX7w49   \n",
       "\n",
       "                                                     link  \n",
       "0  https://open.spotify.com/artist/6AgTAQt8XS6jRWi4sX7w49  "
      ]
     },
     "execution_count": 69,
     "metadata": {},
     "output_type": "execute_result"
    }
   ],
   "source": [
    "f4.s_name_find('Polo G')"
   ]
  },
  {
   "cell_type": "code",
   "execution_count": 70,
   "metadata": {},
   "outputs": [
    {
     "data": {
      "text/html": [
       "<div>\n",
       "<style scoped>\n",
       "    .dataframe tbody tr th:only-of-type {\n",
       "        vertical-align: middle;\n",
       "    }\n",
       "\n",
       "    .dataframe tbody tr th {\n",
       "        vertical-align: top;\n",
       "    }\n",
       "\n",
       "    .dataframe thead th {\n",
       "        text-align: right;\n",
       "    }\n",
       "</style>\n",
       "<table border=\"1\" class=\"dataframe\">\n",
       "  <thead>\n",
       "    <tr style=\"text-align: right;\">\n",
       "      <th></th>\n",
       "      <th>name</th>\n",
       "      <th>popular</th>\n",
       "      <th>sid</th>\n",
       "      <th>link</th>\n",
       "    </tr>\n",
       "  </thead>\n",
       "  <tbody>\n",
       "    <tr>\n",
       "      <th>0</th>\n",
       "      <td>Sleepy Hallow</td>\n",
       "      <td>False</td>\n",
       "      <td>6EPlBSH2RSiettczlz7ihV</td>\n",
       "      <td>https://open.spotify.com/artist/6EPlBSH2RSiettczlz7ihV</td>\n",
       "    </tr>\n",
       "  </tbody>\n",
       "</table>\n",
       "</div>"
      ],
      "text/plain": [
       "            name popular                     sid  \\\n",
       "0  Sleepy Hallow   False  6EPlBSH2RSiettczlz7ihV   \n",
       "\n",
       "                                                     link  \n",
       "0  https://open.spotify.com/artist/6EPlBSH2RSiettczlz7ihV  "
      ]
     },
     "execution_count": 70,
     "metadata": {},
     "output_type": "execute_result"
    }
   ],
   "source": [
    "f4.s_name_find('Sleepy Hallow')"
   ]
  },
  {
   "cell_type": "code",
   "execution_count": 74,
   "metadata": {},
   "outputs": [
    {
     "data": {
      "text/html": [
       "<div>\n",
       "<style scoped>\n",
       "    .dataframe tbody tr th:only-of-type {\n",
       "        vertical-align: middle;\n",
       "    }\n",
       "\n",
       "    .dataframe tbody tr th {\n",
       "        vertical-align: top;\n",
       "    }\n",
       "\n",
       "    .dataframe thead th {\n",
       "        text-align: right;\n",
       "    }\n",
       "</style>\n",
       "<table border=\"1\" class=\"dataframe\">\n",
       "  <thead>\n",
       "    <tr style=\"text-align: right;\">\n",
       "      <th></th>\n",
       "      <th>name</th>\n",
       "      <th>popular</th>\n",
       "      <th>sid</th>\n",
       "      <th>link</th>\n",
       "    </tr>\n",
       "  </thead>\n",
       "  <tbody>\n",
       "    <tr>\n",
       "      <th>0</th>\n",
       "      <td>A Tribe Called Quest</td>\n",
       "      <td>False</td>\n",
       "      <td>09hVIj6vWgoCDtT03h8ZCa</td>\n",
       "      <td>https://open.spotify.com/artist/09hVIj6vWgoCDtT03h8ZCa</td>\n",
       "    </tr>\n",
       "  </tbody>\n",
       "</table>\n",
       "</div>"
      ],
      "text/plain": [
       "                   name popular                     sid  \\\n",
       "0  A Tribe Called Quest   False  09hVIj6vWgoCDtT03h8ZCa   \n",
       "\n",
       "                                                     link  \n",
       "0  https://open.spotify.com/artist/09hVIj6vWgoCDtT03h8ZCa  "
      ]
     },
     "execution_count": 74,
     "metadata": {},
     "output_type": "execute_result"
    }
   ],
   "source": [
    "f4.s_name_find('A Tribe Called Quest')"
   ]
  },
  {
   "cell_type": "code",
   "execution_count": 73,
   "metadata": {},
   "outputs": [
    {
     "name": "stdout",
     "output_type": "stream",
     "text": [
      "922 clusters\n",
      "\n",
      "Joey Bada$$\n"
     ]
    },
    {
     "data": {
      "text/html": [
       "<table border=\"1\" class=\"dataframe\">\n",
       "  <thead>\n",
       "    <tr style=\"text-align: right;\">\n",
       "      <th></th>\n",
       "      <th>name</th>\n",
       "      <th>score</th>\n",
       "      <th>link</th>\n",
       "    </tr>\n",
       "  </thead>\n",
       "  <tbody>\n",
       "    <tr>\n",
       "      <th>0</th>\n",
       "      <td>Cephalic Carnage</td>\n",
       "      <td>0.915</td>\n",
       "      <td>https://open.spotify.com/artist/4S2VWuUV0ei7LG0I8JDFww</td>\n",
       "    </tr>\n",
       "    <tr>\n",
       "      <th>1</th>\n",
       "      <td>Rövballebandet</td>\n",
       "      <td>0.703</td>\n",
       "      <td>https://open.spotify.com/artist/5epBkGwNlNZUA22G0iPZ3b</td>\n",
       "    </tr>\n",
       "    <tr>\n",
       "      <th>2</th>\n",
       "      <td>JUNNY</td>\n",
       "      <td>0.540</td>\n",
       "      <td>https://open.spotify.com/artist/0lgENJQUkqkDbpsTYEayOr</td>\n",
       "    </tr>\n",
       "    <tr>\n",
       "      <th>3</th>\n",
       "      <td>David Kersh</td>\n",
       "      <td>0.515</td>\n",
       "      <td>https://open.spotify.com/artist/3vONIwfmKkR8FJQ70Dq95v</td>\n",
       "    </tr>\n",
       "    <tr>\n",
       "      <th>4</th>\n",
       "      <td>Lorrie Morgan</td>\n",
       "      <td>0.319</td>\n",
       "      <td>https://open.spotify.com/artist/0khzcQ6PQU5a6dl1Qss3pt</td>\n",
       "    </tr>\n",
       "  </tbody>\n",
       "</table>"
      ],
      "text/plain": [
       "<IPython.core.display.HTML object>"
      ]
     },
     "metadata": {},
     "output_type": "display_data"
    }
   ],
   "source": [
    "display_recs(['2P5sC9cVZDToPxyomzF1UH'], artists_per_cluster)"
   ]
  },
  {
   "cell_type": "markdown",
   "metadata": {},
   "source": [
    "# Shaiv"
   ]
  },
  {
   "cell_type": "code",
   "execution_count": null,
   "metadata": {},
   "outputs": [],
   "source": [
    "# Juice WRLD, Polo G, Lil Baby, Lil Uzi Vert, The Kid Laroi "
   ]
  },
  {
   "cell_type": "code",
   "execution_count": 76,
   "metadata": {},
   "outputs": [
    {
     "data": {
      "text/html": [
       "<div>\n",
       "<style scoped>\n",
       "    .dataframe tbody tr th:only-of-type {\n",
       "        vertical-align: middle;\n",
       "    }\n",
       "\n",
       "    .dataframe tbody tr th {\n",
       "        vertical-align: top;\n",
       "    }\n",
       "\n",
       "    .dataframe thead th {\n",
       "        text-align: right;\n",
       "    }\n",
       "</style>\n",
       "<table border=\"1\" class=\"dataframe\">\n",
       "  <thead>\n",
       "    <tr style=\"text-align: right;\">\n",
       "      <th></th>\n",
       "      <th>name</th>\n",
       "      <th>popular</th>\n",
       "      <th>sid</th>\n",
       "      <th>link</th>\n",
       "    </tr>\n",
       "  </thead>\n",
       "  <tbody>\n",
       "    <tr>\n",
       "      <th>0</th>\n",
       "      <td>Juice WRLD</td>\n",
       "      <td>True</td>\n",
       "      <td>4MCBfE4596Uoi2O4DtmEMz</td>\n",
       "      <td>https://open.spotify.com/artist/4MCBfE4596Uoi2O4DtmEMz</td>\n",
       "    </tr>\n",
       "  </tbody>\n",
       "</table>\n",
       "</div>"
      ],
      "text/plain": [
       "         name popular                     sid  \\\n",
       "0  Juice WRLD    True  4MCBfE4596Uoi2O4DtmEMz   \n",
       "\n",
       "                                                     link  \n",
       "0  https://open.spotify.com/artist/4MCBfE4596Uoi2O4DtmEMz  "
      ]
     },
     "execution_count": 76,
     "metadata": {},
     "output_type": "execute_result"
    }
   ],
   "source": [
    "f4.s_name_find('Juice WRLD')"
   ]
  },
  {
   "cell_type": "code",
   "execution_count": 77,
   "metadata": {},
   "outputs": [
    {
     "data": {
      "text/html": [
       "<div>\n",
       "<style scoped>\n",
       "    .dataframe tbody tr th:only-of-type {\n",
       "        vertical-align: middle;\n",
       "    }\n",
       "\n",
       "    .dataframe tbody tr th {\n",
       "        vertical-align: top;\n",
       "    }\n",
       "\n",
       "    .dataframe thead th {\n",
       "        text-align: right;\n",
       "    }\n",
       "</style>\n",
       "<table border=\"1\" class=\"dataframe\">\n",
       "  <thead>\n",
       "    <tr style=\"text-align: right;\">\n",
       "      <th></th>\n",
       "      <th>name</th>\n",
       "      <th>popular</th>\n",
       "      <th>sid</th>\n",
       "      <th>link</th>\n",
       "    </tr>\n",
       "  </thead>\n",
       "  <tbody>\n",
       "    <tr>\n",
       "      <th>0</th>\n",
       "      <td>Polo G</td>\n",
       "      <td>False</td>\n",
       "      <td>6AgTAQt8XS6jRWi4sX7w49</td>\n",
       "      <td>https://open.spotify.com/artist/6AgTAQt8XS6jRWi4sX7w49</td>\n",
       "    </tr>\n",
       "  </tbody>\n",
       "</table>\n",
       "</div>"
      ],
      "text/plain": [
       "     name popular                     sid  \\\n",
       "0  Polo G   False  6AgTAQt8XS6jRWi4sX7w49   \n",
       "\n",
       "                                                     link  \n",
       "0  https://open.spotify.com/artist/6AgTAQt8XS6jRWi4sX7w49  "
      ]
     },
     "execution_count": 77,
     "metadata": {},
     "output_type": "execute_result"
    }
   ],
   "source": [
    "f4.s_name_find('Polo G')"
   ]
  },
  {
   "cell_type": "code",
   "execution_count": 78,
   "metadata": {},
   "outputs": [
    {
     "data": {
      "text/html": [
       "<div>\n",
       "<style scoped>\n",
       "    .dataframe tbody tr th:only-of-type {\n",
       "        vertical-align: middle;\n",
       "    }\n",
       "\n",
       "    .dataframe tbody tr th {\n",
       "        vertical-align: top;\n",
       "    }\n",
       "\n",
       "    .dataframe thead th {\n",
       "        text-align: right;\n",
       "    }\n",
       "</style>\n",
       "<table border=\"1\" class=\"dataframe\">\n",
       "  <thead>\n",
       "    <tr style=\"text-align: right;\">\n",
       "      <th></th>\n",
       "      <th>name</th>\n",
       "      <th>popular</th>\n",
       "      <th>sid</th>\n",
       "      <th>link</th>\n",
       "    </tr>\n",
       "  </thead>\n",
       "  <tbody>\n",
       "    <tr>\n",
       "      <th>0</th>\n",
       "      <td>Lil Baby</td>\n",
       "      <td>True</td>\n",
       "      <td>5f7VJjfbwm532GiveGC0ZK</td>\n",
       "      <td>https://open.spotify.com/artist/5f7VJjfbwm532GiveGC0ZK</td>\n",
       "    </tr>\n",
       "  </tbody>\n",
       "</table>\n",
       "</div>"
      ],
      "text/plain": [
       "       name popular                     sid  \\\n",
       "0  Lil Baby    True  5f7VJjfbwm532GiveGC0ZK   \n",
       "\n",
       "                                                     link  \n",
       "0  https://open.spotify.com/artist/5f7VJjfbwm532GiveGC0ZK  "
      ]
     },
     "execution_count": 78,
     "metadata": {},
     "output_type": "execute_result"
    }
   ],
   "source": [
    "f4.s_name_find('Lil Baby')"
   ]
  },
  {
   "cell_type": "code",
   "execution_count": 79,
   "metadata": {},
   "outputs": [
    {
     "data": {
      "text/html": [
       "<div>\n",
       "<style scoped>\n",
       "    .dataframe tbody tr th:only-of-type {\n",
       "        vertical-align: middle;\n",
       "    }\n",
       "\n",
       "    .dataframe tbody tr th {\n",
       "        vertical-align: top;\n",
       "    }\n",
       "\n",
       "    .dataframe thead th {\n",
       "        text-align: right;\n",
       "    }\n",
       "</style>\n",
       "<table border=\"1\" class=\"dataframe\">\n",
       "  <thead>\n",
       "    <tr style=\"text-align: right;\">\n",
       "      <th></th>\n",
       "      <th>name</th>\n",
       "      <th>popular</th>\n",
       "      <th>sid</th>\n",
       "      <th>link</th>\n",
       "    </tr>\n",
       "  </thead>\n",
       "  <tbody>\n",
       "    <tr>\n",
       "      <th>0</th>\n",
       "      <td>Lil Uzi Vert</td>\n",
       "      <td>True</td>\n",
       "      <td>4O15NlyKLIASxsJ0PrXPfz</td>\n",
       "      <td>https://open.spotify.com/artist/4O15NlyKLIASxsJ0PrXPfz</td>\n",
       "    </tr>\n",
       "  </tbody>\n",
       "</table>\n",
       "</div>"
      ],
      "text/plain": [
       "           name popular                     sid  \\\n",
       "0  Lil Uzi Vert    True  4O15NlyKLIASxsJ0PrXPfz   \n",
       "\n",
       "                                                     link  \n",
       "0  https://open.spotify.com/artist/4O15NlyKLIASxsJ0PrXPfz  "
      ]
     },
     "execution_count": 79,
     "metadata": {},
     "output_type": "execute_result"
    }
   ],
   "source": [
    "f4.s_name_find('Lil Uzi Vert')"
   ]
  },
  {
   "cell_type": "code",
   "execution_count": 82,
   "metadata": {},
   "outputs": [
    {
     "data": {
      "text/html": [
       "<div>\n",
       "<style scoped>\n",
       "    .dataframe tbody tr th:only-of-type {\n",
       "        vertical-align: middle;\n",
       "    }\n",
       "\n",
       "    .dataframe tbody tr th {\n",
       "        vertical-align: top;\n",
       "    }\n",
       "\n",
       "    .dataframe thead th {\n",
       "        text-align: right;\n",
       "    }\n",
       "</style>\n",
       "<table border=\"1\" class=\"dataframe\">\n",
       "  <thead>\n",
       "    <tr style=\"text-align: right;\">\n",
       "      <th></th>\n",
       "      <th>name</th>\n",
       "      <th>popular</th>\n",
       "      <th>sid</th>\n",
       "      <th>link</th>\n",
       "    </tr>\n",
       "  </thead>\n",
       "  <tbody>\n",
       "    <tr>\n",
       "      <th>0</th>\n",
       "      <td>The Kid LAROI</td>\n",
       "      <td>True</td>\n",
       "      <td>2tIP7SsRs7vjIcLrU85W8J</td>\n",
       "      <td>https://open.spotify.com/artist/2tIP7SsRs7vjIcLrU85W8J</td>\n",
       "    </tr>\n",
       "  </tbody>\n",
       "</table>\n",
       "</div>"
      ],
      "text/plain": [
       "            name popular                     sid  \\\n",
       "0  The Kid LAROI    True  2tIP7SsRs7vjIcLrU85W8J   \n",
       "\n",
       "                                                     link  \n",
       "0  https://open.spotify.com/artist/2tIP7SsRs7vjIcLrU85W8J  "
      ]
     },
     "execution_count": 82,
     "metadata": {},
     "output_type": "execute_result"
    }
   ],
   "source": [
    "f4.s_name_find('The Kid LAROI')"
   ]
  },
  {
   "cell_type": "code",
   "execution_count": 83,
   "metadata": {},
   "outputs": [
    {
     "name": "stdout",
     "output_type": "stream",
     "text": [
      "922 clusters\n",
      "\n",
      "Juice WRLD\n"
     ]
    },
    {
     "data": {
      "text/html": [
       "<table border=\"1\" class=\"dataframe\">\n",
       "  <thead>\n",
       "    <tr style=\"text-align: right;\">\n",
       "      <th></th>\n",
       "      <th>name</th>\n",
       "      <th>score</th>\n",
       "      <th>link</th>\n",
       "    </tr>\n",
       "  </thead>\n",
       "  <tbody>\n",
       "    <tr>\n",
       "      <th>0</th>\n",
       "      <td>Hazzie</td>\n",
       "      <td>0.694</td>\n",
       "      <td>https://open.spotify.com/artist/087QaLOI8MKeT9yHgjPu7P</td>\n",
       "    </tr>\n",
       "    <tr>\n",
       "      <th>1</th>\n",
       "      <td>Far Out</td>\n",
       "      <td>0.504</td>\n",
       "      <td>https://open.spotify.com/artist/7aB2KbM3pphL9mU3dXbyh2</td>\n",
       "    </tr>\n",
       "    <tr>\n",
       "      <th>2</th>\n",
       "      <td>Bustamante</td>\n",
       "      <td>0.434</td>\n",
       "      <td>https://open.spotify.com/artist/1VfKauu6JYTUrApbJXU0zo</td>\n",
       "    </tr>\n",
       "    <tr>\n",
       "      <th>3</th>\n",
       "      <td>Kompisbandet</td>\n",
       "      <td>0.425</td>\n",
       "      <td>https://open.spotify.com/artist/3C9ShKvWhKyI4lhcxXW44p</td>\n",
       "    </tr>\n",
       "    <tr>\n",
       "      <th>4</th>\n",
       "      <td>Mc Kadu</td>\n",
       "      <td>0.376</td>\n",
       "      <td>https://open.spotify.com/artist/21ELc2P2rA3Cu6xw3VWqvv</td>\n",
       "    </tr>\n",
       "  </tbody>\n",
       "</table>"
      ],
      "text/plain": [
       "<IPython.core.display.HTML object>"
      ]
     },
     "metadata": {},
     "output_type": "display_data"
    },
    {
     "name": "stdout",
     "output_type": "stream",
     "text": [
      "Lil Baby\n"
     ]
    },
    {
     "data": {
      "text/html": [
       "<table border=\"1\" class=\"dataframe\">\n",
       "  <thead>\n",
       "    <tr style=\"text-align: right;\">\n",
       "      <th></th>\n",
       "      <th>name</th>\n",
       "      <th>score</th>\n",
       "      <th>link</th>\n",
       "    </tr>\n",
       "  </thead>\n",
       "  <tbody>\n",
       "    <tr>\n",
       "      <th>0</th>\n",
       "      <td>Christine McVie</td>\n",
       "      <td>0.843</td>\n",
       "      <td>https://open.spotify.com/artist/6RCsx4p5smZHYz2P5HLcL2</td>\n",
       "    </tr>\n",
       "    <tr>\n",
       "      <th>1</th>\n",
       "      <td>Tankcsapda</td>\n",
       "      <td>0.787</td>\n",
       "      <td>https://open.spotify.com/artist/3QbmGjx9VYiu3fpG8NjIZI</td>\n",
       "    </tr>\n",
       "    <tr>\n",
       "      <th>2</th>\n",
       "      <td>DJ Isaac</td>\n",
       "      <td>0.745</td>\n",
       "      <td>https://open.spotify.com/artist/2FmgW6Jee0JQKtb6EnBWCq</td>\n",
       "    </tr>\n",
       "    <tr>\n",
       "      <th>3</th>\n",
       "      <td>Shop Boyz</td>\n",
       "      <td>0.745</td>\n",
       "      <td>https://open.spotify.com/artist/3v3clM1KQgVfpPjKJFPAmx</td>\n",
       "    </tr>\n",
       "    <tr>\n",
       "      <th>4</th>\n",
       "      <td>JUDY AND MARY</td>\n",
       "      <td>0.654</td>\n",
       "      <td>https://open.spotify.com/artist/7unNuvk3OEqGmegHTaxRA9</td>\n",
       "    </tr>\n",
       "  </tbody>\n",
       "</table>"
      ],
      "text/plain": [
       "<IPython.core.display.HTML object>"
      ]
     },
     "metadata": {},
     "output_type": "display_data"
    },
    {
     "name": "stdout",
     "output_type": "stream",
     "text": [
      "Lil Uzi Vert\n"
     ]
    },
    {
     "data": {
      "text/html": [
       "<table border=\"1\" class=\"dataframe\">\n",
       "  <thead>\n",
       "    <tr style=\"text-align: right;\">\n",
       "      <th></th>\n",
       "      <th>name</th>\n",
       "      <th>score</th>\n",
       "      <th>link</th>\n",
       "    </tr>\n",
       "  </thead>\n",
       "  <tbody>\n",
       "    <tr>\n",
       "      <th>0</th>\n",
       "      <td>Nuit Noire</td>\n",
       "      <td>2.427</td>\n",
       "      <td>https://open.spotify.com/artist/5je4gsngxk1kwZdn4pHQyy</td>\n",
       "    </tr>\n",
       "    <tr>\n",
       "      <th>1</th>\n",
       "      <td>Martin Castillo</td>\n",
       "      <td>1.295</td>\n",
       "      <td>https://open.spotify.com/artist/7cTBwZEDfYdYu1ti31AgPw</td>\n",
       "    </tr>\n",
       "    <tr>\n",
       "      <th>2</th>\n",
       "      <td>Julie Walters</td>\n",
       "      <td>0.876</td>\n",
       "      <td>https://open.spotify.com/artist/5Yi0y4bNdc04Oxk9l6nwXa</td>\n",
       "    </tr>\n",
       "    <tr>\n",
       "      <th>3</th>\n",
       "      <td>Daniel Boaventura</td>\n",
       "      <td>0.858</td>\n",
       "      <td>https://open.spotify.com/artist/6zhFFESLaKmtRCQ1VVi3kw</td>\n",
       "    </tr>\n",
       "    <tr>\n",
       "      <th>4</th>\n",
       "      <td>DD Company</td>\n",
       "      <td>0.829</td>\n",
       "      <td>https://open.spotify.com/artist/6ZgVO0er1ct8GJQNe7dk1w</td>\n",
       "    </tr>\n",
       "  </tbody>\n",
       "</table>"
      ],
      "text/plain": [
       "<IPython.core.display.HTML object>"
      ]
     },
     "metadata": {},
     "output_type": "display_data"
    },
    {
     "name": "stdout",
     "output_type": "stream",
     "text": [
      "The Kid LAROI\n"
     ]
    },
    {
     "data": {
      "text/html": [
       "<table border=\"1\" class=\"dataframe\">\n",
       "  <thead>\n",
       "    <tr style=\"text-align: right;\">\n",
       "      <th></th>\n",
       "      <th>name</th>\n",
       "      <th>score</th>\n",
       "      <th>link</th>\n",
       "    </tr>\n",
       "  </thead>\n",
       "  <tbody>\n",
       "    <tr>\n",
       "      <th>0</th>\n",
       "      <td>Cheb Bilal</td>\n",
       "      <td>0.966</td>\n",
       "      <td>https://open.spotify.com/artist/59N7N5tX53jyPhAmsRi4or</td>\n",
       "    </tr>\n",
       "    <tr>\n",
       "      <th>1</th>\n",
       "      <td>Caj Morgan</td>\n",
       "      <td>0.902</td>\n",
       "      <td>https://open.spotify.com/artist/6Xvy1uxkv35sodFf8FfpNw</td>\n",
       "    </tr>\n",
       "    <tr>\n",
       "      <th>2</th>\n",
       "      <td>The Messengers</td>\n",
       "      <td>0.892</td>\n",
       "      <td>https://open.spotify.com/artist/6cBdXnLZZ80RDHOvNPVUcY</td>\n",
       "    </tr>\n",
       "    <tr>\n",
       "      <th>3</th>\n",
       "      <td>TOQUEL</td>\n",
       "      <td>0.773</td>\n",
       "      <td>https://open.spotify.com/artist/7AWAljMatr7bxddF4kWzXG</td>\n",
       "    </tr>\n",
       "    <tr>\n",
       "      <th>4</th>\n",
       "      <td>Dominic Cooper</td>\n",
       "      <td>0.752</td>\n",
       "      <td>https://open.spotify.com/artist/0F6wZIBwxstvRk9eQtpvOo</td>\n",
       "    </tr>\n",
       "  </tbody>\n",
       "</table>"
      ],
      "text/plain": [
       "<IPython.core.display.HTML object>"
      ]
     },
     "metadata": {},
     "output_type": "display_data"
    }
   ],
   "source": [
    "display_recs(['4MCBfE4596Uoi2O4DtmEMz', '5f7VJjfbwm532GiveGC0ZK', '4O15NlyKLIASxsJ0PrXPfz', '2tIP7SsRs7vjIcLrU85W8J'], artists_per_cluster)"
   ]
  },
  {
   "cell_type": "markdown",
   "metadata": {},
   "source": [
    "# Aaron"
   ]
  },
  {
   "cell_type": "code",
   "execution_count": null,
   "metadata": {},
   "outputs": [],
   "source": [
    "# NF, AJR, Billie Eilish, Imagine Dragons, Hailee Steinfeld"
   ]
  },
  {
   "cell_type": "code",
   "execution_count": 84,
   "metadata": {},
   "outputs": [
    {
     "data": {
      "text/html": [
       "<div>\n",
       "<style scoped>\n",
       "    .dataframe tbody tr th:only-of-type {\n",
       "        vertical-align: middle;\n",
       "    }\n",
       "\n",
       "    .dataframe tbody tr th {\n",
       "        vertical-align: top;\n",
       "    }\n",
       "\n",
       "    .dataframe thead th {\n",
       "        text-align: right;\n",
       "    }\n",
       "</style>\n",
       "<table border=\"1\" class=\"dataframe\">\n",
       "  <thead>\n",
       "    <tr style=\"text-align: right;\">\n",
       "      <th></th>\n",
       "      <th>name</th>\n",
       "      <th>popular</th>\n",
       "      <th>sid</th>\n",
       "      <th>link</th>\n",
       "    </tr>\n",
       "  </thead>\n",
       "  <tbody>\n",
       "    <tr>\n",
       "      <th>0</th>\n",
       "      <td>NF</td>\n",
       "      <td>True</td>\n",
       "      <td>6fOMl44jA4Sp5b9PpYCkzz</td>\n",
       "      <td>https://open.spotify.com/artist/6fOMl44jA4Sp5b9PpYCkzz</td>\n",
       "    </tr>\n",
       "  </tbody>\n",
       "</table>\n",
       "</div>"
      ],
      "text/plain": [
       "  name popular                     sid  \\\n",
       "0   NF    True  6fOMl44jA4Sp5b9PpYCkzz   \n",
       "\n",
       "                                                     link  \n",
       "0  https://open.spotify.com/artist/6fOMl44jA4Sp5b9PpYCkzz  "
      ]
     },
     "execution_count": 84,
     "metadata": {},
     "output_type": "execute_result"
    }
   ],
   "source": [
    "f4.s_name_find('NF')"
   ]
  },
  {
   "cell_type": "code",
   "execution_count": 85,
   "metadata": {},
   "outputs": [
    {
     "data": {
      "text/html": [
       "<div>\n",
       "<style scoped>\n",
       "    .dataframe tbody tr th:only-of-type {\n",
       "        vertical-align: middle;\n",
       "    }\n",
       "\n",
       "    .dataframe tbody tr th {\n",
       "        vertical-align: top;\n",
       "    }\n",
       "\n",
       "    .dataframe thead th {\n",
       "        text-align: right;\n",
       "    }\n",
       "</style>\n",
       "<table border=\"1\" class=\"dataframe\">\n",
       "  <thead>\n",
       "    <tr style=\"text-align: right;\">\n",
       "      <th></th>\n",
       "      <th>name</th>\n",
       "      <th>popular</th>\n",
       "      <th>sid</th>\n",
       "      <th>link</th>\n",
       "    </tr>\n",
       "  </thead>\n",
       "  <tbody>\n",
       "    <tr>\n",
       "      <th>0</th>\n",
       "      <td>AJR</td>\n",
       "      <td>True</td>\n",
       "      <td>6s22t5Y3prQHyaHWUN1R1C</td>\n",
       "      <td>https://open.spotify.com/artist/6s22t5Y3prQHyaHWUN1R1C</td>\n",
       "    </tr>\n",
       "  </tbody>\n",
       "</table>\n",
       "</div>"
      ],
      "text/plain": [
       "  name popular                     sid  \\\n",
       "0  AJR    True  6s22t5Y3prQHyaHWUN1R1C   \n",
       "\n",
       "                                                     link  \n",
       "0  https://open.spotify.com/artist/6s22t5Y3prQHyaHWUN1R1C  "
      ]
     },
     "execution_count": 85,
     "metadata": {},
     "output_type": "execute_result"
    }
   ],
   "source": [
    "f4.s_name_find('AJR')"
   ]
  },
  {
   "cell_type": "code",
   "execution_count": 86,
   "metadata": {},
   "outputs": [
    {
     "data": {
      "text/html": [
       "<div>\n",
       "<style scoped>\n",
       "    .dataframe tbody tr th:only-of-type {\n",
       "        vertical-align: middle;\n",
       "    }\n",
       "\n",
       "    .dataframe tbody tr th {\n",
       "        vertical-align: top;\n",
       "    }\n",
       "\n",
       "    .dataframe thead th {\n",
       "        text-align: right;\n",
       "    }\n",
       "</style>\n",
       "<table border=\"1\" class=\"dataframe\">\n",
       "  <thead>\n",
       "    <tr style=\"text-align: right;\">\n",
       "      <th></th>\n",
       "      <th>name</th>\n",
       "      <th>popular</th>\n",
       "      <th>sid</th>\n",
       "      <th>link</th>\n",
       "    </tr>\n",
       "  </thead>\n",
       "  <tbody>\n",
       "    <tr>\n",
       "      <th>0</th>\n",
       "      <td>Billie Eilish</td>\n",
       "      <td>True</td>\n",
       "      <td>6qqNVTkY8uBg9cP3Jd7DAH</td>\n",
       "      <td>https://open.spotify.com/artist/6qqNVTkY8uBg9cP3Jd7DAH</td>\n",
       "    </tr>\n",
       "  </tbody>\n",
       "</table>\n",
       "</div>"
      ],
      "text/plain": [
       "            name popular                     sid  \\\n",
       "0  Billie Eilish    True  6qqNVTkY8uBg9cP3Jd7DAH   \n",
       "\n",
       "                                                     link  \n",
       "0  https://open.spotify.com/artist/6qqNVTkY8uBg9cP3Jd7DAH  "
      ]
     },
     "execution_count": 86,
     "metadata": {},
     "output_type": "execute_result"
    }
   ],
   "source": [
    "f4.s_name_find('Billie Eilish')"
   ]
  },
  {
   "cell_type": "code",
   "execution_count": 87,
   "metadata": {},
   "outputs": [
    {
     "data": {
      "text/html": [
       "<div>\n",
       "<style scoped>\n",
       "    .dataframe tbody tr th:only-of-type {\n",
       "        vertical-align: middle;\n",
       "    }\n",
       "\n",
       "    .dataframe tbody tr th {\n",
       "        vertical-align: top;\n",
       "    }\n",
       "\n",
       "    .dataframe thead th {\n",
       "        text-align: right;\n",
       "    }\n",
       "</style>\n",
       "<table border=\"1\" class=\"dataframe\">\n",
       "  <thead>\n",
       "    <tr style=\"text-align: right;\">\n",
       "      <th></th>\n",
       "      <th>name</th>\n",
       "      <th>popular</th>\n",
       "      <th>sid</th>\n",
       "      <th>link</th>\n",
       "    </tr>\n",
       "  </thead>\n",
       "  <tbody>\n",
       "    <tr>\n",
       "      <th>0</th>\n",
       "      <td>Imagine Dragons</td>\n",
       "      <td>True</td>\n",
       "      <td>53XhwfbYqKCa1cC15pYq2q</td>\n",
       "      <td>https://open.spotify.com/artist/53XhwfbYqKCa1cC15pYq2q</td>\n",
       "    </tr>\n",
       "  </tbody>\n",
       "</table>\n",
       "</div>"
      ],
      "text/plain": [
       "              name popular                     sid  \\\n",
       "0  Imagine Dragons    True  53XhwfbYqKCa1cC15pYq2q   \n",
       "\n",
       "                                                     link  \n",
       "0  https://open.spotify.com/artist/53XhwfbYqKCa1cC15pYq2q  "
      ]
     },
     "execution_count": 87,
     "metadata": {},
     "output_type": "execute_result"
    }
   ],
   "source": [
    "f4.s_name_find('Imagine Dragons')"
   ]
  },
  {
   "cell_type": "code",
   "execution_count": 88,
   "metadata": {},
   "outputs": [
    {
     "data": {
      "text/html": [
       "<div>\n",
       "<style scoped>\n",
       "    .dataframe tbody tr th:only-of-type {\n",
       "        vertical-align: middle;\n",
       "    }\n",
       "\n",
       "    .dataframe tbody tr th {\n",
       "        vertical-align: top;\n",
       "    }\n",
       "\n",
       "    .dataframe thead th {\n",
       "        text-align: right;\n",
       "    }\n",
       "</style>\n",
       "<table border=\"1\" class=\"dataframe\">\n",
       "  <thead>\n",
       "    <tr style=\"text-align: right;\">\n",
       "      <th></th>\n",
       "      <th>name</th>\n",
       "      <th>popular</th>\n",
       "      <th>sid</th>\n",
       "      <th>link</th>\n",
       "    </tr>\n",
       "  </thead>\n",
       "  <tbody>\n",
       "    <tr>\n",
       "      <th>0</th>\n",
       "      <td>Hailee Steinfeld</td>\n",
       "      <td>True</td>\n",
       "      <td>5p7f24Rk5HkUZsaS3BLG5F</td>\n",
       "      <td>https://open.spotify.com/artist/5p7f24Rk5HkUZsaS3BLG5F</td>\n",
       "    </tr>\n",
       "  </tbody>\n",
       "</table>\n",
       "</div>"
      ],
      "text/plain": [
       "               name popular                     sid  \\\n",
       "0  Hailee Steinfeld    True  5p7f24Rk5HkUZsaS3BLG5F   \n",
       "\n",
       "                                                     link  \n",
       "0  https://open.spotify.com/artist/5p7f24Rk5HkUZsaS3BLG5F  "
      ]
     },
     "execution_count": 88,
     "metadata": {},
     "output_type": "execute_result"
    }
   ],
   "source": [
    "f4.s_name_find('Hailee Steinfeld')"
   ]
  },
  {
   "cell_type": "code",
   "execution_count": 115,
   "metadata": {},
   "outputs": [
    {
     "name": "stdout",
     "output_type": "stream",
     "text": [
      "922 clusters\n",
      "\n",
      "NF\n"
     ]
    },
    {
     "data": {
      "text/html": [
       "<table border=\"1\" class=\"dataframe\">\n",
       "  <thead>\n",
       "    <tr style=\"text-align: right;\">\n",
       "      <th></th>\n",
       "      <th>name</th>\n",
       "      <th>score</th>\n",
       "      <th>link</th>\n",
       "    </tr>\n",
       "  </thead>\n",
       "  <tbody>\n",
       "    <tr>\n",
       "      <th>0</th>\n",
       "      <td>Michiel Schrey</td>\n",
       "      <td>1.222</td>\n",
       "      <td>https://open.spotify.com/artist/2KgIhGBEJK4W6Uw5WVeoaV</td>\n",
       "    </tr>\n",
       "    <tr>\n",
       "      <th>1</th>\n",
       "      <td>Wind</td>\n",
       "      <td>0.424</td>\n",
       "      <td>https://open.spotify.com/artist/2MLUcp8h4D38BrRYvryXgX</td>\n",
       "    </tr>\n",
       "    <tr>\n",
       "      <th>2</th>\n",
       "      <td>Alvin Cash &amp; The Registers</td>\n",
       "      <td>0.391</td>\n",
       "      <td>https://open.spotify.com/artist/1lhlZw4vM0CJjJqdUlJtce</td>\n",
       "    </tr>\n",
       "    <tr>\n",
       "      <th>3</th>\n",
       "      <td>Buddy Brown</td>\n",
       "      <td>0.385</td>\n",
       "      <td>https://open.spotify.com/artist/1JlztWTvzzz1v7cIf0eP64</td>\n",
       "    </tr>\n",
       "    <tr>\n",
       "      <th>4</th>\n",
       "      <td>Árbol</td>\n",
       "      <td>0.358</td>\n",
       "      <td>https://open.spotify.com/artist/6OO01j5rLKCyPg4i3FuzIT</td>\n",
       "    </tr>\n",
       "  </tbody>\n",
       "</table>"
      ],
      "text/plain": [
       "<IPython.core.display.HTML object>"
      ]
     },
     "metadata": {},
     "output_type": "display_data"
    },
    {
     "name": "stdout",
     "output_type": "stream",
     "text": [
      "AJR\n"
     ]
    },
    {
     "data": {
      "text/html": [
       "<table border=\"1\" class=\"dataframe\">\n",
       "  <thead>\n",
       "    <tr style=\"text-align: right;\">\n",
       "      <th></th>\n",
       "      <th>name</th>\n",
       "      <th>score</th>\n",
       "      <th>link</th>\n",
       "    </tr>\n",
       "  </thead>\n",
       "  <tbody>\n",
       "    <tr>\n",
       "      <th>0</th>\n",
       "      <td>Ill Repute</td>\n",
       "      <td>1.147</td>\n",
       "      <td>https://open.spotify.com/artist/2FE7KWiPJqwic38cmnAUQs</td>\n",
       "    </tr>\n",
       "    <tr>\n",
       "      <th>1</th>\n",
       "      <td>Brownman Revival</td>\n",
       "      <td>1.049</td>\n",
       "      <td>https://open.spotify.com/artist/7ymgfUyJFViyg1qFo4M2nH</td>\n",
       "    </tr>\n",
       "    <tr>\n",
       "      <th>2</th>\n",
       "      <td>La Cumbia</td>\n",
       "      <td>1.044</td>\n",
       "      <td>https://open.spotify.com/artist/1JBqDQ2nqzGdgOEv7f4Gev</td>\n",
       "    </tr>\n",
       "    <tr>\n",
       "      <th>3</th>\n",
       "      <td>Daniel Cardozo</td>\n",
       "      <td>0.979</td>\n",
       "      <td>https://open.spotify.com/artist/3Mr0TsHv8DUbDBMEFW2L9T</td>\n",
       "    </tr>\n",
       "    <tr>\n",
       "      <th>4</th>\n",
       "      <td>Outlawz</td>\n",
       "      <td>0.764</td>\n",
       "      <td>https://open.spotify.com/artist/2jp3Fk52x0HbymU0lNYbSC</td>\n",
       "    </tr>\n",
       "  </tbody>\n",
       "</table>"
      ],
      "text/plain": [
       "<IPython.core.display.HTML object>"
      ]
     },
     "metadata": {},
     "output_type": "display_data"
    },
    {
     "name": "stdout",
     "output_type": "stream",
     "text": [
      "Billie Eilish\n"
     ]
    },
    {
     "data": {
      "text/html": [
       "<table border=\"1\" class=\"dataframe\">\n",
       "  <thead>\n",
       "    <tr style=\"text-align: right;\">\n",
       "      <th></th>\n",
       "      <th>name</th>\n",
       "      <th>score</th>\n",
       "      <th>link</th>\n",
       "    </tr>\n",
       "  </thead>\n",
       "  <tbody>\n",
       "    <tr>\n",
       "      <th>0</th>\n",
       "      <td>Paul Hardcastle</td>\n",
       "      <td>1.576</td>\n",
       "      <td>https://open.spotify.com/artist/0SgDfSfWqkZMW96aT2oQZ1</td>\n",
       "    </tr>\n",
       "    <tr>\n",
       "      <th>1</th>\n",
       "      <td>Azaleh</td>\n",
       "      <td>1.300</td>\n",
       "      <td>https://open.spotify.com/artist/3yNkKjNBiX09eHZ4EQ3lJY</td>\n",
       "    </tr>\n",
       "    <tr>\n",
       "      <th>2</th>\n",
       "      <td>Dawn</td>\n",
       "      <td>1.243</td>\n",
       "      <td>https://open.spotify.com/artist/0ITGyIOMfQ1mk5fRUlH8Am</td>\n",
       "    </tr>\n",
       "    <tr>\n",
       "      <th>3</th>\n",
       "      <td>Right Said Fred</td>\n",
       "      <td>1.113</td>\n",
       "      <td>https://open.spotify.com/artist/15ajdFAi5bjj5pS9laBfBL</td>\n",
       "    </tr>\n",
       "    <tr>\n",
       "      <th>4</th>\n",
       "      <td>Nightcrawlers</td>\n",
       "      <td>0.769</td>\n",
       "      <td>https://open.spotify.com/artist/1gALaWbNDnwS2ECV09sn2A</td>\n",
       "    </tr>\n",
       "  </tbody>\n",
       "</table>"
      ],
      "text/plain": [
       "<IPython.core.display.HTML object>"
      ]
     },
     "metadata": {},
     "output_type": "display_data"
    },
    {
     "name": "stdout",
     "output_type": "stream",
     "text": [
      "Imagine Dragons\n"
     ]
    },
    {
     "data": {
      "text/html": [
       "<table border=\"1\" class=\"dataframe\">\n",
       "  <thead>\n",
       "    <tr style=\"text-align: right;\">\n",
       "      <th></th>\n",
       "      <th>name</th>\n",
       "      <th>score</th>\n",
       "      <th>link</th>\n",
       "    </tr>\n",
       "  </thead>\n",
       "  <tbody>\n",
       "    <tr>\n",
       "      <th>0</th>\n",
       "      <td>Space 92</td>\n",
       "      <td>1.667</td>\n",
       "      <td>https://open.spotify.com/artist/6TVdVlY6irsNPkMHT2HkfD</td>\n",
       "    </tr>\n",
       "    <tr>\n",
       "      <th>1</th>\n",
       "      <td>Juliito</td>\n",
       "      <td>1.013</td>\n",
       "      <td>https://open.spotify.com/artist/1u6AXgo5qmg0tfY8rDP18Z</td>\n",
       "    </tr>\n",
       "    <tr>\n",
       "      <th>2</th>\n",
       "      <td>Leoniden</td>\n",
       "      <td>0.874</td>\n",
       "      <td>https://open.spotify.com/artist/1zwtew8BGPk66RKGQqtPCX</td>\n",
       "    </tr>\n",
       "    <tr>\n",
       "      <th>3</th>\n",
       "      <td>The Factory</td>\n",
       "      <td>0.844</td>\n",
       "      <td>https://open.spotify.com/artist/1USVCuYigQ1RVA5f7Y9Xkm</td>\n",
       "    </tr>\n",
       "    <tr>\n",
       "      <th>4</th>\n",
       "      <td>Safri Duo</td>\n",
       "      <td>0.799</td>\n",
       "      <td>https://open.spotify.com/artist/2UOx6w3eHpPKc3RBnNV3Rl</td>\n",
       "    </tr>\n",
       "  </tbody>\n",
       "</table>"
      ],
      "text/plain": [
       "<IPython.core.display.HTML object>"
      ]
     },
     "metadata": {},
     "output_type": "display_data"
    },
    {
     "name": "stdout",
     "output_type": "stream",
     "text": [
      "Hailee Steinfeld\n"
     ]
    },
    {
     "data": {
      "text/html": [
       "<table border=\"1\" class=\"dataframe\">\n",
       "  <thead>\n",
       "    <tr style=\"text-align: right;\">\n",
       "      <th></th>\n",
       "      <th>name</th>\n",
       "      <th>score</th>\n",
       "      <th>link</th>\n",
       "    </tr>\n",
       "  </thead>\n",
       "  <tbody>\n",
       "    <tr>\n",
       "      <th>0</th>\n",
       "      <td>The Messengers</td>\n",
       "      <td>0.594</td>\n",
       "      <td>https://open.spotify.com/artist/6cBdXnLZZ80RDHOvNPVUcY</td>\n",
       "    </tr>\n",
       "    <tr>\n",
       "      <th>1</th>\n",
       "      <td>Regurgitate</td>\n",
       "      <td>0.522</td>\n",
       "      <td>https://open.spotify.com/artist/0PwXJpoSJEOIiPNvartOr6</td>\n",
       "    </tr>\n",
       "    <tr>\n",
       "      <th>2</th>\n",
       "      <td>Caj Morgan</td>\n",
       "      <td>0.490</td>\n",
       "      <td>https://open.spotify.com/artist/6Xvy1uxkv35sodFf8FfpNw</td>\n",
       "    </tr>\n",
       "    <tr>\n",
       "      <th>3</th>\n",
       "      <td>Cheb Bilal</td>\n",
       "      <td>0.412</td>\n",
       "      <td>https://open.spotify.com/artist/59N7N5tX53jyPhAmsRi4or</td>\n",
       "    </tr>\n",
       "    <tr>\n",
       "      <th>4</th>\n",
       "      <td>Dominic Cooper</td>\n",
       "      <td>0.334</td>\n",
       "      <td>https://open.spotify.com/artist/0F6wZIBwxstvRk9eQtpvOo</td>\n",
       "    </tr>\n",
       "  </tbody>\n",
       "</table>"
      ],
      "text/plain": [
       "<IPython.core.display.HTML object>"
      ]
     },
     "metadata": {},
     "output_type": "display_data"
    }
   ],
   "source": [
    "display_recs(['6fOMl44jA4Sp5b9PpYCkzz', '6s22t5Y3prQHyaHWUN1R1C', '6qqNVTkY8uBg9cP3Jd7DAH', '53XhwfbYqKCa1cC15pYq2q', '5p7f24Rk5HkUZsaS3BLG5F'], artists_per_cluster)"
   ]
  },
  {
   "cell_type": "markdown",
   "metadata": {},
   "source": [
    "# Michelle"
   ]
  },
  {
   "cell_type": "code",
   "execution_count": null,
   "metadata": {},
   "outputs": [],
   "source": [
    "# Taylor Swift, Ariana Grande, Fiji Blue, Maggie Rogers, LAUV"
   ]
  },
  {
   "cell_type": "code",
   "execution_count": 90,
   "metadata": {},
   "outputs": [
    {
     "data": {
      "text/html": [
       "<div>\n",
       "<style scoped>\n",
       "    .dataframe tbody tr th:only-of-type {\n",
       "        vertical-align: middle;\n",
       "    }\n",
       "\n",
       "    .dataframe tbody tr th {\n",
       "        vertical-align: top;\n",
       "    }\n",
       "\n",
       "    .dataframe thead th {\n",
       "        text-align: right;\n",
       "    }\n",
       "</style>\n",
       "<table border=\"1\" class=\"dataframe\">\n",
       "  <thead>\n",
       "    <tr style=\"text-align: right;\">\n",
       "      <th></th>\n",
       "      <th>name</th>\n",
       "      <th>popular</th>\n",
       "      <th>sid</th>\n",
       "      <th>link</th>\n",
       "    </tr>\n",
       "  </thead>\n",
       "  <tbody>\n",
       "    <tr>\n",
       "      <th>0</th>\n",
       "      <td>Taylor Swift</td>\n",
       "      <td>True</td>\n",
       "      <td>06HL4z0CvFAxyc27GXpf02</td>\n",
       "      <td>https://open.spotify.com/artist/06HL4z0CvFAxyc27GXpf02</td>\n",
       "    </tr>\n",
       "  </tbody>\n",
       "</table>\n",
       "</div>"
      ],
      "text/plain": [
       "           name popular                     sid  \\\n",
       "0  Taylor Swift    True  06HL4z0CvFAxyc27GXpf02   \n",
       "\n",
       "                                                     link  \n",
       "0  https://open.spotify.com/artist/06HL4z0CvFAxyc27GXpf02  "
      ]
     },
     "execution_count": 90,
     "metadata": {},
     "output_type": "execute_result"
    }
   ],
   "source": [
    "f4.s_name_find('Taylor Swift')"
   ]
  },
  {
   "cell_type": "code",
   "execution_count": 91,
   "metadata": {},
   "outputs": [
    {
     "data": {
      "text/html": [
       "<div>\n",
       "<style scoped>\n",
       "    .dataframe tbody tr th:only-of-type {\n",
       "        vertical-align: middle;\n",
       "    }\n",
       "\n",
       "    .dataframe tbody tr th {\n",
       "        vertical-align: top;\n",
       "    }\n",
       "\n",
       "    .dataframe thead th {\n",
       "        text-align: right;\n",
       "    }\n",
       "</style>\n",
       "<table border=\"1\" class=\"dataframe\">\n",
       "  <thead>\n",
       "    <tr style=\"text-align: right;\">\n",
       "      <th></th>\n",
       "      <th>name</th>\n",
       "      <th>popular</th>\n",
       "      <th>sid</th>\n",
       "      <th>link</th>\n",
       "    </tr>\n",
       "  </thead>\n",
       "  <tbody>\n",
       "    <tr>\n",
       "      <th>0</th>\n",
       "      <td>Ariana Grande</td>\n",
       "      <td>True</td>\n",
       "      <td>66CXWjxzNUsdJxJ2JdwvnR</td>\n",
       "      <td>https://open.spotify.com/artist/66CXWjxzNUsdJxJ2JdwvnR</td>\n",
       "    </tr>\n",
       "  </tbody>\n",
       "</table>\n",
       "</div>"
      ],
      "text/plain": [
       "            name popular                     sid  \\\n",
       "0  Ariana Grande    True  66CXWjxzNUsdJxJ2JdwvnR   \n",
       "\n",
       "                                                     link  \n",
       "0  https://open.spotify.com/artist/66CXWjxzNUsdJxJ2JdwvnR  "
      ]
     },
     "execution_count": 91,
     "metadata": {},
     "output_type": "execute_result"
    }
   ],
   "source": [
    "f4.s_name_find('Ariana Grande')"
   ]
  },
  {
   "cell_type": "code",
   "execution_count": 92,
   "metadata": {},
   "outputs": [
    {
     "data": {
      "text/html": [
       "<div>\n",
       "<style scoped>\n",
       "    .dataframe tbody tr th:only-of-type {\n",
       "        vertical-align: middle;\n",
       "    }\n",
       "\n",
       "    .dataframe tbody tr th {\n",
       "        vertical-align: top;\n",
       "    }\n",
       "\n",
       "    .dataframe thead th {\n",
       "        text-align: right;\n",
       "    }\n",
       "</style>\n",
       "<table border=\"1\" class=\"dataframe\">\n",
       "  <thead>\n",
       "    <tr style=\"text-align: right;\">\n",
       "      <th></th>\n",
       "      <th>name</th>\n",
       "      <th>popular</th>\n",
       "      <th>sid</th>\n",
       "      <th>link</th>\n",
       "    </tr>\n",
       "  </thead>\n",
       "  <tbody>\n",
       "    <tr>\n",
       "      <th>0</th>\n",
       "      <td>Fiji Blue</td>\n",
       "      <td>False</td>\n",
       "      <td>1e7K8jD3wRuQfnwDAOeGqe</td>\n",
       "      <td>https://open.spotify.com/artist/1e7K8jD3wRuQfnwDAOeGqe</td>\n",
       "    </tr>\n",
       "  </tbody>\n",
       "</table>\n",
       "</div>"
      ],
      "text/plain": [
       "        name popular                     sid  \\\n",
       "0  Fiji Blue   False  1e7K8jD3wRuQfnwDAOeGqe   \n",
       "\n",
       "                                                     link  \n",
       "0  https://open.spotify.com/artist/1e7K8jD3wRuQfnwDAOeGqe  "
      ]
     },
     "execution_count": 92,
     "metadata": {},
     "output_type": "execute_result"
    }
   ],
   "source": [
    "f4.s_name_find('Fiji Blue')"
   ]
  },
  {
   "cell_type": "code",
   "execution_count": 93,
   "metadata": {},
   "outputs": [
    {
     "data": {
      "text/html": [
       "<div>\n",
       "<style scoped>\n",
       "    .dataframe tbody tr th:only-of-type {\n",
       "        vertical-align: middle;\n",
       "    }\n",
       "\n",
       "    .dataframe tbody tr th {\n",
       "        vertical-align: top;\n",
       "    }\n",
       "\n",
       "    .dataframe thead th {\n",
       "        text-align: right;\n",
       "    }\n",
       "</style>\n",
       "<table border=\"1\" class=\"dataframe\">\n",
       "  <thead>\n",
       "    <tr style=\"text-align: right;\">\n",
       "      <th></th>\n",
       "      <th>name</th>\n",
       "      <th>popular</th>\n",
       "      <th>sid</th>\n",
       "      <th>link</th>\n",
       "    </tr>\n",
       "  </thead>\n",
       "  <tbody>\n",
       "    <tr>\n",
       "      <th>0</th>\n",
       "      <td>Maggie Rogers</td>\n",
       "      <td>True</td>\n",
       "      <td>4NZvixzsSefsNiIqXn0NDe</td>\n",
       "      <td>https://open.spotify.com/artist/4NZvixzsSefsNiIqXn0NDe</td>\n",
       "    </tr>\n",
       "  </tbody>\n",
       "</table>\n",
       "</div>"
      ],
      "text/plain": [
       "            name popular                     sid  \\\n",
       "0  Maggie Rogers    True  4NZvixzsSefsNiIqXn0NDe   \n",
       "\n",
       "                                                     link  \n",
       "0  https://open.spotify.com/artist/4NZvixzsSefsNiIqXn0NDe  "
      ]
     },
     "execution_count": 93,
     "metadata": {},
     "output_type": "execute_result"
    }
   ],
   "source": [
    "f4.s_name_find('Maggie Rogers')"
   ]
  },
  {
   "cell_type": "code",
   "execution_count": 95,
   "metadata": {},
   "outputs": [
    {
     "data": {
      "text/html": [
       "<div>\n",
       "<style scoped>\n",
       "    .dataframe tbody tr th:only-of-type {\n",
       "        vertical-align: middle;\n",
       "    }\n",
       "\n",
       "    .dataframe tbody tr th {\n",
       "        vertical-align: top;\n",
       "    }\n",
       "\n",
       "    .dataframe thead th {\n",
       "        text-align: right;\n",
       "    }\n",
       "</style>\n",
       "<table border=\"1\" class=\"dataframe\">\n",
       "  <thead>\n",
       "    <tr style=\"text-align: right;\">\n",
       "      <th></th>\n",
       "      <th>name</th>\n",
       "      <th>popular</th>\n",
       "      <th>sid</th>\n",
       "      <th>link</th>\n",
       "    </tr>\n",
       "  </thead>\n",
       "  <tbody>\n",
       "    <tr>\n",
       "      <th>0</th>\n",
       "      <td>Lauv</td>\n",
       "      <td>True</td>\n",
       "      <td>5JZ7CnR6gTvEMKX4g70Amv</td>\n",
       "      <td>https://open.spotify.com/artist/5JZ7CnR6gTvEMKX4g70Amv</td>\n",
       "    </tr>\n",
       "  </tbody>\n",
       "</table>\n",
       "</div>"
      ],
      "text/plain": [
       "   name popular                     sid  \\\n",
       "0  Lauv    True  5JZ7CnR6gTvEMKX4g70Amv   \n",
       "\n",
       "                                                     link  \n",
       "0  https://open.spotify.com/artist/5JZ7CnR6gTvEMKX4g70Amv  "
      ]
     },
     "execution_count": 95,
     "metadata": {},
     "output_type": "execute_result"
    }
   ],
   "source": [
    "f4.s_name_find('Lauv')"
   ]
  },
  {
   "cell_type": "code",
   "execution_count": 116,
   "metadata": {},
   "outputs": [
    {
     "name": "stdout",
     "output_type": "stream",
     "text": [
      "922 clusters\n",
      "\n",
      "Taylor Swift\n"
     ]
    },
    {
     "data": {
      "text/html": [
       "<table border=\"1\" class=\"dataframe\">\n",
       "  <thead>\n",
       "    <tr style=\"text-align: right;\">\n",
       "      <th></th>\n",
       "      <th>name</th>\n",
       "      <th>score</th>\n",
       "      <th>link</th>\n",
       "    </tr>\n",
       "  </thead>\n",
       "  <tbody>\n",
       "    <tr>\n",
       "      <th>0</th>\n",
       "      <td>Newcleus</td>\n",
       "      <td>0.884</td>\n",
       "      <td>https://open.spotify.com/artist/5X8Tt3rIpdy8VR78KEhZ6C</td>\n",
       "    </tr>\n",
       "    <tr>\n",
       "      <th>1</th>\n",
       "      <td>SVEA</td>\n",
       "      <td>0.700</td>\n",
       "      <td>https://open.spotify.com/artist/4XtfY4CBieEfqF3CSiPrRx</td>\n",
       "    </tr>\n",
       "    <tr>\n",
       "      <th>2</th>\n",
       "      <td>Clau</td>\n",
       "      <td>0.500</td>\n",
       "      <td>https://open.spotify.com/artist/13A9x5VINTOaVnYxK4rbNQ</td>\n",
       "    </tr>\n",
       "    <tr>\n",
       "      <th>3</th>\n",
       "      <td>Le Luci Della Centrale Elettrica</td>\n",
       "      <td>0.493</td>\n",
       "      <td>https://open.spotify.com/artist/6lnSL91XbQXZJZw60GyyAi</td>\n",
       "    </tr>\n",
       "    <tr>\n",
       "      <th>4</th>\n",
       "      <td>Arizona Zervas</td>\n",
       "      <td>0.457</td>\n",
       "      <td>https://open.spotify.com/artist/0vRvGUQVUjytro0xpb26bs</td>\n",
       "    </tr>\n",
       "  </tbody>\n",
       "</table>"
      ],
      "text/plain": [
       "<IPython.core.display.HTML object>"
      ]
     },
     "metadata": {},
     "output_type": "display_data"
    },
    {
     "name": "stdout",
     "output_type": "stream",
     "text": [
      "Ariana Grande\n"
     ]
    },
    {
     "data": {
      "text/html": [
       "<table border=\"1\" class=\"dataframe\">\n",
       "  <thead>\n",
       "    <tr style=\"text-align: right;\">\n",
       "      <th></th>\n",
       "      <th>name</th>\n",
       "      <th>score</th>\n",
       "      <th>link</th>\n",
       "    </tr>\n",
       "  </thead>\n",
       "  <tbody>\n",
       "    <tr>\n",
       "      <th>0</th>\n",
       "      <td>DJ Neeh</td>\n",
       "      <td>1.453</td>\n",
       "      <td>https://open.spotify.com/artist/2SDYnXWEAiTFyyKyRDy79I</td>\n",
       "    </tr>\n",
       "    <tr>\n",
       "      <th>1</th>\n",
       "      <td>DJ Goja</td>\n",
       "      <td>1.119</td>\n",
       "      <td>https://open.spotify.com/artist/2bHWbDN72wdIF0Y48669zg</td>\n",
       "    </tr>\n",
       "    <tr>\n",
       "      <th>2</th>\n",
       "      <td>Grupo TMB</td>\n",
       "      <td>1.054</td>\n",
       "      <td>https://open.spotify.com/artist/3QknSu5Hr8QrEGl3rzQOPT</td>\n",
       "    </tr>\n",
       "    <tr>\n",
       "      <th>3</th>\n",
       "      <td>El Greco</td>\n",
       "      <td>0.968</td>\n",
       "      <td>https://open.spotify.com/artist/2fe5YD0v1HzDeACkHSPAXG</td>\n",
       "    </tr>\n",
       "    <tr>\n",
       "      <th>4</th>\n",
       "      <td>Blut Aus Nord</td>\n",
       "      <td>0.887</td>\n",
       "      <td>https://open.spotify.com/artist/0c0xIXQhCbmtvzM93liaSf</td>\n",
       "    </tr>\n",
       "  </tbody>\n",
       "</table>"
      ],
      "text/plain": [
       "<IPython.core.display.HTML object>"
      ]
     },
     "metadata": {},
     "output_type": "display_data"
    },
    {
     "name": "stdout",
     "output_type": "stream",
     "text": [
      "Maggie Rogers\n"
     ]
    },
    {
     "data": {
      "text/html": [
       "<table border=\"1\" class=\"dataframe\">\n",
       "  <thead>\n",
       "    <tr style=\"text-align: right;\">\n",
       "      <th></th>\n",
       "      <th>name</th>\n",
       "      <th>score</th>\n",
       "      <th>link</th>\n",
       "    </tr>\n",
       "  </thead>\n",
       "  <tbody>\n",
       "    <tr>\n",
       "      <th>0</th>\n",
       "      <td>Kacper HTA</td>\n",
       "      <td>0.599</td>\n",
       "      <td>https://open.spotify.com/artist/39lKxb2ZHaygwUTthI92SS</td>\n",
       "    </tr>\n",
       "    <tr>\n",
       "      <th>1</th>\n",
       "      <td>Le Prince Miiaou</td>\n",
       "      <td>0.573</td>\n",
       "      <td>https://open.spotify.com/artist/0fffWPHzxwbxt9Eb75nHX3</td>\n",
       "    </tr>\n",
       "    <tr>\n",
       "      <th>2</th>\n",
       "      <td>DTG</td>\n",
       "      <td>0.360</td>\n",
       "      <td>https://open.spotify.com/artist/6kZWqUZqptyxb8Ki5DyBAg</td>\n",
       "    </tr>\n",
       "    <tr>\n",
       "      <th>3</th>\n",
       "      <td>Slavik</td>\n",
       "      <td>0.344</td>\n",
       "      <td>https://open.spotify.com/artist/7qzdcfeW7JUQV3RkD4gPfv</td>\n",
       "    </tr>\n",
       "    <tr>\n",
       "      <th>4</th>\n",
       "      <td>Ryan Realcria</td>\n",
       "      <td>0.311</td>\n",
       "      <td>https://open.spotify.com/artist/24km46riM1Ch9H1eNDQcuX</td>\n",
       "    </tr>\n",
       "  </tbody>\n",
       "</table>"
      ],
      "text/plain": [
       "<IPython.core.display.HTML object>"
      ]
     },
     "metadata": {},
     "output_type": "display_data"
    },
    {
     "name": "stdout",
     "output_type": "stream",
     "text": [
      "Lauv\n"
     ]
    },
    {
     "data": {
      "text/html": [
       "<table border=\"1\" class=\"dataframe\">\n",
       "  <thead>\n",
       "    <tr style=\"text-align: right;\">\n",
       "      <th></th>\n",
       "      <th>name</th>\n",
       "      <th>score</th>\n",
       "      <th>link</th>\n",
       "    </tr>\n",
       "  </thead>\n",
       "  <tbody>\n",
       "    <tr>\n",
       "      <th>0</th>\n",
       "      <td>Visioneers</td>\n",
       "      <td>2.040</td>\n",
       "      <td>https://open.spotify.com/artist/1PjrwJuTm8jNItVJ1GDrrD</td>\n",
       "    </tr>\n",
       "    <tr>\n",
       "      <th>1</th>\n",
       "      <td>The Anix</td>\n",
       "      <td>1.974</td>\n",
       "      <td>https://open.spotify.com/artist/6nFvVbL2RN5czSm7NZjE51</td>\n",
       "    </tr>\n",
       "    <tr>\n",
       "      <th>2</th>\n",
       "      <td>Cryptic One</td>\n",
       "      <td>1.877</td>\n",
       "      <td>https://open.spotify.com/artist/1we4hPy7TbMM543Fyksn26</td>\n",
       "    </tr>\n",
       "    <tr>\n",
       "      <th>3</th>\n",
       "      <td>The Fathoms</td>\n",
       "      <td>1.334</td>\n",
       "      <td>https://open.spotify.com/artist/0doqn5jnYAYSpkhmafrmkl</td>\n",
       "    </tr>\n",
       "    <tr>\n",
       "      <th>4</th>\n",
       "      <td>Meniscus</td>\n",
       "      <td>0.905</td>\n",
       "      <td>https://open.spotify.com/artist/6h1Z9DOWJlUEN07cR3j1C6</td>\n",
       "    </tr>\n",
       "  </tbody>\n",
       "</table>"
      ],
      "text/plain": [
       "<IPython.core.display.HTML object>"
      ]
     },
     "metadata": {},
     "output_type": "display_data"
    }
   ],
   "source": [
    "display_recs(['06HL4z0CvFAxyc27GXpf02', '66CXWjxzNUsdJxJ2JdwvnR', '4NZvixzsSefsNiIqXn0NDe', '5JZ7CnR6gTvEMKX4g70Amv'], artists_per_cluster)"
   ]
  },
  {
   "cell_type": "markdown",
   "metadata": {},
   "source": [
    "# Hongyi"
   ]
  },
  {
   "cell_type": "code",
   "execution_count": null,
   "metadata": {},
   "outputs": [],
   "source": [
    "# Taylor Swift, AJR, Imagine Dragons"
   ]
  },
  {
   "cell_type": "code",
   "execution_count": 96,
   "metadata": {},
   "outputs": [
    {
     "data": {
      "text/html": [
       "<div>\n",
       "<style scoped>\n",
       "    .dataframe tbody tr th:only-of-type {\n",
       "        vertical-align: middle;\n",
       "    }\n",
       "\n",
       "    .dataframe tbody tr th {\n",
       "        vertical-align: top;\n",
       "    }\n",
       "\n",
       "    .dataframe thead th {\n",
       "        text-align: right;\n",
       "    }\n",
       "</style>\n",
       "<table border=\"1\" class=\"dataframe\">\n",
       "  <thead>\n",
       "    <tr style=\"text-align: right;\">\n",
       "      <th></th>\n",
       "      <th>name</th>\n",
       "      <th>popular</th>\n",
       "      <th>sid</th>\n",
       "      <th>link</th>\n",
       "    </tr>\n",
       "  </thead>\n",
       "  <tbody>\n",
       "    <tr>\n",
       "      <th>0</th>\n",
       "      <td>Taylor Swift</td>\n",
       "      <td>True</td>\n",
       "      <td>06HL4z0CvFAxyc27GXpf02</td>\n",
       "      <td>https://open.spotify.com/artist/06HL4z0CvFAxyc27GXpf02</td>\n",
       "    </tr>\n",
       "  </tbody>\n",
       "</table>\n",
       "</div>"
      ],
      "text/plain": [
       "           name popular                     sid  \\\n",
       "0  Taylor Swift    True  06HL4z0CvFAxyc27GXpf02   \n",
       "\n",
       "                                                     link  \n",
       "0  https://open.spotify.com/artist/06HL4z0CvFAxyc27GXpf02  "
      ]
     },
     "execution_count": 96,
     "metadata": {},
     "output_type": "execute_result"
    }
   ],
   "source": [
    "f4.s_name_find('Taylor Swift')"
   ]
  },
  {
   "cell_type": "code",
   "execution_count": 97,
   "metadata": {},
   "outputs": [
    {
     "data": {
      "text/html": [
       "<div>\n",
       "<style scoped>\n",
       "    .dataframe tbody tr th:only-of-type {\n",
       "        vertical-align: middle;\n",
       "    }\n",
       "\n",
       "    .dataframe tbody tr th {\n",
       "        vertical-align: top;\n",
       "    }\n",
       "\n",
       "    .dataframe thead th {\n",
       "        text-align: right;\n",
       "    }\n",
       "</style>\n",
       "<table border=\"1\" class=\"dataframe\">\n",
       "  <thead>\n",
       "    <tr style=\"text-align: right;\">\n",
       "      <th></th>\n",
       "      <th>name</th>\n",
       "      <th>popular</th>\n",
       "      <th>sid</th>\n",
       "      <th>link</th>\n",
       "    </tr>\n",
       "  </thead>\n",
       "  <tbody>\n",
       "    <tr>\n",
       "      <th>0</th>\n",
       "      <td>AJR</td>\n",
       "      <td>True</td>\n",
       "      <td>6s22t5Y3prQHyaHWUN1R1C</td>\n",
       "      <td>https://open.spotify.com/artist/6s22t5Y3prQHyaHWUN1R1C</td>\n",
       "    </tr>\n",
       "  </tbody>\n",
       "</table>\n",
       "</div>"
      ],
      "text/plain": [
       "  name popular                     sid  \\\n",
       "0  AJR    True  6s22t5Y3prQHyaHWUN1R1C   \n",
       "\n",
       "                                                     link  \n",
       "0  https://open.spotify.com/artist/6s22t5Y3prQHyaHWUN1R1C  "
      ]
     },
     "execution_count": 97,
     "metadata": {},
     "output_type": "execute_result"
    }
   ],
   "source": [
    "f4.s_name_find('AJR')"
   ]
  },
  {
   "cell_type": "code",
   "execution_count": 98,
   "metadata": {},
   "outputs": [
    {
     "data": {
      "text/html": [
       "<div>\n",
       "<style scoped>\n",
       "    .dataframe tbody tr th:only-of-type {\n",
       "        vertical-align: middle;\n",
       "    }\n",
       "\n",
       "    .dataframe tbody tr th {\n",
       "        vertical-align: top;\n",
       "    }\n",
       "\n",
       "    .dataframe thead th {\n",
       "        text-align: right;\n",
       "    }\n",
       "</style>\n",
       "<table border=\"1\" class=\"dataframe\">\n",
       "  <thead>\n",
       "    <tr style=\"text-align: right;\">\n",
       "      <th></th>\n",
       "      <th>name</th>\n",
       "      <th>popular</th>\n",
       "      <th>sid</th>\n",
       "      <th>link</th>\n",
       "    </tr>\n",
       "  </thead>\n",
       "  <tbody>\n",
       "    <tr>\n",
       "      <th>0</th>\n",
       "      <td>Imagine Dragons</td>\n",
       "      <td>True</td>\n",
       "      <td>53XhwfbYqKCa1cC15pYq2q</td>\n",
       "      <td>https://open.spotify.com/artist/53XhwfbYqKCa1cC15pYq2q</td>\n",
       "    </tr>\n",
       "  </tbody>\n",
       "</table>\n",
       "</div>"
      ],
      "text/plain": [
       "              name popular                     sid  \\\n",
       "0  Imagine Dragons    True  53XhwfbYqKCa1cC15pYq2q   \n",
       "\n",
       "                                                     link  \n",
       "0  https://open.spotify.com/artist/53XhwfbYqKCa1cC15pYq2q  "
      ]
     },
     "execution_count": 98,
     "metadata": {},
     "output_type": "execute_result"
    }
   ],
   "source": [
    "f4.s_name_find('Imagine Dragons')"
   ]
  },
  {
   "cell_type": "code",
   "execution_count": 117,
   "metadata": {},
   "outputs": [
    {
     "name": "stdout",
     "output_type": "stream",
     "text": [
      "922 clusters\n",
      "\n",
      "Taylor Swift\n"
     ]
    },
    {
     "data": {
      "text/html": [
       "<table border=\"1\" class=\"dataframe\">\n",
       "  <thead>\n",
       "    <tr style=\"text-align: right;\">\n",
       "      <th></th>\n",
       "      <th>name</th>\n",
       "      <th>score</th>\n",
       "      <th>link</th>\n",
       "    </tr>\n",
       "  </thead>\n",
       "  <tbody>\n",
       "    <tr>\n",
       "      <th>0</th>\n",
       "      <td>Newcleus</td>\n",
       "      <td>0.884</td>\n",
       "      <td>https://open.spotify.com/artist/5X8Tt3rIpdy8VR78KEhZ6C</td>\n",
       "    </tr>\n",
       "    <tr>\n",
       "      <th>1</th>\n",
       "      <td>SVEA</td>\n",
       "      <td>0.700</td>\n",
       "      <td>https://open.spotify.com/artist/4XtfY4CBieEfqF3CSiPrRx</td>\n",
       "    </tr>\n",
       "    <tr>\n",
       "      <th>2</th>\n",
       "      <td>Clau</td>\n",
       "      <td>0.500</td>\n",
       "      <td>https://open.spotify.com/artist/13A9x5VINTOaVnYxK4rbNQ</td>\n",
       "    </tr>\n",
       "    <tr>\n",
       "      <th>3</th>\n",
       "      <td>Le Luci Della Centrale Elettrica</td>\n",
       "      <td>0.493</td>\n",
       "      <td>https://open.spotify.com/artist/6lnSL91XbQXZJZw60GyyAi</td>\n",
       "    </tr>\n",
       "    <tr>\n",
       "      <th>4</th>\n",
       "      <td>Arizona Zervas</td>\n",
       "      <td>0.457</td>\n",
       "      <td>https://open.spotify.com/artist/0vRvGUQVUjytro0xpb26bs</td>\n",
       "    </tr>\n",
       "  </tbody>\n",
       "</table>"
      ],
      "text/plain": [
       "<IPython.core.display.HTML object>"
      ]
     },
     "metadata": {},
     "output_type": "display_data"
    },
    {
     "name": "stdout",
     "output_type": "stream",
     "text": [
      "AJR\n"
     ]
    },
    {
     "data": {
      "text/html": [
       "<table border=\"1\" class=\"dataframe\">\n",
       "  <thead>\n",
       "    <tr style=\"text-align: right;\">\n",
       "      <th></th>\n",
       "      <th>name</th>\n",
       "      <th>score</th>\n",
       "      <th>link</th>\n",
       "    </tr>\n",
       "  </thead>\n",
       "  <tbody>\n",
       "    <tr>\n",
       "      <th>0</th>\n",
       "      <td>Ill Repute</td>\n",
       "      <td>1.147</td>\n",
       "      <td>https://open.spotify.com/artist/2FE7KWiPJqwic38cmnAUQs</td>\n",
       "    </tr>\n",
       "    <tr>\n",
       "      <th>1</th>\n",
       "      <td>Brownman Revival</td>\n",
       "      <td>1.049</td>\n",
       "      <td>https://open.spotify.com/artist/7ymgfUyJFViyg1qFo4M2nH</td>\n",
       "    </tr>\n",
       "    <tr>\n",
       "      <th>2</th>\n",
       "      <td>La Cumbia</td>\n",
       "      <td>1.044</td>\n",
       "      <td>https://open.spotify.com/artist/1JBqDQ2nqzGdgOEv7f4Gev</td>\n",
       "    </tr>\n",
       "    <tr>\n",
       "      <th>3</th>\n",
       "      <td>Daniel Cardozo</td>\n",
       "      <td>0.979</td>\n",
       "      <td>https://open.spotify.com/artist/3Mr0TsHv8DUbDBMEFW2L9T</td>\n",
       "    </tr>\n",
       "    <tr>\n",
       "      <th>4</th>\n",
       "      <td>Outlawz</td>\n",
       "      <td>0.764</td>\n",
       "      <td>https://open.spotify.com/artist/2jp3Fk52x0HbymU0lNYbSC</td>\n",
       "    </tr>\n",
       "  </tbody>\n",
       "</table>"
      ],
      "text/plain": [
       "<IPython.core.display.HTML object>"
      ]
     },
     "metadata": {},
     "output_type": "display_data"
    },
    {
     "name": "stdout",
     "output_type": "stream",
     "text": [
      "Imagine Dragons\n"
     ]
    },
    {
     "data": {
      "text/html": [
       "<table border=\"1\" class=\"dataframe\">\n",
       "  <thead>\n",
       "    <tr style=\"text-align: right;\">\n",
       "      <th></th>\n",
       "      <th>name</th>\n",
       "      <th>score</th>\n",
       "      <th>link</th>\n",
       "    </tr>\n",
       "  </thead>\n",
       "  <tbody>\n",
       "    <tr>\n",
       "      <th>0</th>\n",
       "      <td>Space 92</td>\n",
       "      <td>1.667</td>\n",
       "      <td>https://open.spotify.com/artist/6TVdVlY6irsNPkMHT2HkfD</td>\n",
       "    </tr>\n",
       "    <tr>\n",
       "      <th>1</th>\n",
       "      <td>Juliito</td>\n",
       "      <td>1.013</td>\n",
       "      <td>https://open.spotify.com/artist/1u6AXgo5qmg0tfY8rDP18Z</td>\n",
       "    </tr>\n",
       "    <tr>\n",
       "      <th>2</th>\n",
       "      <td>Leoniden</td>\n",
       "      <td>0.874</td>\n",
       "      <td>https://open.spotify.com/artist/1zwtew8BGPk66RKGQqtPCX</td>\n",
       "    </tr>\n",
       "    <tr>\n",
       "      <th>3</th>\n",
       "      <td>The Factory</td>\n",
       "      <td>0.844</td>\n",
       "      <td>https://open.spotify.com/artist/1USVCuYigQ1RVA5f7Y9Xkm</td>\n",
       "    </tr>\n",
       "    <tr>\n",
       "      <th>4</th>\n",
       "      <td>Safri Duo</td>\n",
       "      <td>0.799</td>\n",
       "      <td>https://open.spotify.com/artist/2UOx6w3eHpPKc3RBnNV3Rl</td>\n",
       "    </tr>\n",
       "  </tbody>\n",
       "</table>"
      ],
      "text/plain": [
       "<IPython.core.display.HTML object>"
      ]
     },
     "metadata": {},
     "output_type": "display_data"
    }
   ],
   "source": [
    "display_recs(['06HL4z0CvFAxyc27GXpf02', '6s22t5Y3prQHyaHWUN1R1C', '53XhwfbYqKCa1cC15pYq2q'], artists_per_cluster)"
   ]
  },
  {
   "cell_type": "markdown",
   "metadata": {},
   "source": [
    "# Madeline"
   ]
  },
  {
   "cell_type": "code",
   "execution_count": null,
   "metadata": {},
   "outputs": [],
   "source": [
    "# Green Day, Pearl Jam, the Red Hot Chili Peppers,  the Jam, David Bowie"
   ]
  },
  {
   "cell_type": "code",
   "execution_count": 99,
   "metadata": {},
   "outputs": [
    {
     "data": {
      "text/html": [
       "<div>\n",
       "<style scoped>\n",
       "    .dataframe tbody tr th:only-of-type {\n",
       "        vertical-align: middle;\n",
       "    }\n",
       "\n",
       "    .dataframe tbody tr th {\n",
       "        vertical-align: top;\n",
       "    }\n",
       "\n",
       "    .dataframe thead th {\n",
       "        text-align: right;\n",
       "    }\n",
       "</style>\n",
       "<table border=\"1\" class=\"dataframe\">\n",
       "  <thead>\n",
       "    <tr style=\"text-align: right;\">\n",
       "      <th></th>\n",
       "      <th>name</th>\n",
       "      <th>popular</th>\n",
       "      <th>sid</th>\n",
       "      <th>link</th>\n",
       "    </tr>\n",
       "  </thead>\n",
       "  <tbody>\n",
       "    <tr>\n",
       "      <th>0</th>\n",
       "      <td>Green Day</td>\n",
       "      <td>True</td>\n",
       "      <td>7oPftvlwr6VrsViSDV7fJY</td>\n",
       "      <td>https://open.spotify.com/artist/7oPftvlwr6VrsViSDV7fJY</td>\n",
       "    </tr>\n",
       "  </tbody>\n",
       "</table>\n",
       "</div>"
      ],
      "text/plain": [
       "        name popular                     sid  \\\n",
       "0  Green Day    True  7oPftvlwr6VrsViSDV7fJY   \n",
       "\n",
       "                                                     link  \n",
       "0  https://open.spotify.com/artist/7oPftvlwr6VrsViSDV7fJY  "
      ]
     },
     "execution_count": 99,
     "metadata": {},
     "output_type": "execute_result"
    }
   ],
   "source": [
    "f4.s_name_find('Green Day')"
   ]
  },
  {
   "cell_type": "code",
   "execution_count": 100,
   "metadata": {},
   "outputs": [
    {
     "data": {
      "text/html": [
       "<div>\n",
       "<style scoped>\n",
       "    .dataframe tbody tr th:only-of-type {\n",
       "        vertical-align: middle;\n",
       "    }\n",
       "\n",
       "    .dataframe tbody tr th {\n",
       "        vertical-align: top;\n",
       "    }\n",
       "\n",
       "    .dataframe thead th {\n",
       "        text-align: right;\n",
       "    }\n",
       "</style>\n",
       "<table border=\"1\" class=\"dataframe\">\n",
       "  <thead>\n",
       "    <tr style=\"text-align: right;\">\n",
       "      <th></th>\n",
       "      <th>name</th>\n",
       "      <th>popular</th>\n",
       "      <th>sid</th>\n",
       "      <th>link</th>\n",
       "    </tr>\n",
       "  </thead>\n",
       "  <tbody>\n",
       "    <tr>\n",
       "      <th>0</th>\n",
       "      <td>Pearl Jam</td>\n",
       "      <td>True</td>\n",
       "      <td>1w5Kfo2jwwIPruYS2UWh56</td>\n",
       "      <td>https://open.spotify.com/artist/1w5Kfo2jwwIPruYS2UWh56</td>\n",
       "    </tr>\n",
       "  </tbody>\n",
       "</table>\n",
       "</div>"
      ],
      "text/plain": [
       "        name popular                     sid  \\\n",
       "0  Pearl Jam    True  1w5Kfo2jwwIPruYS2UWh56   \n",
       "\n",
       "                                                     link  \n",
       "0  https://open.spotify.com/artist/1w5Kfo2jwwIPruYS2UWh56  "
      ]
     },
     "execution_count": 100,
     "metadata": {},
     "output_type": "execute_result"
    }
   ],
   "source": [
    "f4.s_name_find('Pearl Jam')"
   ]
  },
  {
   "cell_type": "code",
   "execution_count": 102,
   "metadata": {},
   "outputs": [
    {
     "data": {
      "text/html": [
       "<div>\n",
       "<style scoped>\n",
       "    .dataframe tbody tr th:only-of-type {\n",
       "        vertical-align: middle;\n",
       "    }\n",
       "\n",
       "    .dataframe tbody tr th {\n",
       "        vertical-align: top;\n",
       "    }\n",
       "\n",
       "    .dataframe thead th {\n",
       "        text-align: right;\n",
       "    }\n",
       "</style>\n",
       "<table border=\"1\" class=\"dataframe\">\n",
       "  <thead>\n",
       "    <tr style=\"text-align: right;\">\n",
       "      <th></th>\n",
       "      <th>name</th>\n",
       "      <th>popular</th>\n",
       "      <th>sid</th>\n",
       "      <th>link</th>\n",
       "    </tr>\n",
       "  </thead>\n",
       "  <tbody>\n",
       "    <tr>\n",
       "      <th>0</th>\n",
       "      <td>Red Hot Chili Peppers</td>\n",
       "      <td>True</td>\n",
       "      <td>0L8ExT028jH3ddEcZwqJJ5</td>\n",
       "      <td>https://open.spotify.com/artist/0L8ExT028jH3ddEcZwqJJ5</td>\n",
       "    </tr>\n",
       "  </tbody>\n",
       "</table>\n",
       "</div>"
      ],
      "text/plain": [
       "                    name popular                     sid  \\\n",
       "0  Red Hot Chili Peppers    True  0L8ExT028jH3ddEcZwqJJ5   \n",
       "\n",
       "                                                     link  \n",
       "0  https://open.spotify.com/artist/0L8ExT028jH3ddEcZwqJJ5  "
      ]
     },
     "execution_count": 102,
     "metadata": {},
     "output_type": "execute_result"
    }
   ],
   "source": [
    "f4.s_name_find('Red Hot Chili Peppers')"
   ]
  },
  {
   "cell_type": "code",
   "execution_count": 103,
   "metadata": {},
   "outputs": [
    {
     "data": {
      "text/html": [
       "<div>\n",
       "<style scoped>\n",
       "    .dataframe tbody tr th:only-of-type {\n",
       "        vertical-align: middle;\n",
       "    }\n",
       "\n",
       "    .dataframe tbody tr th {\n",
       "        vertical-align: top;\n",
       "    }\n",
       "\n",
       "    .dataframe thead th {\n",
       "        text-align: right;\n",
       "    }\n",
       "</style>\n",
       "<table border=\"1\" class=\"dataframe\">\n",
       "  <thead>\n",
       "    <tr style=\"text-align: right;\">\n",
       "      <th></th>\n",
       "      <th>name</th>\n",
       "      <th>popular</th>\n",
       "      <th>sid</th>\n",
       "      <th>link</th>\n",
       "    </tr>\n",
       "  </thead>\n",
       "  <tbody>\n",
       "    <tr>\n",
       "      <th>0</th>\n",
       "      <td>The Jam</td>\n",
       "      <td>False</td>\n",
       "      <td>2P560DaOMNDUACoH8ZhOCR</td>\n",
       "      <td>https://open.spotify.com/artist/2P560DaOMNDUACoH8ZhOCR</td>\n",
       "    </tr>\n",
       "  </tbody>\n",
       "</table>\n",
       "</div>"
      ],
      "text/plain": [
       "      name popular                     sid  \\\n",
       "0  The Jam   False  2P560DaOMNDUACoH8ZhOCR   \n",
       "\n",
       "                                                     link  \n",
       "0  https://open.spotify.com/artist/2P560DaOMNDUACoH8ZhOCR  "
      ]
     },
     "execution_count": 103,
     "metadata": {},
     "output_type": "execute_result"
    }
   ],
   "source": [
    "f4.s_name_find('The Jam')"
   ]
  },
  {
   "cell_type": "code",
   "execution_count": 104,
   "metadata": {},
   "outputs": [
    {
     "data": {
      "text/html": [
       "<div>\n",
       "<style scoped>\n",
       "    .dataframe tbody tr th:only-of-type {\n",
       "        vertical-align: middle;\n",
       "    }\n",
       "\n",
       "    .dataframe tbody tr th {\n",
       "        vertical-align: top;\n",
       "    }\n",
       "\n",
       "    .dataframe thead th {\n",
       "        text-align: right;\n",
       "    }\n",
       "</style>\n",
       "<table border=\"1\" class=\"dataframe\">\n",
       "  <thead>\n",
       "    <tr style=\"text-align: right;\">\n",
       "      <th></th>\n",
       "      <th>name</th>\n",
       "      <th>popular</th>\n",
       "      <th>sid</th>\n",
       "      <th>link</th>\n",
       "    </tr>\n",
       "  </thead>\n",
       "  <tbody>\n",
       "    <tr>\n",
       "      <th>0</th>\n",
       "      <td>David Bowie</td>\n",
       "      <td>True</td>\n",
       "      <td>0oSGxfWSnnOXhD2fKuz2Gy</td>\n",
       "      <td>https://open.spotify.com/artist/0oSGxfWSnnOXhD2fKuz2Gy</td>\n",
       "    </tr>\n",
       "  </tbody>\n",
       "</table>\n",
       "</div>"
      ],
      "text/plain": [
       "          name popular                     sid  \\\n",
       "0  David Bowie    True  0oSGxfWSnnOXhD2fKuz2Gy   \n",
       "\n",
       "                                                     link  \n",
       "0  https://open.spotify.com/artist/0oSGxfWSnnOXhD2fKuz2Gy  "
      ]
     },
     "execution_count": 104,
     "metadata": {},
     "output_type": "execute_result"
    }
   ],
   "source": [
    "f4.s_name_find('David Bowie')"
   ]
  },
  {
   "cell_type": "code",
   "execution_count": 120,
   "metadata": {},
   "outputs": [
    {
     "name": "stdout",
     "output_type": "stream",
     "text": [
      "922 clusters\n",
      "\n",
      "Green Day\n"
     ]
    },
    {
     "data": {
      "text/html": [
       "<table border=\"1\" class=\"dataframe\">\n",
       "  <thead>\n",
       "    <tr style=\"text-align: right;\">\n",
       "      <th></th>\n",
       "      <th>name</th>\n",
       "      <th>score</th>\n",
       "      <th>link</th>\n",
       "    </tr>\n",
       "  </thead>\n",
       "  <tbody>\n",
       "    <tr>\n",
       "      <th>0</th>\n",
       "      <td>Yuridia</td>\n",
       "      <td>0.635</td>\n",
       "      <td>https://open.spotify.com/artist/5B8ApeENp4bE4EE3LI8jK2</td>\n",
       "    </tr>\n",
       "    <tr>\n",
       "      <th>1</th>\n",
       "      <td>Ramallah</td>\n",
       "      <td>0.579</td>\n",
       "      <td>https://open.spotify.com/artist/6MqHFWgnVrc3EV8camo1dW</td>\n",
       "    </tr>\n",
       "    <tr>\n",
       "      <th>2</th>\n",
       "      <td>Anaal Nathrakh</td>\n",
       "      <td>0.566</td>\n",
       "      <td>https://open.spotify.com/artist/7vrrJ5YlL3I8XUrh1ktGJV</td>\n",
       "    </tr>\n",
       "    <tr>\n",
       "      <th>3</th>\n",
       "      <td>Subhumans</td>\n",
       "      <td>0.531</td>\n",
       "      <td>https://open.spotify.com/artist/1lJNwrcZP9AEjFL7s8YdbK</td>\n",
       "    </tr>\n",
       "    <tr>\n",
       "      <th>4</th>\n",
       "      <td>girlfriends</td>\n",
       "      <td>0.359</td>\n",
       "      <td>https://open.spotify.com/artist/4Dwhb9SL7iO3L27oXvEiO7</td>\n",
       "    </tr>\n",
       "  </tbody>\n",
       "</table>"
      ],
      "text/plain": [
       "<IPython.core.display.HTML object>"
      ]
     },
     "metadata": {},
     "output_type": "display_data"
    },
    {
     "name": "stdout",
     "output_type": "stream",
     "text": [
      "Pearl Jam\n"
     ]
    },
    {
     "data": {
      "text/html": [
       "<table border=\"1\" class=\"dataframe\">\n",
       "  <thead>\n",
       "    <tr style=\"text-align: right;\">\n",
       "      <th></th>\n",
       "      <th>name</th>\n",
       "      <th>score</th>\n",
       "      <th>link</th>\n",
       "    </tr>\n",
       "  </thead>\n",
       "  <tbody>\n",
       "    <tr>\n",
       "      <th>0</th>\n",
       "      <td>Hopex</td>\n",
       "      <td>1.215</td>\n",
       "      <td>https://open.spotify.com/artist/0dE2azLipjakJifWO2xrOO</td>\n",
       "    </tr>\n",
       "    <tr>\n",
       "      <th>1</th>\n",
       "      <td>Miguel Campello</td>\n",
       "      <td>1.088</td>\n",
       "      <td>https://open.spotify.com/artist/0OzDyhPnwvUVGRNWrVILlg</td>\n",
       "    </tr>\n",
       "    <tr>\n",
       "      <th>2</th>\n",
       "      <td>Power Station</td>\n",
       "      <td>0.993</td>\n",
       "      <td>https://open.spotify.com/artist/6zCAdMK7SVxKyGMnAc26Cy</td>\n",
       "    </tr>\n",
       "    <tr>\n",
       "      <th>3</th>\n",
       "      <td>Kittie</td>\n",
       "      <td>0.883</td>\n",
       "      <td>https://open.spotify.com/artist/0ImEDe9tW5n4pxHOK39zIc</td>\n",
       "    </tr>\n",
       "    <tr>\n",
       "      <th>4</th>\n",
       "      <td>Tempo Giusto</td>\n",
       "      <td>0.840</td>\n",
       "      <td>https://open.spotify.com/artist/0m0RB1rz2K4biPY7teHR6R</td>\n",
       "    </tr>\n",
       "  </tbody>\n",
       "</table>"
      ],
      "text/plain": [
       "<IPython.core.display.HTML object>"
      ]
     },
     "metadata": {},
     "output_type": "display_data"
    },
    {
     "name": "stdout",
     "output_type": "stream",
     "text": [
      "Red Hot Chili Peppers\n"
     ]
    },
    {
     "data": {
      "text/html": [
       "<table border=\"1\" class=\"dataframe\">\n",
       "  <thead>\n",
       "    <tr style=\"text-align: right;\">\n",
       "      <th></th>\n",
       "      <th>name</th>\n",
       "      <th>score</th>\n",
       "      <th>link</th>\n",
       "    </tr>\n",
       "  </thead>\n",
       "  <tbody>\n",
       "    <tr>\n",
       "      <th>0</th>\n",
       "      <td>Carnifex</td>\n",
       "      <td>1.663</td>\n",
       "      <td>https://open.spotify.com/artist/4nqY8hkQNkHaDq4fdVxdYr</td>\n",
       "    </tr>\n",
       "    <tr>\n",
       "      <th>1</th>\n",
       "      <td>Suicidal Angels</td>\n",
       "      <td>1.579</td>\n",
       "      <td>https://open.spotify.com/artist/5Qb7CFfWNE9rlymfrFp5A2</td>\n",
       "    </tr>\n",
       "    <tr>\n",
       "      <th>2</th>\n",
       "      <td>Boys of Fall</td>\n",
       "      <td>1.277</td>\n",
       "      <td>https://open.spotify.com/artist/0ILEjQuglCTYQkTrKGQvj5</td>\n",
       "    </tr>\n",
       "    <tr>\n",
       "      <th>3</th>\n",
       "      <td>Admiral P</td>\n",
       "      <td>1.166</td>\n",
       "      <td>https://open.spotify.com/artist/2P87oRX5tCFl1PYQRbPCPD</td>\n",
       "    </tr>\n",
       "    <tr>\n",
       "      <th>4</th>\n",
       "      <td>MC Dede</td>\n",
       "      <td>1.033</td>\n",
       "      <td>https://open.spotify.com/artist/45Hr5etuwmSx4gSyn5qSeW</td>\n",
       "    </tr>\n",
       "  </tbody>\n",
       "</table>"
      ],
      "text/plain": [
       "<IPython.core.display.HTML object>"
      ]
     },
     "metadata": {},
     "output_type": "display_data"
    },
    {
     "name": "stdout",
     "output_type": "stream",
     "text": [
      "David Bowie\n"
     ]
    },
    {
     "data": {
      "text/html": [
       "<table border=\"1\" class=\"dataframe\">\n",
       "  <thead>\n",
       "    <tr style=\"text-align: right;\">\n",
       "      <th></th>\n",
       "      <th>name</th>\n",
       "      <th>score</th>\n",
       "      <th>link</th>\n",
       "    </tr>\n",
       "  </thead>\n",
       "  <tbody>\n",
       "    <tr>\n",
       "      <th>0</th>\n",
       "      <td>Bonsaye</td>\n",
       "      <td>1.309</td>\n",
       "      <td>https://open.spotify.com/artist/1GL8uwuoUqjDP9Qs37FoFG</td>\n",
       "    </tr>\n",
       "    <tr>\n",
       "      <th>1</th>\n",
       "      <td>NKOHA</td>\n",
       "      <td>1.090</td>\n",
       "      <td>https://open.spotify.com/artist/74yb8EAWGPAcIUo6CFxKIR</td>\n",
       "    </tr>\n",
       "    <tr>\n",
       "      <th>2</th>\n",
       "      <td>Melodiesinfonie</td>\n",
       "      <td>1.073</td>\n",
       "      <td>https://open.spotify.com/artist/3YndyZk8nVLJKspIBo0nLd</td>\n",
       "    </tr>\n",
       "    <tr>\n",
       "      <th>3</th>\n",
       "      <td>Sharkey Bonano</td>\n",
       "      <td>1.067</td>\n",
       "      <td>https://open.spotify.com/artist/4o2zkCpWF0zLf7NNpm7ZJM</td>\n",
       "    </tr>\n",
       "    <tr>\n",
       "      <th>4</th>\n",
       "      <td>Parra for Cuva</td>\n",
       "      <td>1.044</td>\n",
       "      <td>https://open.spotify.com/artist/238y1dKPtMeFEpX3Y6H1Vr</td>\n",
       "    </tr>\n",
       "  </tbody>\n",
       "</table>"
      ],
      "text/plain": [
       "<IPython.core.display.HTML object>"
      ]
     },
     "metadata": {},
     "output_type": "display_data"
    }
   ],
   "source": [
    "display_recs(['7oPftvlwr6VrsViSDV7fJY', '1w5Kfo2jwwIPruYS2UWh56', '0L8ExT028jH3ddEcZwqJJ5', '0oSGxfWSnnOXhD2fKuz2Gy'], artists_per_cluster)"
   ]
  },
  {
   "cell_type": "markdown",
   "metadata": {},
   "source": [
    "# Sona"
   ]
  },
  {
   "cell_type": "code",
   "execution_count": null,
   "metadata": {},
   "outputs": [],
   "source": [
    "# Stray Kids, Post Malone, lil nas x, kehlani, bahari "
   ]
  },
  {
   "cell_type": "code",
   "execution_count": 105,
   "metadata": {},
   "outputs": [
    {
     "data": {
      "text/html": [
       "<div>\n",
       "<style scoped>\n",
       "    .dataframe tbody tr th:only-of-type {\n",
       "        vertical-align: middle;\n",
       "    }\n",
       "\n",
       "    .dataframe tbody tr th {\n",
       "        vertical-align: top;\n",
       "    }\n",
       "\n",
       "    .dataframe thead th {\n",
       "        text-align: right;\n",
       "    }\n",
       "</style>\n",
       "<table border=\"1\" class=\"dataframe\">\n",
       "  <thead>\n",
       "    <tr style=\"text-align: right;\">\n",
       "      <th></th>\n",
       "      <th>name</th>\n",
       "      <th>popular</th>\n",
       "      <th>sid</th>\n",
       "      <th>link</th>\n",
       "    </tr>\n",
       "  </thead>\n",
       "  <tbody>\n",
       "    <tr>\n",
       "      <th>0</th>\n",
       "      <td>Stray Kids</td>\n",
       "      <td>False</td>\n",
       "      <td>2dIgFjalVxs4ThymZ67YCE</td>\n",
       "      <td>https://open.spotify.com/artist/2dIgFjalVxs4ThymZ67YCE</td>\n",
       "    </tr>\n",
       "  </tbody>\n",
       "</table>\n",
       "</div>"
      ],
      "text/plain": [
       "         name popular                     sid  \\\n",
       "0  Stray Kids   False  2dIgFjalVxs4ThymZ67YCE   \n",
       "\n",
       "                                                     link  \n",
       "0  https://open.spotify.com/artist/2dIgFjalVxs4ThymZ67YCE  "
      ]
     },
     "execution_count": 105,
     "metadata": {},
     "output_type": "execute_result"
    }
   ],
   "source": [
    "f4.s_name_find('Stray Kids')"
   ]
  },
  {
   "cell_type": "code",
   "execution_count": 106,
   "metadata": {},
   "outputs": [
    {
     "data": {
      "text/html": [
       "<div>\n",
       "<style scoped>\n",
       "    .dataframe tbody tr th:only-of-type {\n",
       "        vertical-align: middle;\n",
       "    }\n",
       "\n",
       "    .dataframe tbody tr th {\n",
       "        vertical-align: top;\n",
       "    }\n",
       "\n",
       "    .dataframe thead th {\n",
       "        text-align: right;\n",
       "    }\n",
       "</style>\n",
       "<table border=\"1\" class=\"dataframe\">\n",
       "  <thead>\n",
       "    <tr style=\"text-align: right;\">\n",
       "      <th></th>\n",
       "      <th>name</th>\n",
       "      <th>popular</th>\n",
       "      <th>sid</th>\n",
       "      <th>link</th>\n",
       "    </tr>\n",
       "  </thead>\n",
       "  <tbody>\n",
       "    <tr>\n",
       "      <th>0</th>\n",
       "      <td>Post Malone</td>\n",
       "      <td>True</td>\n",
       "      <td>246dkjvS1zLTtiykXe5h60</td>\n",
       "      <td>https://open.spotify.com/artist/246dkjvS1zLTtiykXe5h60</td>\n",
       "    </tr>\n",
       "  </tbody>\n",
       "</table>\n",
       "</div>"
      ],
      "text/plain": [
       "          name popular                     sid  \\\n",
       "0  Post Malone    True  246dkjvS1zLTtiykXe5h60   \n",
       "\n",
       "                                                     link  \n",
       "0  https://open.spotify.com/artist/246dkjvS1zLTtiykXe5h60  "
      ]
     },
     "execution_count": 106,
     "metadata": {},
     "output_type": "execute_result"
    }
   ],
   "source": [
    "f4.s_name_find('Post Malone')"
   ]
  },
  {
   "cell_type": "code",
   "execution_count": 107,
   "metadata": {},
   "outputs": [
    {
     "data": {
      "text/html": [
       "<div>\n",
       "<style scoped>\n",
       "    .dataframe tbody tr th:only-of-type {\n",
       "        vertical-align: middle;\n",
       "    }\n",
       "\n",
       "    .dataframe tbody tr th {\n",
       "        vertical-align: top;\n",
       "    }\n",
       "\n",
       "    .dataframe thead th {\n",
       "        text-align: right;\n",
       "    }\n",
       "</style>\n",
       "<table border=\"1\" class=\"dataframe\">\n",
       "  <thead>\n",
       "    <tr style=\"text-align: right;\">\n",
       "      <th></th>\n",
       "      <th>name</th>\n",
       "      <th>popular</th>\n",
       "      <th>sid</th>\n",
       "      <th>link</th>\n",
       "    </tr>\n",
       "  </thead>\n",
       "  <tbody>\n",
       "    <tr>\n",
       "      <th>0</th>\n",
       "      <td>Lil Nas X</td>\n",
       "      <td>True</td>\n",
       "      <td>7jVv8c5Fj3E9VhNjxT4snq</td>\n",
       "      <td>https://open.spotify.com/artist/7jVv8c5Fj3E9VhNjxT4snq</td>\n",
       "    </tr>\n",
       "  </tbody>\n",
       "</table>\n",
       "</div>"
      ],
      "text/plain": [
       "        name popular                     sid  \\\n",
       "0  Lil Nas X    True  7jVv8c5Fj3E9VhNjxT4snq   \n",
       "\n",
       "                                                     link  \n",
       "0  https://open.spotify.com/artist/7jVv8c5Fj3E9VhNjxT4snq  "
      ]
     },
     "execution_count": 107,
     "metadata": {},
     "output_type": "execute_result"
    }
   ],
   "source": [
    "f4.s_name_find('Lil Nas X')"
   ]
  },
  {
   "cell_type": "code",
   "execution_count": 108,
   "metadata": {},
   "outputs": [
    {
     "data": {
      "text/html": [
       "<div>\n",
       "<style scoped>\n",
       "    .dataframe tbody tr th:only-of-type {\n",
       "        vertical-align: middle;\n",
       "    }\n",
       "\n",
       "    .dataframe tbody tr th {\n",
       "        vertical-align: top;\n",
       "    }\n",
       "\n",
       "    .dataframe thead th {\n",
       "        text-align: right;\n",
       "    }\n",
       "</style>\n",
       "<table border=\"1\" class=\"dataframe\">\n",
       "  <thead>\n",
       "    <tr style=\"text-align: right;\">\n",
       "      <th></th>\n",
       "      <th>name</th>\n",
       "      <th>popular</th>\n",
       "      <th>sid</th>\n",
       "      <th>link</th>\n",
       "    </tr>\n",
       "  </thead>\n",
       "  <tbody>\n",
       "    <tr>\n",
       "      <th>0</th>\n",
       "      <td>Kehlani</td>\n",
       "      <td>True</td>\n",
       "      <td>0cGUm45nv7Z6M6qdXYQGTX</td>\n",
       "      <td>https://open.spotify.com/artist/0cGUm45nv7Z6M6qdXYQGTX</td>\n",
       "    </tr>\n",
       "  </tbody>\n",
       "</table>\n",
       "</div>"
      ],
      "text/plain": [
       "      name popular                     sid  \\\n",
       "0  Kehlani    True  0cGUm45nv7Z6M6qdXYQGTX   \n",
       "\n",
       "                                                     link  \n",
       "0  https://open.spotify.com/artist/0cGUm45nv7Z6M6qdXYQGTX  "
      ]
     },
     "execution_count": 108,
     "metadata": {},
     "output_type": "execute_result"
    }
   ],
   "source": [
    "f4.s_name_find('Kehlani')"
   ]
  },
  {
   "cell_type": "code",
   "execution_count": 109,
   "metadata": {},
   "outputs": [
    {
     "data": {
      "text/html": [
       "<div>\n",
       "<style scoped>\n",
       "    .dataframe tbody tr th:only-of-type {\n",
       "        vertical-align: middle;\n",
       "    }\n",
       "\n",
       "    .dataframe tbody tr th {\n",
       "        vertical-align: top;\n",
       "    }\n",
       "\n",
       "    .dataframe thead th {\n",
       "        text-align: right;\n",
       "    }\n",
       "</style>\n",
       "<table border=\"1\" class=\"dataframe\">\n",
       "  <thead>\n",
       "    <tr style=\"text-align: right;\">\n",
       "      <th></th>\n",
       "      <th>name</th>\n",
       "      <th>popular</th>\n",
       "      <th>sid</th>\n",
       "      <th>link</th>\n",
       "    </tr>\n",
       "  </thead>\n",
       "  <tbody>\n",
       "    <tr>\n",
       "      <th>0</th>\n",
       "      <td>Bahari</td>\n",
       "      <td>False</td>\n",
       "      <td>0fs8oBR1rx7JIXZi75h7Uu</td>\n",
       "      <td>https://open.spotify.com/artist/0fs8oBR1rx7JIXZi75h7Uu</td>\n",
       "    </tr>\n",
       "  </tbody>\n",
       "</table>\n",
       "</div>"
      ],
      "text/plain": [
       "     name popular                     sid  \\\n",
       "0  Bahari   False  0fs8oBR1rx7JIXZi75h7Uu   \n",
       "\n",
       "                                                     link  \n",
       "0  https://open.spotify.com/artist/0fs8oBR1rx7JIXZi75h7Uu  "
      ]
     },
     "execution_count": 109,
     "metadata": {},
     "output_type": "execute_result"
    }
   ],
   "source": [
    "f4.s_name_find('Bahari')"
   ]
  },
  {
   "cell_type": "code",
   "execution_count": 121,
   "metadata": {},
   "outputs": [
    {
     "name": "stdout",
     "output_type": "stream",
     "text": [
      "922 clusters\n",
      "\n",
      "Post Malone\n"
     ]
    },
    {
     "data": {
      "text/html": [
       "<table border=\"1\" class=\"dataframe\">\n",
       "  <thead>\n",
       "    <tr style=\"text-align: right;\">\n",
       "      <th></th>\n",
       "      <th>name</th>\n",
       "      <th>score</th>\n",
       "      <th>link</th>\n",
       "    </tr>\n",
       "  </thead>\n",
       "  <tbody>\n",
       "    <tr>\n",
       "      <th>0</th>\n",
       "      <td>Safri Duo</td>\n",
       "      <td>1.000</td>\n",
       "      <td>https://open.spotify.com/artist/2UOx6w3eHpPKc3RBnNV3Rl</td>\n",
       "    </tr>\n",
       "    <tr>\n",
       "      <th>1</th>\n",
       "      <td>Space 92</td>\n",
       "      <td>0.982</td>\n",
       "      <td>https://open.spotify.com/artist/6TVdVlY6irsNPkMHT2HkfD</td>\n",
       "    </tr>\n",
       "    <tr>\n",
       "      <th>2</th>\n",
       "      <td>Landon Tewers</td>\n",
       "      <td>0.710</td>\n",
       "      <td>https://open.spotify.com/artist/3j4ihH7xANVDGQhcDFJby7</td>\n",
       "    </tr>\n",
       "    <tr>\n",
       "      <th>3</th>\n",
       "      <td>The Factory</td>\n",
       "      <td>0.708</td>\n",
       "      <td>https://open.spotify.com/artist/3z3UxedsvRztdWKcpO7Rk0</td>\n",
       "    </tr>\n",
       "    <tr>\n",
       "      <th>4</th>\n",
       "      <td>Imperative Reaction</td>\n",
       "      <td>0.519</td>\n",
       "      <td>https://open.spotify.com/artist/7vwmOoJ4uuLnacO4jxbTWB</td>\n",
       "    </tr>\n",
       "  </tbody>\n",
       "</table>"
      ],
      "text/plain": [
       "<IPython.core.display.HTML object>"
      ]
     },
     "metadata": {},
     "output_type": "display_data"
    },
    {
     "name": "stdout",
     "output_type": "stream",
     "text": [
      "Lil Nas X\n"
     ]
    },
    {
     "data": {
      "text/html": [
       "<table border=\"1\" class=\"dataframe\">\n",
       "  <thead>\n",
       "    <tr style=\"text-align: right;\">\n",
       "      <th></th>\n",
       "      <th>name</th>\n",
       "      <th>score</th>\n",
       "      <th>link</th>\n",
       "    </tr>\n",
       "  </thead>\n",
       "  <tbody>\n",
       "    <tr>\n",
       "      <th>0</th>\n",
       "      <td>Tokyo Disneyland</td>\n",
       "      <td>4.204</td>\n",
       "      <td>https://open.spotify.com/artist/5EPQb0h5U2AWk8OxzEWxx2</td>\n",
       "    </tr>\n",
       "    <tr>\n",
       "      <th>1</th>\n",
       "      <td>Dangerous</td>\n",
       "      <td>3.226</td>\n",
       "      <td>https://open.spotify.com/artist/31lHli6bkcR9D2iil5HOr6</td>\n",
       "    </tr>\n",
       "    <tr>\n",
       "      <th>2</th>\n",
       "      <td>Japanther</td>\n",
       "      <td>2.483</td>\n",
       "      <td>https://open.spotify.com/artist/25lS9wmc4VCdlCVAf0pVTp</td>\n",
       "    </tr>\n",
       "    <tr>\n",
       "      <th>3</th>\n",
       "      <td>Mad Dogz</td>\n",
       "      <td>2.425</td>\n",
       "      <td>https://open.spotify.com/artist/18RtsuKFWko5JfeMsIi0YP</td>\n",
       "    </tr>\n",
       "    <tr>\n",
       "      <th>4</th>\n",
       "      <td>The Knack</td>\n",
       "      <td>2.243</td>\n",
       "      <td>https://open.spotify.com/artist/0Nn9YwJzcaeuU1jJL06e3r</td>\n",
       "    </tr>\n",
       "  </tbody>\n",
       "</table>"
      ],
      "text/plain": [
       "<IPython.core.display.HTML object>"
      ]
     },
     "metadata": {},
     "output_type": "display_data"
    },
    {
     "name": "stdout",
     "output_type": "stream",
     "text": [
      "Kehlani\n"
     ]
    },
    {
     "data": {
      "text/html": [
       "<table border=\"1\" class=\"dataframe\">\n",
       "  <thead>\n",
       "    <tr style=\"text-align: right;\">\n",
       "      <th></th>\n",
       "      <th>name</th>\n",
       "      <th>score</th>\n",
       "      <th>link</th>\n",
       "    </tr>\n",
       "  </thead>\n",
       "  <tbody>\n",
       "    <tr>\n",
       "      <th>0</th>\n",
       "      <td>Winati</td>\n",
       "      <td>0.789</td>\n",
       "      <td>https://open.spotify.com/artist/7hsdPMApV4JTkBUUL4ZWMk</td>\n",
       "    </tr>\n",
       "    <tr>\n",
       "      <th>1</th>\n",
       "      <td>Room 5</td>\n",
       "      <td>0.738</td>\n",
       "      <td>https://open.spotify.com/artist/0AEbDFXbsssoSoC3pj91eq</td>\n",
       "    </tr>\n",
       "    <tr>\n",
       "      <th>2</th>\n",
       "      <td>plenka</td>\n",
       "      <td>0.715</td>\n",
       "      <td>https://open.spotify.com/artist/6yjz9vY01vOQUcFIAEYVQ0</td>\n",
       "    </tr>\n",
       "    <tr>\n",
       "      <th>3</th>\n",
       "      <td>African Jazz Pioneers</td>\n",
       "      <td>0.671</td>\n",
       "      <td>https://open.spotify.com/artist/1zFbcqJ8HK2dHqA1aoihjZ</td>\n",
       "    </tr>\n",
       "    <tr>\n",
       "      <th>4</th>\n",
       "      <td>Biscits</td>\n",
       "      <td>0.565</td>\n",
       "      <td>https://open.spotify.com/artist/052B9SONfhoScw7dgYWw5o</td>\n",
       "    </tr>\n",
       "  </tbody>\n",
       "</table>"
      ],
      "text/plain": [
       "<IPython.core.display.HTML object>"
      ]
     },
     "metadata": {},
     "output_type": "display_data"
    }
   ],
   "source": [
    "display_recs(['246dkjvS1zLTtiykXe5h60', '7jVv8c5Fj3E9VhNjxT4snq', '0cGUm45nv7Z6M6qdXYQGTX' ], artists_per_cluster)"
   ]
  },
  {
   "cell_type": "markdown",
   "metadata": {},
   "source": [
    "# Tessa"
   ]
  },
  {
   "cell_type": "code",
   "execution_count": null,
   "metadata": {},
   "outputs": [],
   "source": [
    "# Harry Styles, Billie Eilish, Doja Cat, Ariana Grande, Olivia Dean"
   ]
  },
  {
   "cell_type": "code",
   "execution_count": 110,
   "metadata": {},
   "outputs": [
    {
     "data": {
      "text/html": [
       "<div>\n",
       "<style scoped>\n",
       "    .dataframe tbody tr th:only-of-type {\n",
       "        vertical-align: middle;\n",
       "    }\n",
       "\n",
       "    .dataframe tbody tr th {\n",
       "        vertical-align: top;\n",
       "    }\n",
       "\n",
       "    .dataframe thead th {\n",
       "        text-align: right;\n",
       "    }\n",
       "</style>\n",
       "<table border=\"1\" class=\"dataframe\">\n",
       "  <thead>\n",
       "    <tr style=\"text-align: right;\">\n",
       "      <th></th>\n",
       "      <th>name</th>\n",
       "      <th>popular</th>\n",
       "      <th>sid</th>\n",
       "      <th>link</th>\n",
       "    </tr>\n",
       "  </thead>\n",
       "  <tbody>\n",
       "    <tr>\n",
       "      <th>0</th>\n",
       "      <td>Harry Styles</td>\n",
       "      <td>True</td>\n",
       "      <td>6KImCVD70vtIoJWnq6nGn3</td>\n",
       "      <td>https://open.spotify.com/artist/6KImCVD70vtIoJWnq6nGn3</td>\n",
       "    </tr>\n",
       "  </tbody>\n",
       "</table>\n",
       "</div>"
      ],
      "text/plain": [
       "           name popular                     sid  \\\n",
       "0  Harry Styles    True  6KImCVD70vtIoJWnq6nGn3   \n",
       "\n",
       "                                                     link  \n",
       "0  https://open.spotify.com/artist/6KImCVD70vtIoJWnq6nGn3  "
      ]
     },
     "execution_count": 110,
     "metadata": {},
     "output_type": "execute_result"
    }
   ],
   "source": [
    "f4.s_name_find('Harry Styles')"
   ]
  },
  {
   "cell_type": "code",
   "execution_count": 111,
   "metadata": {},
   "outputs": [
    {
     "data": {
      "text/html": [
       "<div>\n",
       "<style scoped>\n",
       "    .dataframe tbody tr th:only-of-type {\n",
       "        vertical-align: middle;\n",
       "    }\n",
       "\n",
       "    .dataframe tbody tr th {\n",
       "        vertical-align: top;\n",
       "    }\n",
       "\n",
       "    .dataframe thead th {\n",
       "        text-align: right;\n",
       "    }\n",
       "</style>\n",
       "<table border=\"1\" class=\"dataframe\">\n",
       "  <thead>\n",
       "    <tr style=\"text-align: right;\">\n",
       "      <th></th>\n",
       "      <th>name</th>\n",
       "      <th>popular</th>\n",
       "      <th>sid</th>\n",
       "      <th>link</th>\n",
       "    </tr>\n",
       "  </thead>\n",
       "  <tbody>\n",
       "    <tr>\n",
       "      <th>0</th>\n",
       "      <td>Billie Eilish</td>\n",
       "      <td>True</td>\n",
       "      <td>6qqNVTkY8uBg9cP3Jd7DAH</td>\n",
       "      <td>https://open.spotify.com/artist/6qqNVTkY8uBg9cP3Jd7DAH</td>\n",
       "    </tr>\n",
       "  </tbody>\n",
       "</table>\n",
       "</div>"
      ],
      "text/plain": [
       "            name popular                     sid  \\\n",
       "0  Billie Eilish    True  6qqNVTkY8uBg9cP3Jd7DAH   \n",
       "\n",
       "                                                     link  \n",
       "0  https://open.spotify.com/artist/6qqNVTkY8uBg9cP3Jd7DAH  "
      ]
     },
     "execution_count": 111,
     "metadata": {},
     "output_type": "execute_result"
    }
   ],
   "source": [
    "f4.s_name_find('Billie Eilish')"
   ]
  },
  {
   "cell_type": "code",
   "execution_count": 112,
   "metadata": {},
   "outputs": [
    {
     "data": {
      "text/html": [
       "<div>\n",
       "<style scoped>\n",
       "    .dataframe tbody tr th:only-of-type {\n",
       "        vertical-align: middle;\n",
       "    }\n",
       "\n",
       "    .dataframe tbody tr th {\n",
       "        vertical-align: top;\n",
       "    }\n",
       "\n",
       "    .dataframe thead th {\n",
       "        text-align: right;\n",
       "    }\n",
       "</style>\n",
       "<table border=\"1\" class=\"dataframe\">\n",
       "  <thead>\n",
       "    <tr style=\"text-align: right;\">\n",
       "      <th></th>\n",
       "      <th>name</th>\n",
       "      <th>popular</th>\n",
       "      <th>sid</th>\n",
       "      <th>link</th>\n",
       "    </tr>\n",
       "  </thead>\n",
       "  <tbody>\n",
       "    <tr>\n",
       "      <th>0</th>\n",
       "      <td>Doja Cat</td>\n",
       "      <td>True</td>\n",
       "      <td>5cj0lLjcoR7YOSnhnX0Po5</td>\n",
       "      <td>https://open.spotify.com/artist/5cj0lLjcoR7YOSnhnX0Po5</td>\n",
       "    </tr>\n",
       "  </tbody>\n",
       "</table>\n",
       "</div>"
      ],
      "text/plain": [
       "       name popular                     sid  \\\n",
       "0  Doja Cat    True  5cj0lLjcoR7YOSnhnX0Po5   \n",
       "\n",
       "                                                     link  \n",
       "0  https://open.spotify.com/artist/5cj0lLjcoR7YOSnhnX0Po5  "
      ]
     },
     "execution_count": 112,
     "metadata": {},
     "output_type": "execute_result"
    }
   ],
   "source": [
    "f4.s_name_find('Doja Cat')"
   ]
  },
  {
   "cell_type": "code",
   "execution_count": 113,
   "metadata": {},
   "outputs": [
    {
     "data": {
      "text/html": [
       "<div>\n",
       "<style scoped>\n",
       "    .dataframe tbody tr th:only-of-type {\n",
       "        vertical-align: middle;\n",
       "    }\n",
       "\n",
       "    .dataframe tbody tr th {\n",
       "        vertical-align: top;\n",
       "    }\n",
       "\n",
       "    .dataframe thead th {\n",
       "        text-align: right;\n",
       "    }\n",
       "</style>\n",
       "<table border=\"1\" class=\"dataframe\">\n",
       "  <thead>\n",
       "    <tr style=\"text-align: right;\">\n",
       "      <th></th>\n",
       "      <th>name</th>\n",
       "      <th>popular</th>\n",
       "      <th>sid</th>\n",
       "      <th>link</th>\n",
       "    </tr>\n",
       "  </thead>\n",
       "  <tbody>\n",
       "    <tr>\n",
       "      <th>0</th>\n",
       "      <td>Ariana Grande</td>\n",
       "      <td>True</td>\n",
       "      <td>66CXWjxzNUsdJxJ2JdwvnR</td>\n",
       "      <td>https://open.spotify.com/artist/66CXWjxzNUsdJxJ2JdwvnR</td>\n",
       "    </tr>\n",
       "  </tbody>\n",
       "</table>\n",
       "</div>"
      ],
      "text/plain": [
       "            name popular                     sid  \\\n",
       "0  Ariana Grande    True  66CXWjxzNUsdJxJ2JdwvnR   \n",
       "\n",
       "                                                     link  \n",
       "0  https://open.spotify.com/artist/66CXWjxzNUsdJxJ2JdwvnR  "
      ]
     },
     "execution_count": 113,
     "metadata": {},
     "output_type": "execute_result"
    }
   ],
   "source": [
    "f4.s_name_find('Ariana Grande')"
   ]
  },
  {
   "cell_type": "code",
   "execution_count": 114,
   "metadata": {},
   "outputs": [
    {
     "data": {
      "text/html": [
       "<div>\n",
       "<style scoped>\n",
       "    .dataframe tbody tr th:only-of-type {\n",
       "        vertical-align: middle;\n",
       "    }\n",
       "\n",
       "    .dataframe tbody tr th {\n",
       "        vertical-align: top;\n",
       "    }\n",
       "\n",
       "    .dataframe thead th {\n",
       "        text-align: right;\n",
       "    }\n",
       "</style>\n",
       "<table border=\"1\" class=\"dataframe\">\n",
       "  <thead>\n",
       "    <tr style=\"text-align: right;\">\n",
       "      <th></th>\n",
       "      <th>name</th>\n",
       "      <th>popular</th>\n",
       "      <th>sid</th>\n",
       "      <th>link</th>\n",
       "    </tr>\n",
       "  </thead>\n",
       "  <tbody>\n",
       "    <tr>\n",
       "      <th>0</th>\n",
       "      <td>Olivia Dean</td>\n",
       "      <td>False</td>\n",
       "      <td>00x1fYSGhdqScXBRpSj3DW</td>\n",
       "      <td>https://open.spotify.com/artist/00x1fYSGhdqScXBRpSj3DW</td>\n",
       "    </tr>\n",
       "  </tbody>\n",
       "</table>\n",
       "</div>"
      ],
      "text/plain": [
       "          name popular                     sid  \\\n",
       "0  Olivia Dean   False  00x1fYSGhdqScXBRpSj3DW   \n",
       "\n",
       "                                                     link  \n",
       "0  https://open.spotify.com/artist/00x1fYSGhdqScXBRpSj3DW  "
      ]
     },
     "execution_count": 114,
     "metadata": {},
     "output_type": "execute_result"
    }
   ],
   "source": [
    "f4.s_name_find('Olivia Dean')"
   ]
  },
  {
   "cell_type": "code",
   "execution_count": 122,
   "metadata": {},
   "outputs": [
    {
     "name": "stdout",
     "output_type": "stream",
     "text": [
      "922 clusters\n",
      "\n",
      "Harry Styles\n"
     ]
    },
    {
     "data": {
      "text/html": [
       "<table border=\"1\" class=\"dataframe\">\n",
       "  <thead>\n",
       "    <tr style=\"text-align: right;\">\n",
       "      <th></th>\n",
       "      <th>name</th>\n",
       "      <th>score</th>\n",
       "      <th>link</th>\n",
       "    </tr>\n",
       "  </thead>\n",
       "  <tbody>\n",
       "    <tr>\n",
       "      <th>0</th>\n",
       "      <td>Trio Parada Dura</td>\n",
       "      <td>0.668</td>\n",
       "      <td>https://open.spotify.com/artist/41fjoh5NjJhlDHYIUb9Hsk</td>\n",
       "    </tr>\n",
       "    <tr>\n",
       "      <th>1</th>\n",
       "      <td>Ultra Vomit</td>\n",
       "      <td>0.666</td>\n",
       "      <td>https://open.spotify.com/artist/4mnp6YW545j0Qb5PYS9Wmv</td>\n",
       "    </tr>\n",
       "    <tr>\n",
       "      <th>2</th>\n",
       "      <td>PENOMECO</td>\n",
       "      <td>0.454</td>\n",
       "      <td>https://open.spotify.com/artist/1MAUqH0haKBYbjpknTfreY</td>\n",
       "    </tr>\n",
       "    <tr>\n",
       "      <th>3</th>\n",
       "      <td>Olexesh</td>\n",
       "      <td>0.453</td>\n",
       "      <td>https://open.spotify.com/artist/2Z9KL8Zmqx5Sg3cd7Fldhl</td>\n",
       "    </tr>\n",
       "    <tr>\n",
       "      <th>4</th>\n",
       "      <td>Dijon</td>\n",
       "      <td>0.452</td>\n",
       "      <td>https://open.spotify.com/artist/0knGpCTbmG4ctl1wzYRZs4</td>\n",
       "    </tr>\n",
       "  </tbody>\n",
       "</table>"
      ],
      "text/plain": [
       "<IPython.core.display.HTML object>"
      ]
     },
     "metadata": {},
     "output_type": "display_data"
    },
    {
     "name": "stdout",
     "output_type": "stream",
     "text": [
      "Billie Eilish\n"
     ]
    },
    {
     "data": {
      "text/html": [
       "<table border=\"1\" class=\"dataframe\">\n",
       "  <thead>\n",
       "    <tr style=\"text-align: right;\">\n",
       "      <th></th>\n",
       "      <th>name</th>\n",
       "      <th>score</th>\n",
       "      <th>link</th>\n",
       "    </tr>\n",
       "  </thead>\n",
       "  <tbody>\n",
       "    <tr>\n",
       "      <th>0</th>\n",
       "      <td>Paul Hardcastle</td>\n",
       "      <td>1.576</td>\n",
       "      <td>https://open.spotify.com/artist/0SgDfSfWqkZMW96aT2oQZ1</td>\n",
       "    </tr>\n",
       "    <tr>\n",
       "      <th>1</th>\n",
       "      <td>Azaleh</td>\n",
       "      <td>1.300</td>\n",
       "      <td>https://open.spotify.com/artist/3yNkKjNBiX09eHZ4EQ3lJY</td>\n",
       "    </tr>\n",
       "    <tr>\n",
       "      <th>2</th>\n",
       "      <td>Dawn</td>\n",
       "      <td>1.243</td>\n",
       "      <td>https://open.spotify.com/artist/0ITGyIOMfQ1mk5fRUlH8Am</td>\n",
       "    </tr>\n",
       "    <tr>\n",
       "      <th>3</th>\n",
       "      <td>Right Said Fred</td>\n",
       "      <td>1.113</td>\n",
       "      <td>https://open.spotify.com/artist/15ajdFAi5bjj5pS9laBfBL</td>\n",
       "    </tr>\n",
       "    <tr>\n",
       "      <th>4</th>\n",
       "      <td>Nightcrawlers</td>\n",
       "      <td>0.769</td>\n",
       "      <td>https://open.spotify.com/artist/1gALaWbNDnwS2ECV09sn2A</td>\n",
       "    </tr>\n",
       "  </tbody>\n",
       "</table>"
      ],
      "text/plain": [
       "<IPython.core.display.HTML object>"
      ]
     },
     "metadata": {},
     "output_type": "display_data"
    },
    {
     "name": "stdout",
     "output_type": "stream",
     "text": [
      "Doja Cat\n"
     ]
    },
    {
     "data": {
      "text/html": [
       "<table border=\"1\" class=\"dataframe\">\n",
       "  <thead>\n",
       "    <tr style=\"text-align: right;\">\n",
       "      <th></th>\n",
       "      <th>name</th>\n",
       "      <th>score</th>\n",
       "      <th>link</th>\n",
       "    </tr>\n",
       "  </thead>\n",
       "  <tbody>\n",
       "    <tr>\n",
       "      <th>0</th>\n",
       "      <td>M People</td>\n",
       "      <td>1.731</td>\n",
       "      <td>https://open.spotify.com/artist/3lcbKPLl0ci2mKRdcP5Etf</td>\n",
       "    </tr>\n",
       "    <tr>\n",
       "      <th>1</th>\n",
       "      <td>Alvin Cash &amp; The Crawlers</td>\n",
       "      <td>1.612</td>\n",
       "      <td>https://open.spotify.com/artist/3bKRu4SjS8I0y7yWhvFfWw</td>\n",
       "    </tr>\n",
       "    <tr>\n",
       "      <th>2</th>\n",
       "      <td>Matute</td>\n",
       "      <td>1.198</td>\n",
       "      <td>https://open.spotify.com/artist/6z7mf1FeKhq3GFy73o6PvC</td>\n",
       "    </tr>\n",
       "    <tr>\n",
       "      <th>3</th>\n",
       "      <td>Victor La Voz</td>\n",
       "      <td>1.191</td>\n",
       "      <td>https://open.spotify.com/artist/6Jlck8qXRgXVgbAfwF3UuD</td>\n",
       "    </tr>\n",
       "    <tr>\n",
       "      <th>4</th>\n",
       "      <td>Highsnob</td>\n",
       "      <td>0.912</td>\n",
       "      <td>https://open.spotify.com/artist/47RMRcPX8zWGaiMSZRuOd4</td>\n",
       "    </tr>\n",
       "  </tbody>\n",
       "</table>"
      ],
      "text/plain": [
       "<IPython.core.display.HTML object>"
      ]
     },
     "metadata": {},
     "output_type": "display_data"
    },
    {
     "name": "stdout",
     "output_type": "stream",
     "text": [
      "Ariana Grande\n"
     ]
    },
    {
     "data": {
      "text/html": [
       "<table border=\"1\" class=\"dataframe\">\n",
       "  <thead>\n",
       "    <tr style=\"text-align: right;\">\n",
       "      <th></th>\n",
       "      <th>name</th>\n",
       "      <th>score</th>\n",
       "      <th>link</th>\n",
       "    </tr>\n",
       "  </thead>\n",
       "  <tbody>\n",
       "    <tr>\n",
       "      <th>0</th>\n",
       "      <td>DJ Neeh</td>\n",
       "      <td>1.453</td>\n",
       "      <td>https://open.spotify.com/artist/2SDYnXWEAiTFyyKyRDy79I</td>\n",
       "    </tr>\n",
       "    <tr>\n",
       "      <th>1</th>\n",
       "      <td>DJ Goja</td>\n",
       "      <td>1.119</td>\n",
       "      <td>https://open.spotify.com/artist/2bHWbDN72wdIF0Y48669zg</td>\n",
       "    </tr>\n",
       "    <tr>\n",
       "      <th>2</th>\n",
       "      <td>Grupo TMB</td>\n",
       "      <td>1.054</td>\n",
       "      <td>https://open.spotify.com/artist/3QknSu5Hr8QrEGl3rzQOPT</td>\n",
       "    </tr>\n",
       "    <tr>\n",
       "      <th>3</th>\n",
       "      <td>El Greco</td>\n",
       "      <td>0.968</td>\n",
       "      <td>https://open.spotify.com/artist/2fe5YD0v1HzDeACkHSPAXG</td>\n",
       "    </tr>\n",
       "    <tr>\n",
       "      <th>4</th>\n",
       "      <td>Blut Aus Nord</td>\n",
       "      <td>0.887</td>\n",
       "      <td>https://open.spotify.com/artist/0c0xIXQhCbmtvzM93liaSf</td>\n",
       "    </tr>\n",
       "  </tbody>\n",
       "</table>"
      ],
      "text/plain": [
       "<IPython.core.display.HTML object>"
      ]
     },
     "metadata": {},
     "output_type": "display_data"
    }
   ],
   "source": [
    "display_recs(['6KImCVD70vtIoJWnq6nGn3', '6qqNVTkY8uBg9cP3Jd7DAH', '5cj0lLjcoR7YOSnhnX0Po5', '66CXWjxzNUsdJxJ2JdwvnR'], artists_per_cluster)"
   ]
  }
 ],
 "metadata": {
  "kernelspec": {
   "display_name": "Python 3",
   "language": "python",
   "name": "python3"
  },
  "language_info": {
   "codemirror_mode": {
    "name": "ipython",
    "version": 3
   },
   "file_extension": ".py",
   "mimetype": "text/x-python",
   "name": "python",
   "nbconvert_exporter": "python",
   "pygments_lexer": "ipython3",
   "version": "3.8.3"
  }
 },
 "nbformat": 4,
 "nbformat_minor": 4
}
