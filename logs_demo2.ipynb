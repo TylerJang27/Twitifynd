{
 "cells": [
  {
   "cell_type": "code",
   "execution_count": 1,
   "metadata": {},
   "outputs": [],
   "source": [
    "%load_ext autoreload\n",
    "%autoreload 2"
   ]
  },
  {
   "cell_type": "code",
   "execution_count": 2,
   "metadata": {},
   "outputs": [],
   "source": [
    "import pandas as pd\n",
    "import math\n",
    "import json\n",
    "from IPython.display import display, HTML\n",
    "pd.set_option('display.max_rows', None)\n",
    "\n",
    "from recommend2 import Recommend"
   ]
  },
  {
   "cell_type": "code",
   "execution_count": 3,
   "metadata": {},
   "outputs": [],
   "source": [
    "def display_recs(favorites, artists_per_cluster):\n",
    "    r = Recommend(artists_per_cluster)\n",
    "    recs = r.get_recs(favorites)\n",
    "    print('{} clusters'.format(math.floor(3691/artists_per_cluster))) # number of popular artists\n",
    "    print('')\n",
    "    for artist in recs:\n",
    "        print(recs[artist]['name'])\n",
    "        display(HTML(recs[artist]['recs'].head().to_html())) # TODO: TYLER PROPOSED CHANGE\n",
    "        "
   ]
  },
  {
   "cell_type": "markdown",
   "metadata": {},
   "source": [
    "- (1) 2109 clusters\n",
    "- (2) 1054 clusters\n",
    "- (4) 527 clusters\n",
    "- (8) 263 clusters\n",
    "- (16) 131 clusters"
   ]
  },
  {
   "cell_type": "markdown",
   "metadata": {},
   "source": [
    "# Justin Bieber, Taylor Swift, Ariana Grande"
   ]
  },
  {
   "cell_type": "code",
   "execution_count": 4,
   "metadata": {},
   "outputs": [
    {
     "name": "stdout",
     "output_type": "stream",
     "text": [
      "3691 clusters\n",
      "\n",
      "Justin Bieber\n"
     ]
    },
    {
     "data": {
      "text/html": [
       "<table border=\"1\" class=\"dataframe\">\n",
       "  <thead>\n",
       "    <tr style=\"text-align: right;\">\n",
       "      <th></th>\n",
       "      <th>name</th>\n",
       "      <th>score</th>\n",
       "      <th>link</th>\n",
       "    </tr>\n",
       "  </thead>\n",
       "  <tbody>\n",
       "    <tr>\n",
       "      <th>0</th>\n",
       "      <td>Zeus X Crona</td>\n",
       "      <td>0.000</td>\n",
       "      <td>https://open.spotify.com/artist/6uzCPyGMlp97ATH1yQYNNq</td>\n",
       "    </tr>\n",
       "    <tr>\n",
       "      <th>1</th>\n",
       "      <td>Joshi Mizu</td>\n",
       "      <td>0.000</td>\n",
       "      <td>https://open.spotify.com/artist/03bmDyr8klGV17DKQnPZVA</td>\n",
       "    </tr>\n",
       "    <tr>\n",
       "      <th>2</th>\n",
       "      <td>Grzegorz Hyzy</td>\n",
       "      <td>0.002</td>\n",
       "      <td>https://open.spotify.com/artist/2JN7EU0IQBx2cWaHh23Mfm</td>\n",
       "    </tr>\n",
       "    <tr>\n",
       "      <th>3</th>\n",
       "      <td>TRFN</td>\n",
       "      <td>0.003</td>\n",
       "      <td>https://open.spotify.com/artist/5Wj4v7ri4aDONkGEIuo0zp</td>\n",
       "    </tr>\n",
       "    <tr>\n",
       "      <th>4</th>\n",
       "      <td>Lord Siva</td>\n",
       "      <td>0.005</td>\n",
       "      <td>https://open.spotify.com/artist/5SwsSD9zyWaWeVyK9qIW9l</td>\n",
       "    </tr>\n",
       "  </tbody>\n",
       "</table>"
      ],
      "text/plain": [
       "<IPython.core.display.HTML object>"
      ]
     },
     "metadata": {},
     "output_type": "display_data"
    },
    {
     "name": "stdout",
     "output_type": "stream",
     "text": [
      "Taylor Swift\n"
     ]
    },
    {
     "data": {
      "text/html": [
       "<table border=\"1\" class=\"dataframe\">\n",
       "  <thead>\n",
       "    <tr style=\"text-align: right;\">\n",
       "      <th></th>\n",
       "      <th>name</th>\n",
       "      <th>score</th>\n",
       "      <th>link</th>\n",
       "    </tr>\n",
       "  </thead>\n",
       "  <tbody>\n",
       "    <tr>\n",
       "      <th>0</th>\n",
       "      <td>Quinto V Imperio</td>\n",
       "      <td>0.000</td>\n",
       "      <td>https://open.spotify.com/artist/6WFv2NyTtnWS7GHkeLgn0G</td>\n",
       "    </tr>\n",
       "    <tr>\n",
       "      <th>1</th>\n",
       "      <td>Sammy Johnson</td>\n",
       "      <td>0.006</td>\n",
       "      <td>https://open.spotify.com/artist/0vMGGYcvLOnwg7t4kl33BA</td>\n",
       "    </tr>\n",
       "    <tr>\n",
       "      <th>2</th>\n",
       "      <td>Rolf Sanchez</td>\n",
       "      <td>0.014</td>\n",
       "      <td>https://open.spotify.com/artist/3R6VoMjUANEP9wb7fRNXws</td>\n",
       "    </tr>\n",
       "    <tr>\n",
       "      <th>3</th>\n",
       "      <td>Lenno</td>\n",
       "      <td>0.018</td>\n",
       "      <td>https://open.spotify.com/artist/4IRw3ME1D0lYOyFyXAjDv7</td>\n",
       "    </tr>\n",
       "    <tr>\n",
       "      <th>4</th>\n",
       "      <td>I AM THEY</td>\n",
       "      <td>0.040</td>\n",
       "      <td>https://open.spotify.com/artist/0XJ5RIvhlOL0harjI9jZvX</td>\n",
       "    </tr>\n",
       "  </tbody>\n",
       "</table>"
      ],
      "text/plain": [
       "<IPython.core.display.HTML object>"
      ]
     },
     "metadata": {},
     "output_type": "display_data"
    },
    {
     "name": "stdout",
     "output_type": "stream",
     "text": [
      "Ariana Grande\n"
     ]
    },
    {
     "data": {
      "text/html": [
       "<table border=\"1\" class=\"dataframe\">\n",
       "  <thead>\n",
       "    <tr style=\"text-align: right;\">\n",
       "      <th></th>\n",
       "      <th>name</th>\n",
       "      <th>score</th>\n",
       "      <th>link</th>\n",
       "    </tr>\n",
       "  </thead>\n",
       "  <tbody>\n",
       "    <tr>\n",
       "      <th>0</th>\n",
       "      <td>David Marley</td>\n",
       "      <td>0.014</td>\n",
       "      <td>https://open.spotify.com/artist/09ryxLeU3mzmubZtcyDGdA</td>\n",
       "    </tr>\n",
       "    <tr>\n",
       "      <th>1</th>\n",
       "      <td>Rasty Kilo</td>\n",
       "      <td>0.019</td>\n",
       "      <td>https://open.spotify.com/artist/0W7yEx7tCUH0FGMHB3DUL8</td>\n",
       "    </tr>\n",
       "    <tr>\n",
       "      <th>2</th>\n",
       "      <td>FÄIS</td>\n",
       "      <td>0.030</td>\n",
       "      <td>https://open.spotify.com/artist/5w6mMj1qwSILG0pcylfchp</td>\n",
       "    </tr>\n",
       "    <tr>\n",
       "      <th>3</th>\n",
       "      <td>MDO</td>\n",
       "      <td>0.031</td>\n",
       "      <td>https://open.spotify.com/artist/08xFgTEmizKwzfDSbxvODp</td>\n",
       "    </tr>\n",
       "    <tr>\n",
       "      <th>4</th>\n",
       "      <td>Taylor Ray Holbrook</td>\n",
       "      <td>0.054</td>\n",
       "      <td>https://open.spotify.com/artist/58nB2Z6IiDdTUTwHYw56xI</td>\n",
       "    </tr>\n",
       "  </tbody>\n",
       "</table>"
      ],
      "text/plain": [
       "<IPython.core.display.HTML object>"
      ]
     },
     "metadata": {},
     "output_type": "display_data"
    }
   ],
   "source": [
    "# 1 artist per cluster\n",
    "display_recs(['1uNFoZAHBGtllmzznpCI3s', '06HL4z0CvFAxyc27GXpf02', '66CXWjxzNUsdJxJ2JdwvnR'], 1)\n",
    "             "
   ]
  },
  {
   "cell_type": "code",
   "execution_count": 5,
   "metadata": {},
   "outputs": [
    {
     "name": "stdout",
     "output_type": "stream",
     "text": [
      "1845 clusters\n",
      "\n",
      "Justin Bieber\n"
     ]
    },
    {
     "data": {
      "text/html": [
       "<table border=\"1\" class=\"dataframe\">\n",
       "  <thead>\n",
       "    <tr style=\"text-align: right;\">\n",
       "      <th></th>\n",
       "      <th>name</th>\n",
       "      <th>score</th>\n",
       "      <th>link</th>\n",
       "    </tr>\n",
       "  </thead>\n",
       "  <tbody>\n",
       "    <tr>\n",
       "      <th>0</th>\n",
       "      <td>Zombic</td>\n",
       "      <td>0.000</td>\n",
       "      <td>https://open.spotify.com/artist/6t0ofV5WMAz84Iqu0YkmTV</td>\n",
       "    </tr>\n",
       "    <tr>\n",
       "      <th>1</th>\n",
       "      <td>Kim Jong Wan</td>\n",
       "      <td>0.000</td>\n",
       "      <td>https://open.spotify.com/artist/7ksQJtsXSRSrI5306UwIgH</td>\n",
       "    </tr>\n",
       "    <tr>\n",
       "      <th>2</th>\n",
       "      <td>Marty</td>\n",
       "      <td>0.013</td>\n",
       "      <td>https://open.spotify.com/artist/5BfKKSmpGmj2moMNlaWeJK</td>\n",
       "    </tr>\n",
       "    <tr>\n",
       "      <th>3</th>\n",
       "      <td>Iskander</td>\n",
       "      <td>0.028</td>\n",
       "      <td>https://open.spotify.com/artist/6qEHX4yRVZ5WP069VAaC2p</td>\n",
       "    </tr>\n",
       "    <tr>\n",
       "      <th>4</th>\n",
       "      <td>Yasha</td>\n",
       "      <td>0.033</td>\n",
       "      <td>https://open.spotify.com/artist/3tmjMu5zfLOTVJ8YX5FDpU</td>\n",
       "    </tr>\n",
       "  </tbody>\n",
       "</table>"
      ],
      "text/plain": [
       "<IPython.core.display.HTML object>"
      ]
     },
     "metadata": {},
     "output_type": "display_data"
    },
    {
     "name": "stdout",
     "output_type": "stream",
     "text": [
      "Taylor Swift\n"
     ]
    },
    {
     "data": {
      "text/html": [
       "<table border=\"1\" class=\"dataframe\">\n",
       "  <thead>\n",
       "    <tr style=\"text-align: right;\">\n",
       "      <th></th>\n",
       "      <th>name</th>\n",
       "      <th>score</th>\n",
       "      <th>link</th>\n",
       "    </tr>\n",
       "  </thead>\n",
       "  <tbody>\n",
       "    <tr>\n",
       "      <th>0</th>\n",
       "      <td>Sammy Johnson</td>\n",
       "      <td>0.006</td>\n",
       "      <td>https://open.spotify.com/artist/0vMGGYcvLOnwg7t4kl33BA</td>\n",
       "    </tr>\n",
       "    <tr>\n",
       "      <th>1</th>\n",
       "      <td>Rolf Sanchez</td>\n",
       "      <td>0.014</td>\n",
       "      <td>https://open.spotify.com/artist/3R6VoMjUANEP9wb7fRNXws</td>\n",
       "    </tr>\n",
       "    <tr>\n",
       "      <th>2</th>\n",
       "      <td>Lenno</td>\n",
       "      <td>0.018</td>\n",
       "      <td>https://open.spotify.com/artist/4IRw3ME1D0lYOyFyXAjDv7</td>\n",
       "    </tr>\n",
       "    <tr>\n",
       "      <th>3</th>\n",
       "      <td>Mohito</td>\n",
       "      <td>0.030</td>\n",
       "      <td>https://open.spotify.com/artist/52cgUUfIwnktO3v7BhuzCb</td>\n",
       "    </tr>\n",
       "    <tr>\n",
       "      <th>4</th>\n",
       "      <td>Karnivool</td>\n",
       "      <td>0.048</td>\n",
       "      <td>https://open.spotify.com/artist/6rX8AFY10dsJkJsv23Z9Um</td>\n",
       "    </tr>\n",
       "  </tbody>\n",
       "</table>"
      ],
      "text/plain": [
       "<IPython.core.display.HTML object>"
      ]
     },
     "metadata": {},
     "output_type": "display_data"
    },
    {
     "name": "stdout",
     "output_type": "stream",
     "text": [
      "Ariana Grande\n"
     ]
    },
    {
     "data": {
      "text/html": [
       "<table border=\"1\" class=\"dataframe\">\n",
       "  <thead>\n",
       "    <tr style=\"text-align: right;\">\n",
       "      <th></th>\n",
       "      <th>name</th>\n",
       "      <th>score</th>\n",
       "      <th>link</th>\n",
       "    </tr>\n",
       "  </thead>\n",
       "  <tbody>\n",
       "    <tr>\n",
       "      <th>0</th>\n",
       "      <td>Rasty Kilo</td>\n",
       "      <td>0.019</td>\n",
       "      <td>https://open.spotify.com/artist/0W7yEx7tCUH0FGMHB3DUL8</td>\n",
       "    </tr>\n",
       "    <tr>\n",
       "      <th>1</th>\n",
       "      <td>Kush Kush</td>\n",
       "      <td>0.020</td>\n",
       "      <td>https://open.spotify.com/artist/5P4P6G0pubLi65R3zRnSCf</td>\n",
       "    </tr>\n",
       "    <tr>\n",
       "      <th>2</th>\n",
       "      <td>FÄIS</td>\n",
       "      <td>0.030</td>\n",
       "      <td>https://open.spotify.com/artist/5w6mMj1qwSILG0pcylfchp</td>\n",
       "    </tr>\n",
       "    <tr>\n",
       "      <th>3</th>\n",
       "      <td>MDO</td>\n",
       "      <td>0.031</td>\n",
       "      <td>https://open.spotify.com/artist/08xFgTEmizKwzfDSbxvODp</td>\n",
       "    </tr>\n",
       "    <tr>\n",
       "      <th>4</th>\n",
       "      <td>Atlus</td>\n",
       "      <td>0.032</td>\n",
       "      <td>https://open.spotify.com/artist/7pEVNuJRlpDXlsrcq32yHp</td>\n",
       "    </tr>\n",
       "  </tbody>\n",
       "</table>"
      ],
      "text/plain": [
       "<IPython.core.display.HTML object>"
      ]
     },
     "metadata": {},
     "output_type": "display_data"
    }
   ],
   "source": [
    "# 2 artists per cluster\n",
    "display_recs(['1uNFoZAHBGtllmzznpCI3s', '06HL4z0CvFAxyc27GXpf02', '66CXWjxzNUsdJxJ2JdwvnR'], 2)\n"
   ]
  },
  {
   "cell_type": "code",
   "execution_count": 6,
   "metadata": {},
   "outputs": [
    {
     "name": "stdout",
     "output_type": "stream",
     "text": [
      "922 clusters\n",
      "\n",
      "Justin Bieber\n"
     ]
    },
    {
     "data": {
      "text/html": [
       "<table border=\"1\" class=\"dataframe\">\n",
       "  <thead>\n",
       "    <tr style=\"text-align: right;\">\n",
       "      <th></th>\n",
       "      <th>name</th>\n",
       "      <th>score</th>\n",
       "      <th>link</th>\n",
       "    </tr>\n",
       "  </thead>\n",
       "  <tbody>\n",
       "    <tr>\n",
       "      <th>0</th>\n",
       "      <td>Joshi Mizu</td>\n",
       "      <td>0.0</td>\n",
       "      <td>https://open.spotify.com/artist/03bmDyr8klGV17DKQnPZVA</td>\n",
       "    </tr>\n",
       "    <tr>\n",
       "      <th>1</th>\n",
       "      <td>Zombic</td>\n",
       "      <td>0.0</td>\n",
       "      <td>https://open.spotify.com/artist/6t0ofV5WMAz84Iqu0YkmTV</td>\n",
       "    </tr>\n",
       "    <tr>\n",
       "      <th>2</th>\n",
       "      <td>Zeus X Crona</td>\n",
       "      <td>0.0</td>\n",
       "      <td>https://open.spotify.com/artist/6uzCPyGMlp97ATH1yQYNNq</td>\n",
       "    </tr>\n",
       "    <tr>\n",
       "      <th>3</th>\n",
       "      <td>VLOSPA</td>\n",
       "      <td>0.0</td>\n",
       "      <td>https://open.spotify.com/artist/5VzicjuhIv0IwMz15hEORa</td>\n",
       "    </tr>\n",
       "    <tr>\n",
       "      <th>4</th>\n",
       "      <td>Kim Jong Wan</td>\n",
       "      <td>0.0</td>\n",
       "      <td>https://open.spotify.com/artist/7ksQJtsXSRSrI5306UwIgH</td>\n",
       "    </tr>\n",
       "  </tbody>\n",
       "</table>"
      ],
      "text/plain": [
       "<IPython.core.display.HTML object>"
      ]
     },
     "metadata": {},
     "output_type": "display_data"
    },
    {
     "name": "stdout",
     "output_type": "stream",
     "text": [
      "Taylor Swift\n"
     ]
    },
    {
     "data": {
      "text/html": [
       "<table border=\"1\" class=\"dataframe\">\n",
       "  <thead>\n",
       "    <tr style=\"text-align: right;\">\n",
       "      <th></th>\n",
       "      <th>name</th>\n",
       "      <th>score</th>\n",
       "      <th>link</th>\n",
       "    </tr>\n",
       "  </thead>\n",
       "  <tbody>\n",
       "    <tr>\n",
       "      <th>0</th>\n",
       "      <td>Sammy Johnson</td>\n",
       "      <td>0.006</td>\n",
       "      <td>https://open.spotify.com/artist/0vMGGYcvLOnwg7t4kl33BA</td>\n",
       "    </tr>\n",
       "    <tr>\n",
       "      <th>1</th>\n",
       "      <td>Rolf Sanchez</td>\n",
       "      <td>0.014</td>\n",
       "      <td>https://open.spotify.com/artist/3R6VoMjUANEP9wb7fRNXws</td>\n",
       "    </tr>\n",
       "    <tr>\n",
       "      <th>2</th>\n",
       "      <td>Lenno</td>\n",
       "      <td>0.018</td>\n",
       "      <td>https://open.spotify.com/artist/4IRw3ME1D0lYOyFyXAjDv7</td>\n",
       "    </tr>\n",
       "    <tr>\n",
       "      <th>3</th>\n",
       "      <td>Mohito</td>\n",
       "      <td>0.030</td>\n",
       "      <td>https://open.spotify.com/artist/52cgUUfIwnktO3v7BhuzCb</td>\n",
       "    </tr>\n",
       "    <tr>\n",
       "      <th>4</th>\n",
       "      <td>CARSTN</td>\n",
       "      <td>0.034</td>\n",
       "      <td>https://open.spotify.com/artist/3Wb1mXnd1hXkGwys5m54YC</td>\n",
       "    </tr>\n",
       "  </tbody>\n",
       "</table>"
      ],
      "text/plain": [
       "<IPython.core.display.HTML object>"
      ]
     },
     "metadata": {},
     "output_type": "display_data"
    },
    {
     "name": "stdout",
     "output_type": "stream",
     "text": [
      "Ariana Grande\n"
     ]
    },
    {
     "data": {
      "text/html": [
       "<table border=\"1\" class=\"dataframe\">\n",
       "  <thead>\n",
       "    <tr style=\"text-align: right;\">\n",
       "      <th></th>\n",
       "      <th>name</th>\n",
       "      <th>score</th>\n",
       "      <th>link</th>\n",
       "    </tr>\n",
       "  </thead>\n",
       "  <tbody>\n",
       "    <tr>\n",
       "      <th>0</th>\n",
       "      <td>David Marley</td>\n",
       "      <td>0.014</td>\n",
       "      <td>https://open.spotify.com/artist/09ryxLeU3mzmubZtcyDGdA</td>\n",
       "    </tr>\n",
       "    <tr>\n",
       "      <th>1</th>\n",
       "      <td>Kush Kush</td>\n",
       "      <td>0.020</td>\n",
       "      <td>https://open.spotify.com/artist/5P4P6G0pubLi65R3zRnSCf</td>\n",
       "    </tr>\n",
       "    <tr>\n",
       "      <th>2</th>\n",
       "      <td>James Fortune</td>\n",
       "      <td>0.025</td>\n",
       "      <td>https://open.spotify.com/artist/4eIjSDb64R18sJaNlOGaFH</td>\n",
       "    </tr>\n",
       "    <tr>\n",
       "      <th>3</th>\n",
       "      <td>FÄIS</td>\n",
       "      <td>0.030</td>\n",
       "      <td>https://open.spotify.com/artist/5w6mMj1qwSILG0pcylfchp</td>\n",
       "    </tr>\n",
       "    <tr>\n",
       "      <th>4</th>\n",
       "      <td>MDO</td>\n",
       "      <td>0.031</td>\n",
       "      <td>https://open.spotify.com/artist/08xFgTEmizKwzfDSbxvODp</td>\n",
       "    </tr>\n",
       "  </tbody>\n",
       "</table>"
      ],
      "text/plain": [
       "<IPython.core.display.HTML object>"
      ]
     },
     "metadata": {},
     "output_type": "display_data"
    }
   ],
   "source": [
    "# 4 artists per cluster\n",
    "display_recs(['1uNFoZAHBGtllmzznpCI3s', '06HL4z0CvFAxyc27GXpf02', '66CXWjxzNUsdJxJ2JdwvnR'], 4)\n"
   ]
  },
  {
   "cell_type": "code",
   "execution_count": 7,
   "metadata": {},
   "outputs": [
    {
     "name": "stdout",
     "output_type": "stream",
     "text": [
      "461 clusters\n",
      "\n",
      "Justin Bieber\n"
     ]
    },
    {
     "data": {
      "text/html": [
       "<table border=\"1\" class=\"dataframe\">\n",
       "  <thead>\n",
       "    <tr style=\"text-align: right;\">\n",
       "      <th></th>\n",
       "      <th>name</th>\n",
       "      <th>score</th>\n",
       "      <th>link</th>\n",
       "    </tr>\n",
       "  </thead>\n",
       "  <tbody>\n",
       "    <tr>\n",
       "      <th>0</th>\n",
       "      <td>Zombic</td>\n",
       "      <td>0.0</td>\n",
       "      <td>https://open.spotify.com/artist/6t0ofV5WMAz84Iqu0YkmTV</td>\n",
       "    </tr>\n",
       "    <tr>\n",
       "      <th>1</th>\n",
       "      <td>Joshi Mizu</td>\n",
       "      <td>0.0</td>\n",
       "      <td>https://open.spotify.com/artist/03bmDyr8klGV17DKQnPZVA</td>\n",
       "    </tr>\n",
       "    <tr>\n",
       "      <th>2</th>\n",
       "      <td>Kim Jong Wan</td>\n",
       "      <td>0.0</td>\n",
       "      <td>https://open.spotify.com/artist/7ksQJtsXSRSrI5306UwIgH</td>\n",
       "    </tr>\n",
       "    <tr>\n",
       "      <th>3</th>\n",
       "      <td>VLOSPA</td>\n",
       "      <td>0.0</td>\n",
       "      <td>https://open.spotify.com/artist/5VzicjuhIv0IwMz15hEORa</td>\n",
       "    </tr>\n",
       "    <tr>\n",
       "      <th>4</th>\n",
       "      <td>Jessie Murph</td>\n",
       "      <td>0.0</td>\n",
       "      <td>https://open.spotify.com/artist/2yLzlEFtIS0Q9UkyBZdQA7</td>\n",
       "    </tr>\n",
       "  </tbody>\n",
       "</table>"
      ],
      "text/plain": [
       "<IPython.core.display.HTML object>"
      ]
     },
     "metadata": {},
     "output_type": "display_data"
    },
    {
     "name": "stdout",
     "output_type": "stream",
     "text": [
      "Taylor Swift\n"
     ]
    },
    {
     "data": {
      "text/html": [
       "<table border=\"1\" class=\"dataframe\">\n",
       "  <thead>\n",
       "    <tr style=\"text-align: right;\">\n",
       "      <th></th>\n",
       "      <th>name</th>\n",
       "      <th>score</th>\n",
       "      <th>link</th>\n",
       "    </tr>\n",
       "  </thead>\n",
       "  <tbody>\n",
       "    <tr>\n",
       "      <th>0</th>\n",
       "      <td>Los Avila</td>\n",
       "      <td>0.000</td>\n",
       "      <td>https://open.spotify.com/artist/0A0oFtNpb7CV86uWlxjnQo</td>\n",
       "    </tr>\n",
       "    <tr>\n",
       "      <th>1</th>\n",
       "      <td>Sammy Johnson</td>\n",
       "      <td>0.006</td>\n",
       "      <td>https://open.spotify.com/artist/0vMGGYcvLOnwg7t4kl33BA</td>\n",
       "    </tr>\n",
       "    <tr>\n",
       "      <th>2</th>\n",
       "      <td>Sleepy Brown</td>\n",
       "      <td>0.014</td>\n",
       "      <td>https://open.spotify.com/artist/7Dnu2NmddNymEI2LMZVH5v</td>\n",
       "    </tr>\n",
       "    <tr>\n",
       "      <th>3</th>\n",
       "      <td>Rolf Sanchez</td>\n",
       "      <td>0.014</td>\n",
       "      <td>https://open.spotify.com/artist/3R6VoMjUANEP9wb7fRNXws</td>\n",
       "    </tr>\n",
       "    <tr>\n",
       "      <th>4</th>\n",
       "      <td>Lenno</td>\n",
       "      <td>0.018</td>\n",
       "      <td>https://open.spotify.com/artist/4IRw3ME1D0lYOyFyXAjDv7</td>\n",
       "    </tr>\n",
       "  </tbody>\n",
       "</table>"
      ],
      "text/plain": [
       "<IPython.core.display.HTML object>"
      ]
     },
     "metadata": {},
     "output_type": "display_data"
    },
    {
     "name": "stdout",
     "output_type": "stream",
     "text": [
      "Ariana Grande\n"
     ]
    },
    {
     "data": {
      "text/html": [
       "<table border=\"1\" class=\"dataframe\">\n",
       "  <thead>\n",
       "    <tr style=\"text-align: right;\">\n",
       "      <th></th>\n",
       "      <th>name</th>\n",
       "      <th>score</th>\n",
       "      <th>link</th>\n",
       "    </tr>\n",
       "  </thead>\n",
       "  <tbody>\n",
       "    <tr>\n",
       "      <th>0</th>\n",
       "      <td>Sleeping Forest</td>\n",
       "      <td>0.0</td>\n",
       "      <td>https://open.spotify.com/artist/1Z2l3J92EbIjFGPelPJP5O</td>\n",
       "    </tr>\n",
       "    <tr>\n",
       "      <th>1</th>\n",
       "      <td>Lil Ugly Mane</td>\n",
       "      <td>0.0</td>\n",
       "      <td>https://open.spotify.com/artist/2gPLG9mGaU67woC5L0luYA</td>\n",
       "    </tr>\n",
       "    <tr>\n",
       "      <th>2</th>\n",
       "      <td>Hanybal</td>\n",
       "      <td>0.0</td>\n",
       "      <td>https://open.spotify.com/artist/2HdP7fpDiLWAvElYGg75gd</td>\n",
       "    </tr>\n",
       "    <tr>\n",
       "      <th>3</th>\n",
       "      <td>DOROFEEVA</td>\n",
       "      <td>0.0</td>\n",
       "      <td>https://open.spotify.com/artist/7wl1m5vgWkCP3cqYVj2noM</td>\n",
       "    </tr>\n",
       "    <tr>\n",
       "      <th>4</th>\n",
       "      <td>Shaan</td>\n",
       "      <td>0.0</td>\n",
       "      <td>https://open.spotify.com/artist/7jo2g1o6z6ZK8DDDazCcOY</td>\n",
       "    </tr>\n",
       "  </tbody>\n",
       "</table>"
      ],
      "text/plain": [
       "<IPython.core.display.HTML object>"
      ]
     },
     "metadata": {},
     "output_type": "display_data"
    }
   ],
   "source": [
    "# 8 artists per cluster\n",
    "display_recs(['1uNFoZAHBGtllmzznpCI3s', '06HL4z0CvFAxyc27GXpf02', '66CXWjxzNUsdJxJ2JdwvnR'], 8)\n"
   ]
  },
  {
   "cell_type": "code",
   "execution_count": 8,
   "metadata": {
    "scrolled": true
   },
   "outputs": [
    {
     "name": "stdout",
     "output_type": "stream",
     "text": [
      "230 clusters\n",
      "\n",
      "Justin Bieber\n"
     ]
    },
    {
     "data": {
      "text/html": [
       "<table border=\"1\" class=\"dataframe\">\n",
       "  <thead>\n",
       "    <tr style=\"text-align: right;\">\n",
       "      <th></th>\n",
       "      <th>name</th>\n",
       "      <th>score</th>\n",
       "      <th>link</th>\n",
       "    </tr>\n",
       "  </thead>\n",
       "  <tbody>\n",
       "    <tr>\n",
       "      <th>0</th>\n",
       "      <td>Zombic</td>\n",
       "      <td>0.0</td>\n",
       "      <td>https://open.spotify.com/artist/6t0ofV5WMAz84Iqu0YkmTV</td>\n",
       "    </tr>\n",
       "    <tr>\n",
       "      <th>1</th>\n",
       "      <td>Make U Sweat</td>\n",
       "      <td>0.0</td>\n",
       "      <td>https://open.spotify.com/artist/2REtZ0a1gh5LzXswkSkQUp</td>\n",
       "    </tr>\n",
       "    <tr>\n",
       "      <th>2</th>\n",
       "      <td>JYYE</td>\n",
       "      <td>0.0</td>\n",
       "      <td>https://open.spotify.com/artist/1KNafMiV5Y3OhOr1A5tWwb</td>\n",
       "    </tr>\n",
       "    <tr>\n",
       "      <th>3</th>\n",
       "      <td>Joshi Mizu</td>\n",
       "      <td>0.0</td>\n",
       "      <td>https://open.spotify.com/artist/03bmDyr8klGV17DKQnPZVA</td>\n",
       "    </tr>\n",
       "    <tr>\n",
       "      <th>4</th>\n",
       "      <td>Jessie Murph</td>\n",
       "      <td>0.0</td>\n",
       "      <td>https://open.spotify.com/artist/2yLzlEFtIS0Q9UkyBZdQA7</td>\n",
       "    </tr>\n",
       "  </tbody>\n",
       "</table>"
      ],
      "text/plain": [
       "<IPython.core.display.HTML object>"
      ]
     },
     "metadata": {},
     "output_type": "display_data"
    },
    {
     "name": "stdout",
     "output_type": "stream",
     "text": [
      "Taylor Swift\n"
     ]
    },
    {
     "data": {
      "text/html": [
       "<table border=\"1\" class=\"dataframe\">\n",
       "  <thead>\n",
       "    <tr style=\"text-align: right;\">\n",
       "      <th></th>\n",
       "      <th>name</th>\n",
       "      <th>score</th>\n",
       "      <th>link</th>\n",
       "    </tr>\n",
       "  </thead>\n",
       "  <tbody>\n",
       "    <tr>\n",
       "      <th>0</th>\n",
       "      <td>Famke Louise</td>\n",
       "      <td>0.0</td>\n",
       "      <td>https://open.spotify.com/artist/4Dm1MX4VPbtLssAQeBhHFo</td>\n",
       "    </tr>\n",
       "    <tr>\n",
       "      <th>1</th>\n",
       "      <td>RM4E</td>\n",
       "      <td>0.0</td>\n",
       "      <td>https://open.spotify.com/artist/1Hg2H3Z46P8lXECM8DYSpU</td>\n",
       "    </tr>\n",
       "    <tr>\n",
       "      <th>2</th>\n",
       "      <td>ST12</td>\n",
       "      <td>0.0</td>\n",
       "      <td>https://open.spotify.com/artist/09toGEEhpusLyZ6Nk9AmRf</td>\n",
       "    </tr>\n",
       "    <tr>\n",
       "      <th>3</th>\n",
       "      <td>Kamil Bednarek</td>\n",
       "      <td>0.0</td>\n",
       "      <td>https://open.spotify.com/artist/5UUsQ38YTugFjdLX82IDAE</td>\n",
       "    </tr>\n",
       "    <tr>\n",
       "      <th>4</th>\n",
       "      <td>Ashley Price</td>\n",
       "      <td>0.0</td>\n",
       "      <td>https://open.spotify.com/artist/0NzM2Otx6eqCZZ1qkqkpdM</td>\n",
       "    </tr>\n",
       "  </tbody>\n",
       "</table>"
      ],
      "text/plain": [
       "<IPython.core.display.HTML object>"
      ]
     },
     "metadata": {},
     "output_type": "display_data"
    },
    {
     "name": "stdout",
     "output_type": "stream",
     "text": [
      "Ariana Grande\n"
     ]
    },
    {
     "data": {
      "text/html": [
       "<table border=\"1\" class=\"dataframe\">\n",
       "  <thead>\n",
       "    <tr style=\"text-align: right;\">\n",
       "      <th></th>\n",
       "      <th>name</th>\n",
       "      <th>score</th>\n",
       "      <th>link</th>\n",
       "    </tr>\n",
       "  </thead>\n",
       "  <tbody>\n",
       "    <tr>\n",
       "      <th>0</th>\n",
       "      <td>Thyro</td>\n",
       "      <td>0.000</td>\n",
       "      <td>https://open.spotify.com/artist/4VkqlQl3hGhxjchI34xp2V</td>\n",
       "    </tr>\n",
       "    <tr>\n",
       "      <th>1</th>\n",
       "      <td>Afsana Khan</td>\n",
       "      <td>0.000</td>\n",
       "      <td>https://open.spotify.com/artist/4z0z82pXirH1TrygipQlOo</td>\n",
       "    </tr>\n",
       "    <tr>\n",
       "      <th>2</th>\n",
       "      <td>Hanybal</td>\n",
       "      <td>0.000</td>\n",
       "      <td>https://open.spotify.com/artist/2HdP7fpDiLWAvElYGg75gd</td>\n",
       "    </tr>\n",
       "    <tr>\n",
       "      <th>3</th>\n",
       "      <td>Los Avila</td>\n",
       "      <td>0.000</td>\n",
       "      <td>https://open.spotify.com/artist/0A0oFtNpb7CV86uWlxjnQo</td>\n",
       "    </tr>\n",
       "    <tr>\n",
       "      <th>4</th>\n",
       "      <td>Brothers of Metal</td>\n",
       "      <td>0.022</td>\n",
       "      <td>https://open.spotify.com/artist/0WPCPYm5IDNtQjuJOGNPcy</td>\n",
       "    </tr>\n",
       "  </tbody>\n",
       "</table>"
      ],
      "text/plain": [
       "<IPython.core.display.HTML object>"
      ]
     },
     "metadata": {},
     "output_type": "display_data"
    }
   ],
   "source": [
    "# 16 artists per cluster\n",
    "display_recs(['1uNFoZAHBGtllmzznpCI3s', '06HL4z0CvFAxyc27GXpf02', '66CXWjxzNUsdJxJ2JdwvnR'], 16)\n"
   ]
  },
  {
   "cell_type": "markdown",
   "metadata": {},
   "source": [
    "# Andrew's Favorite Artists"
   ]
  },
  {
   "cell_type": "markdown",
   "metadata": {},
   "source": [
    "### AJR, Quinn XCII, Twenty One Pilots, Billie Eilish, Maroon 5"
   ]
  },
  {
   "cell_type": "code",
   "execution_count": 9,
   "metadata": {},
   "outputs": [
    {
     "name": "stdout",
     "output_type": "stream",
     "text": [
      "3691 clusters\n",
      "\n",
      "AJR\n"
     ]
    },
    {
     "data": {
      "text/html": [
       "<table border=\"1\" class=\"dataframe\">\n",
       "  <thead>\n",
       "    <tr style=\"text-align: right;\">\n",
       "      <th></th>\n",
       "      <th>name</th>\n",
       "      <th>score</th>\n",
       "      <th>link</th>\n",
       "    </tr>\n",
       "  </thead>\n",
       "  <tbody>\n",
       "    <tr>\n",
       "      <th>0</th>\n",
       "      <td>Hommie Dilliwala</td>\n",
       "      <td>0.036</td>\n",
       "      <td>https://open.spotify.com/artist/4nK9FAS3HuQXcJva8gEWYT</td>\n",
       "    </tr>\n",
       "    <tr>\n",
       "      <th>1</th>\n",
       "      <td>Alejandro González</td>\n",
       "      <td>0.147</td>\n",
       "      <td>https://open.spotify.com/artist/2SzdXGFgRUgygnqrqmsW9W</td>\n",
       "    </tr>\n",
       "    <tr>\n",
       "      <th>2</th>\n",
       "      <td>The Real Thing</td>\n",
       "      <td>0.321</td>\n",
       "      <td>https://open.spotify.com/artist/1NUD5By34MFynmuUynCfSj</td>\n",
       "    </tr>\n",
       "  </tbody>\n",
       "</table>"
      ],
      "text/plain": [
       "<IPython.core.display.HTML object>"
      ]
     },
     "metadata": {},
     "output_type": "display_data"
    },
    {
     "name": "stdout",
     "output_type": "stream",
     "text": [
      "Quinn XCII\n"
     ]
    },
    {
     "data": {
      "text/html": [
       "<table border=\"1\" class=\"dataframe\">\n",
       "  <thead>\n",
       "    <tr style=\"text-align: right;\">\n",
       "      <th></th>\n",
       "      <th>name</th>\n",
       "      <th>score</th>\n",
       "      <th>link</th>\n",
       "    </tr>\n",
       "  </thead>\n",
       "  <tbody>\n",
       "    <tr>\n",
       "      <th>0</th>\n",
       "      <td>BARANOVSKI</td>\n",
       "      <td>0.010</td>\n",
       "      <td>https://open.spotify.com/artist/0VpXPTuw4wRvor9ZZq1hbB</td>\n",
       "    </tr>\n",
       "    <tr>\n",
       "      <th>1</th>\n",
       "      <td>Brando</td>\n",
       "      <td>0.011</td>\n",
       "      <td>https://open.spotify.com/artist/5uEeqYFuIChoWKy34jp8xE</td>\n",
       "    </tr>\n",
       "    <tr>\n",
       "      <th>2</th>\n",
       "      <td>Gigolo Y La Exce</td>\n",
       "      <td>0.016</td>\n",
       "      <td>https://open.spotify.com/artist/7lCRuW6BSXGAsxuQV9lR0i</td>\n",
       "    </tr>\n",
       "    <tr>\n",
       "      <th>3</th>\n",
       "      <td>Yay</td>\n",
       "      <td>0.017</td>\n",
       "      <td>https://open.spotify.com/artist/65UC5VKwU4vBSBSHckQd5l</td>\n",
       "    </tr>\n",
       "    <tr>\n",
       "      <th>4</th>\n",
       "      <td>Zack Knight</td>\n",
       "      <td>0.018</td>\n",
       "      <td>https://open.spotify.com/artist/7JMBJmGMqw4H33HECyW4QP</td>\n",
       "    </tr>\n",
       "  </tbody>\n",
       "</table>"
      ],
      "text/plain": [
       "<IPython.core.display.HTML object>"
      ]
     },
     "metadata": {},
     "output_type": "display_data"
    },
    {
     "name": "stdout",
     "output_type": "stream",
     "text": [
      "Twenty One Pilots\n"
     ]
    },
    {
     "data": {
      "text/html": [
       "<table border=\"1\" class=\"dataframe\">\n",
       "  <thead>\n",
       "    <tr style=\"text-align: right;\">\n",
       "      <th></th>\n",
       "      <th>name</th>\n",
       "      <th>score</th>\n",
       "      <th>link</th>\n",
       "    </tr>\n",
       "  </thead>\n",
       "  <tbody>\n",
       "    <tr>\n",
       "      <th>0</th>\n",
       "      <td>Stard Ova</td>\n",
       "      <td>0.000</td>\n",
       "      <td>https://open.spotify.com/artist/06PAmgIjWsh7qNnmikUYl0</td>\n",
       "    </tr>\n",
       "    <tr>\n",
       "      <th>1</th>\n",
       "      <td>Nelson Freitas</td>\n",
       "      <td>0.013</td>\n",
       "      <td>https://open.spotify.com/artist/6yWyIM8jA96kl3jlCXpabB</td>\n",
       "    </tr>\n",
       "    <tr>\n",
       "      <th>2</th>\n",
       "      <td>Oscu</td>\n",
       "      <td>0.016</td>\n",
       "      <td>https://open.spotify.com/artist/5iDqEobZRSTiBSAk6jLp4A</td>\n",
       "    </tr>\n",
       "    <tr>\n",
       "      <th>3</th>\n",
       "      <td>Deep Kalsi</td>\n",
       "      <td>0.027</td>\n",
       "      <td>https://open.spotify.com/artist/23S2w22FCwFjDBBn7qdB2I</td>\n",
       "    </tr>\n",
       "    <tr>\n",
       "      <th>4</th>\n",
       "      <td>LVNDSCAPE</td>\n",
       "      <td>0.027</td>\n",
       "      <td>https://open.spotify.com/artist/2QlwnS23KrBeshXFyK5U6M</td>\n",
       "    </tr>\n",
       "  </tbody>\n",
       "</table>"
      ],
      "text/plain": [
       "<IPython.core.display.HTML object>"
      ]
     },
     "metadata": {},
     "output_type": "display_data"
    },
    {
     "name": "stdout",
     "output_type": "stream",
     "text": [
      "Billie Eilish\n"
     ]
    },
    {
     "data": {
      "text/html": [
       "<table border=\"1\" class=\"dataframe\">\n",
       "  <thead>\n",
       "    <tr style=\"text-align: right;\">\n",
       "      <th></th>\n",
       "      <th>name</th>\n",
       "      <th>score</th>\n",
       "      <th>link</th>\n",
       "    </tr>\n",
       "  </thead>\n",
       "  <tbody>\n",
       "    <tr>\n",
       "      <th>0</th>\n",
       "      <td>Art Blakey &amp; The Jazz Messengers</td>\n",
       "      <td>0.048</td>\n",
       "      <td>https://open.spotify.com/artist/6ykfXAed2KOLOMI3R0TZdz</td>\n",
       "    </tr>\n",
       "    <tr>\n",
       "      <th>1</th>\n",
       "      <td>Frida Sundemo</td>\n",
       "      <td>0.142</td>\n",
       "      <td>https://open.spotify.com/artist/5vuIOnOp6NI06rjLgTpYiY</td>\n",
       "    </tr>\n",
       "    <tr>\n",
       "      <th>2</th>\n",
       "      <td>John Travolta</td>\n",
       "      <td>0.192</td>\n",
       "      <td>https://open.spotify.com/artist/4hKkEHkaqCsyxNxXEsszVH</td>\n",
       "    </tr>\n",
       "    <tr>\n",
       "      <th>3</th>\n",
       "      <td>Great White</td>\n",
       "      <td>0.211</td>\n",
       "      <td>https://open.spotify.com/artist/6ZPbX2Lxd40e2UVkXpyxvI</td>\n",
       "    </tr>\n",
       "    <tr>\n",
       "      <th>4</th>\n",
       "      <td>Earl Grant</td>\n",
       "      <td>0.492</td>\n",
       "      <td>https://open.spotify.com/artist/0k3XbZNQTR8KVW2yWyJDDx</td>\n",
       "    </tr>\n",
       "  </tbody>\n",
       "</table>"
      ],
      "text/plain": [
       "<IPython.core.display.HTML object>"
      ]
     },
     "metadata": {},
     "output_type": "display_data"
    },
    {
     "name": "stdout",
     "output_type": "stream",
     "text": [
      "Maroon 5\n"
     ]
    },
    {
     "data": {
      "text/html": [
       "<table border=\"1\" class=\"dataframe\">\n",
       "  <thead>\n",
       "    <tr style=\"text-align: right;\">\n",
       "      <th></th>\n",
       "      <th>name</th>\n",
       "      <th>score</th>\n",
       "      <th>link</th>\n",
       "    </tr>\n",
       "  </thead>\n",
       "  <tbody>\n",
       "    <tr>\n",
       "      <th>0</th>\n",
       "      <td>Mamta Sharma</td>\n",
       "      <td>0.005</td>\n",
       "      <td>https://open.spotify.com/artist/0RMsiUCTjsdGjoKyhEm8Y4</td>\n",
       "    </tr>\n",
       "    <tr>\n",
       "      <th>1</th>\n",
       "      <td>Planetary</td>\n",
       "      <td>0.006</td>\n",
       "      <td>https://open.spotify.com/artist/3tP3kbF0Echadhj6fLbCu8</td>\n",
       "    </tr>\n",
       "    <tr>\n",
       "      <th>2</th>\n",
       "      <td>Tempo</td>\n",
       "      <td>0.026</td>\n",
       "      <td>https://open.spotify.com/artist/76whng5pl9msPkkjFUtWYn</td>\n",
       "    </tr>\n",
       "    <tr>\n",
       "      <th>3</th>\n",
       "      <td>Saxity</td>\n",
       "      <td>0.038</td>\n",
       "      <td>https://open.spotify.com/artist/1jG8sNQCiRuv1Nz1GiFlax</td>\n",
       "    </tr>\n",
       "    <tr>\n",
       "      <th>4</th>\n",
       "      <td>JUMEX</td>\n",
       "      <td>0.047</td>\n",
       "      <td>https://open.spotify.com/artist/4WSweIJDD3aAMDeHA5MK0j</td>\n",
       "    </tr>\n",
       "  </tbody>\n",
       "</table>"
      ],
      "text/plain": [
       "<IPython.core.display.HTML object>"
      ]
     },
     "metadata": {},
     "output_type": "display_data"
    }
   ],
   "source": [
    "# 1 artist per cluster\n",
    "display_recs(['6s22t5Y3prQHyaHWUN1R1C', '3ApUX1o6oSz321MMECyIYd', '3YQKmKGau1PzlVlkL1iodx',\n",
    "              '6qqNVTkY8uBg9cP3Jd7DAH', '04gDigrS5kc9YWfZHwBETP'], 1)\n"
   ]
  },
  {
   "cell_type": "code",
   "execution_count": 10,
   "metadata": {},
   "outputs": [
    {
     "name": "stdout",
     "output_type": "stream",
     "text": [
      "1845 clusters\n",
      "\n",
      "AJR\n"
     ]
    },
    {
     "data": {
      "text/html": [
       "<table border=\"1\" class=\"dataframe\">\n",
       "  <thead>\n",
       "    <tr style=\"text-align: right;\">\n",
       "      <th></th>\n",
       "      <th>name</th>\n",
       "      <th>score</th>\n",
       "      <th>link</th>\n",
       "    </tr>\n",
       "  </thead>\n",
       "  <tbody>\n",
       "    <tr>\n",
       "      <th>0</th>\n",
       "      <td>Verbal Jint</td>\n",
       "      <td>0.066</td>\n",
       "      <td>https://open.spotify.com/artist/24sQuJhQ85ZygDG7sUVUxR</td>\n",
       "    </tr>\n",
       "    <tr>\n",
       "      <th>1</th>\n",
       "      <td>Armaan Bedil</td>\n",
       "      <td>0.079</td>\n",
       "      <td>https://open.spotify.com/artist/1wVbdx5kuHQgBfjiq4bwh3</td>\n",
       "    </tr>\n",
       "    <tr>\n",
       "      <th>2</th>\n",
       "      <td>The 4 Of Us</td>\n",
       "      <td>0.318</td>\n",
       "      <td>https://open.spotify.com/artist/1Yr9lXq2m3KO4otqQKcllY</td>\n",
       "    </tr>\n",
       "    <tr>\n",
       "      <th>3</th>\n",
       "      <td>Egypt Central</td>\n",
       "      <td>0.431</td>\n",
       "      <td>https://open.spotify.com/artist/1d5wNTZ8WZYE5WuXXjug9w</td>\n",
       "    </tr>\n",
       "    <tr>\n",
       "      <th>4</th>\n",
       "      <td>Insanity Alert</td>\n",
       "      <td>0.576</td>\n",
       "      <td>https://open.spotify.com/artist/7371n3dNMRdoAuDOiweQJx</td>\n",
       "    </tr>\n",
       "  </tbody>\n",
       "</table>"
      ],
      "text/plain": [
       "<IPython.core.display.HTML object>"
      ]
     },
     "metadata": {},
     "output_type": "display_data"
    },
    {
     "name": "stdout",
     "output_type": "stream",
     "text": [
      "Quinn XCII\n"
     ]
    },
    {
     "data": {
      "text/html": [
       "<table border=\"1\" class=\"dataframe\">\n",
       "  <thead>\n",
       "    <tr style=\"text-align: right;\">\n",
       "      <th></th>\n",
       "      <th>name</th>\n",
       "      <th>score</th>\n",
       "      <th>link</th>\n",
       "    </tr>\n",
       "  </thead>\n",
       "  <tbody>\n",
       "    <tr>\n",
       "      <th>0</th>\n",
       "      <td>Indara</td>\n",
       "      <td>0.004</td>\n",
       "      <td>https://open.spotify.com/artist/41HE2dQNySxOJNb2TorVBr</td>\n",
       "    </tr>\n",
       "    <tr>\n",
       "      <th>1</th>\n",
       "      <td>BARANOVSKI</td>\n",
       "      <td>0.010</td>\n",
       "      <td>https://open.spotify.com/artist/0VpXPTuw4wRvor9ZZq1hbB</td>\n",
       "    </tr>\n",
       "    <tr>\n",
       "      <th>2</th>\n",
       "      <td>Brando</td>\n",
       "      <td>0.011</td>\n",
       "      <td>https://open.spotify.com/artist/5uEeqYFuIChoWKy34jp8xE</td>\n",
       "    </tr>\n",
       "    <tr>\n",
       "      <th>3</th>\n",
       "      <td>Delano</td>\n",
       "      <td>0.011</td>\n",
       "      <td>https://open.spotify.com/artist/5TmW0cFVEYEbypgTdSNNDn</td>\n",
       "    </tr>\n",
       "    <tr>\n",
       "      <th>4</th>\n",
       "      <td>Yay</td>\n",
       "      <td>0.017</td>\n",
       "      <td>https://open.spotify.com/artist/65UC5VKwU4vBSBSHckQd5l</td>\n",
       "    </tr>\n",
       "  </tbody>\n",
       "</table>"
      ],
      "text/plain": [
       "<IPython.core.display.HTML object>"
      ]
     },
     "metadata": {},
     "output_type": "display_data"
    },
    {
     "name": "stdout",
     "output_type": "stream",
     "text": [
      "Twenty One Pilots\n"
     ]
    },
    {
     "data": {
      "text/html": [
       "<table border=\"1\" class=\"dataframe\">\n",
       "  <thead>\n",
       "    <tr style=\"text-align: right;\">\n",
       "      <th></th>\n",
       "      <th>name</th>\n",
       "      <th>score</th>\n",
       "      <th>link</th>\n",
       "    </tr>\n",
       "  </thead>\n",
       "  <tbody>\n",
       "    <tr>\n",
       "      <th>0</th>\n",
       "      <td>Kravz</td>\n",
       "      <td>0.007</td>\n",
       "      <td>https://open.spotify.com/artist/5DIzBPaVlYSmlIQaafQSow</td>\n",
       "    </tr>\n",
       "    <tr>\n",
       "      <th>1</th>\n",
       "      <td>Ilkan Gunuc</td>\n",
       "      <td>0.009</td>\n",
       "      <td>https://open.spotify.com/artist/02vT04WkgQ8dO4f1GLMTP9</td>\n",
       "    </tr>\n",
       "    <tr>\n",
       "      <th>2</th>\n",
       "      <td>Nelson Freitas</td>\n",
       "      <td>0.013</td>\n",
       "      <td>https://open.spotify.com/artist/6yWyIM8jA96kl3jlCXpabB</td>\n",
       "    </tr>\n",
       "    <tr>\n",
       "      <th>3</th>\n",
       "      <td>Oscu</td>\n",
       "      <td>0.016</td>\n",
       "      <td>https://open.spotify.com/artist/5iDqEobZRSTiBSAk6jLp4A</td>\n",
       "    </tr>\n",
       "    <tr>\n",
       "      <th>4</th>\n",
       "      <td>Deep Kalsi</td>\n",
       "      <td>0.027</td>\n",
       "      <td>https://open.spotify.com/artist/23S2w22FCwFjDBBn7qdB2I</td>\n",
       "    </tr>\n",
       "  </tbody>\n",
       "</table>"
      ],
      "text/plain": [
       "<IPython.core.display.HTML object>"
      ]
     },
     "metadata": {},
     "output_type": "display_data"
    },
    {
     "name": "stdout",
     "output_type": "stream",
     "text": [
      "Billie Eilish\n"
     ]
    },
    {
     "data": {
      "text/html": [
       "<table border=\"1\" class=\"dataframe\">\n",
       "  <thead>\n",
       "    <tr style=\"text-align: right;\">\n",
       "      <th></th>\n",
       "      <th>name</th>\n",
       "      <th>score</th>\n",
       "      <th>link</th>\n",
       "    </tr>\n",
       "  </thead>\n",
       "  <tbody>\n",
       "    <tr>\n",
       "      <th>0</th>\n",
       "      <td>Art Blakey &amp; The Jazz Messengers</td>\n",
       "      <td>0.048</td>\n",
       "      <td>https://open.spotify.com/artist/6ykfXAed2KOLOMI3R0TZdz</td>\n",
       "    </tr>\n",
       "    <tr>\n",
       "      <th>1</th>\n",
       "      <td>Toussaint McCall</td>\n",
       "      <td>0.076</td>\n",
       "      <td>https://open.spotify.com/artist/421kKwxa5GC9nLddFuqtNL</td>\n",
       "    </tr>\n",
       "    <tr>\n",
       "      <th>2</th>\n",
       "      <td>Crosby, Stills, Nash &amp; Young</td>\n",
       "      <td>0.119</td>\n",
       "      <td>https://open.spotify.com/artist/1CYsQCypByMVgnv17qsSbQ</td>\n",
       "    </tr>\n",
       "    <tr>\n",
       "      <th>3</th>\n",
       "      <td>François Bréant</td>\n",
       "      <td>0.152</td>\n",
       "      <td>https://open.spotify.com/artist/1xLbSMko6MzCwL1tEkvDDc</td>\n",
       "    </tr>\n",
       "    <tr>\n",
       "      <th>4</th>\n",
       "      <td>Vanessa Williams</td>\n",
       "      <td>0.161</td>\n",
       "      <td>https://open.spotify.com/artist/75L9s8KVrhCNtBUkZFnDFW</td>\n",
       "    </tr>\n",
       "  </tbody>\n",
       "</table>"
      ],
      "text/plain": [
       "<IPython.core.display.HTML object>"
      ]
     },
     "metadata": {},
     "output_type": "display_data"
    },
    {
     "name": "stdout",
     "output_type": "stream",
     "text": [
      "Maroon 5\n"
     ]
    },
    {
     "data": {
      "text/html": [
       "<table border=\"1\" class=\"dataframe\">\n",
       "  <thead>\n",
       "    <tr style=\"text-align: right;\">\n",
       "      <th></th>\n",
       "      <th>name</th>\n",
       "      <th>score</th>\n",
       "      <th>link</th>\n",
       "    </tr>\n",
       "  </thead>\n",
       "  <tbody>\n",
       "    <tr>\n",
       "      <th>0</th>\n",
       "      <td>Ashley Lilley</td>\n",
       "      <td>0.000</td>\n",
       "      <td>https://open.spotify.com/artist/4Fo2qgLwTad6ICYbIu7CQR</td>\n",
       "    </tr>\n",
       "    <tr>\n",
       "      <th>1</th>\n",
       "      <td>Mamta Sharma</td>\n",
       "      <td>0.005</td>\n",
       "      <td>https://open.spotify.com/artist/0RMsiUCTjsdGjoKyhEm8Y4</td>\n",
       "    </tr>\n",
       "    <tr>\n",
       "      <th>2</th>\n",
       "      <td>Planetary</td>\n",
       "      <td>0.006</td>\n",
       "      <td>https://open.spotify.com/artist/3tP3kbF0Echadhj6fLbCu8</td>\n",
       "    </tr>\n",
       "    <tr>\n",
       "      <th>3</th>\n",
       "      <td>Freddy Kalas</td>\n",
       "      <td>0.014</td>\n",
       "      <td>https://open.spotify.com/artist/2HAShHcL0dMLf1iNzmxTi3</td>\n",
       "    </tr>\n",
       "    <tr>\n",
       "      <th>4</th>\n",
       "      <td>GOBLIN KING</td>\n",
       "      <td>0.022</td>\n",
       "      <td>https://open.spotify.com/artist/4S66k7DawgCBwwjOlegNaX</td>\n",
       "    </tr>\n",
       "  </tbody>\n",
       "</table>"
      ],
      "text/plain": [
       "<IPython.core.display.HTML object>"
      ]
     },
     "metadata": {},
     "output_type": "display_data"
    }
   ],
   "source": [
    "# 2 artists per cluster\n",
    "display_recs(['6s22t5Y3prQHyaHWUN1R1C', '3ApUX1o6oSz321MMECyIYd', '3YQKmKGau1PzlVlkL1iodx',\n",
    "              '6qqNVTkY8uBg9cP3Jd7DAH', '04gDigrS5kc9YWfZHwBETP'], 2)\n"
   ]
  },
  {
   "cell_type": "code",
   "execution_count": 11,
   "metadata": {},
   "outputs": [
    {
     "name": "stdout",
     "output_type": "stream",
     "text": [
      "922 clusters\n",
      "\n",
      "AJR\n"
     ]
    },
    {
     "data": {
      "text/html": [
       "<table border=\"1\" class=\"dataframe\">\n",
       "  <thead>\n",
       "    <tr style=\"text-align: right;\">\n",
       "      <th></th>\n",
       "      <th>name</th>\n",
       "      <th>score</th>\n",
       "      <th>link</th>\n",
       "    </tr>\n",
       "  </thead>\n",
       "  <tbody>\n",
       "    <tr>\n",
       "      <th>0</th>\n",
       "      <td>DHARIA</td>\n",
       "      <td>0.000</td>\n",
       "      <td>https://open.spotify.com/artist/1psakk7GVUl85AnTEvwtk2</td>\n",
       "    </tr>\n",
       "    <tr>\n",
       "      <th>1</th>\n",
       "      <td>Verbal Jint</td>\n",
       "      <td>0.066</td>\n",
       "      <td>https://open.spotify.com/artist/24sQuJhQ85ZygDG7sUVUxR</td>\n",
       "    </tr>\n",
       "    <tr>\n",
       "      <th>2</th>\n",
       "      <td>Armaan Bedil</td>\n",
       "      <td>0.079</td>\n",
       "      <td>https://open.spotify.com/artist/1wVbdx5kuHQgBfjiq4bwh3</td>\n",
       "    </tr>\n",
       "    <tr>\n",
       "      <th>3</th>\n",
       "      <td>Alejandro González</td>\n",
       "      <td>0.147</td>\n",
       "      <td>https://open.spotify.com/artist/2SzdXGFgRUgygnqrqmsW9W</td>\n",
       "    </tr>\n",
       "    <tr>\n",
       "      <th>4</th>\n",
       "      <td>The 4 Of Us</td>\n",
       "      <td>0.318</td>\n",
       "      <td>https://open.spotify.com/artist/1Yr9lXq2m3KO4otqQKcllY</td>\n",
       "    </tr>\n",
       "  </tbody>\n",
       "</table>"
      ],
      "text/plain": [
       "<IPython.core.display.HTML object>"
      ]
     },
     "metadata": {},
     "output_type": "display_data"
    },
    {
     "name": "stdout",
     "output_type": "stream",
     "text": [
      "Quinn XCII\n"
     ]
    },
    {
     "data": {
      "text/html": [
       "<table border=\"1\" class=\"dataframe\">\n",
       "  <thead>\n",
       "    <tr style=\"text-align: right;\">\n",
       "      <th></th>\n",
       "      <th>name</th>\n",
       "      <th>score</th>\n",
       "      <th>link</th>\n",
       "    </tr>\n",
       "  </thead>\n",
       "  <tbody>\n",
       "    <tr>\n",
       "      <th>0</th>\n",
       "      <td>7ari</td>\n",
       "      <td>0.000</td>\n",
       "      <td>https://open.spotify.com/artist/292jMVlKq180yzi8WRaVU6</td>\n",
       "    </tr>\n",
       "    <tr>\n",
       "      <th>1</th>\n",
       "      <td>Indara</td>\n",
       "      <td>0.004</td>\n",
       "      <td>https://open.spotify.com/artist/41HE2dQNySxOJNb2TorVBr</td>\n",
       "    </tr>\n",
       "    <tr>\n",
       "      <th>2</th>\n",
       "      <td>Jonasu</td>\n",
       "      <td>0.007</td>\n",
       "      <td>https://open.spotify.com/artist/7u4ayw4QFEsolPxZgnPAMT</td>\n",
       "    </tr>\n",
       "    <tr>\n",
       "      <th>3</th>\n",
       "      <td>BARANOVSKI</td>\n",
       "      <td>0.010</td>\n",
       "      <td>https://open.spotify.com/artist/0VpXPTuw4wRvor9ZZq1hbB</td>\n",
       "    </tr>\n",
       "    <tr>\n",
       "      <th>4</th>\n",
       "      <td>Brando</td>\n",
       "      <td>0.011</td>\n",
       "      <td>https://open.spotify.com/artist/5uEeqYFuIChoWKy34jp8xE</td>\n",
       "    </tr>\n",
       "  </tbody>\n",
       "</table>"
      ],
      "text/plain": [
       "<IPython.core.display.HTML object>"
      ]
     },
     "metadata": {},
     "output_type": "display_data"
    },
    {
     "name": "stdout",
     "output_type": "stream",
     "text": [
      "Twenty One Pilots\n"
     ]
    },
    {
     "data": {
      "text/html": [
       "<table border=\"1\" class=\"dataframe\">\n",
       "  <thead>\n",
       "    <tr style=\"text-align: right;\">\n",
       "      <th></th>\n",
       "      <th>name</th>\n",
       "      <th>score</th>\n",
       "      <th>link</th>\n",
       "    </tr>\n",
       "  </thead>\n",
       "  <tbody>\n",
       "    <tr>\n",
       "      <th>0</th>\n",
       "      <td>Nino Ferrer</td>\n",
       "      <td>0.000</td>\n",
       "      <td>https://open.spotify.com/artist/3THqHCN7gq2Z9hLleof9uv</td>\n",
       "    </tr>\n",
       "    <tr>\n",
       "      <th>1</th>\n",
       "      <td>Kravz</td>\n",
       "      <td>0.007</td>\n",
       "      <td>https://open.spotify.com/artist/5DIzBPaVlYSmlIQaafQSow</td>\n",
       "    </tr>\n",
       "    <tr>\n",
       "      <th>2</th>\n",
       "      <td>Ilkan Gunuc</td>\n",
       "      <td>0.009</td>\n",
       "      <td>https://open.spotify.com/artist/02vT04WkgQ8dO4f1GLMTP9</td>\n",
       "    </tr>\n",
       "    <tr>\n",
       "      <th>3</th>\n",
       "      <td>Nelson Freitas</td>\n",
       "      <td>0.013</td>\n",
       "      <td>https://open.spotify.com/artist/6yWyIM8jA96kl3jlCXpabB</td>\n",
       "    </tr>\n",
       "    <tr>\n",
       "      <th>4</th>\n",
       "      <td>Deep Kalsi</td>\n",
       "      <td>0.027</td>\n",
       "      <td>https://open.spotify.com/artist/23S2w22FCwFjDBBn7qdB2I</td>\n",
       "    </tr>\n",
       "  </tbody>\n",
       "</table>"
      ],
      "text/plain": [
       "<IPython.core.display.HTML object>"
      ]
     },
     "metadata": {},
     "output_type": "display_data"
    },
    {
     "name": "stdout",
     "output_type": "stream",
     "text": [
      "Billie Eilish\n"
     ]
    },
    {
     "data": {
      "text/html": [
       "<table border=\"1\" class=\"dataframe\">\n",
       "  <thead>\n",
       "    <tr style=\"text-align: right;\">\n",
       "      <th></th>\n",
       "      <th>name</th>\n",
       "      <th>score</th>\n",
       "      <th>link</th>\n",
       "    </tr>\n",
       "  </thead>\n",
       "  <tbody>\n",
       "    <tr>\n",
       "      <th>0</th>\n",
       "      <td>Azaleh</td>\n",
       "      <td>0.000</td>\n",
       "      <td>https://open.spotify.com/artist/3yNkKjNBiX09eHZ4EQ3lJY</td>\n",
       "    </tr>\n",
       "    <tr>\n",
       "      <th>1</th>\n",
       "      <td>Dawn</td>\n",
       "      <td>0.000</td>\n",
       "      <td>https://open.spotify.com/artist/0ITGyIOMfQ1mk5fRUlH8Am</td>\n",
       "    </tr>\n",
       "    <tr>\n",
       "      <th>2</th>\n",
       "      <td>Art Blakey &amp; The Jazz Messengers</td>\n",
       "      <td>0.048</td>\n",
       "      <td>https://open.spotify.com/artist/6ykfXAed2KOLOMI3R0TZdz</td>\n",
       "    </tr>\n",
       "    <tr>\n",
       "      <th>3</th>\n",
       "      <td>Toussaint McCall</td>\n",
       "      <td>0.076</td>\n",
       "      <td>https://open.spotify.com/artist/421kKwxa5GC9nLddFuqtNL</td>\n",
       "    </tr>\n",
       "    <tr>\n",
       "      <th>4</th>\n",
       "      <td>Crosby, Stills, Nash &amp; Young</td>\n",
       "      <td>0.119</td>\n",
       "      <td>https://open.spotify.com/artist/1CYsQCypByMVgnv17qsSbQ</td>\n",
       "    </tr>\n",
       "  </tbody>\n",
       "</table>"
      ],
      "text/plain": [
       "<IPython.core.display.HTML object>"
      ]
     },
     "metadata": {},
     "output_type": "display_data"
    },
    {
     "name": "stdout",
     "output_type": "stream",
     "text": [
      "Maroon 5\n"
     ]
    },
    {
     "data": {
      "text/html": [
       "<table border=\"1\" class=\"dataframe\">\n",
       "  <thead>\n",
       "    <tr style=\"text-align: right;\">\n",
       "      <th></th>\n",
       "      <th>name</th>\n",
       "      <th>score</th>\n",
       "      <th>link</th>\n",
       "    </tr>\n",
       "  </thead>\n",
       "  <tbody>\n",
       "    <tr>\n",
       "      <th>0</th>\n",
       "      <td>Mamta Sharma</td>\n",
       "      <td>0.005</td>\n",
       "      <td>https://open.spotify.com/artist/0RMsiUCTjsdGjoKyhEm8Y4</td>\n",
       "    </tr>\n",
       "    <tr>\n",
       "      <th>1</th>\n",
       "      <td>Planetary</td>\n",
       "      <td>0.006</td>\n",
       "      <td>https://open.spotify.com/artist/3tP3kbF0Echadhj6fLbCu8</td>\n",
       "    </tr>\n",
       "    <tr>\n",
       "      <th>2</th>\n",
       "      <td>HIDDN</td>\n",
       "      <td>0.024</td>\n",
       "      <td>https://open.spotify.com/artist/0wqZ6mvk4DfOvtQUVniOCX</td>\n",
       "    </tr>\n",
       "    <tr>\n",
       "      <th>3</th>\n",
       "      <td>Tempo</td>\n",
       "      <td>0.026</td>\n",
       "      <td>https://open.spotify.com/artist/76whng5pl9msPkkjFUtWYn</td>\n",
       "    </tr>\n",
       "    <tr>\n",
       "      <th>4</th>\n",
       "      <td>Mayel Jimenez</td>\n",
       "      <td>0.035</td>\n",
       "      <td>https://open.spotify.com/artist/5vnX0sfjkusMXzXpBEj4Ce</td>\n",
       "    </tr>\n",
       "  </tbody>\n",
       "</table>"
      ],
      "text/plain": [
       "<IPython.core.display.HTML object>"
      ]
     },
     "metadata": {},
     "output_type": "display_data"
    }
   ],
   "source": [
    "# 4 artist per cluster\n",
    "display_recs(['6s22t5Y3prQHyaHWUN1R1C', '3ApUX1o6oSz321MMECyIYd', '3YQKmKGau1PzlVlkL1iodx',\n",
    "              '6qqNVTkY8uBg9cP3Jd7DAH', '04gDigrS5kc9YWfZHwBETP'], 4)\n"
   ]
  },
  {
   "cell_type": "code",
   "execution_count": 12,
   "metadata": {},
   "outputs": [
    {
     "name": "stdout",
     "output_type": "stream",
     "text": [
      "461 clusters\n",
      "\n",
      "AJR\n"
     ]
    },
    {
     "data": {
      "text/html": [
       "<table border=\"1\" class=\"dataframe\">\n",
       "  <thead>\n",
       "    <tr style=\"text-align: right;\">\n",
       "      <th></th>\n",
       "      <th>name</th>\n",
       "      <th>score</th>\n",
       "      <th>link</th>\n",
       "    </tr>\n",
       "  </thead>\n",
       "  <tbody>\n",
       "    <tr>\n",
       "      <th>0</th>\n",
       "      <td>DHARIA</td>\n",
       "      <td>0.000</td>\n",
       "      <td>https://open.spotify.com/artist/1psakk7GVUl85AnTEvwtk2</td>\n",
       "    </tr>\n",
       "    <tr>\n",
       "      <th>1</th>\n",
       "      <td>Hommie Dilliwala</td>\n",
       "      <td>0.036</td>\n",
       "      <td>https://open.spotify.com/artist/4nK9FAS3HuQXcJva8gEWYT</td>\n",
       "    </tr>\n",
       "    <tr>\n",
       "      <th>2</th>\n",
       "      <td>Verbal Jint</td>\n",
       "      <td>0.066</td>\n",
       "      <td>https://open.spotify.com/artist/24sQuJhQ85ZygDG7sUVUxR</td>\n",
       "    </tr>\n",
       "    <tr>\n",
       "      <th>3</th>\n",
       "      <td>Armaan Bedil</td>\n",
       "      <td>0.079</td>\n",
       "      <td>https://open.spotify.com/artist/1wVbdx5kuHQgBfjiq4bwh3</td>\n",
       "    </tr>\n",
       "    <tr>\n",
       "      <th>4</th>\n",
       "      <td>Alejandro González</td>\n",
       "      <td>0.147</td>\n",
       "      <td>https://open.spotify.com/artist/2SzdXGFgRUgygnqrqmsW9W</td>\n",
       "    </tr>\n",
       "  </tbody>\n",
       "</table>"
      ],
      "text/plain": [
       "<IPython.core.display.HTML object>"
      ]
     },
     "metadata": {},
     "output_type": "display_data"
    },
    {
     "name": "stdout",
     "output_type": "stream",
     "text": [
      "Quinn XCII\n"
     ]
    },
    {
     "data": {
      "text/html": [
       "<table border=\"1\" class=\"dataframe\">\n",
       "  <thead>\n",
       "    <tr style=\"text-align: right;\">\n",
       "      <th></th>\n",
       "      <th>name</th>\n",
       "      <th>score</th>\n",
       "      <th>link</th>\n",
       "    </tr>\n",
       "  </thead>\n",
       "  <tbody>\n",
       "    <tr>\n",
       "      <th>0</th>\n",
       "      <td>Madizin</td>\n",
       "      <td>0.000</td>\n",
       "      <td>https://open.spotify.com/artist/3KCO1VWpmHG0T2zYJjXVgj</td>\n",
       "    </tr>\n",
       "    <tr>\n",
       "      <th>1</th>\n",
       "      <td>Bellini</td>\n",
       "      <td>0.000</td>\n",
       "      <td>https://open.spotify.com/artist/2CzPCLry0VHxB4JNva2du6</td>\n",
       "    </tr>\n",
       "    <tr>\n",
       "      <th>2</th>\n",
       "      <td>Indara</td>\n",
       "      <td>0.004</td>\n",
       "      <td>https://open.spotify.com/artist/41HE2dQNySxOJNb2TorVBr</td>\n",
       "    </tr>\n",
       "    <tr>\n",
       "      <th>3</th>\n",
       "      <td>Jonasu</td>\n",
       "      <td>0.007</td>\n",
       "      <td>https://open.spotify.com/artist/7u4ayw4QFEsolPxZgnPAMT</td>\n",
       "    </tr>\n",
       "    <tr>\n",
       "      <th>4</th>\n",
       "      <td>Delano</td>\n",
       "      <td>0.011</td>\n",
       "      <td>https://open.spotify.com/artist/5TmW0cFVEYEbypgTdSNNDn</td>\n",
       "    </tr>\n",
       "  </tbody>\n",
       "</table>"
      ],
      "text/plain": [
       "<IPython.core.display.HTML object>"
      ]
     },
     "metadata": {},
     "output_type": "display_data"
    },
    {
     "name": "stdout",
     "output_type": "stream",
     "text": [
      "Twenty One Pilots\n"
     ]
    },
    {
     "data": {
      "text/html": [
       "<table border=\"1\" class=\"dataframe\">\n",
       "  <thead>\n",
       "    <tr style=\"text-align: right;\">\n",
       "      <th></th>\n",
       "      <th>name</th>\n",
       "      <th>score</th>\n",
       "      <th>link</th>\n",
       "    </tr>\n",
       "  </thead>\n",
       "  <tbody>\n",
       "    <tr>\n",
       "      <th>0</th>\n",
       "      <td>Keerthana Sharma</td>\n",
       "      <td>0.000</td>\n",
       "      <td>https://open.spotify.com/artist/3MVZmcDNyoI81ZmAu0YiF7</td>\n",
       "    </tr>\n",
       "    <tr>\n",
       "      <th>1</th>\n",
       "      <td>Stard Ova</td>\n",
       "      <td>0.000</td>\n",
       "      <td>https://open.spotify.com/artist/06PAmgIjWsh7qNnmikUYl0</td>\n",
       "    </tr>\n",
       "    <tr>\n",
       "      <th>2</th>\n",
       "      <td>DJ Goja</td>\n",
       "      <td>0.000</td>\n",
       "      <td>https://open.spotify.com/artist/2bHWbDN72wdIF0Y48669zg</td>\n",
       "    </tr>\n",
       "    <tr>\n",
       "      <th>3</th>\n",
       "      <td>Ilkan Gunuc</td>\n",
       "      <td>0.009</td>\n",
       "      <td>https://open.spotify.com/artist/02vT04WkgQ8dO4f1GLMTP9</td>\n",
       "    </tr>\n",
       "    <tr>\n",
       "      <th>4</th>\n",
       "      <td>Nelson Freitas</td>\n",
       "      <td>0.013</td>\n",
       "      <td>https://open.spotify.com/artist/6yWyIM8jA96kl3jlCXpabB</td>\n",
       "    </tr>\n",
       "  </tbody>\n",
       "</table>"
      ],
      "text/plain": [
       "<IPython.core.display.HTML object>"
      ]
     },
     "metadata": {},
     "output_type": "display_data"
    },
    {
     "name": "stdout",
     "output_type": "stream",
     "text": [
      "Billie Eilish\n"
     ]
    },
    {
     "data": {
      "text/html": [
       "<table border=\"1\" class=\"dataframe\">\n",
       "  <thead>\n",
       "    <tr style=\"text-align: right;\">\n",
       "      <th></th>\n",
       "      <th>name</th>\n",
       "      <th>score</th>\n",
       "      <th>link</th>\n",
       "    </tr>\n",
       "  </thead>\n",
       "  <tbody>\n",
       "    <tr>\n",
       "      <th>0</th>\n",
       "      <td>Azaleh</td>\n",
       "      <td>0.000</td>\n",
       "      <td>https://open.spotify.com/artist/3yNkKjNBiX09eHZ4EQ3lJY</td>\n",
       "    </tr>\n",
       "    <tr>\n",
       "      <th>1</th>\n",
       "      <td>Yndio</td>\n",
       "      <td>0.000</td>\n",
       "      <td>https://open.spotify.com/artist/1yP1EbAX7oCvKI7j7PxzGg</td>\n",
       "    </tr>\n",
       "    <tr>\n",
       "      <th>2</th>\n",
       "      <td>Art Blakey &amp; The Jazz Messengers</td>\n",
       "      <td>0.048</td>\n",
       "      <td>https://open.spotify.com/artist/6ykfXAed2KOLOMI3R0TZdz</td>\n",
       "    </tr>\n",
       "    <tr>\n",
       "      <th>3</th>\n",
       "      <td>Toussaint McCall</td>\n",
       "      <td>0.076</td>\n",
       "      <td>https://open.spotify.com/artist/421kKwxa5GC9nLddFuqtNL</td>\n",
       "    </tr>\n",
       "    <tr>\n",
       "      <th>4</th>\n",
       "      <td>Crosby, Stills, Nash &amp; Young</td>\n",
       "      <td>0.119</td>\n",
       "      <td>https://open.spotify.com/artist/1CYsQCypByMVgnv17qsSbQ</td>\n",
       "    </tr>\n",
       "  </tbody>\n",
       "</table>"
      ],
      "text/plain": [
       "<IPython.core.display.HTML object>"
      ]
     },
     "metadata": {},
     "output_type": "display_data"
    },
    {
     "name": "stdout",
     "output_type": "stream",
     "text": [
      "Maroon 5\n"
     ]
    },
    {
     "data": {
      "text/html": [
       "<table border=\"1\" class=\"dataframe\">\n",
       "  <thead>\n",
       "    <tr style=\"text-align: right;\">\n",
       "      <th></th>\n",
       "      <th>name</th>\n",
       "      <th>score</th>\n",
       "      <th>link</th>\n",
       "    </tr>\n",
       "  </thead>\n",
       "  <tbody>\n",
       "    <tr>\n",
       "      <th>0</th>\n",
       "      <td>Ashley Lilley</td>\n",
       "      <td>0.000</td>\n",
       "      <td>https://open.spotify.com/artist/4Fo2qgLwTad6ICYbIu7CQR</td>\n",
       "    </tr>\n",
       "    <tr>\n",
       "      <th>1</th>\n",
       "      <td>Mc Pepeu</td>\n",
       "      <td>0.000</td>\n",
       "      <td>https://open.spotify.com/artist/3THyxXDkvAVvmfZKP3Fq7G</td>\n",
       "    </tr>\n",
       "    <tr>\n",
       "      <th>2</th>\n",
       "      <td>Mamta Sharma</td>\n",
       "      <td>0.005</td>\n",
       "      <td>https://open.spotify.com/artist/0RMsiUCTjsdGjoKyhEm8Y4</td>\n",
       "    </tr>\n",
       "    <tr>\n",
       "      <th>3</th>\n",
       "      <td>Planetary</td>\n",
       "      <td>0.006</td>\n",
       "      <td>https://open.spotify.com/artist/3tP3kbF0Echadhj6fLbCu8</td>\n",
       "    </tr>\n",
       "    <tr>\n",
       "      <th>4</th>\n",
       "      <td>Freddy Kalas</td>\n",
       "      <td>0.014</td>\n",
       "      <td>https://open.spotify.com/artist/2HAShHcL0dMLf1iNzmxTi3</td>\n",
       "    </tr>\n",
       "  </tbody>\n",
       "</table>"
      ],
      "text/plain": [
       "<IPython.core.display.HTML object>"
      ]
     },
     "metadata": {},
     "output_type": "display_data"
    }
   ],
   "source": [
    "# 8 artist per cluster\n",
    "display_recs(['6s22t5Y3prQHyaHWUN1R1C', '3ApUX1o6oSz321MMECyIYd', '3YQKmKGau1PzlVlkL1iodx',\n",
    "              '6qqNVTkY8uBg9cP3Jd7DAH', '04gDigrS5kc9YWfZHwBETP'], 8)\n"
   ]
  },
  {
   "cell_type": "code",
   "execution_count": 13,
   "metadata": {},
   "outputs": [
    {
     "name": "stdout",
     "output_type": "stream",
     "text": [
      "230 clusters\n",
      "\n",
      "AJR\n"
     ]
    },
    {
     "data": {
      "text/html": [
       "<table border=\"1\" class=\"dataframe\">\n",
       "  <thead>\n",
       "    <tr style=\"text-align: right;\">\n",
       "      <th></th>\n",
       "      <th>name</th>\n",
       "      <th>score</th>\n",
       "      <th>link</th>\n",
       "    </tr>\n",
       "  </thead>\n",
       "  <tbody>\n",
       "    <tr>\n",
       "      <th>0</th>\n",
       "      <td>Twaang</td>\n",
       "      <td>0.000</td>\n",
       "      <td>https://open.spotify.com/artist/5gzMtn1JiE1dsBjaIr734I</td>\n",
       "    </tr>\n",
       "    <tr>\n",
       "      <th>1</th>\n",
       "      <td>DHARIA</td>\n",
       "      <td>0.000</td>\n",
       "      <td>https://open.spotify.com/artist/1psakk7GVUl85AnTEvwtk2</td>\n",
       "    </tr>\n",
       "    <tr>\n",
       "      <th>2</th>\n",
       "      <td>Verbal Jint</td>\n",
       "      <td>0.066</td>\n",
       "      <td>https://open.spotify.com/artist/24sQuJhQ85ZygDG7sUVUxR</td>\n",
       "    </tr>\n",
       "    <tr>\n",
       "      <th>3</th>\n",
       "      <td>Armaan Bedil</td>\n",
       "      <td>0.079</td>\n",
       "      <td>https://open.spotify.com/artist/1wVbdx5kuHQgBfjiq4bwh3</td>\n",
       "    </tr>\n",
       "    <tr>\n",
       "      <th>4</th>\n",
       "      <td>Alejandro González</td>\n",
       "      <td>0.147</td>\n",
       "      <td>https://open.spotify.com/artist/2SzdXGFgRUgygnqrqmsW9W</td>\n",
       "    </tr>\n",
       "  </tbody>\n",
       "</table>"
      ],
      "text/plain": [
       "<IPython.core.display.HTML object>"
      ]
     },
     "metadata": {},
     "output_type": "display_data"
    },
    {
     "name": "stdout",
     "output_type": "stream",
     "text": [
      "Quinn XCII\n"
     ]
    },
    {
     "data": {
      "text/html": [
       "<table border=\"1\" class=\"dataframe\">\n",
       "  <thead>\n",
       "    <tr style=\"text-align: right;\">\n",
       "      <th></th>\n",
       "      <th>name</th>\n",
       "      <th>score</th>\n",
       "      <th>link</th>\n",
       "    </tr>\n",
       "  </thead>\n",
       "  <tbody>\n",
       "    <tr>\n",
       "      <th>0</th>\n",
       "      <td>Essemm</td>\n",
       "      <td>0.0</td>\n",
       "      <td>https://open.spotify.com/artist/3Ys4jFPuyeMWAdBpZWWkhu</td>\n",
       "    </tr>\n",
       "    <tr>\n",
       "      <th>1</th>\n",
       "      <td>Kartellen</td>\n",
       "      <td>0.0</td>\n",
       "      <td>https://open.spotify.com/artist/3kklzjWziqW7RX5jQjsRnb</td>\n",
       "    </tr>\n",
       "    <tr>\n",
       "      <th>2</th>\n",
       "      <td>Camishe</td>\n",
       "      <td>0.0</td>\n",
       "      <td>https://open.spotify.com/artist/1l5ca6eEXIW8XHBIWPRnWC</td>\n",
       "    </tr>\n",
       "    <tr>\n",
       "      <th>3</th>\n",
       "      <td>De Vet Du</td>\n",
       "      <td>0.0</td>\n",
       "      <td>https://open.spotify.com/artist/7iW0o1suit8xY24m9M5L0u</td>\n",
       "    </tr>\n",
       "    <tr>\n",
       "      <th>4</th>\n",
       "      <td>NALYRO</td>\n",
       "      <td>0.0</td>\n",
       "      <td>https://open.spotify.com/artist/3XC1TzybOz2MUgUybEoUUf</td>\n",
       "    </tr>\n",
       "  </tbody>\n",
       "</table>"
      ],
      "text/plain": [
       "<IPython.core.display.HTML object>"
      ]
     },
     "metadata": {},
     "output_type": "display_data"
    },
    {
     "name": "stdout",
     "output_type": "stream",
     "text": [
      "Twenty One Pilots\n"
     ]
    },
    {
     "data": {
      "text/html": [
       "<table border=\"1\" class=\"dataframe\">\n",
       "  <thead>\n",
       "    <tr style=\"text-align: right;\">\n",
       "      <th></th>\n",
       "      <th>name</th>\n",
       "      <th>score</th>\n",
       "      <th>link</th>\n",
       "    </tr>\n",
       "  </thead>\n",
       "  <tbody>\n",
       "    <tr>\n",
       "      <th>0</th>\n",
       "      <td>Stard Ova</td>\n",
       "      <td>0.0</td>\n",
       "      <td>https://open.spotify.com/artist/06PAmgIjWsh7qNnmikUYl0</td>\n",
       "    </tr>\n",
       "    <tr>\n",
       "      <th>1</th>\n",
       "      <td>DJ Goja</td>\n",
       "      <td>0.0</td>\n",
       "      <td>https://open.spotify.com/artist/2bHWbDN72wdIF0Y48669zg</td>\n",
       "    </tr>\n",
       "    <tr>\n",
       "      <th>2</th>\n",
       "      <td>nowifi</td>\n",
       "      <td>0.0</td>\n",
       "      <td>https://open.spotify.com/artist/5wxw2CQKTIOSkPFJbTYVzl</td>\n",
       "    </tr>\n",
       "    <tr>\n",
       "      <th>3</th>\n",
       "      <td>Babek Mamedrzaev</td>\n",
       "      <td>0.0</td>\n",
       "      <td>https://open.spotify.com/artist/2pZFo9VIdlenvCmKSicAhC</td>\n",
       "    </tr>\n",
       "    <tr>\n",
       "      <th>4</th>\n",
       "      <td>Crystal Kay</td>\n",
       "      <td>0.0</td>\n",
       "      <td>https://open.spotify.com/artist/3yzQHdj9G34CVZ5rVUDrOM</td>\n",
       "    </tr>\n",
       "  </tbody>\n",
       "</table>"
      ],
      "text/plain": [
       "<IPython.core.display.HTML object>"
      ]
     },
     "metadata": {},
     "output_type": "display_data"
    },
    {
     "name": "stdout",
     "output_type": "stream",
     "text": [
      "Billie Eilish\n"
     ]
    },
    {
     "data": {
      "text/html": [
       "<table border=\"1\" class=\"dataframe\">\n",
       "  <thead>\n",
       "    <tr style=\"text-align: right;\">\n",
       "      <th></th>\n",
       "      <th>name</th>\n",
       "      <th>score</th>\n",
       "      <th>link</th>\n",
       "    </tr>\n",
       "  </thead>\n",
       "  <tbody>\n",
       "    <tr>\n",
       "      <th>0</th>\n",
       "      <td>Azaleh</td>\n",
       "      <td>0.000</td>\n",
       "      <td>https://open.spotify.com/artist/3yNkKjNBiX09eHZ4EQ3lJY</td>\n",
       "    </tr>\n",
       "    <tr>\n",
       "      <th>1</th>\n",
       "      <td>Yndio</td>\n",
       "      <td>0.000</td>\n",
       "      <td>https://open.spotify.com/artist/1yP1EbAX7oCvKI7j7PxzGg</td>\n",
       "    </tr>\n",
       "    <tr>\n",
       "      <th>2</th>\n",
       "      <td>Carmen Twillie</td>\n",
       "      <td>0.000</td>\n",
       "      <td>https://open.spotify.com/artist/6O3ZB5Cz5CNT3wQWouKcNJ</td>\n",
       "    </tr>\n",
       "    <tr>\n",
       "      <th>3</th>\n",
       "      <td>Art Blakey &amp; The Jazz Messengers</td>\n",
       "      <td>0.048</td>\n",
       "      <td>https://open.spotify.com/artist/6ykfXAed2KOLOMI3R0TZdz</td>\n",
       "    </tr>\n",
       "    <tr>\n",
       "      <th>4</th>\n",
       "      <td>Toussaint McCall</td>\n",
       "      <td>0.076</td>\n",
       "      <td>https://open.spotify.com/artist/421kKwxa5GC9nLddFuqtNL</td>\n",
       "    </tr>\n",
       "  </tbody>\n",
       "</table>"
      ],
      "text/plain": [
       "<IPython.core.display.HTML object>"
      ]
     },
     "metadata": {},
     "output_type": "display_data"
    },
    {
     "name": "stdout",
     "output_type": "stream",
     "text": [
      "Maroon 5\n"
     ]
    },
    {
     "data": {
      "text/html": [
       "<table border=\"1\" class=\"dataframe\">\n",
       "  <thead>\n",
       "    <tr style=\"text-align: right;\">\n",
       "      <th></th>\n",
       "      <th>name</th>\n",
       "      <th>score</th>\n",
       "      <th>link</th>\n",
       "    </tr>\n",
       "  </thead>\n",
       "  <tbody>\n",
       "    <tr>\n",
       "      <th>0</th>\n",
       "      <td>Mc Pepeu</td>\n",
       "      <td>0.000</td>\n",
       "      <td>https://open.spotify.com/artist/3THyxXDkvAVvmfZKP3Fq7G</td>\n",
       "    </tr>\n",
       "    <tr>\n",
       "      <th>1</th>\n",
       "      <td>Mamta Sharma</td>\n",
       "      <td>0.005</td>\n",
       "      <td>https://open.spotify.com/artist/0RMsiUCTjsdGjoKyhEm8Y4</td>\n",
       "    </tr>\n",
       "    <tr>\n",
       "      <th>2</th>\n",
       "      <td>Planetary</td>\n",
       "      <td>0.006</td>\n",
       "      <td>https://open.spotify.com/artist/3tP3kbF0Echadhj6fLbCu8</td>\n",
       "    </tr>\n",
       "    <tr>\n",
       "      <th>3</th>\n",
       "      <td>Freddy Kalas</td>\n",
       "      <td>0.014</td>\n",
       "      <td>https://open.spotify.com/artist/2HAShHcL0dMLf1iNzmxTi3</td>\n",
       "    </tr>\n",
       "    <tr>\n",
       "      <th>4</th>\n",
       "      <td>GOBLIN KING</td>\n",
       "      <td>0.022</td>\n",
       "      <td>https://open.spotify.com/artist/4S66k7DawgCBwwjOlegNaX</td>\n",
       "    </tr>\n",
       "  </tbody>\n",
       "</table>"
      ],
      "text/plain": [
       "<IPython.core.display.HTML object>"
      ]
     },
     "metadata": {},
     "output_type": "display_data"
    }
   ],
   "source": [
    "# 16 artist per cluster\n",
    "display_recs(['6s22t5Y3prQHyaHWUN1R1C', '3ApUX1o6oSz321MMECyIYd', '3YQKmKGau1PzlVlkL1iodx',\n",
    "              '6qqNVTkY8uBg9cP3Jd7DAH', '04gDigrS5kc9YWfZHwBETP'], 16)\n"
   ]
  },
  {
   "cell_type": "code",
   "execution_count": 14,
   "metadata": {},
   "outputs": [
    {
     "name": "stdout",
     "output_type": "stream",
     "text": [
      "230 clusters\n",
      "\n",
      "Drake\n"
     ]
    },
    {
     "data": {
      "text/html": [
       "<table border=\"1\" class=\"dataframe\">\n",
       "  <thead>\n",
       "    <tr style=\"text-align: right;\">\n",
       "      <th></th>\n",
       "      <th>name</th>\n",
       "      <th>score</th>\n",
       "      <th>link</th>\n",
       "    </tr>\n",
       "  </thead>\n",
       "  <tbody>\n",
       "    <tr>\n",
       "      <th>0</th>\n",
       "      <td>Claire Kuo</td>\n",
       "      <td>0.0</td>\n",
       "      <td>https://open.spotify.com/artist/6OiFtK426XJWnOJ2HYlSbf</td>\n",
       "    </tr>\n",
       "    <tr>\n",
       "      <th>1</th>\n",
       "      <td>LUDI</td>\n",
       "      <td>0.0</td>\n",
       "      <td>https://open.spotify.com/artist/5jaTnKaikL73O3eAQgtwde</td>\n",
       "    </tr>\n",
       "    <tr>\n",
       "      <th>2</th>\n",
       "      <td>Eddin</td>\n",
       "      <td>0.0</td>\n",
       "      <td>https://open.spotify.com/artist/2Diqn1jFkehRd9MVDGKGdq</td>\n",
       "    </tr>\n",
       "    <tr>\n",
       "      <th>3</th>\n",
       "      <td>Ashibah</td>\n",
       "      <td>0.0</td>\n",
       "      <td>https://open.spotify.com/artist/5krSTcI0xPGmeloiQTPsYP</td>\n",
       "    </tr>\n",
       "    <tr>\n",
       "      <th>4</th>\n",
       "      <td>Lil Story</td>\n",
       "      <td>0.0</td>\n",
       "      <td>https://open.spotify.com/artist/7l1LpKcZ4ifOZz65pl20Xz</td>\n",
       "    </tr>\n",
       "  </tbody>\n",
       "</table>"
      ],
      "text/plain": [
       "<IPython.core.display.HTML object>"
      ]
     },
     "metadata": {},
     "output_type": "display_data"
    },
    {
     "name": "stdout",
     "output_type": "stream",
     "text": [
      "Eminem\n"
     ]
    },
    {
     "data": {
      "text/html": [
       "<table border=\"1\" class=\"dataframe\">\n",
       "  <thead>\n",
       "    <tr style=\"text-align: right;\">\n",
       "      <th></th>\n",
       "      <th>name</th>\n",
       "      <th>score</th>\n",
       "      <th>link</th>\n",
       "    </tr>\n",
       "  </thead>\n",
       "  <tbody>\n",
       "    <tr>\n",
       "      <th>0</th>\n",
       "      <td>Mc Pepeu</td>\n",
       "      <td>0.000</td>\n",
       "      <td>https://open.spotify.com/artist/3THyxXDkvAVvmfZKP3Fq7G</td>\n",
       "    </tr>\n",
       "    <tr>\n",
       "      <th>1</th>\n",
       "      <td>Richie Kotzen</td>\n",
       "      <td>0.009</td>\n",
       "      <td>https://open.spotify.com/artist/6nYo7m5cO64bANRvilwVBb</td>\n",
       "    </tr>\n",
       "    <tr>\n",
       "      <th>2</th>\n",
       "      <td>Kanika Kapoor</td>\n",
       "      <td>0.021</td>\n",
       "      <td>https://open.spotify.com/artist/6qcIg4IPLulyc03mWR87N8</td>\n",
       "    </tr>\n",
       "    <tr>\n",
       "      <th>3</th>\n",
       "      <td>Mayel Jimenez</td>\n",
       "      <td>0.026</td>\n",
       "      <td>https://open.spotify.com/artist/5vnX0sfjkusMXzXpBEj4Ce</td>\n",
       "    </tr>\n",
       "    <tr>\n",
       "      <th>4</th>\n",
       "      <td>SE SO NEON</td>\n",
       "      <td>0.027</td>\n",
       "      <td>https://open.spotify.com/artist/07OePkse2fcvU9wlVftNMl</td>\n",
       "    </tr>\n",
       "  </tbody>\n",
       "</table>"
      ],
      "text/plain": [
       "<IPython.core.display.HTML object>"
      ]
     },
     "metadata": {},
     "output_type": "display_data"
    }
   ],
   "source": [
    "display_recs(['3TVXtAsR1Inumwj472S9r4', '7dGJo4pcD2V6oG8kP0tJRR'], 16)"
   ]
  }
 ],
 "metadata": {
  "kernelspec": {
   "display_name": "Python 3",
   "language": "python",
   "name": "python3"
  },
  "language_info": {
   "codemirror_mode": {
    "name": "ipython",
    "version": 3
   },
   "file_extension": ".py",
   "mimetype": "text/x-python",
   "name": "python",
   "nbconvert_exporter": "python",
   "pygments_lexer": "ipython3",
   "version": "3.8.3"
  }
 },
 "nbformat": 4,
 "nbformat_minor": 4
}
